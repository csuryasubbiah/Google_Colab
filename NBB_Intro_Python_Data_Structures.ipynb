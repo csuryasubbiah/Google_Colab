{
  "nbformat": 4,
  "nbformat_minor": 0,
  "metadata": {
    "kernelspec": {
      "display_name": "Python 3",
      "language": "python",
      "name": "python3"
    },
    "language_info": {
      "codemirror_mode": {
        "name": "ipython",
        "version": 3
      },
      "file_extension": ".py",
      "mimetype": "text/x-python",
      "name": "python",
      "nbconvert_exporter": "python",
      "pygments_lexer": "ipython3",
      "version": "3.6.1"
    },
    "colab": {
      "name": "NBB_Intro_Python_Data_Structures.ipynb",
      "provenance": [],
      "include_colab_link": true
    }
  },
  "cells": [
    {
      "cell_type": "markdown",
      "metadata": {
        "id": "view-in-github",
        "colab_type": "text"
      },
      "source": [
        "<a href=\"https://colab.research.google.com/github/nikbearbrown/Google_Colab/blob/master/NBB_Intro_Python_Data_Structures.ipynb\" target=\"_parent\"><img src=\"https://colab.research.google.com/assets/colab-badge.svg\" alt=\"Open In Colab\"/></a>"
      ]
    },
    {
      "cell_type": "markdown",
      "metadata": {
        "id": "bK8k2CbTy-aq",
        "colab_type": "text"
      },
      "source": [
        "## Intro to Python Data Structures"
      ]
    },
    {
      "cell_type": "markdown",
      "metadata": {
        "id": "bOgzhEysy-ar",
        "colab_type": "text"
      },
      "source": [
        "### Learning tips.\n",
        "\n",
        "* Practice, practice, practice.  \n",
        "\n",
        "* Get used to making mistakes! It’s OK.  \n",
        "\n",
        "* Don’t memorize. There are thousands packages in python.  Learn to read documentation.  \n"
      ]
    },
    {
      "cell_type": "markdown",
      "metadata": {
        "id": "M8wUZIYTy-ar",
        "colab_type": "text"
      },
      "source": [
        "###  Strings"
      ]
    },
    {
      "cell_type": "code",
      "metadata": {
        "id": "DlksAUaoy-as",
        "colab_type": "code",
        "colab": {},
        "outputId": "57560b5c-e3e4-4652-b5dc-eaffe66b490a"
      },
      "source": [
        "from __future__ import print_function\n",
        "x = 'Rick'\n",
        "y = 'Morty'\n",
        "print(x + ' & ' + y)"
      ],
      "execution_count": null,
      "outputs": [
        {
          "output_type": "stream",
          "text": [
            "Rick & Morty\n"
          ],
          "name": "stdout"
        }
      ]
    },
    {
      "cell_type": "code",
      "metadata": {
        "id": "6xiO9vJEy-aw",
        "colab_type": "code",
        "colab": {},
        "outputId": "779e3696-4618-4125-c4a3-74eaab093201"
      },
      "source": [
        "print(x*11)"
      ],
      "execution_count": null,
      "outputs": [
        {
          "output_type": "stream",
          "text": [
            "RickRickRickRickRickRickRickRickRickRickRick\n"
          ],
          "name": "stdout"
        }
      ]
    },
    {
      "cell_type": "code",
      "metadata": {
        "id": "A9jMIc6ly-az",
        "colab_type": "code",
        "colab": {},
        "outputId": "c1d42e37-3b47-4ee0-a59a-762dd30ff8d3"
      },
      "source": [
        "print(x[2:])"
      ],
      "execution_count": null,
      "outputs": [
        {
          "output_type": "stream",
          "text": [
            "ck\n"
          ],
          "name": "stdout"
        }
      ]
    },
    {
      "cell_type": "code",
      "metadata": {
        "id": "Un0d-Dfzy-a2",
        "colab_type": "code",
        "colab": {},
        "outputId": "259a13fb-b666-4f6c-e466-7cdbf09097a3"
      },
      "source": [
        "z='bear'\n",
        "print(z)\n",
        "print(str.capitalize(z))"
      ],
      "execution_count": null,
      "outputs": [
        {
          "output_type": "stream",
          "text": [
            "bear\n",
            "Bear\n"
          ],
          "name": "stdout"
        }
      ]
    },
    {
      "cell_type": "code",
      "metadata": {
        "id": "L-nGKmq2y-a6",
        "colab_type": "code",
        "colab": {},
        "outputId": "239f6a7b-9b6e-485d-fb80-93266489644c"
      },
      "source": [
        "z.isdigit()"
      ],
      "execution_count": null,
      "outputs": [
        {
          "output_type": "execute_result",
          "data": {
            "text/plain": [
              "False"
            ]
          },
          "metadata": {
            "tags": []
          },
          "execution_count": 111
        }
      ]
    },
    {
      "cell_type": "code",
      "metadata": {
        "id": "12IRyRzwy-a9",
        "colab_type": "code",
        "colab": {},
        "outputId": "844a49b4-d040-4a4f-9d18-08f400f3a99a"
      },
      "source": [
        "z='5'\n",
        "z.isdigit()"
      ],
      "execution_count": null,
      "outputs": [
        {
          "output_type": "execute_result",
          "data": {
            "text/plain": [
              "True"
            ]
          },
          "metadata": {
            "tags": []
          },
          "execution_count": 112
        }
      ]
    },
    {
      "cell_type": "code",
      "metadata": {
        "scrolled": false,
        "id": "o8NO7r1ky-a_",
        "colab_type": "code",
        "colab": {},
        "outputId": "3221201a-48e0-417b-a7f3-c7a9d5aeb17e"
      },
      "source": [
        "print(y)\n",
        "print(y.replace('o', 'OOOOO'))\n",
        "print(y)"
      ],
      "execution_count": null,
      "outputs": [
        {
          "output_type": "stream",
          "text": [
            "Morty\n",
            "MOOOOOrty\n",
            "Morty\n"
          ],
          "name": "stdout"
        }
      ]
    },
    {
      "cell_type": "markdown",
      "metadata": {
        "id": "l8SbIJ1ry-bD",
        "colab_type": "text"
      },
      "source": [
        "## Data Structures"
      ]
    },
    {
      "cell_type": "markdown",
      "metadata": {
        "id": "kwy6VHUOy-bD",
        "colab_type": "text"
      },
      "source": [
        "## Arrays"
      ]
    },
    {
      "cell_type": "code",
      "metadata": {
        "scrolled": false,
        "id": "bQwOiqsPy-bE",
        "colab_type": "code",
        "colab": {},
        "outputId": "25c773b8-41e2-461a-ebea-b59d5cdc7095"
      },
      "source": [
        "import array as arr\n",
        "print(arr.typecodes)"
      ],
      "execution_count": null,
      "outputs": [
        {
          "output_type": "stream",
          "text": [
            "bBuhHiIlLqQfd\n"
          ],
          "name": "stdout"
        }
      ]
    },
    {
      "cell_type": "markdown",
      "metadata": {
        "id": "Z0uVGHk6y-bG",
        "colab_type": "text"
      },
      "source": [
        "\n",
        "Type code\tC Type\tPython Type\tMinimum size in bytes\t   \n",
        "'b'\tsigned char\tint\t1\t   \n",
        "'B'\tunsigned char\tint\t1\t    \n",
        "'u'\tPy_UNICODE\tUnicode character\t2\t(1)    \n",
        "'h'\tsigned short\tint\t2\t    \n",
        "'H'\tunsigned short\tint\t2\t    \n",
        "'i'\tsigned int\tint\t2\t   \n",
        "'I'\tunsigned int\tint\t2\t   \n",
        "'l'\tsigned long\tint\t4\t   \n",
        "'L'\tunsigned long\tint\t4\t   \n",
        "'q'\tsigned long long\tint\t8\t(2)   \n",
        "'Q'\tunsigned long long\tint\t8\t(2)   \n",
        "'f'\tfloat\tfloat\t4\t   \n",
        "'d'\tdouble\tfloat\t8\t   \n"
      ]
    },
    {
      "cell_type": "code",
      "metadata": {
        "id": "vGqM1OLTy-bH",
        "colab_type": "code",
        "colab": {},
        "outputId": "ba12bb55-f67a-45bc-efd1-5044bb1a709b"
      },
      "source": [
        "a = arr.array(\"u\",['3','5','7'])\n",
        "print(type(a))\n",
        "print(a)\n",
        "print(a[0])\n",
        "print(type(a[0]))"
      ],
      "execution_count": null,
      "outputs": [
        {
          "output_type": "stream",
          "text": [
            "<class 'array.array'>\n",
            "array('u', '357')\n",
            "3\n",
            "<class 'str'>\n"
          ],
          "name": "stdout"
        }
      ]
    },
    {
      "cell_type": "code",
      "metadata": {
        "id": "q-M3g6dEy-bJ",
        "colab_type": "code",
        "colab": {},
        "outputId": "f44c7577-aeca-4213-9765-b83deaa1261f"
      },
      "source": [
        "a = arr.array(\"B\",[3,5,7])\n",
        "print(type(a))\n",
        "print(a)\n",
        "print(a[0])\n",
        "print(type(a[0]))\n",
        "a.append(9)\n",
        "print(a)"
      ],
      "execution_count": null,
      "outputs": [
        {
          "output_type": "stream",
          "text": [
            "<class 'array.array'>\n",
            "array('B', [3, 5, 7])\n",
            "3\n",
            "<class 'int'>\n",
            "array('B', [3, 5, 7, 9])\n"
          ],
          "name": "stdout"
        }
      ]
    },
    {
      "cell_type": "markdown",
      "metadata": {
        "id": "jUfqR8s4y-bL",
        "colab_type": "text"
      },
      "source": [
        "The following data items and methods are also supported:\n",
        "\n",
        "array.typecode\n",
        "The typecode character used to create the array.\n",
        "\n",
        "array.itemsize\n",
        "The length in bytes of one array item in the internal representation.\n",
        "\n",
        "array.append(x)\n",
        "Append a new item with value x to the end of the array.\n",
        "\n",
        "array.buffer_info()\n",
        "Return a tuple (address, length) giving the current memory address and the length in elements of the buffer used to hold array’s contents. The size of the memory buffer in bytes can be computed as array.buffer_info()[1] * array.itemsize. This is occasionally useful when working with low-level (and inherently unsafe) I/O interfaces that require memory addresses, such as certain ioctl() operations. The returned numbers are valid as long as the array exists and no length-changing operations are applied to it.\n",
        "\n",
        "Note When using array objects from code written in C or C++ (the only way to effectively make use of this information), it makes more sense to use the buffer interface supported by array objects. This method is maintained for backward compatibility and should be avoided in new code. The buffer interface is documented in Buffer Protocol.\n",
        "array.byteswap()\n",
        "“Byteswap” all items of the array. This is only supported for values which are 1, 2, 4, or 8 bytes in size; for other types of values, RuntimeError is raised. It is useful when reading data from a file written on a machine with a different byte order.\n",
        "\n",
        "array.count(x)\n",
        "Return the number of occurrences of x in the array.\n",
        "\n",
        "array.extend(iterable)\n",
        "Append items from iterable to the end of the array. If iterable is another array, it must have exactly the same type code; if not, TypeError will be raised. If iterable is not an array, it must be iterable and its elements must be the right type to be appended to the array.\n",
        "\n",
        "array.frombytes(s)\n",
        "Appends items from the string, interpreting the string as an array of machine values (as if it had been read from a file using the fromfile() method).\n",
        "\n",
        "New in version 3.2: fromstring() is renamed to frombytes() for clarity.\n",
        "\n",
        "array.fromfile(f, n)\n",
        "Read n items (as machine values) from the file object f and append them to the end of the array. If less than n items are available, EOFError is raised, but the items that were available are still inserted into the array. f must be a real built-in file object; something else with a read() method won’t do.\n",
        "\n",
        "array.fromlist(list)\n",
        "Append items from the list. This is equivalent to for x in list: a.append(x) except that if there is a type error, the array is unchanged.\n",
        "\n",
        "array.fromstring()\n",
        "Deprecated alias for frombytes().\n",
        "\n",
        "array.fromunicode(s)\n",
        "Extends this array with data from the given unicode string. The array must be a type 'u' array; otherwise a ValueError is raised. Use array.frombytes(unicodestring.encode(enc)) to append Unicode data to an array of some other type.\n",
        "\n",
        "array.index(x)\n",
        "Return the smallest i such that i is the index of the first occurrence of x in the array.\n",
        "\n",
        "array.insert(i, x)\n",
        "Insert a new item with value x in the array before position i. Negative values are treated as being relative to the end of the array.\n",
        "\n",
        "array.pop([i])\n",
        "Removes the item with the index i from the array and returns it. The optional argument defaults to -1, so that by default the last item is removed and returned.\n",
        "\n",
        "array.remove(x)\n",
        "Remove the first occurrence of x from the array.\n",
        "\n",
        "array.reverse()\n",
        "Reverse the order of the items in the array.\n",
        "\n",
        "array.tobytes()\n",
        "Convert the array to an array of machine values and return the bytes representation (the same sequence of bytes that would be written to a file by the tofile() method.)\n",
        "\n",
        "New in version 3.2: tostring() is renamed to tobytes() for clarity.\n",
        "\n",
        "array.tofile(f)\n",
        "Write all items (as machine values) to the file object f.\n",
        "\n",
        "array.tolist()\n",
        "Convert the array to an ordinary list with the same items.\n",
        "\n",
        "array.tostring()\n",
        "Deprecated alias for tobytes().\n",
        "\n",
        "array.tounicode()\n",
        "Convert the array to a unicode string. The array must be a type 'u' array; otherwise a ValueError is raised. Use array.tobytes().decode(enc) to obtain a unicode string from an array of some other type."
      ]
    },
    {
      "cell_type": "code",
      "metadata": {
        "id": "zPe_hbuPy-bM",
        "colab_type": "code",
        "colab": {},
        "outputId": "04baf3ae-119c-4a4c-a1ae-9697a5a5499c"
      },
      "source": [
        "b=arr.array('l')\n",
        "print(b)\n",
        "c=arr.array('u', 'hello \\u2641')\n",
        "print(c)\n",
        "d=arr.array('l', [1, 2, 3, 4, 5])\n",
        "print(d)\n",
        "e=arr.array('d', [1.0, 2.0, 3.14])\n",
        "print(e)"
      ],
      "execution_count": null,
      "outputs": [
        {
          "output_type": "stream",
          "text": [
            "array('l')\n",
            "array('u', 'hello ♁')\n",
            "array('l', [1, 2, 3, 4, 5])\n",
            "array('d', [1.0, 2.0, 3.14])\n"
          ],
          "name": "stdout"
        }
      ]
    },
    {
      "cell_type": "markdown",
      "metadata": {
        "id": "_awi_copy-bO",
        "colab_type": "text"
      },
      "source": [
        "### Arrays versus Lists  \n",
        "\n",
        "Why do you need arrays at all. They are different in terms of the operations one can perform on them. With arrays, you can perform an operations on all its item individually, which may not be the case with lists. "
      ]
    },
    {
      "cell_type": "code",
      "metadata": {
        "id": "JtbXa9tay-bP",
        "colab_type": "code",
        "colab": {},
        "outputId": "4bb6e534-2745-4d87-e319-fee89959f8ab"
      },
      "source": [
        "a = arr.array(\"u\",[\"c\",\"a\",\"t\",\"s\"])\n",
        "print(a)"
      ],
      "execution_count": null,
      "outputs": [
        {
          "output_type": "stream",
          "text": [
            "array('u', 'cats')\n"
          ],
          "name": "stdout"
        }
      ]
    },
    {
      "cell_type": "code",
      "metadata": {
        "id": "WHI9R9AVy-bR",
        "colab_type": "code",
        "colab": {},
        "outputId": "2929b505-4b8a-4bb7-c3cc-4adb0e0adf93"
      },
      "source": [
        "a.tostring()\n",
        "print(a)"
      ],
      "execution_count": null,
      "outputs": [
        {
          "output_type": "stream",
          "text": [
            "array('u', 'cats')\n"
          ],
          "name": "stdout"
        }
      ]
    },
    {
      "cell_type": "code",
      "metadata": {
        "id": "VX1nG4EMy-bU",
        "colab_type": "code",
        "colab": {},
        "outputId": "7b8066a1-3f21-4143-8cca-245087bd307c"
      },
      "source": [
        "l = [\"c\",\"a\",\"t\",\"s\"]\n",
        "s=''.join(l)\n",
        "print(s)"
      ],
      "execution_count": null,
      "outputs": [
        {
          "output_type": "stream",
          "text": [
            "cats\n"
          ],
          "name": "stdout"
        }
      ]
    },
    {
      "cell_type": "markdown",
      "metadata": {
        "id": "RcIIh1Wxy-bX",
        "colab_type": "text"
      },
      "source": [
        "## NumPy Arrays\n",
        "\n",
        "See [https://docs.scipy.org/doc/numpy-dev/user/quickstart.html](https://docs.scipy.org/doc/numpy-dev/user/quickstart.html)"
      ]
    },
    {
      "cell_type": "code",
      "metadata": {
        "id": "ZPym5Bzcy-bX",
        "colab_type": "code",
        "colab": {},
        "outputId": "73ac80fd-2189-4b93-fde3-36366d17b966"
      },
      "source": [
        "import numpy as np\n",
        "\n",
        "a = np.array([3, 5, 7])\n",
        "print(a)\n",
        "b = a/3.0 # Performing vectorized (element-wise) operations \n",
        "print(b)"
      ],
      "execution_count": null,
      "outputs": [
        {
          "output_type": "stream",
          "text": [
            "[3 5 7]\n",
            "[ 1.          1.66666667  2.33333333]\n"
          ],
          "name": "stdout"
        }
      ]
    },
    {
      "cell_type": "code",
      "metadata": {
        "id": "Rit5w__Hy-bZ",
        "colab_type": "code",
        "colab": {},
        "outputId": "d021b13a-3374-4740-c678-5cd1ea49d4b3"
      },
      "source": [
        "o = np.ones(5)\n",
        "print(o)"
      ],
      "execution_count": null,
      "outputs": [
        {
          "output_type": "stream",
          "text": [
            "[ 1.  1.  1.  1.  1.]\n"
          ],
          "name": "stdout"
        }
      ]
    },
    {
      "cell_type": "code",
      "metadata": {
        "id": "sU3_nvAjy-bb",
        "colab_type": "code",
        "colab": {},
        "outputId": "c7c2a896-9d54-42fb-9820-15e7aa2ac6be"
      },
      "source": [
        "o = np.zeros(5)\n",
        "print(o)"
      ],
      "execution_count": null,
      "outputs": [
        {
          "output_type": "stream",
          "text": [
            "[ 0.  0.  0.  0.  0.]\n"
          ],
          "name": "stdout"
        }
      ]
    },
    {
      "cell_type": "code",
      "metadata": {
        "id": "yrPzIrcIy-be",
        "colab_type": "code",
        "colab": {},
        "outputId": "7b8fae80-9a83-4c80-879d-6cf8b314bb2c"
      },
      "source": [
        "a = np.arange(15).reshape(3, 5)\n",
        "print(a)"
      ],
      "execution_count": null,
      "outputs": [
        {
          "output_type": "stream",
          "text": [
            "[[ 0  1  2  3  4]\n",
            " [ 5  6  7  8  9]\n",
            " [10 11 12 13 14]]\n"
          ],
          "name": "stdout"
        }
      ]
    },
    {
      "cell_type": "code",
      "metadata": {
        "id": "JjGcDOaZy-bh",
        "colab_type": "code",
        "colab": {},
        "outputId": "ec220b5d-f781-4cab-a714-434ce38007c2"
      },
      "source": [
        "print(a.shape)\n",
        "print(a.ndim)\n",
        "print(a.dtype.name)\n",
        "print(a.itemsize)\n",
        "print(a.size)\n",
        "print(type(a))"
      ],
      "execution_count": null,
      "outputs": [
        {
          "output_type": "stream",
          "text": [
            "(3, 5)\n",
            "2\n",
            "int64\n",
            "8\n",
            "15\n",
            "<class 'numpy.ndarray'>\n"
          ],
          "name": "stdout"
        }
      ]
    },
    {
      "cell_type": "code",
      "metadata": {
        "id": "CbF_lapoy-bj",
        "colab_type": "code",
        "colab": {},
        "outputId": "37aa4337-1a2f-4335-a91c-aebe5bc92b6e"
      },
      "source": [
        "a*=5\n",
        "print(a)"
      ],
      "execution_count": null,
      "outputs": [
        {
          "output_type": "stream",
          "text": [
            "[[ 0  5 10 15 20]\n",
            " [25 30 35 40 45]\n",
            " [50 55 60 65 70]]\n"
          ],
          "name": "stdout"
        }
      ]
    },
    {
      "cell_type": "code",
      "metadata": {
        "id": "2OHQ1Ssvy-bl",
        "colab_type": "code",
        "colab": {},
        "outputId": "f03d92eb-73f4-4a87-bd90-36b885afbebf"
      },
      "source": [
        "a = np.array([1,2,3,4])\n",
        "print(a)"
      ],
      "execution_count": null,
      "outputs": [
        {
          "output_type": "stream",
          "text": [
            "[1 2 3 4]\n"
          ],
          "name": "stdout"
        }
      ]
    },
    {
      "cell_type": "code",
      "metadata": {
        "id": "DjqQOl0ly-bn",
        "colab_type": "code",
        "colab": {},
        "outputId": "3b14a329-55d8-4c97-84e6-2e40f42ce55c"
      },
      "source": [
        "b = np.array([(1.5,2,3), (4,5,6)])\n",
        "print(b)"
      ],
      "execution_count": null,
      "outputs": [
        {
          "output_type": "stream",
          "text": [
            "[[ 1.5  2.   3. ]\n",
            " [ 4.   5.   6. ]]\n"
          ],
          "name": "stdout"
        }
      ]
    },
    {
      "cell_type": "code",
      "metadata": {
        "id": "nN5bNwiHy-bp",
        "colab_type": "code",
        "colab": {},
        "outputId": "1468f236-b888-46e6-9d08-0fd7ed06928f"
      },
      "source": [
        "c = np.array( [ [1,2], [3,4] ], dtype=complex )\n",
        "print(c)"
      ],
      "execution_count": null,
      "outputs": [
        {
          "output_type": "stream",
          "text": [
            "[[ 1.+0.j  2.+0.j]\n",
            " [ 3.+0.j  4.+0.j]]\n"
          ],
          "name": "stdout"
        }
      ]
    },
    {
      "cell_type": "code",
      "metadata": {
        "id": "M06wzwOYy-bs",
        "colab_type": "code",
        "colab": {},
        "outputId": "bff957dd-1269-4d3c-b488-343d7872afde"
      },
      "source": [
        "c=np.arange(100)\n",
        "print(c)"
      ],
      "execution_count": null,
      "outputs": [
        {
          "output_type": "stream",
          "text": [
            "[ 0  1  2  3  4  5  6  7  8  9 10 11 12 13 14 15 16 17 18 19 20 21 22 23 24\n",
            " 25 26 27 28 29 30 31 32 33 34 35 36 37 38 39 40 41 42 43 44 45 46 47 48 49\n",
            " 50 51 52 53 54 55 56 57 58 59 60 61 62 63 64 65 66 67 68 69 70 71 72 73 74\n",
            " 75 76 77 78 79 80 81 82 83 84 85 86 87 88 89 90 91 92 93 94 95 96 97 98 99]\n"
          ],
          "name": "stdout"
        }
      ]
    },
    {
      "cell_type": "code",
      "metadata": {
        "id": "bw-BHaFiy-bv",
        "colab_type": "code",
        "colab": {},
        "outputId": "72dea9fe-710d-4f1a-8cab-da584923a98c"
      },
      "source": [
        "c=c.reshape(10,10)\n",
        "print(c)"
      ],
      "execution_count": null,
      "outputs": [
        {
          "output_type": "stream",
          "text": [
            "[[ 0  1  2  3  4  5  6  7  8  9]\n",
            " [10 11 12 13 14 15 16 17 18 19]\n",
            " [20 21 22 23 24 25 26 27 28 29]\n",
            " [30 31 32 33 34 35 36 37 38 39]\n",
            " [40 41 42 43 44 45 46 47 48 49]\n",
            " [50 51 52 53 54 55 56 57 58 59]\n",
            " [60 61 62 63 64 65 66 67 68 69]\n",
            " [70 71 72 73 74 75 76 77 78 79]\n",
            " [80 81 82 83 84 85 86 87 88 89]\n",
            " [90 91 92 93 94 95 96 97 98 99]]\n"
          ],
          "name": "stdout"
        }
      ]
    },
    {
      "cell_type": "code",
      "metadata": {
        "id": "1Zo1xYoxy-bx",
        "colab_type": "code",
        "colab": {},
        "outputId": "ba158ffb-58f9-438c-82aa-921119d30f0f"
      },
      "source": [
        "a = np.array( [20,30,40,50] )\n",
        "print(a)\n",
        "b = np.arange( 4 )\n",
        "print(b)\n",
        "c=a-b\n",
        "print(c)"
      ],
      "execution_count": null,
      "outputs": [
        {
          "output_type": "stream",
          "text": [
            "[20 30 40 50]\n",
            "[0 1 2 3]\n",
            "[20 29 38 47]\n"
          ],
          "name": "stdout"
        }
      ]
    },
    {
      "cell_type": "code",
      "metadata": {
        "id": "sSkaLH5jy-by",
        "colab_type": "code",
        "colab": {},
        "outputId": "bf63d995-c940-4413-dfe3-6885dc602c1f"
      },
      "source": [
        "b=np.sqrt(c)\n",
        "print(b)"
      ],
      "execution_count": null,
      "outputs": [
        {
          "output_type": "stream",
          "text": [
            "[ 4.47213595  5.38516481  6.164414    6.8556546 ]\n"
          ],
          "name": "stdout"
        }
      ]
    },
    {
      "cell_type": "code",
      "metadata": {
        "id": "rvPjetSIy-b1",
        "colab_type": "code",
        "colab": {},
        "outputId": "6f71bc17-d42e-40d7-f114-50af6c0ce857"
      },
      "source": [
        "a = np.sqrt(np.arange(10)**3)\n",
        "print(a)"
      ],
      "execution_count": null,
      "outputs": [
        {
          "output_type": "stream",
          "text": [
            "[  0.           1.           2.82842712   5.19615242   8.          11.18033989\n",
            "  14.69693846  18.52025918  22.627417    27.        ]\n"
          ],
          "name": "stdout"
        }
      ]
    },
    {
      "cell_type": "code",
      "metadata": {
        "id": "fOLgcV6my-b2",
        "colab_type": "code",
        "colab": {},
        "outputId": "bc842999-3825-4473-9c99-d09850cbf91e"
      },
      "source": [
        "print(a[2:5])"
      ],
      "execution_count": null,
      "outputs": [
        {
          "output_type": "stream",
          "text": [
            "[ 2.82842712  5.19615242  8.        ]\n"
          ],
          "name": "stdout"
        }
      ]
    },
    {
      "cell_type": "code",
      "metadata": {
        "id": "94t6LFuoy-b5",
        "colab_type": "code",
        "colab": {},
        "outputId": "88f6edff-5dba-4af7-d66b-9fb4a87e15e4"
      },
      "source": [
        "def f(x,y):\n",
        "  return 10*x+y\n",
        "b = np.fromfunction(f,(5,4),dtype=int)\n",
        "print(b)"
      ],
      "execution_count": null,
      "outputs": [
        {
          "output_type": "stream",
          "text": [
            "[[ 0  1  2  3]\n",
            " [10 11 12 13]\n",
            " [20 21 22 23]\n",
            " [30 31 32 33]\n",
            " [40 41 42 43]]\n"
          ],
          "name": "stdout"
        }
      ]
    },
    {
      "cell_type": "code",
      "metadata": {
        "id": "liS1zQJmy-b7",
        "colab_type": "code",
        "colab": {},
        "outputId": "a2943dc8-4ece-45a8-e6ab-2646df5cfb1e"
      },
      "source": [
        "print(b[2,3])\n",
        "print(b[0:5, 1])\n",
        "print(b[1:3, : ] )"
      ],
      "execution_count": null,
      "outputs": [
        {
          "output_type": "stream",
          "text": [
            "23\n",
            "[ 1 11 21 31 41]\n",
            "[[10 11 12 13]\n",
            " [20 21 22 23]]\n"
          ],
          "name": "stdout"
        }
      ]
    },
    {
      "cell_type": "code",
      "metadata": {
        "id": "YIUrDxOQy-b9",
        "colab_type": "code",
        "colab": {},
        "outputId": "bbd5fa07-1ca3-4402-d886-eee93c7d012d"
      },
      "source": [
        "print(b)\n",
        "print(b.T)"
      ],
      "execution_count": null,
      "outputs": [
        {
          "output_type": "stream",
          "text": [
            "[[ 0  1  2  3]\n",
            " [10 11 12 13]\n",
            " [20 21 22 23]\n",
            " [30 31 32 33]\n",
            " [40 41 42 43]]\n",
            "[[ 0 10 20 30 40]\n",
            " [ 1 11 21 31 41]\n",
            " [ 2 12 22 32 42]\n",
            " [ 3 13 23 33 43]]\n"
          ],
          "name": "stdout"
        }
      ]
    },
    {
      "cell_type": "code",
      "metadata": {
        "id": "HtT_piXPy-b_",
        "colab_type": "code",
        "colab": {},
        "outputId": "63adbea9-14fa-4224-b1c6-443791170bc5"
      },
      "source": [
        "for element in b.flat:\n",
        "    print (element)"
      ],
      "execution_count": null,
      "outputs": [
        {
          "output_type": "stream",
          "text": [
            "0\n",
            "1\n",
            "2\n",
            "3\n",
            "10\n",
            "11\n",
            "12\n",
            "13\n",
            "20\n",
            "21\n",
            "22\n",
            "23\n",
            "30\n",
            "31\n",
            "32\n",
            "33\n",
            "40\n",
            "41\n",
            "42\n",
            "43\n"
          ],
          "name": "stdout"
        }
      ]
    },
    {
      "cell_type": "markdown",
      "metadata": {
        "id": "eA-C1DQry-cB",
        "colab_type": "text"
      },
      "source": [
        "### Sets  \n",
        "\n",
        "Sets are a collection of distinct (unique) objects."
      ]
    },
    {
      "cell_type": "code",
      "metadata": {
        "id": "9RwzSdyzy-cC",
        "colab_type": "code",
        "colab": {},
        "outputId": "4d281dae-0797-4173-d277-75324cb521b0"
      },
      "source": [
        "x = set('Cake&Cookie')\n",
        "print(x)\n",
        "y = set('Cookie')\n",
        "print(y)"
      ],
      "execution_count": null,
      "outputs": [
        {
          "output_type": "stream",
          "text": [
            "{'C', 'o', '&', 'i', 'a', 'e', 'k'}\n",
            "{'C', 'o', 'i', 'e', 'k'}\n"
          ],
          "name": "stdout"
        }
      ]
    },
    {
      "cell_type": "code",
      "metadata": {
        "id": "DUKC7jK-y-cE",
        "colab_type": "code",
        "colab": {},
        "outputId": "de680230-83e5-4af8-d814-ea46e484c77e"
      },
      "source": [
        "print(x-y)"
      ],
      "execution_count": null,
      "outputs": [
        {
          "output_type": "stream",
          "text": [
            "{'a', '&'}\n"
          ],
          "name": "stdout"
        }
      ]
    },
    {
      "cell_type": "markdown",
      "metadata": {
        "id": "ydAH8nlNy-cH",
        "colab_type": "text"
      },
      "source": [
        "## Lists   "
      ]
    },
    {
      "cell_type": "code",
      "metadata": {
        "id": "UVzYH8Owy-cH",
        "colab_type": "code",
        "colab": {},
        "outputId": "13923995-4f44-4ce2-9a8f-8df6a5e22f48"
      },
      "source": [
        "months = [\n",
        "1.0,    \n",
        "'January',\n",
        "'February',\n",
        "'March',\n",
        "'April',\n",
        "'May',\n",
        "'June',\n",
        "'July',\n",
        "'August',\n",
        "'September',\n",
        "'October',\n",
        "'November',\n",
        "'December'\n",
        "]\n",
        "print (type(months))\n",
        "print (type(months[0]))\n",
        "print (len(months))\n",
        "# print (class(months))\n",
        "print(months[0])\n",
        "print(months[-1])"
      ],
      "execution_count": null,
      "outputs": [
        {
          "output_type": "stream",
          "text": [
            "<class 'list'>\n",
            "<class 'float'>\n",
            "13\n",
            "1.0\n",
            "December\n"
          ],
          "name": "stdout"
        }
      ]
    },
    {
      "cell_type": "code",
      "metadata": {
        "id": "rSL9XIomy-cJ",
        "colab_type": "code",
        "colab": {},
        "outputId": "e5616d19-49cd-4234-912a-c34914272fe5"
      },
      "source": [
        "print(months[len(months)-1])"
      ],
      "execution_count": null,
      "outputs": [
        {
          "output_type": "stream",
          "text": [
            "December\n"
          ],
          "name": "stdout"
        }
      ]
    },
    {
      "cell_type": "code",
      "metadata": {
        "id": "lQPIgn71y-cL",
        "colab_type": "code",
        "colab": {},
        "outputId": "33a99834-82d9-48be-eead-b741e900dd8d"
      },
      "source": [
        "print(months)\n",
        "del months[0]\n",
        "print(months)"
      ],
      "execution_count": null,
      "outputs": [
        {
          "output_type": "stream",
          "text": [
            "[1.0, 'January', 'February', 'March', 'April', 'May', 'June', 'July', 'August', 'September', 'October', 'November', 'December']\n",
            "['January', 'February', 'March', 'April', 'May', 'June', 'July', 'August', 'September', 'October', 'November', 'December']\n"
          ],
          "name": "stdout"
        }
      ]
    },
    {
      "cell_type": "code",
      "metadata": {
        "id": "Vghh0Fjty-cM",
        "colab_type": "code",
        "colab": {},
        "outputId": "505c0681-8460-4382-f672-e0a4f6362c10"
      },
      "source": [
        "print(months[9:11])"
      ],
      "execution_count": null,
      "outputs": [
        {
          "output_type": "stream",
          "text": [
            "['October', 'November']\n"
          ],
          "name": "stdout"
        }
      ]
    },
    {
      "cell_type": "code",
      "metadata": {
        "id": "fW4BAgI8y-cQ",
        "colab_type": "code",
        "colab": {},
        "outputId": "6a991697-2e87-4ca6-cb5a-0fa98e348f23"
      },
      "source": [
        "print(months[9:])"
      ],
      "execution_count": null,
      "outputs": [
        {
          "output_type": "stream",
          "text": [
            "['October', 'November', 'December']\n"
          ],
          "name": "stdout"
        }
      ]
    },
    {
      "cell_type": "code",
      "metadata": {
        "id": "lcdto0U8y-cS",
        "colab_type": "code",
        "colab": {},
        "outputId": "777b3430-532c-4bad-e08c-61ef6d860213"
      },
      "source": [
        "print(months[:]) # Print everything\n",
        "print(months[::2]) # Print every other - i.e. skip by 2"
      ],
      "execution_count": null,
      "outputs": [
        {
          "output_type": "stream",
          "text": [
            "['January', 'February', 'March', 'April', 'May', 'June', 'July', 'August', 'September', 'October', 'November', 'December']\n",
            "['January', 'March', 'May', 'July', 'September', 'November']\n"
          ],
          "name": "stdout"
        }
      ]
    },
    {
      "cell_type": "code",
      "metadata": {
        "id": "o1OUln4Zy-cV",
        "colab_type": "code",
        "colab": {},
        "outputId": "f03404eb-1ba7-4f04-8cb7-6ae1db86f5dc"
      },
      "source": [
        "print(months[-1])\n",
        "print(months[-3])\n",
        "print(months[-3:-1])  # Print second to last to third to last"
      ],
      "execution_count": null,
      "outputs": [
        {
          "output_type": "stream",
          "text": [
            "December\n",
            "October\n",
            "['October', 'November']\n"
          ],
          "name": "stdout"
        }
      ]
    },
    {
      "cell_type": "code",
      "metadata": {
        "id": "O0PUp8kTy-cX",
        "colab_type": "code",
        "colab": {},
        "outputId": "1110d7bd-461f-4f27-fea7-72d2f4beecad"
      },
      "source": [
        "print(months[10:1:-3]) # Print 10 to 1 - i.e. skip by 3"
      ],
      "execution_count": null,
      "outputs": [
        {
          "output_type": "stream",
          "text": [
            "['November', 'August', 'May']\n"
          ],
          "name": "stdout"
        }
      ]
    },
    {
      "cell_type": "code",
      "metadata": {
        "id": "ifxgkzXzy-cZ",
        "colab_type": "code",
        "colab": {},
        "outputId": "06890c5e-f04a-44b5-b269-fa235fdb12f0"
      },
      "source": [
        "print(months[10:1:-1])  # Print 10 to 1 - i.e. no skip but descending"
      ],
      "execution_count": null,
      "outputs": [
        {
          "output_type": "stream",
          "text": [
            "['November', 'October', 'September', 'August', 'July', 'June', 'May', 'April', 'March']\n"
          ],
          "name": "stdout"
        }
      ]
    },
    {
      "cell_type": "code",
      "metadata": {
        "id": "RLjs1LRWy-cd",
        "colab_type": "code",
        "colab": {},
        "outputId": "f057762d-1648-473c-8895-ac72c8e2c073"
      },
      "source": [
        "print([1, 2, 3] + [4, 5, 6]) # join two lists"
      ],
      "execution_count": null,
      "outputs": [
        {
          "output_type": "stream",
          "text": [
            "[1, 2, 3, 4, 5, 6]\n"
          ],
          "name": "stdout"
        }
      ]
    },
    {
      "cell_type": "code",
      "metadata": {
        "id": "T2lA8vDcy-cf",
        "colab_type": "code",
        "colab": {},
        "outputId": "3a9f8c33-bb7e-4ae9-faa5-654491ece6a1"
      },
      "source": [
        "print('Hello, ' + 'world!')  # concatenate two strings"
      ],
      "execution_count": null,
      "outputs": [
        {
          "output_type": "stream",
          "text": [
            "Hello, world!\n"
          ],
          "name": "stdout"
        }
      ]
    },
    {
      "cell_type": "code",
      "metadata": {
        "id": "ZSaAyWTCy-ch",
        "colab_type": "code",
        "colab": {},
        "outputId": "311ce2d4-3c19-4f26-ee10-3075d41b14a7"
      },
      "source": [
        "name='Bear' # Create string 'Bear'\n",
        "print(name*5) # concatenate 5 times"
      ],
      "execution_count": null,
      "outputs": [
        {
          "output_type": "stream",
          "text": [
            "BearBearBearBearBear\n"
          ],
          "name": "stdout"
        }
      ]
    },
    {
      "cell_type": "code",
      "metadata": {
        "id": "TZlFdgtNy-cj",
        "colab_type": "code",
        "colab": {},
        "outputId": "66f1d7f8-3160-4f00-ad2d-7398c75f5faf"
      },
      "source": [
        "print('B' in name) # Test if B in Bear\n",
        "print('b' in name)  # Test if b in Bear"
      ],
      "execution_count": null,
      "outputs": [
        {
          "output_type": "stream",
          "text": [
            "True\n",
            "False\n"
          ],
          "name": "stdout"
        }
      ]
    },
    {
      "cell_type": "code",
      "metadata": {
        "id": "rlhrO9CKy-cn",
        "colab_type": "code",
        "colab": {},
        "outputId": "2118af0d-95ff-43a6-aa8b-e8b4a634d517"
      },
      "source": [
        "s=range(1,6) # Range doesn't create lists in python 3\n",
        "print(s)"
      ],
      "execution_count": null,
      "outputs": [
        {
          "output_type": "stream",
          "text": [
            "range(1, 6)\n"
          ],
          "name": "stdout"
        }
      ]
    },
    {
      "cell_type": "code",
      "metadata": {
        "id": "WfHLbKAky-cq",
        "colab_type": "code",
        "colab": {},
        "outputId": "22e496c8-8a95-496b-91cf-2efefd7dd80b"
      },
      "source": [
        "s=list(range(1,9)) # Using range to create lists in python 3\n",
        "print(s)\n",
        "s[2]=5\n",
        "print(s)"
      ],
      "execution_count": null,
      "outputs": [
        {
          "output_type": "stream",
          "text": [
            "[1, 2, 3, 4, 5, 6, 7, 8]\n",
            "[1, 2, 5, 4, 5, 6, 7, 8]\n"
          ],
          "name": "stdout"
        }
      ]
    },
    {
      "cell_type": "code",
      "metadata": {
        "id": "yoskQdM_y-cu",
        "colab_type": "code",
        "colab": {},
        "outputId": "0d64d561-2c18-4a8a-8170-09f569353350"
      },
      "source": [
        "del s[2] # Delete an item\n",
        "print(s)\n",
        "del s[2:4] # Delete more than one item\n",
        "print(s)"
      ],
      "execution_count": null,
      "outputs": [
        {
          "output_type": "stream",
          "text": [
            "[1, 2, 4, 5, 6, 7, 8]\n",
            "[1, 2, 6, 7, 8]\n"
          ],
          "name": "stdout"
        }
      ]
    },
    {
      "cell_type": "code",
      "metadata": {
        "id": "4NtJd_Z6y-cw",
        "colab_type": "code",
        "colab": {},
        "outputId": "886410b5-06e5-4400-bcda-44b914e9eb5a"
      },
      "source": [
        "t=[1, 2, 3, 4, 5] #  Create a list\n",
        "print(t)"
      ],
      "execution_count": null,
      "outputs": [
        {
          "output_type": "stream",
          "text": [
            "[1, 2, 3, 4, 5]\n"
          ],
          "name": "stdout"
        }
      ]
    },
    {
      "cell_type": "code",
      "metadata": {
        "id": "LqEQD1eyy-cy",
        "colab_type": "code",
        "colab": {},
        "outputId": "229cf0d0-1d6b-4084-ab09-72eb752339ed"
      },
      "source": [
        "t=(1, 2, 3, 4, 5) #  Create a tuple\n",
        "print(t)"
      ],
      "execution_count": null,
      "outputs": [
        {
          "output_type": "stream",
          "text": [
            "(1, 2, 3, 4, 5)\n"
          ],
          "name": "stdout"
        }
      ]
    },
    {
      "cell_type": "code",
      "metadata": {
        "id": "gm4rb2Nty-c3",
        "colab_type": "code",
        "colab": {},
        "outputId": "6c603bb4-35a4-4f28-f46d-8ddcc5e18d32"
      },
      "source": [
        "# del t[2]\n",
        "print(t)"
      ],
      "execution_count": null,
      "outputs": [
        {
          "output_type": "stream",
          "text": [
            "(1, 2, 3, 4, 5)\n"
          ],
          "name": "stdout"
        }
      ]
    },
    {
      "cell_type": "code",
      "metadata": {
        "id": "jJkQ0X1Ny-c5",
        "colab_type": "code",
        "colab": {},
        "outputId": "9b255002-c015-4bb2-f8d6-75614c8509c4"
      },
      "source": [
        "print(2 ** 5) # Power"
      ],
      "execution_count": null,
      "outputs": [
        {
          "output_type": "stream",
          "text": [
            "32\n"
          ],
          "name": "stdout"
        }
      ]
    },
    {
      "cell_type": "code",
      "metadata": {
        "id": "SZfATXx9y-c9",
        "colab_type": "code",
        "colab": {},
        "outputId": "48ed411c-fe6b-413f-f25b-9aaa753dd825"
      },
      "source": [
        "print(pow(2, 5)) # Power using function"
      ],
      "execution_count": null,
      "outputs": [
        {
          "output_type": "stream",
          "text": [
            "32\n"
          ],
          "name": "stdout"
        }
      ]
    },
    {
      "cell_type": "code",
      "metadata": {
        "id": "Spt6k1I7y-c-",
        "colab_type": "code",
        "colab": {},
        "outputId": "64a09d79-257c-45e7-c8b5-393807e84a21"
      },
      "source": [
        "import math # Some common math functions\n",
        "print(math.ceil(33.3))"
      ],
      "execution_count": null,
      "outputs": [
        {
          "output_type": "stream",
          "text": [
            "34\n"
          ],
          "name": "stdout"
        }
      ]
    },
    {
      "cell_type": "code",
      "metadata": {
        "id": "zwHiSxUAy-dA",
        "colab_type": "code",
        "colab": {},
        "outputId": "ddfe83a2-38c2-4c29-e3b5-3dcdcc2e454e"
      },
      "source": [
        "print(math.sqrt(9))"
      ],
      "execution_count": null,
      "outputs": [
        {
          "output_type": "stream",
          "text": [
            "3.0\n"
          ],
          "name": "stdout"
        }
      ]
    },
    {
      "cell_type": "code",
      "metadata": {
        "id": "usMhawW1y-dC",
        "colab_type": "code",
        "colab": {},
        "outputId": "c122c3c6-04e3-499e-fce1-c9a8f0c36114"
      },
      "source": [
        "from math import sqrt\n",
        "print(sqrt(9))"
      ],
      "execution_count": null,
      "outputs": [
        {
          "output_type": "stream",
          "text": [
            "3.0\n"
          ],
          "name": "stdout"
        }
      ]
    },
    {
      "cell_type": "markdown",
      "metadata": {
        "id": "V7aOPNLwy-dE",
        "colab_type": "text"
      },
      "source": [
        "## List Methods\n",
        "\n",
        "* list.append(elem) -- adds a single element to the end of the list. Common error: does not return the new list, just modifies the original.\n",
        "* list.insert(index, elem) -- inserts the element at the given index, shifting elements to the right.\n",
        "* list.extend(list2) adds the elements in list2 to the end of the list. Using + or += on a list is similar to using extend().\n",
        "* list.index(elem) -- searches for the given element from the start of the list and returns its index. Throws a ValueError if the element does not appear (use \"in\" to check without a ValueError).\n",
        "* list.remove(elem) -- searches for the first instance of the given element and removes it (throws ValueError if not present)\n",
        "* list.sort() -- sorts the list in place (does not return it). (The sorted() function shown below is preferred.)\n",
        "* list.reverse() -- reverses the list in place (does not return it)\n",
        "* list.pop(index) -- removes and returns the element at the given index. Returns the rightmost element if index is omitted (roughly the opposite of append()).\n"
      ]
    },
    {
      "cell_type": "code",
      "metadata": {
        "id": "dFkBvvYDy-dE",
        "colab_type": "code",
        "colab": {},
        "outputId": "42b3c8ef-8a4d-44bf-fcc6-fa1b7016be51"
      },
      "source": [
        "l = ['Rick Sanchez',1.0, 'Morty Smith', 'Mr. Meeseeks']\n",
        "print (l)    \n",
        "l.append('Doofus Rick')         ## append item at end\n",
        "print (l)\n",
        "l.insert(0, 'Scary Terry')        ## insert item at index 0\n",
        "print (l)\n",
        "l.extend(['Squanchy', 'Mr. Poopybutthole'])  ## add list of items at end\n",
        "print (l)\n",
        "print (l.index('Morty Smith'))   \n",
        "print (l)\n",
        "l.remove('Morty Smith') ## search and remove an item\n",
        "print (l)\n",
        "print(l.pop(1)) ## removes and returns 'Rick Sanchez' second item\n",
        "print (l)  ## ['Scary Terry', 'Mr. Meeseeks', 'Doofus Rick', 'Squanchy', 'Mr. Poopybutthole']"
      ],
      "execution_count": null,
      "outputs": [
        {
          "output_type": "stream",
          "text": [
            "['Rick Sanchez', 1.0, 'Morty Smith', 'Mr. Meeseeks']\n",
            "['Rick Sanchez', 1.0, 'Morty Smith', 'Mr. Meeseeks', 'Doofus Rick']\n",
            "['Scary Terry', 'Rick Sanchez', 1.0, 'Morty Smith', 'Mr. Meeseeks', 'Doofus Rick']\n",
            "['Scary Terry', 'Rick Sanchez', 1.0, 'Morty Smith', 'Mr. Meeseeks', 'Doofus Rick', 'Squanchy', 'Mr. Poopybutthole']\n",
            "3\n",
            "['Scary Terry', 'Rick Sanchez', 1.0, 'Morty Smith', 'Mr. Meeseeks', 'Doofus Rick', 'Squanchy', 'Mr. Poopybutthole']\n",
            "['Scary Terry', 'Rick Sanchez', 1.0, 'Mr. Meeseeks', 'Doofus Rick', 'Squanchy', 'Mr. Poopybutthole']\n",
            "Rick Sanchez\n",
            "['Scary Terry', 1.0, 'Mr. Meeseeks', 'Doofus Rick', 'Squanchy', 'Mr. Poopybutthole']\n"
          ],
          "name": "stdout"
        }
      ]
    },
    {
      "cell_type": "markdown",
      "metadata": {
        "id": "SdDqrq5Cy-dG",
        "colab_type": "text"
      },
      "source": [
        "## Dictionaries"
      ]
    },
    {
      "cell_type": "code",
      "metadata": {
        "id": "ZwfozpQLy-dG",
        "colab_type": "code",
        "colab": {},
        "outputId": "7c1bbaed-3e6a-4e9f-c743-d5034101068d"
      },
      "source": [
        "d={\"python\": 333, \"R\": 222, 33: 111, \"C++\": 111} # Create a dictionary\n",
        "print(d.keys())"
      ],
      "execution_count": null,
      "outputs": [
        {
          "output_type": "stream",
          "text": [
            "dict_keys(['python', 'R', 33, 'C++'])\n"
          ],
          "name": "stdout"
        }
      ]
    },
    {
      "cell_type": "code",
      "metadata": {
        "id": "tEa4q4iXy-dI",
        "colab_type": "code",
        "colab": {},
        "outputId": "01d76725-83dd-470e-ef48-0f758eb89d90"
      },
      "source": [
        "print(d[\"python\"]) # List value with key \"python\""
      ],
      "execution_count": null,
      "outputs": [
        {
          "output_type": "stream",
          "text": [
            "333\n"
          ],
          "name": "stdout"
        }
      ]
    },
    {
      "cell_type": "code",
      "metadata": {
        "id": "iEoGsx60y-dK",
        "colab_type": "code",
        "colab": {},
        "outputId": "ed3ce87d-2ee6-4df4-94c1-9f5c10d13851"
      },
      "source": [
        "print(\"java\" in d) # Check if \"java\" in dictionary"
      ],
      "execution_count": null,
      "outputs": [
        {
          "output_type": "stream",
          "text": [
            "False\n"
          ],
          "name": "stdout"
        }
      ]
    },
    {
      "cell_type": "code",
      "metadata": {
        "id": "AuKuc8aVy-dL",
        "colab_type": "code",
        "colab": {},
        "outputId": "9ff3a008-1512-439b-8448-c692166c1131"
      },
      "source": [
        "print(\"python\" in d) # Check if \"python\" in dictionary"
      ],
      "execution_count": null,
      "outputs": [
        {
          "output_type": "stream",
          "text": [
            "True\n"
          ],
          "name": "stdout"
        }
      ]
    },
    {
      "cell_type": "code",
      "metadata": {
        "id": "l6yC_DWNy-dN",
        "colab_type": "code",
        "colab": {},
        "outputId": "71733733-62bd-4a23-c211-98a51b40ee0d"
      },
      "source": [
        "d2={\"java\": 33, \"C#\": 22, \"Scala\": 11} # Create a dictionary\n",
        "print(d2)"
      ],
      "execution_count": null,
      "outputs": [
        {
          "output_type": "stream",
          "text": [
            "{'java': 33, 'C#': 22, 'Scala': 11}\n"
          ],
          "name": "stdout"
        }
      ]
    },
    {
      "cell_type": "code",
      "metadata": {
        "id": "KA6fUX4uy-dP",
        "colab_type": "code",
        "colab": {},
        "outputId": "601780d8-380d-4870-9cfe-462ecad97498"
      },
      "source": [
        "d.update(d2) # add dictionary to another dictionary\n",
        "print(d)"
      ],
      "execution_count": null,
      "outputs": [
        {
          "output_type": "stream",
          "text": [
            "{'python': 333, 'R': 222, 33: 111, 'C++': 111, 'java': 33, 'C#': 22, 'Scala': 11}\n"
          ],
          "name": "stdout"
        }
      ]
    },
    {
      "cell_type": "code",
      "metadata": {
        "id": "fUArWZBCy-dQ",
        "colab_type": "code",
        "colab": {},
        "outputId": "3c73c82c-aae6-4cfb-8486-7158771f566a"
      },
      "source": [
        "for key in d: # List keys in dictionary\n",
        "  print(key)\n",
        "print(d.keys())"
      ],
      "execution_count": null,
      "outputs": [
        {
          "output_type": "stream",
          "text": [
            "python\n",
            "R\n",
            "33\n",
            "C++\n",
            "java\n",
            "C#\n",
            "Scala\n",
            "dict_keys(['python', 'R', 33, 'C++', 'java', 'C#', 'Scala'])\n"
          ],
          "name": "stdout"
        }
      ]
    },
    {
      "cell_type": "code",
      "metadata": {
        "id": "ep5t_hwKy-dS",
        "colab_type": "code",
        "colab": {},
        "outputId": "83963dd4-409c-48d3-9df9-aeafc613186e"
      },
      "source": [
        "for key in d: # List values in dictionary\n",
        "  print(d[key])\n",
        "print(d.values())"
      ],
      "execution_count": null,
      "outputs": [
        {
          "output_type": "stream",
          "text": [
            "333\n",
            "222\n",
            "111\n",
            "111\n",
            "33\n",
            "22\n",
            "11\n",
            "dict_values([333, 222, 111, 111, 33, 22, 11])\n"
          ],
          "name": "stdout"
        }
      ]
    },
    {
      "cell_type": "code",
      "metadata": {
        "id": "pmA4skIIy-dV",
        "colab_type": "code",
        "colab": {},
        "outputId": "0db31498-3e4d-4483-8f4c-b698836bb5b1"
      },
      "source": [
        "d_backup = d.copy() # Create  dictionary copy\n",
        "print(d_backup)"
      ],
      "execution_count": null,
      "outputs": [
        {
          "output_type": "stream",
          "text": [
            "{'python': 333, 'R': 222, 33: 111, 'C++': 111, 'java': 33, 'C#': 22, 'Scala': 11}\n"
          ],
          "name": "stdout"
        }
      ]
    },
    {
      "cell_type": "code",
      "metadata": {
        "id": "dMYRHSTjy-dW",
        "colab_type": "code",
        "colab": {},
        "outputId": "f5f1baa9-77e4-4835-eaf4-f394ffc81687"
      },
      "source": [
        "d['C++']=55\n",
        "print(d)\n",
        "print(d_backup)"
      ],
      "execution_count": null,
      "outputs": [
        {
          "output_type": "stream",
          "text": [
            "{'python': 333, 'R': 222, 33: 111, 'C++': 55, 'java': 33, 'C#': 22, 'Scala': 11}\n",
            "{'python': 333, 'R': 222, 33: 111, 'C++': 111, 'java': 33, 'C#': 22, 'Scala': 11}\n"
          ],
          "name": "stdout"
        }
      ]
    },
    {
      "cell_type": "markdown",
      "metadata": {
        "id": "L9RH3bF1y-dY",
        "colab_type": "text"
      },
      "source": [
        "### Note:\n",
        "\n",
        "* A shallow copy constructs a new compound object and then (to the extent possible) inserts references into it to the objects found in the original.\n",
        "* A deep copy constructs a new compound object and then, recursively, inserts copies into it of the objects found in the original."
      ]
    },
    {
      "cell_type": "code",
      "metadata": {
        "id": "PHpNJhkhy-dY",
        "colab_type": "code",
        "colab": {},
        "outputId": "8cd2fb96-7bba-4a00-dff5-afd516b0f349"
      },
      "source": [
        "print(len(d)-len(d_backup))\n",
        "del d_backup[\"java\"]\n",
        "print(d_backup)"
      ],
      "execution_count": null,
      "outputs": [
        {
          "output_type": "stream",
          "text": [
            "0\n",
            "{'python': 333, 'R': 222, 33: 111, 'C++': 111, 'C#': 22, 'Scala': 11}\n"
          ],
          "name": "stdout"
        }
      ]
    },
    {
      "cell_type": "code",
      "metadata": {
        "id": "QZY0HqoDy-da",
        "colab_type": "code",
        "colab": {},
        "outputId": "065f1fbc-bfcb-426b-ef8a-183331cb8e71"
      },
      "source": [
        "print(len(d)-len(d_backup))  # Note original isn't changed"
      ],
      "execution_count": null,
      "outputs": [
        {
          "output_type": "stream",
          "text": [
            "1\n"
          ],
          "name": "stdout"
        }
      ]
    },
    {
      "cell_type": "markdown",
      "metadata": {
        "id": "3mGlQIzWy-dc",
        "colab_type": "text"
      },
      "source": [
        "## Dictionary Methods\n",
        "\n",
        "* d.fromkeys() - Create a new dictonary with keys from seq and values set to value.\n",
        "* d.get(key, default=None) - For any key, returns value or default if key not in dictonary\n",
        "* d.has_key(key) - Removed, use the in operation instead.\n",
        "* d.items() - Returns a list of d.s (key, value) tuple pairs\n",
        "* d.keys() - Returns list of dictonary d's keys\n",
        "* d.setdefault(key, default = None) - Similar to get(), but will set d.key] = default if key is not already in dict\n",
        "* d.update(d2) - Adds dictonary d2's key-values pairs to dict\n",
        "* d.values() - Returns list of dictonary d's values\n",
        "* d.clear() - Removes all elements of dictonary d\n",
        "\n",
        "Note:\n",
        "\n",
        "* A shallow copy constructs a new compound object and then (to the extent possible) inserts references into it to the objects found in the original.\n",
        "* A deep copy constructs a new compound object and then, recursively, inserts copies into it of the objects found in the original."
      ]
    },
    {
      "cell_type": "markdown",
      "metadata": {
        "id": "Utwqn8i4y-dc",
        "colab_type": "text"
      },
      "source": [
        "## Trees\n",
        "\n",
        "See [https://link.springer.com/chapter/10.1007/978-3-319-13072-9_6][https://link.springer.com/chapter/10.1007/978-3-319-13072-9_6]"
      ]
    },
    {
      "cell_type": "markdown",
      "metadata": {
        "id": "KFuYaUEEy-dc",
        "colab_type": "text"
      },
      "source": [
        "## help(), and dir()\n",
        "\n",
        "here are a variety of ways to get help for Python.\n",
        "\n",
        "Do a Google search, starting with the word \"python\", like \"python list\" or \"python string lowercase\". The first hit is often the answer. This technique seems to work better for Python than it does for other languages for some reason.\n",
        "The official Python docs site — docs.python.org — has high quality docs. Nonetheless, I often find a Google search of a couple words to be quicker.\n",
        "There is also an official Tutor mailing list specifically designed for those who are new to Python and/or programming!\n",
        "Many questions (and answers) can be found on StackOverflow and Quora.\n",
        "Use the help() and dir() functions (see below).\n",
        "Inside the Python interpreter, the help() function pulls up documentation strings for various modules, functions, and methods. These doc strings are similar to Java's javadoc. The dir() function tells you what the attributes of an object are. Below are some ways to call help() and dir() from the interpreter:\n",
        "\n",
        "help(len) — help string for the built-in len() function; note that it's \"len\" not \"len()\", which is a call to the function, which we don't want\n",
        "help(sys) — help string for the sys module (must do an import sys first)\n",
        "dir(sys) — dir() is like help() but just gives a quick list of its defined symbols, or \"attributes\"\n",
        "help(sys.exit) — help string for the exit() function in the sys module\n",
        "help('xyz'.split) — help string for the split() method for string objects. You can call help() with that object itself or an example of that object, plus its attribute. For example, calling help('xyz'.split) is the same as calling help(str.split).\n",
        "help(list) — help string for list objects\n",
        "dir(list) — displays list object attributes, including its methods\n",
        "help(list.append) — help string for the append() method for list objects"
      ]
    },
    {
      "cell_type": "markdown",
      "metadata": {
        "id": "eHo-PU-Ay-dd",
        "colab_type": "text"
      },
      "source": [
        "## Python Tutorials \n",
        "\n",
        "* [“Dive into Python” (Chapters 2 to 4)] (http://diveintopython.org/)\n",
        "\n",
        "* [Python 101 – Beginning Python] (http://www.rexx.com/~dkuhlman/python_101/python_101.html) \n",
        "\n",
        "* [Nice free CS/python book] (https://www.cs.hmc.edu/csforall/index.html)\n",
        "\n",
        "\n",
        "### Things to refer to \n",
        "\n",
        "* [The Official Python Tutorial] (http://www.python.org/doc/current/tut/tut.html) \n",
        "* [The Python Quick Reference] (http://rgruet.free.fr/PQR2.3.html) \n",
        "\n",
        "### YouTube Python Tutorials \n",
        "\n",
        "* [Python Fundamentals Training – Classes] (http://www.youtube.com/watch?v=rKzZEtxIX14)\n",
        "* [Python 2.7 Tutorial Derek Banas] (http://www.youtube.com/watch?v=UQi-L-_chcc)\n",
        "* [Python Programming Tutorial - thenewboston] \n",
        "(http://www.youtube.com/watch?v=4Mf0h3HphEA)\n",
        "* [Google Python Class](http://www.youtube.com/watch?v=tKTZoB2Vjuk) \n",
        "\n",
        "\n",
        "### datacamp.com\n",
        "\n",
        "* [datacamp.com] (https://www.datacamp.com/tracks/python-developer)"
      ]
    },
    {
      "cell_type": "markdown",
      "metadata": {
        "collapsed": true,
        "id": "mB29KUBqy-dd",
        "colab_type": "text"
      },
      "source": [
        "Last update October 3, 2017"
      ]
    }
  ]
}