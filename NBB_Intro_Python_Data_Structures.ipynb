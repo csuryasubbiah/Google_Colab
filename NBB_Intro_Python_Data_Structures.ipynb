{
  "nbformat": 4,
  "nbformat_minor": 0,
  "metadata": {
    "kernelspec": {
      "display_name": "Python 3",
      "language": "python",
      "name": "python3"
    },
    "language_info": {
      "codemirror_mode": {
        "name": "ipython",
        "version": 3
      },
      "file_extension": ".py",
      "mimetype": "text/x-python",
      "name": "python",
      "nbconvert_exporter": "python",
      "pygments_lexer": "ipython3",
      "version": "3.6.1"
    },
    "colab": {
      "name": "NBB_Intro_Python_Data_Structures.ipynb",
      "provenance": [],
      "collapsed_sections": [
        "9wk1zkYl29km",
        "Hjuh_8oa29ks",
        "2gzOm__x29lV",
        "Mbr7EcPz29la",
        "leWvudZR29mN",
        "AZUOn_Fp29mP",
        "WMyafVBx29mf",
        "uC_FDa2v29mj",
        "GZiizqtB29mj",
        "8Cxv7jET29mj",
        "6SjM3q3D29mj"
      ],
      "include_colab_link": true
    }
  },
  "cells": [
    {
      "cell_type": "markdown",
      "metadata": {
        "id": "view-in-github",
        "colab_type": "text"
      },
      "source": [
        "<a href=\"https://colab.research.google.com/github/nikbearbrown/Google_Colab/blob/master/NBB_Intro_Python_Data_Structures.ipynb\" target=\"_parent\"><img src=\"https://colab.research.google.com/assets/colab-badge.svg\" alt=\"Open In Colab\"/></a>"
      ]
    },
    {
      "cell_type": "markdown",
      "metadata": {
        "id": "DaB7zi2a29kE",
        "colab_type": "text"
      },
      "source": [
        "## Intro to Python Data Structures"
      ]
    },
    {
      "cell_type": "markdown",
      "metadata": {
        "id": "giHnK_j629kF",
        "colab_type": "text"
      },
      "source": [
        "### Learning tips.\n",
        "\n",
        "* Practice, practice, practice.  \n",
        "\n",
        "* Get used to making mistakes! It’s OK.  \n",
        "\n",
        "* Don’t memorize. There are thousands of packages in python. Learn to read the documentation.  \n"
      ]
    },
    {
      "cell_type": "markdown",
      "metadata": {
        "id": "uif36qfb29kF",
        "colab_type": "text"
      },
      "source": [
        "###  Strings"
      ]
    },
    {
      "cell_type": "code",
      "metadata": {
        "id": "AjwYtHZb29kG",
        "colab_type": "code",
        "colab": {},
        "outputId": "e1d58e44-cedd-438a-9185-5de2cd55f2ff"
      },
      "source": [
        "from __future__ import print_function\n",
        "x = 'Rick'\n",
        "y = 'Morty'\n",
        "print(x + ' & ' + y)"
      ],
      "execution_count": null,
      "outputs": [
        {
          "output_type": "stream",
          "text": [
            "Rick & Morty\n"
          ],
          "name": "stdout"
        }
      ]
    },
    {
      "cell_type": "code",
      "metadata": {
        "id": "qU8tWDWB29kK",
        "colab_type": "code",
        "colab": {},
        "outputId": "793fe6a5-eb1c-4ae8-d8ff-b24637759170"
      },
      "source": [
        "print(x*11)"
      ],
      "execution_count": null,
      "outputs": [
        {
          "output_type": "stream",
          "text": [
            "RickRickRickRickRickRickRickRickRickRickRick\n"
          ],
          "name": "stdout"
        }
      ]
    },
    {
      "cell_type": "code",
      "metadata": {
        "id": "8swHBYe929kM",
        "colab_type": "code",
        "colab": {},
        "outputId": "0bddb77c-085a-4776-b3b3-3bd97490190a"
      },
      "source": [
        "print(x[2:])"
      ],
      "execution_count": null,
      "outputs": [
        {
          "output_type": "stream",
          "text": [
            "ck\n"
          ],
          "name": "stdout"
        }
      ]
    },
    {
      "cell_type": "code",
      "metadata": {
        "id": "4bb64t4629kP",
        "colab_type": "code",
        "colab": {},
        "outputId": "152c426a-c0f8-4a3b-85b7-1e3b1bd10b27"
      },
      "source": [
        "z='bear'\n",
        "print(z)\n",
        "print(str.capitalize(z))"
      ],
      "execution_count": null,
      "outputs": [
        {
          "output_type": "stream",
          "text": [
            "bear\n",
            "Bear\n"
          ],
          "name": "stdout"
        }
      ]
    },
    {
      "cell_type": "code",
      "metadata": {
        "id": "eO2iTFPF29kR",
        "colab_type": "code",
        "colab": {},
        "outputId": "89c6ba4e-2988-4c9d-e6ab-e876f730ad2a"
      },
      "source": [
        "z.isdigit()"
      ],
      "execution_count": null,
      "outputs": [
        {
          "output_type": "execute_result",
          "data": {
            "text/plain": [
              "False"
            ]
          },
          "metadata": {
            "tags": []
          },
          "execution_count": 111
        }
      ]
    },
    {
      "cell_type": "code",
      "metadata": {
        "id": "6EW_aY7Y29kU",
        "colab_type": "code",
        "colab": {},
        "outputId": "fb6c8b8e-29dd-4187-fc36-d1699f7987df"
      },
      "source": [
        "z='5'\n",
        "z.isdigit()"
      ],
      "execution_count": null,
      "outputs": [
        {
          "output_type": "execute_result",
          "data": {
            "text/plain": [
              "True"
            ]
          },
          "metadata": {
            "tags": []
          },
          "execution_count": 112
        }
      ]
    },
    {
      "cell_type": "code",
      "metadata": {
        "scrolled": false,
        "id": "BqTfToSA29kW",
        "colab_type": "code",
        "colab": {},
        "outputId": "bea290ef-4f87-41b2-fbdf-993777befa8f"
      },
      "source": [
        "print(y)\n",
        "print(y.replace('o', 'OOOOO'))\n",
        "print(y)"
      ],
      "execution_count": null,
      "outputs": [
        {
          "output_type": "stream",
          "text": [
            "Morty\n",
            "MOOOOOrty\n",
            "Morty\n"
          ],
          "name": "stdout"
        }
      ]
    },
    {
      "cell_type": "markdown",
      "metadata": {
        "id": "7KpEBl1529kZ",
        "colab_type": "text"
      },
      "source": [
        "## Data Structures"
      ]
    },
    {
      "cell_type": "markdown",
      "metadata": {
        "id": "uF1P9y0p29ka",
        "colab_type": "text"
      },
      "source": [
        "## Arrays"
      ]
    },
    {
      "cell_type": "code",
      "metadata": {
        "scrolled": false,
        "id": "HOB4Jnas29ka",
        "colab_type": "code",
        "colab": {},
        "outputId": "543ffc75-2b40-43da-8234-f06ae8c18cdf"
      },
      "source": [
        "import array as arr\n",
        "print(arr.typecodes)"
      ],
      "execution_count": null,
      "outputs": [
        {
          "output_type": "stream",
          "text": [
            "bBuhHiIlLqQfd\n"
          ],
          "name": "stdout"
        }
      ]
    },
    {
      "cell_type": "markdown",
      "metadata": {
        "id": "MqBvz5eg29ke",
        "colab_type": "text"
      },
      "source": [
        "\n",
        "Type code\tC Type\tPython Type\tMinimum size in bytes\t   \n",
        "'b'\tsigned char\tint\t1\t   \n",
        "'B'\tunsigned char\tint\t1\t    \n",
        "'u'\tPy_UNICODE\tUnicode character\t2\t(1)    \n",
        "'h'\tsigned short\tint\t2\t    \n",
        "'H'\tunsigned short\tint\t2\t    \n",
        "'i'\tsigned int\tint\t2\t   \n",
        "'I'\tunsigned int\tint\t2\t   \n",
        "'l'\tsigned long\tint\t4\t   \n",
        "'L'\tunsigned long\tint\t4\t   \n",
        "'q'\tsigned long long\tint\t8\t(2)   \n",
        "'Q'\tunsigned long long\tint\t8\t(2)   \n",
        "'f'\tfloat\tfloat\t4\t   \n",
        "'d'\tdouble\tfloat\t8\t   \n"
      ]
    },
    {
      "cell_type": "code",
      "metadata": {
        "id": "TEbxK-kD29ke",
        "colab_type": "code",
        "colab": {},
        "outputId": "68e84f4a-1f26-42d5-cb3f-dc46fce2e7ae"
      },
      "source": [
        "a = arr.array(\"u\",['3','5','7'])\n",
        "print(type(a))\n",
        "print(a)\n",
        "print(a[0])\n",
        "print(type(a[0]))"
      ],
      "execution_count": null,
      "outputs": [
        {
          "output_type": "stream",
          "text": [
            "<class 'array.array'>\n",
            "array('u', '357')\n",
            "3\n",
            "<class 'str'>\n"
          ],
          "name": "stdout"
        }
      ]
    },
    {
      "cell_type": "code",
      "metadata": {
        "id": "-A9kwhxk29kg",
        "colab_type": "code",
        "colab": {},
        "outputId": "fd1b8554-1796-4fed-9899-521cceafc050"
      },
      "source": [
        "a = arr.array(\"B\",[3,5,7])\n",
        "print(type(a))\n",
        "print(a)\n",
        "print(a[0])\n",
        "print(type(a[0]))\n",
        "a.append(9)\n",
        "print(a)"
      ],
      "execution_count": null,
      "outputs": [
        {
          "output_type": "stream",
          "text": [
            "<class 'array.array'>\n",
            "array('B', [3, 5, 7])\n",
            "3\n",
            "<class 'int'>\n",
            "array('B', [3, 5, 7, 9])\n"
          ],
          "name": "stdout"
        }
      ]
    },
    {
      "cell_type": "markdown",
      "metadata": {
        "id": "HqH5k2Yf29kj",
        "colab_type": "text"
      },
      "source": [
        "The following data items and methods are also supported:\n",
        "\n",
        "array.typecode\n",
        "The typecode character used to create the array.\n",
        "\n",
        "array.itemsize\n",
        "The length in bytes of one array item in the internal representation.\n",
        "\n",
        "array.append(x)\n",
        "Append a new item with value x to the end of the array.\n",
        "\n",
        "array.buffer_info()\n",
        "Return a tuple (address, length) giving the current memory address and the length in elements of the buffer used to hold array’s contents. The size of the memory buffer in bytes can be computed as array.buffer_info()[1] * array.itemsize. This is occasionally useful when working with low-level (and inherently unsafe) I/O interfaces that require memory addresses, such as certain ioctl() operations. The returned numbers are valid as long as the array exists and no length-changing operations are applied to it.\n",
        "\n",
        "Note When using array objects from code written in C or C++ (the only way to effectively make use of this information), it makes more sense to use the buffer interface supported by array objects. This method is maintained for backward compatibility and should be avoided in new code. The buffer interface is documented in Buffer Protocol.\n",
        "array.byteswap()\n",
        "“Byteswap” all items of the array. This is only supported for values which are 1, 2, 4, or 8 bytes in size; for other types of values, RuntimeError is raised. It is useful when reading data from a file written on a machine with a different byte order.\n",
        "\n",
        "array.count(x)\n",
        "Return the number of occurrences of x in the array.\n",
        "\n",
        "array.extend(iterable)\n",
        "Append items from iterable to the end of the array. If iterable is another array, it must have exactly the same type code; if not, TypeError will be raised. If iterable is not an array, it must be iterable and its elements must be the right type to be appended to the array.\n",
        "\n",
        "array.frombytes(s)\n",
        "Appends items from the string, interpreting the string as an array of machine values (as if it had been read from a file using the fromfile() method).\n",
        "\n",
        "New in version 3.2: fromstring() is renamed to frombytes() for clarity.\n",
        "\n",
        "array.fromfile(f, n)\n",
        "Read n items (as machine values) from the file object f and append them to the end of the array. If less than n items are available, EOFError is raised, but the items that were available are still inserted into the array. f must be a real built-in file object; something else with a read() method won’t do.\n",
        "\n",
        "array.fromlist(list)\n",
        "Append items from the list. This is equivalent to for x in list: a.append(x) except that if there is a type error, the array is unchanged.\n",
        "\n",
        "array.fromstring()\n",
        "Deprecated alias for frombytes().\n",
        "\n",
        "array.fromunicode(s)\n",
        "Extends this array with data from the given unicode string. The array must be a type 'u' array; otherwise a ValueError is raised. Use array.frombytes(unicodestring.encode(enc)) to append Unicode data to an array of some other type.\n",
        "\n",
        "array.index(x)\n",
        "Return the smallest i such that i is the index of the first occurrence of x in the array.\n",
        "\n",
        "array.insert(i, x)\n",
        "Insert a new item with value x in the array before position i. Negative values are treated as being relative to the end of the array.\n",
        "\n",
        "array.pop([i])\n",
        "Removes the item with the index i from the array and returns it. The optional argument defaults to -1, so that by default the last item is removed and returned.\n",
        "\n",
        "array.remove(x)\n",
        "Remove the first occurrence of x from the array.\n",
        "\n",
        "array.reverse()\n",
        "Reverse the order of the items in the array.\n",
        "\n",
        "array.tobytes()\n",
        "Convert the array to an array of machine values and return the bytes representation (the same sequence of bytes that would be written to a file by the tofile() method.)\n",
        "\n",
        "New in version 3.2: tostring() is renamed to tobytes() for clarity.\n",
        "\n",
        "array.tofile(f)\n",
        "Write all items (as machine values) to the file object f.\n",
        "\n",
        "array.tolist()\n",
        "Convert the array to an ordinary list with the same items.\n",
        "\n",
        "array.tostring()\n",
        "Deprecated alias for tobytes().\n",
        "\n",
        "array.tounicode()\n",
        "Convert the array to a unicode string. The array must be a type 'u' array; otherwise a ValueError is raised. Use array.tobytes().decode(enc) to obtain a unicode string from an array of some other type."
      ]
    },
    {
      "cell_type": "code",
      "metadata": {
        "id": "PQL0ehhc29kj",
        "colab_type": "code",
        "colab": {},
        "outputId": "f5aa556e-c610-41f7-8ed9-d558cce562f8"
      },
      "source": [
        "b=arr.array('l')\n",
        "print(b)\n",
        "c=arr.array('u', 'hello \\u2641')\n",
        "print(c)\n",
        "d=arr.array('l', [1, 2, 3, 4, 5])\n",
        "print(d)\n",
        "e=arr.array('d', [1.0, 2.0, 3.14])\n",
        "print(e)"
      ],
      "execution_count": null,
      "outputs": [
        {
          "output_type": "stream",
          "text": [
            "array('l')\n",
            "array('u', 'hello ♁')\n",
            "array('l', [1, 2, 3, 4, 5])\n",
            "array('d', [1.0, 2.0, 3.14])\n"
          ],
          "name": "stdout"
        }
      ]
    },
    {
      "cell_type": "markdown",
      "metadata": {
        "id": "9wk1zkYl29km",
        "colab_type": "text"
      },
      "source": [
        "### Arrays versus Lists  \n",
        "\n",
        "Why do you need arrays at all. They are different in terms of the operations one can perform on them. With arrays, you can perform an operations on all its item individually, which may not be the case with lists. "
      ]
    },
    {
      "cell_type": "code",
      "metadata": {
        "id": "NV2XIgON29km",
        "colab_type": "code",
        "colab": {},
        "outputId": "f00f8dee-977c-42d4-a486-8652ce23dd30"
      },
      "source": [
        "a = arr.array(\"u\",[\"c\",\"a\",\"t\",\"s\"])\n",
        "print(a)"
      ],
      "execution_count": null,
      "outputs": [
        {
          "output_type": "stream",
          "text": [
            "array('u', 'cats')\n"
          ],
          "name": "stdout"
        }
      ]
    },
    {
      "cell_type": "code",
      "metadata": {
        "id": "ip0Fatlp29ko",
        "colab_type": "code",
        "colab": {},
        "outputId": "3bd2f390-f2fa-4034-97ad-1d51f937dfd4"
      },
      "source": [
        "a.tostring()\n",
        "print(a)"
      ],
      "execution_count": null,
      "outputs": [
        {
          "output_type": "stream",
          "text": [
            "array('u', 'cats')\n"
          ],
          "name": "stdout"
        }
      ]
    },
    {
      "cell_type": "code",
      "metadata": {
        "id": "Ja5rp4ZL29kq",
        "colab_type": "code",
        "colab": {},
        "outputId": "72d41fa6-f9d0-4911-a48c-4bbd5e9c6ac6"
      },
      "source": [
        "l = [\"c\",\"a\",\"t\",\"s\"]\n",
        "s=''.join(l)\n",
        "print(s)"
      ],
      "execution_count": null,
      "outputs": [
        {
          "output_type": "stream",
          "text": [
            "cats\n"
          ],
          "name": "stdout"
        }
      ]
    },
    {
      "cell_type": "markdown",
      "metadata": {
        "id": "Hjuh_8oa29ks",
        "colab_type": "text"
      },
      "source": [
        "## NumPy Arrays\n",
        "\n",
        "See [https://docs.scipy.org/doc/numpy-dev/user/quickstart.html](https://docs.scipy.org/doc/numpy-dev/user/quickstart.html)"
      ]
    },
    {
      "cell_type": "code",
      "metadata": {
        "id": "ctRjJAJz29kt",
        "colab_type": "code",
        "colab": {},
        "outputId": "df13f093-bb14-489c-c587-1bade6506856"
      },
      "source": [
        "import numpy as np\n",
        "\n",
        "a = np.array([3, 5, 7])\n",
        "print(a)\n",
        "b = a/3.0 # Performing vectorized (element-wise) operations \n",
        "print(b)"
      ],
      "execution_count": null,
      "outputs": [
        {
          "output_type": "stream",
          "text": [
            "[3 5 7]\n",
            "[ 1.          1.66666667  2.33333333]\n"
          ],
          "name": "stdout"
        }
      ]
    },
    {
      "cell_type": "code",
      "metadata": {
        "id": "z2ddqEHY29kv",
        "colab_type": "code",
        "colab": {},
        "outputId": "6e92b7d7-67ca-4911-f2ce-d21a624f19ee"
      },
      "source": [
        "o = np.ones(5)\n",
        "print(o)"
      ],
      "execution_count": null,
      "outputs": [
        {
          "output_type": "stream",
          "text": [
            "[ 1.  1.  1.  1.  1.]\n"
          ],
          "name": "stdout"
        }
      ]
    },
    {
      "cell_type": "code",
      "metadata": {
        "id": "7jcsmUBP29kx",
        "colab_type": "code",
        "colab": {},
        "outputId": "900e91c2-509c-44f8-83dc-a11c2d3957fc"
      },
      "source": [
        "o = np.zeros(5)\n",
        "print(o)"
      ],
      "execution_count": null,
      "outputs": [
        {
          "output_type": "stream",
          "text": [
            "[ 0.  0.  0.  0.  0.]\n"
          ],
          "name": "stdout"
        }
      ]
    },
    {
      "cell_type": "code",
      "metadata": {
        "id": "LNTUndpG29kz",
        "colab_type": "code",
        "colab": {},
        "outputId": "9ca8082e-2868-4106-a93e-0bb6c3de48e4"
      },
      "source": [
        "a = np.arange(15).reshape(3, 5)\n",
        "print(a)"
      ],
      "execution_count": null,
      "outputs": [
        {
          "output_type": "stream",
          "text": [
            "[[ 0  1  2  3  4]\n",
            " [ 5  6  7  8  9]\n",
            " [10 11 12 13 14]]\n"
          ],
          "name": "stdout"
        }
      ]
    },
    {
      "cell_type": "code",
      "metadata": {
        "id": "vppgQjFU29k1",
        "colab_type": "code",
        "colab": {},
        "outputId": "160f3dd2-9832-4c72-9162-4e61d2c75f12"
      },
      "source": [
        "print(a.shape)\n",
        "print(a.ndim)\n",
        "print(a.dtype.name)\n",
        "print(a.itemsize)\n",
        "print(a.size)\n",
        "print(type(a))"
      ],
      "execution_count": null,
      "outputs": [
        {
          "output_type": "stream",
          "text": [
            "(3, 5)\n",
            "2\n",
            "int64\n",
            "8\n",
            "15\n",
            "<class 'numpy.ndarray'>\n"
          ],
          "name": "stdout"
        }
      ]
    },
    {
      "cell_type": "code",
      "metadata": {
        "id": "YLwnUD2F29k3",
        "colab_type": "code",
        "colab": {},
        "outputId": "812b5677-4fb7-48c4-aa69-79824bfb35a7"
      },
      "source": [
        "a*=5\n",
        "print(a)"
      ],
      "execution_count": null,
      "outputs": [
        {
          "output_type": "stream",
          "text": [
            "[[ 0  5 10 15 20]\n",
            " [25 30 35 40 45]\n",
            " [50 55 60 65 70]]\n"
          ],
          "name": "stdout"
        }
      ]
    },
    {
      "cell_type": "code",
      "metadata": {
        "id": "9vZFZgNw29k5",
        "colab_type": "code",
        "colab": {},
        "outputId": "aa5616fb-2a8c-4bda-ac9d-649273016699"
      },
      "source": [
        "a = np.array([1,2,3,4])\n",
        "print(a)"
      ],
      "execution_count": null,
      "outputs": [
        {
          "output_type": "stream",
          "text": [
            "[1 2 3 4]\n"
          ],
          "name": "stdout"
        }
      ]
    },
    {
      "cell_type": "code",
      "metadata": {
        "id": "yS1necsd29k7",
        "colab_type": "code",
        "colab": {},
        "outputId": "5b70b2a1-de4f-46cb-93a9-cb791dbe6903"
      },
      "source": [
        "b = np.array([(1.5,2,3), (4,5,6)])\n",
        "print(b)"
      ],
      "execution_count": null,
      "outputs": [
        {
          "output_type": "stream",
          "text": [
            "[[ 1.5  2.   3. ]\n",
            " [ 4.   5.   6. ]]\n"
          ],
          "name": "stdout"
        }
      ]
    },
    {
      "cell_type": "code",
      "metadata": {
        "id": "E5JRrMqJ29k9",
        "colab_type": "code",
        "colab": {},
        "outputId": "4071426b-10c6-4dd4-e23c-7d950962417f"
      },
      "source": [
        "c = np.array( [ [1,2], [3,4] ], dtype=complex )\n",
        "print(c)"
      ],
      "execution_count": null,
      "outputs": [
        {
          "output_type": "stream",
          "text": [
            "[[ 1.+0.j  2.+0.j]\n",
            " [ 3.+0.j  4.+0.j]]\n"
          ],
          "name": "stdout"
        }
      ]
    },
    {
      "cell_type": "code",
      "metadata": {
        "id": "DZXhzyqb29k_",
        "colab_type": "code",
        "colab": {},
        "outputId": "9a840f15-fc90-4e5f-fe9a-f69bfadfd831"
      },
      "source": [
        "c=np.arange(100)\n",
        "print(c)"
      ],
      "execution_count": null,
      "outputs": [
        {
          "output_type": "stream",
          "text": [
            "[ 0  1  2  3  4  5  6  7  8  9 10 11 12 13 14 15 16 17 18 19 20 21 22 23 24\n",
            " 25 26 27 28 29 30 31 32 33 34 35 36 37 38 39 40 41 42 43 44 45 46 47 48 49\n",
            " 50 51 52 53 54 55 56 57 58 59 60 61 62 63 64 65 66 67 68 69 70 71 72 73 74\n",
            " 75 76 77 78 79 80 81 82 83 84 85 86 87 88 89 90 91 92 93 94 95 96 97 98 99]\n"
          ],
          "name": "stdout"
        }
      ]
    },
    {
      "cell_type": "code",
      "metadata": {
        "id": "WsXCUnI229lC",
        "colab_type": "code",
        "colab": {},
        "outputId": "04a51965-1f15-4bd8-ae7c-172e975d4216"
      },
      "source": [
        "c=c.reshape(10,10)\n",
        "print(c)"
      ],
      "execution_count": null,
      "outputs": [
        {
          "output_type": "stream",
          "text": [
            "[[ 0  1  2  3  4  5  6  7  8  9]\n",
            " [10 11 12 13 14 15 16 17 18 19]\n",
            " [20 21 22 23 24 25 26 27 28 29]\n",
            " [30 31 32 33 34 35 36 37 38 39]\n",
            " [40 41 42 43 44 45 46 47 48 49]\n",
            " [50 51 52 53 54 55 56 57 58 59]\n",
            " [60 61 62 63 64 65 66 67 68 69]\n",
            " [70 71 72 73 74 75 76 77 78 79]\n",
            " [80 81 82 83 84 85 86 87 88 89]\n",
            " [90 91 92 93 94 95 96 97 98 99]]\n"
          ],
          "name": "stdout"
        }
      ]
    },
    {
      "cell_type": "code",
      "metadata": {
        "id": "OLxy2snZ29lE",
        "colab_type": "code",
        "colab": {},
        "outputId": "1ee55d63-279e-42e6-f1f9-407dde1ed18a"
      },
      "source": [
        "a = np.array( [20,30,40,50] )\n",
        "print(a)\n",
        "b = np.arange( 4 )\n",
        "print(b)\n",
        "c=a-b\n",
        "print(c)"
      ],
      "execution_count": null,
      "outputs": [
        {
          "output_type": "stream",
          "text": [
            "[20 30 40 50]\n",
            "[0 1 2 3]\n",
            "[20 29 38 47]\n"
          ],
          "name": "stdout"
        }
      ]
    },
    {
      "cell_type": "code",
      "metadata": {
        "id": "0NiHJjOJ29lG",
        "colab_type": "code",
        "colab": {},
        "outputId": "56d7c0ad-c11b-4571-9ef7-3ba79d0ff054"
      },
      "source": [
        "b=np.sqrt(c)\n",
        "print(b)"
      ],
      "execution_count": null,
      "outputs": [
        {
          "output_type": "stream",
          "text": [
            "[ 4.47213595  5.38516481  6.164414    6.8556546 ]\n"
          ],
          "name": "stdout"
        }
      ]
    },
    {
      "cell_type": "code",
      "metadata": {
        "id": "fmtekz7X29lI",
        "colab_type": "code",
        "colab": {},
        "outputId": "49b5725a-3cab-4a7a-eed8-dbdeaf85cda5"
      },
      "source": [
        "a = np.sqrt(np.arange(10)**3)\n",
        "print(a)"
      ],
      "execution_count": null,
      "outputs": [
        {
          "output_type": "stream",
          "text": [
            "[  0.           1.           2.82842712   5.19615242   8.          11.18033989\n",
            "  14.69693846  18.52025918  22.627417    27.        ]\n"
          ],
          "name": "stdout"
        }
      ]
    },
    {
      "cell_type": "code",
      "metadata": {
        "id": "wsEib00T29lK",
        "colab_type": "code",
        "colab": {},
        "outputId": "8c1775d7-1320-4619-d41d-a014eb01499a"
      },
      "source": [
        "print(a[2:5])"
      ],
      "execution_count": null,
      "outputs": [
        {
          "output_type": "stream",
          "text": [
            "[ 2.82842712  5.19615242  8.        ]\n"
          ],
          "name": "stdout"
        }
      ]
    },
    {
      "cell_type": "code",
      "metadata": {
        "id": "-NFWSXDE29lM",
        "colab_type": "code",
        "colab": {},
        "outputId": "cb0c1b43-b726-48fc-b9b6-b26d2c84358a"
      },
      "source": [
        "def f(x,y):\n",
        "  return 10*x+y\n",
        "b = np.fromfunction(f,(5,4),dtype=int)\n",
        "print(b)"
      ],
      "execution_count": null,
      "outputs": [
        {
          "output_type": "stream",
          "text": [
            "[[ 0  1  2  3]\n",
            " [10 11 12 13]\n",
            " [20 21 22 23]\n",
            " [30 31 32 33]\n",
            " [40 41 42 43]]\n"
          ],
          "name": "stdout"
        }
      ]
    },
    {
      "cell_type": "code",
      "metadata": {
        "id": "2amDRMqD29lP",
        "colab_type": "code",
        "colab": {},
        "outputId": "1e8f4a84-774a-47cf-eebe-a90011bc5bcf"
      },
      "source": [
        "print(b[2,3])\n",
        "print(b[0:5, 1])\n",
        "print(b[1:3, : ] )"
      ],
      "execution_count": null,
      "outputs": [
        {
          "output_type": "stream",
          "text": [
            "23\n",
            "[ 1 11 21 31 41]\n",
            "[[10 11 12 13]\n",
            " [20 21 22 23]]\n"
          ],
          "name": "stdout"
        }
      ]
    },
    {
      "cell_type": "code",
      "metadata": {
        "id": "jeSvjB5E29lR",
        "colab_type": "code",
        "colab": {},
        "outputId": "fb2442d4-81ac-431c-f1de-144ee0a6793b"
      },
      "source": [
        "print(b)\n",
        "print(b.T)"
      ],
      "execution_count": null,
      "outputs": [
        {
          "output_type": "stream",
          "text": [
            "[[ 0  1  2  3]\n",
            " [10 11 12 13]\n",
            " [20 21 22 23]\n",
            " [30 31 32 33]\n",
            " [40 41 42 43]]\n",
            "[[ 0 10 20 30 40]\n",
            " [ 1 11 21 31 41]\n",
            " [ 2 12 22 32 42]\n",
            " [ 3 13 23 33 43]]\n"
          ],
          "name": "stdout"
        }
      ]
    },
    {
      "cell_type": "code",
      "metadata": {
        "id": "Fv2SQCt229lT",
        "colab_type": "code",
        "colab": {},
        "outputId": "16f3834c-2c67-494e-db53-5e7fff08760c"
      },
      "source": [
        "for element in b.flat:\n",
        "    print (element)"
      ],
      "execution_count": null,
      "outputs": [
        {
          "output_type": "stream",
          "text": [
            "0\n",
            "1\n",
            "2\n",
            "3\n",
            "10\n",
            "11\n",
            "12\n",
            "13\n",
            "20\n",
            "21\n",
            "22\n",
            "23\n",
            "30\n",
            "31\n",
            "32\n",
            "33\n",
            "40\n",
            "41\n",
            "42\n",
            "43\n"
          ],
          "name": "stdout"
        }
      ]
    },
    {
      "cell_type": "markdown",
      "metadata": {
        "id": "2gzOm__x29lV",
        "colab_type": "text"
      },
      "source": [
        "### Sets  \n",
        "\n",
        "Sets are a collection of distinct (unique) objects."
      ]
    },
    {
      "cell_type": "code",
      "metadata": {
        "id": "e7bLrk2n29lW",
        "colab_type": "code",
        "colab": {},
        "outputId": "3650464b-52d0-45e4-91ec-98989f566f8d"
      },
      "source": [
        "x = set('Cake&Cookie')\n",
        "print(x)\n",
        "y = set('Cookie')\n",
        "print(y)"
      ],
      "execution_count": null,
      "outputs": [
        {
          "output_type": "stream",
          "text": [
            "{'C', 'o', '&', 'i', 'a', 'e', 'k'}\n",
            "{'C', 'o', 'i', 'e', 'k'}\n"
          ],
          "name": "stdout"
        }
      ]
    },
    {
      "cell_type": "code",
      "metadata": {
        "id": "y9rl5_hY29lY",
        "colab_type": "code",
        "colab": {},
        "outputId": "b8d6b373-87bf-4e59-c239-1cbeac356ad6"
      },
      "source": [
        "print(x-y)"
      ],
      "execution_count": null,
      "outputs": [
        {
          "output_type": "stream",
          "text": [
            "{'a', '&'}\n"
          ],
          "name": "stdout"
        }
      ]
    },
    {
      "cell_type": "markdown",
      "metadata": {
        "id": "Mbr7EcPz29la",
        "colab_type": "text"
      },
      "source": [
        "## Lists   "
      ]
    },
    {
      "cell_type": "code",
      "metadata": {
        "id": "HnLEw37q29lb",
        "colab_type": "code",
        "colab": {},
        "outputId": "8183e8c2-98cb-4869-9bb5-a04bd03ae1ec"
      },
      "source": [
        "months = [\n",
        "1.0,    \n",
        "'January',\n",
        "'February',\n",
        "'March',\n",
        "'April',\n",
        "'May',\n",
        "'June',\n",
        "'July',\n",
        "'August',\n",
        "'September',\n",
        "'October',\n",
        "'November',\n",
        "'December'\n",
        "]\n",
        "print (type(months))\n",
        "print (type(months[0]))\n",
        "print (len(months))\n",
        "# print (class(months))\n",
        "print(months[0])\n",
        "print(months[-1])"
      ],
      "execution_count": null,
      "outputs": [
        {
          "output_type": "stream",
          "text": [
            "<class 'list'>\n",
            "<class 'float'>\n",
            "13\n",
            "1.0\n",
            "December\n"
          ],
          "name": "stdout"
        }
      ]
    },
    {
      "cell_type": "code",
      "metadata": {
        "id": "QgJIaCSD29lc",
        "colab_type": "code",
        "colab": {},
        "outputId": "8d6d1008-797a-4ecf-d2aa-7b19b5ed38be"
      },
      "source": [
        "print(months[len(months)-1])"
      ],
      "execution_count": null,
      "outputs": [
        {
          "output_type": "stream",
          "text": [
            "December\n"
          ],
          "name": "stdout"
        }
      ]
    },
    {
      "cell_type": "code",
      "metadata": {
        "id": "EG9IVwaa29le",
        "colab_type": "code",
        "colab": {},
        "outputId": "e584871e-75c2-4fb7-941d-b586b0b2ed91"
      },
      "source": [
        "print(months)\n",
        "del months[0]\n",
        "print(months)"
      ],
      "execution_count": null,
      "outputs": [
        {
          "output_type": "stream",
          "text": [
            "[1.0, 'January', 'February', 'March', 'April', 'May', 'June', 'July', 'August', 'September', 'October', 'November', 'December']\n",
            "['January', 'February', 'March', 'April', 'May', 'June', 'July', 'August', 'September', 'October', 'November', 'December']\n"
          ],
          "name": "stdout"
        }
      ]
    },
    {
      "cell_type": "code",
      "metadata": {
        "id": "B9jPXBn029lg",
        "colab_type": "code",
        "colab": {},
        "outputId": "d653a458-4549-47a5-b21c-e635965633ca"
      },
      "source": [
        "print(months[9:11])"
      ],
      "execution_count": null,
      "outputs": [
        {
          "output_type": "stream",
          "text": [
            "['October', 'November']\n"
          ],
          "name": "stdout"
        }
      ]
    },
    {
      "cell_type": "code",
      "metadata": {
        "id": "igse8rrR29lj",
        "colab_type": "code",
        "colab": {},
        "outputId": "ced3d69c-90f7-4043-c491-3f0b7fd9a539"
      },
      "source": [
        "print(months[9:])"
      ],
      "execution_count": null,
      "outputs": [
        {
          "output_type": "stream",
          "text": [
            "['October', 'November', 'December']\n"
          ],
          "name": "stdout"
        }
      ]
    },
    {
      "cell_type": "code",
      "metadata": {
        "id": "kxHGYn8Y29ll",
        "colab_type": "code",
        "colab": {},
        "outputId": "e5b35cf5-80a4-4ede-9507-3a9c6686461b"
      },
      "source": [
        "print(months[:]) # Print everything\n",
        "print(months[::2]) # Print every other - i.e. skip by 2"
      ],
      "execution_count": null,
      "outputs": [
        {
          "output_type": "stream",
          "text": [
            "['January', 'February', 'March', 'April', 'May', 'June', 'July', 'August', 'September', 'October', 'November', 'December']\n",
            "['January', 'March', 'May', 'July', 'September', 'November']\n"
          ],
          "name": "stdout"
        }
      ]
    },
    {
      "cell_type": "code",
      "metadata": {
        "id": "aaWdlHJi29ln",
        "colab_type": "code",
        "colab": {},
        "outputId": "33bd28cd-842b-4246-e29e-2408d213b009"
      },
      "source": [
        "print(months[-1])\n",
        "print(months[-3])\n",
        "print(months[-3:-1])  # Print second to last to third to last"
      ],
      "execution_count": null,
      "outputs": [
        {
          "output_type": "stream",
          "text": [
            "December\n",
            "October\n",
            "['October', 'November']\n"
          ],
          "name": "stdout"
        }
      ]
    },
    {
      "cell_type": "code",
      "metadata": {
        "id": "GQCkrDoe29lp",
        "colab_type": "code",
        "colab": {},
        "outputId": "74682ddd-2076-4932-a352-679e8306f454"
      },
      "source": [
        "print(months[10:1:-3]) # Print 10 to 1 - i.e. skip by 3"
      ],
      "execution_count": null,
      "outputs": [
        {
          "output_type": "stream",
          "text": [
            "['November', 'August', 'May']\n"
          ],
          "name": "stdout"
        }
      ]
    },
    {
      "cell_type": "code",
      "metadata": {
        "id": "WH9NYotN29lr",
        "colab_type": "code",
        "colab": {},
        "outputId": "a53f0aa9-4e4d-49d0-fb58-91ed23c58e80"
      },
      "source": [
        "print(months[10:1:-1])  # Print 10 to 1 - i.e. no skip but descending"
      ],
      "execution_count": null,
      "outputs": [
        {
          "output_type": "stream",
          "text": [
            "['November', 'October', 'September', 'August', 'July', 'June', 'May', 'April', 'March']\n"
          ],
          "name": "stdout"
        }
      ]
    },
    {
      "cell_type": "code",
      "metadata": {
        "id": "31OJHX8f29lu",
        "colab_type": "code",
        "colab": {},
        "outputId": "f967c8ec-7915-444a-c39d-6a7389ea2302"
      },
      "source": [
        "print([1, 2, 3] + [4, 5, 6]) # join two lists"
      ],
      "execution_count": null,
      "outputs": [
        {
          "output_type": "stream",
          "text": [
            "[1, 2, 3, 4, 5, 6]\n"
          ],
          "name": "stdout"
        }
      ]
    },
    {
      "cell_type": "code",
      "metadata": {
        "id": "q4vYW8ek29lw",
        "colab_type": "code",
        "colab": {},
        "outputId": "11758913-ddc5-4de3-be81-ee50c4122262"
      },
      "source": [
        "print('Hello, ' + 'world!')  # concatenate two strings"
      ],
      "execution_count": null,
      "outputs": [
        {
          "output_type": "stream",
          "text": [
            "Hello, world!\n"
          ],
          "name": "stdout"
        }
      ]
    },
    {
      "cell_type": "code",
      "metadata": {
        "id": "96jxOQbL29ly",
        "colab_type": "code",
        "colab": {},
        "outputId": "c03626d8-2436-4bd3-9e5e-c49a6b330d89"
      },
      "source": [
        "name='Bear' # Create string 'Bear'\n",
        "print(name*5) # concatenate 5 times"
      ],
      "execution_count": null,
      "outputs": [
        {
          "output_type": "stream",
          "text": [
            "BearBearBearBearBear\n"
          ],
          "name": "stdout"
        }
      ]
    },
    {
      "cell_type": "code",
      "metadata": {
        "id": "0EE5-Yhe29lz",
        "colab_type": "code",
        "colab": {},
        "outputId": "14fbbd22-8cd9-4786-b72a-47be81e788f2"
      },
      "source": [
        "print('B' in name) # Test if B in Bear\n",
        "print('b' in name)  # Test if b in Bear"
      ],
      "execution_count": null,
      "outputs": [
        {
          "output_type": "stream",
          "text": [
            "True\n",
            "False\n"
          ],
          "name": "stdout"
        }
      ]
    },
    {
      "cell_type": "code",
      "metadata": {
        "id": "xUygoq3B29l1",
        "colab_type": "code",
        "colab": {},
        "outputId": "34a5750a-c3f7-4836-f90f-b28b86a9393e"
      },
      "source": [
        "s=range(1,6) # Range doesn't create lists in python 3\n",
        "print(s)"
      ],
      "execution_count": null,
      "outputs": [
        {
          "output_type": "stream",
          "text": [
            "range(1, 6)\n"
          ],
          "name": "stdout"
        }
      ]
    },
    {
      "cell_type": "code",
      "metadata": {
        "id": "gbmFMIbK29l3",
        "colab_type": "code",
        "colab": {},
        "outputId": "cdc2699a-5871-4101-cf34-0b9a6f91cbad"
      },
      "source": [
        "s=list(range(1,9)) # Using range to create lists in python 3\n",
        "print(s)\n",
        "s[2]=5\n",
        "print(s)"
      ],
      "execution_count": null,
      "outputs": [
        {
          "output_type": "stream",
          "text": [
            "[1, 2, 3, 4, 5, 6, 7, 8]\n",
            "[1, 2, 5, 4, 5, 6, 7, 8]\n"
          ],
          "name": "stdout"
        }
      ]
    },
    {
      "cell_type": "code",
      "metadata": {
        "id": "F66p3ZzB29l7",
        "colab_type": "code",
        "colab": {},
        "outputId": "7ddde3b8-c263-4da5-b480-666588e20854"
      },
      "source": [
        "del s[2] # Delete an item\n",
        "print(s)\n",
        "del s[2:4] # Delete more than one item\n",
        "print(s)"
      ],
      "execution_count": null,
      "outputs": [
        {
          "output_type": "stream",
          "text": [
            "[1, 2, 4, 5, 6, 7, 8]\n",
            "[1, 2, 6, 7, 8]\n"
          ],
          "name": "stdout"
        }
      ]
    },
    {
      "cell_type": "code",
      "metadata": {
        "id": "3AwxIVuh29l8",
        "colab_type": "code",
        "colab": {},
        "outputId": "3f8fbb18-29ae-49f1-d0bd-59db07bfd92b"
      },
      "source": [
        "t=[1, 2, 3, 4, 5] #  Create a list\n",
        "print(t)"
      ],
      "execution_count": null,
      "outputs": [
        {
          "output_type": "stream",
          "text": [
            "[1, 2, 3, 4, 5]\n"
          ],
          "name": "stdout"
        }
      ]
    },
    {
      "cell_type": "code",
      "metadata": {
        "id": "3AiVH_Fy29l-",
        "colab_type": "code",
        "colab": {},
        "outputId": "0e34797e-d49a-41c2-9584-4c2b08b2c861"
      },
      "source": [
        "t=(1, 2, 3, 4, 5) #  Create a tuple\n",
        "print(t)"
      ],
      "execution_count": null,
      "outputs": [
        {
          "output_type": "stream",
          "text": [
            "(1, 2, 3, 4, 5)\n"
          ],
          "name": "stdout"
        }
      ]
    },
    {
      "cell_type": "code",
      "metadata": {
        "id": "o1iumVjk29mB",
        "colab_type": "code",
        "colab": {},
        "outputId": "24b46e35-57a0-420d-e433-9100846d9f57"
      },
      "source": [
        "# del t[2]\n",
        "print(t)"
      ],
      "execution_count": null,
      "outputs": [
        {
          "output_type": "stream",
          "text": [
            "(1, 2, 3, 4, 5)\n"
          ],
          "name": "stdout"
        }
      ]
    },
    {
      "cell_type": "code",
      "metadata": {
        "id": "-8U87AT129mD",
        "colab_type": "code",
        "colab": {},
        "outputId": "25d7abff-1685-4adc-980d-f9ff82a94523"
      },
      "source": [
        "print(2 ** 5) # Power"
      ],
      "execution_count": null,
      "outputs": [
        {
          "output_type": "stream",
          "text": [
            "32\n"
          ],
          "name": "stdout"
        }
      ]
    },
    {
      "cell_type": "code",
      "metadata": {
        "id": "fSbTkuaX29mF",
        "colab_type": "code",
        "colab": {},
        "outputId": "d51c2928-d284-46a9-f6d5-393886b5d1ea"
      },
      "source": [
        "print(pow(2, 5)) # Power using function"
      ],
      "execution_count": null,
      "outputs": [
        {
          "output_type": "stream",
          "text": [
            "32\n"
          ],
          "name": "stdout"
        }
      ]
    },
    {
      "cell_type": "code",
      "metadata": {
        "id": "6HzSywOV29mH",
        "colab_type": "code",
        "colab": {},
        "outputId": "61d85593-67a7-47de-9f59-33362ce3b681"
      },
      "source": [
        "import math # Some common math functions\n",
        "print(math.ceil(33.3))"
      ],
      "execution_count": null,
      "outputs": [
        {
          "output_type": "stream",
          "text": [
            "34\n"
          ],
          "name": "stdout"
        }
      ]
    },
    {
      "cell_type": "code",
      "metadata": {
        "id": "BTQbN2XV29mJ",
        "colab_type": "code",
        "colab": {},
        "outputId": "50e5883d-a8ad-4902-dac6-b732c8313746"
      },
      "source": [
        "print(math.sqrt(9))"
      ],
      "execution_count": null,
      "outputs": [
        {
          "output_type": "stream",
          "text": [
            "3.0\n"
          ],
          "name": "stdout"
        }
      ]
    },
    {
      "cell_type": "code",
      "metadata": {
        "id": "xYS768Sw29mM",
        "colab_type": "code",
        "colab": {},
        "outputId": "982e998d-4008-467d-eb89-17a8306a174c"
      },
      "source": [
        "from math import sqrt\n",
        "print(sqrt(9))"
      ],
      "execution_count": null,
      "outputs": [
        {
          "output_type": "stream",
          "text": [
            "3.0\n"
          ],
          "name": "stdout"
        }
      ]
    },
    {
      "cell_type": "markdown",
      "metadata": {
        "id": "leWvudZR29mN",
        "colab_type": "text"
      },
      "source": [
        "## List Methods\n",
        "\n",
        "* list.append(elem) -- adds a single element to the end of the list. Common error: does not return the new list, just modifies the original.\n",
        "* list.insert(index, elem) -- inserts the element at the given index, shifting elements to the right.\n",
        "* list.extend(list2) adds the elements in list2 to the end of the list. Using + or += on a list is similar to using extend().\n",
        "* list.index(elem) -- searches for the given element from the start of the list and returns its index. Throws a ValueError if the element does not appear (use \"in\" to check without a ValueError).\n",
        "* list.remove(elem) -- searches for the first instance of the given element and removes it (throws ValueError if not present)\n",
        "* list.sort() -- sorts the list in place (does not return it). (The sorted() function shown below is preferred.)\n",
        "* list.reverse() -- reverses the list in place (does not return it)\n",
        "* list.pop(index) -- removes and returns the element at the given index. Returns the rightmost element if index is omitted (roughly the opposite of append()).\n"
      ]
    },
    {
      "cell_type": "code",
      "metadata": {
        "id": "LTT8iHYa29mN",
        "colab_type": "code",
        "colab": {},
        "outputId": "dd2c035b-a7a9-45e7-fa93-0a12504c4b48"
      },
      "source": [
        "l = ['Rick Sanchez',1.0, 'Morty Smith', 'Mr. Meeseeks']\n",
        "print (l)    \n",
        "l.append('Doofus Rick')         ## append item at end\n",
        "print (l)\n",
        "l.insert(0, 'Scary Terry')        ## insert item at index 0\n",
        "print (l)\n",
        "l.extend(['Squanchy', 'Mr. Poopybutthole'])  ## add list of items at end\n",
        "print (l)\n",
        "print (l.index('Morty Smith'))   \n",
        "print (l)\n",
        "l.remove('Morty Smith') ## search and remove an item\n",
        "print (l)\n",
        "print(l.pop(1)) ## removes and returns 'Rick Sanchez' second item\n",
        "print (l)  ## ['Scary Terry', 'Mr. Meeseeks', 'Doofus Rick', 'Squanchy', 'Mr. Poopybutthole']"
      ],
      "execution_count": null,
      "outputs": [
        {
          "output_type": "stream",
          "text": [
            "['Rick Sanchez', 1.0, 'Morty Smith', 'Mr. Meeseeks']\n",
            "['Rick Sanchez', 1.0, 'Morty Smith', 'Mr. Meeseeks', 'Doofus Rick']\n",
            "['Scary Terry', 'Rick Sanchez', 1.0, 'Morty Smith', 'Mr. Meeseeks', 'Doofus Rick']\n",
            "['Scary Terry', 'Rick Sanchez', 1.0, 'Morty Smith', 'Mr. Meeseeks', 'Doofus Rick', 'Squanchy', 'Mr. Poopybutthole']\n",
            "3\n",
            "['Scary Terry', 'Rick Sanchez', 1.0, 'Morty Smith', 'Mr. Meeseeks', 'Doofus Rick', 'Squanchy', 'Mr. Poopybutthole']\n",
            "['Scary Terry', 'Rick Sanchez', 1.0, 'Mr. Meeseeks', 'Doofus Rick', 'Squanchy', 'Mr. Poopybutthole']\n",
            "Rick Sanchez\n",
            "['Scary Terry', 1.0, 'Mr. Meeseeks', 'Doofus Rick', 'Squanchy', 'Mr. Poopybutthole']\n"
          ],
          "name": "stdout"
        }
      ]
    },
    {
      "cell_type": "markdown",
      "metadata": {
        "id": "AZUOn_Fp29mP",
        "colab_type": "text"
      },
      "source": [
        "## Dictionaries"
      ]
    },
    {
      "cell_type": "code",
      "metadata": {
        "id": "iLA7T9wR29mQ",
        "colab_type": "code",
        "colab": {},
        "outputId": "fafc8ca8-3763-4756-ef7e-f1d63a145587"
      },
      "source": [
        "d={\"python\": 333, \"R\": 222, 33: 111, \"C++\": 111} # Create a dictionary\n",
        "print(d.keys())"
      ],
      "execution_count": null,
      "outputs": [
        {
          "output_type": "stream",
          "text": [
            "dict_keys(['python', 'R', 33, 'C++'])\n"
          ],
          "name": "stdout"
        }
      ]
    },
    {
      "cell_type": "code",
      "metadata": {
        "id": "DZDyENf929mR",
        "colab_type": "code",
        "colab": {},
        "outputId": "1b113378-9e15-4892-8ef7-9c79eda0d2c9"
      },
      "source": [
        "print(d[\"python\"]) # List value with key \"python\""
      ],
      "execution_count": null,
      "outputs": [
        {
          "output_type": "stream",
          "text": [
            "333\n"
          ],
          "name": "stdout"
        }
      ]
    },
    {
      "cell_type": "code",
      "metadata": {
        "id": "ZAr9n_Nv29mT",
        "colab_type": "code",
        "colab": {},
        "outputId": "4e495cad-e78a-414f-ea30-755dfdbe5258"
      },
      "source": [
        "print(\"java\" in d) # Check if \"java\" in dictionary"
      ],
      "execution_count": null,
      "outputs": [
        {
          "output_type": "stream",
          "text": [
            "False\n"
          ],
          "name": "stdout"
        }
      ]
    },
    {
      "cell_type": "code",
      "metadata": {
        "id": "R8HJxjzq29mV",
        "colab_type": "code",
        "colab": {},
        "outputId": "a0dbffd5-dc91-4357-aaaa-2ee593c23e9e"
      },
      "source": [
        "print(\"python\" in d) # Check if \"python\" in dictionary"
      ],
      "execution_count": null,
      "outputs": [
        {
          "output_type": "stream",
          "text": [
            "True\n"
          ],
          "name": "stdout"
        }
      ]
    },
    {
      "cell_type": "code",
      "metadata": {
        "id": "okknGKjw29mW",
        "colab_type": "code",
        "colab": {},
        "outputId": "45abc5e4-5ea2-4bbf-b3d8-41c3120049b0"
      },
      "source": [
        "d2={\"java\": 33, \"C#\": 22, \"Scala\": 11} # Create a dictionary\n",
        "print(d2)"
      ],
      "execution_count": null,
      "outputs": [
        {
          "output_type": "stream",
          "text": [
            "{'java': 33, 'C#': 22, 'Scala': 11}\n"
          ],
          "name": "stdout"
        }
      ]
    },
    {
      "cell_type": "code",
      "metadata": {
        "id": "yJF8gKY429mX",
        "colab_type": "code",
        "colab": {},
        "outputId": "3b6af644-da06-4999-9ebb-87812a10e8f2"
      },
      "source": [
        "d.update(d2) # add dictionary to another dictionary\n",
        "print(d)"
      ],
      "execution_count": null,
      "outputs": [
        {
          "output_type": "stream",
          "text": [
            "{'python': 333, 'R': 222, 33: 111, 'C++': 111, 'java': 33, 'C#': 22, 'Scala': 11}\n"
          ],
          "name": "stdout"
        }
      ]
    },
    {
      "cell_type": "code",
      "metadata": {
        "id": "1en7rmud29mY",
        "colab_type": "code",
        "colab": {},
        "outputId": "97c5ca74-6a7b-4fe9-d0a4-2f97ae0a70d1"
      },
      "source": [
        "for key in d: # List keys in dictionary\n",
        "  print(key)\n",
        "print(d.keys())"
      ],
      "execution_count": null,
      "outputs": [
        {
          "output_type": "stream",
          "text": [
            "python\n",
            "R\n",
            "33\n",
            "C++\n",
            "java\n",
            "C#\n",
            "Scala\n",
            "dict_keys(['python', 'R', 33, 'C++', 'java', 'C#', 'Scala'])\n"
          ],
          "name": "stdout"
        }
      ]
    },
    {
      "cell_type": "code",
      "metadata": {
        "id": "8eP13uBV29ma",
        "colab_type": "code",
        "colab": {},
        "outputId": "330cb62f-eb16-4b6d-cc2a-2fe8415d9f8d"
      },
      "source": [
        "for key in d: # List values in dictionary\n",
        "  print(d[key])\n",
        "print(d.values())"
      ],
      "execution_count": null,
      "outputs": [
        {
          "output_type": "stream",
          "text": [
            "333\n",
            "222\n",
            "111\n",
            "111\n",
            "33\n",
            "22\n",
            "11\n",
            "dict_values([333, 222, 111, 111, 33, 22, 11])\n"
          ],
          "name": "stdout"
        }
      ]
    },
    {
      "cell_type": "code",
      "metadata": {
        "id": "M37q9aX229md",
        "colab_type": "code",
        "colab": {},
        "outputId": "67bb8b35-a64f-439e-aafc-df228ab03268"
      },
      "source": [
        "d_backup = d.copy() # Create  dictionary copy\n",
        "print(d_backup)"
      ],
      "execution_count": null,
      "outputs": [
        {
          "output_type": "stream",
          "text": [
            "{'python': 333, 'R': 222, 33: 111, 'C++': 111, 'java': 33, 'C#': 22, 'Scala': 11}\n"
          ],
          "name": "stdout"
        }
      ]
    },
    {
      "cell_type": "code",
      "metadata": {
        "id": "1VN-QzSA29me",
        "colab_type": "code",
        "colab": {},
        "outputId": "22318b6d-0646-4617-fd11-175a72399686"
      },
      "source": [
        "d['C++']=55\n",
        "print(d)\n",
        "print(d_backup)"
      ],
      "execution_count": null,
      "outputs": [
        {
          "output_type": "stream",
          "text": [
            "{'python': 333, 'R': 222, 33: 111, 'C++': 55, 'java': 33, 'C#': 22, 'Scala': 11}\n",
            "{'python': 333, 'R': 222, 33: 111, 'C++': 111, 'java': 33, 'C#': 22, 'Scala': 11}\n"
          ],
          "name": "stdout"
        }
      ]
    },
    {
      "cell_type": "markdown",
      "metadata": {
        "id": "WMyafVBx29mf",
        "colab_type": "text"
      },
      "source": [
        "### Note:\n",
        "\n",
        "* A shallow copy constructs a new compound object and then (to the extent possible) inserts references into it to the objects found in the original.\n",
        "* A deep copy constructs a new compound object and then, recursively, inserts copies into it of the objects found in the original."
      ]
    },
    {
      "cell_type": "code",
      "metadata": {
        "id": "w96Qo_QU29mf",
        "colab_type": "code",
        "colab": {},
        "outputId": "6733f6b1-eca6-49e6-dba9-5479a8d6e11f"
      },
      "source": [
        "print(len(d)-len(d_backup))\n",
        "del d_backup[\"java\"]\n",
        "print(d_backup)"
      ],
      "execution_count": null,
      "outputs": [
        {
          "output_type": "stream",
          "text": [
            "0\n",
            "{'python': 333, 'R': 222, 33: 111, 'C++': 111, 'C#': 22, 'Scala': 11}\n"
          ],
          "name": "stdout"
        }
      ]
    },
    {
      "cell_type": "code",
      "metadata": {
        "id": "GaSWHc3629mh",
        "colab_type": "code",
        "colab": {},
        "outputId": "56cf8eaf-f3b0-42c3-df78-a44d489b7881"
      },
      "source": [
        "print(len(d)-len(d_backup))  # Note original isn't changed"
      ],
      "execution_count": null,
      "outputs": [
        {
          "output_type": "stream",
          "text": [
            "1\n"
          ],
          "name": "stdout"
        }
      ]
    },
    {
      "cell_type": "markdown",
      "metadata": {
        "id": "uC_FDa2v29mj",
        "colab_type": "text"
      },
      "source": [
        "## Dictionary Methods\n",
        "\n",
        "* d.fromkeys() - Create a new dictonary with keys from seq and values set to value.\n",
        "* d.get(key, default=None) - For any key, returns value or default if key not in dictonary\n",
        "* d.has_key(key) - Removed, use the in operation instead.\n",
        "* d.items() - Returns a list of d.s (key, value) tuple pairs\n",
        "* d.keys() - Returns list of dictonary d's keys\n",
        "* d.setdefault(key, default = None) - Similar to get(), but will set d.key] = default if key is not already in dict\n",
        "* d.update(d2) - Adds dictonary d2's key-values pairs to dict\n",
        "* d.values() - Returns list of dictonary d's values\n",
        "* d.clear() - Removes all elements of dictonary d\n",
        "\n",
        "Note:\n",
        "\n",
        "* A shallow copy constructs a new compound object and then (to the extent possible) inserts references into it to the objects found in the original.\n",
        "* A deep copy constructs a new compound object and then, recursively, inserts copies into it of the objects found in the original."
      ]
    },
    {
      "cell_type": "markdown",
      "metadata": {
        "id": "GZiizqtB29mj",
        "colab_type": "text"
      },
      "source": [
        "## Trees\n",
        "\n",
        "See [https://link.springer.com/chapter/10.1007/978-3-319-13072-9_6][https://link.springer.com/chapter/10.1007/978-3-319-13072-9_6]"
      ]
    },
    {
      "cell_type": "markdown",
      "metadata": {
        "id": "8Cxv7jET29mj",
        "colab_type": "text"
      },
      "source": [
        "## help(), and dir()\n",
        "\n",
        "here are a variety of ways to get help for Python.\n",
        "\n",
        "Do a Google search, starting with the word \"python\", like \"python list\" or \"python string lowercase\". The first hit is often the answer. This technique seems to work better for Python than it does for other languages for some reason.\n",
        "The official Python docs site — docs.python.org — has high quality docs. Nonetheless, I often find a Google search of a couple words to be quicker.\n",
        "There is also an official Tutor mailing list specifically designed for those who are new to Python and/or programming!\n",
        "Many questions (and answers) can be found on StackOverflow and Quora.\n",
        "Use the help() and dir() functions (see below).\n",
        "Inside the Python interpreter, the help() function pulls up documentation strings for various modules, functions, and methods. These doc strings are similar to Java's javadoc. The dir() function tells you what the attributes of an object are. Below are some ways to call help() and dir() from the interpreter:\n",
        "\n",
        "help(len) — help string for the built-in len() function; note that it's \"len\" not \"len()\", which is a call to the function, which we don't want\n",
        "help(sys) — help string for the sys module (must do an import sys first)\n",
        "dir(sys) — dir() is like help() but just gives a quick list of its defined symbols, or \"attributes\"\n",
        "help(sys.exit) — help string for the exit() function in the sys module\n",
        "help('xyz'.split) — help string for the split() method for string objects. You can call help() with that object itself or an example of that object, plus its attribute. For example, calling help('xyz'.split) is the same as calling help(str.split).\n",
        "help(list) — help string for list objects\n",
        "dir(list) — displays list object attributes, including its methods\n",
        "help(list.append) — help string for the append() method for list objects"
      ]
    },
    {
      "cell_type": "markdown",
      "metadata": {
        "id": "6SjM3q3D29mj",
        "colab_type": "text"
      },
      "source": [
        "## Python Tutorials \n",
        "\n",
        "* [“Dive into Python” (Chapters 2 to 4)] (http://diveintopython.org/)\n",
        "\n",
        "* [Python 101 – Beginning Python] (http://www.rexx.com/~dkuhlman/python_101/python_101.html) \n",
        "\n",
        "* [Nice free CS/python book] (https://www.cs.hmc.edu/csforall/index.html)\n",
        "\n",
        "\n",
        "### Things to refer to \n",
        "\n",
        "* [The Official Python Tutorial] (http://www.python.org/doc/current/tut/tut.html) \n",
        "* [The Python Quick Reference] (http://rgruet.free.fr/PQR2.3.html) \n",
        "\n",
        "### YouTube Python Tutorials \n",
        "\n",
        "* [Python Fundamentals Training – Classes] (http://www.youtube.com/watch?v=rKzZEtxIX14)\n",
        "* [Python 2.7 Tutorial Derek Banas] (http://www.youtube.com/watch?v=UQi-L-_chcc)\n",
        "* [Python Programming Tutorial - thenewboston] \n",
        "(http://www.youtube.com/watch?v=4Mf0h3HphEA)\n",
        "* [Google Python Class](http://www.youtube.com/watch?v=tKTZoB2Vjuk) \n",
        "\n"
      ]
    },
    {
      "cell_type": "markdown",
      "metadata": {
        "collapsed": true,
        "id": "vkFcnLTw29mj",
        "colab_type": "text"
      },
      "source": [
        "Last update October 3, 2017"
      ]
    }
  ]
}