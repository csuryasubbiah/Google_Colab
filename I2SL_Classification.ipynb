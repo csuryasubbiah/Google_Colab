{
  "nbformat": 4,
  "nbformat_minor": 0,
  "metadata": {
    "colab": {
      "name": "I2SL_Classification.ipynb",
      "provenance": [],
      "collapsed_sections": [],
      "include_colab_link": true
    },
    "kernelspec": {
      "name": "python3",
      "display_name": "Python 3"
    }
  },
  "cells": [
    {
      "cell_type": "markdown",
      "metadata": {
        "id": "view-in-github",
        "colab_type": "text"
      },
      "source": [
        "<a href=\"https://colab.research.google.com/github/nikbearbrown/Google_Colab/blob/master/I2SL_Classification.ipynb\" target=\"_parent\"><img src=\"https://colab.research.google.com/assets/colab-badge.svg\" alt=\"Open In Colab\"/></a>"
      ]
    },
    {
      "cell_type": "markdown",
      "metadata": {
        "id": "T0WlYNgdYMoy",
        "colab_type": "text"
      },
      "source": [
        "# Classification\n",
        "\n",
        "In statistics, classification is the problem of identifying to which of a set of categories (sub-populations) a new observation belongs, on the basis of a training set of data containing observations (or instances) whose category membership is known. Examples are assigning a given email to the \"spam\" or \"non-spam\" class, and assigning a diagnosis to a given patient based on observed characteristics of the patient (sex, blood pressure, presence or absence of certain symptoms, etc.). Classification is an example of pattern recognition.\n",
        "\n",
        "We will discuss qualitative (categorical) variables (classification problems). Classification problems can be thought of as regression problems since most of the models return a probability of being in a certain class. \n",
        "\n",
        "\n",
        "Since probabilities take on real values the problem can take the form regression with a threshold to decide the classes - as in logistic regression.  "
      ]
    },
    {
      "cell_type": "code",
      "metadata": {
        "id": "qanucDtOZBsT",
        "colab_type": "code",
        "colab": {
          "base_uri": "https://localhost:8080/",
          "height": 50
        },
        "outputId": "b150e807-d849-4eb2-a21b-6d29d9ecd7d3"
      },
      "source": [
        "import pandas as pd\n",
        "import pandas.util.testing as tm\n",
        "import numpy as np\n",
        "import seaborn as sns\n",
        "import matplotlib.pyplot as plt\n",
        "import statsmodels.formula.api as smf\n",
        "from sklearn.linear_model import LogisticRegression\n",
        "from sklearn.metrics import confusion_matrix\n",
        "from sklearn.discriminant_analysis import LinearDiscriminantAnalysis, QuadraticDiscriminantAnalysis\n",
        "from sklearn.neighbors import KNeighborsClassifier\n",
        "from sklearn.model_selection import train_test_split\n",
        "from sklearn.metrics import accuracy_score\n",
        "%matplotlib inline"
      ],
      "execution_count": null,
      "outputs": [
        {
          "output_type": "stream",
          "text": [
            "/usr/local/lib/python3.6/dist-packages/ipykernel_launcher.py:2: FutureWarning: pandas.util.testing is deprecated. Use the functions in the public API at pandas.testing instead.\n",
            "  \n"
          ],
          "name": "stderr"
        }
      ]
    },
    {
      "cell_type": "code",
      "metadata": {
        "id": "s-rQX72sZJW1",
        "colab_type": "code",
        "colab": {
          "base_uri": "https://localhost:8080/",
          "height": 195
        },
        "outputId": "79024880-435a-4299-eb5a-423c7ac93472"
      },
      "source": [
        "default = pd.read_csv(\"https://raw.githubusercontent.com/nikbearbrown/Google_Colab/master/data//default.csv\")\n",
        "default.head()"
      ],
      "execution_count": null,
      "outputs": [
        {
          "output_type": "execute_result",
          "data": {
            "text/html": [
              "<div>\n",
              "<style scoped>\n",
              "    .dataframe tbody tr th:only-of-type {\n",
              "        vertical-align: middle;\n",
              "    }\n",
              "\n",
              "    .dataframe tbody tr th {\n",
              "        vertical-align: top;\n",
              "    }\n",
              "\n",
              "    .dataframe thead th {\n",
              "        text-align: right;\n",
              "    }\n",
              "</style>\n",
              "<table border=\"1\" class=\"dataframe\">\n",
              "  <thead>\n",
              "    <tr style=\"text-align: right;\">\n",
              "      <th></th>\n",
              "      <th>default</th>\n",
              "      <th>student</th>\n",
              "      <th>balance</th>\n",
              "      <th>income</th>\n",
              "    </tr>\n",
              "  </thead>\n",
              "  <tbody>\n",
              "    <tr>\n",
              "      <th>0</th>\n",
              "      <td>No</td>\n",
              "      <td>No</td>\n",
              "      <td>729.526495</td>\n",
              "      <td>44361.625074</td>\n",
              "    </tr>\n",
              "    <tr>\n",
              "      <th>1</th>\n",
              "      <td>No</td>\n",
              "      <td>Yes</td>\n",
              "      <td>817.180407</td>\n",
              "      <td>12106.134700</td>\n",
              "    </tr>\n",
              "    <tr>\n",
              "      <th>2</th>\n",
              "      <td>No</td>\n",
              "      <td>No</td>\n",
              "      <td>1073.549164</td>\n",
              "      <td>31767.138947</td>\n",
              "    </tr>\n",
              "    <tr>\n",
              "      <th>3</th>\n",
              "      <td>No</td>\n",
              "      <td>No</td>\n",
              "      <td>529.250605</td>\n",
              "      <td>35704.493935</td>\n",
              "    </tr>\n",
              "    <tr>\n",
              "      <th>4</th>\n",
              "      <td>No</td>\n",
              "      <td>No</td>\n",
              "      <td>785.655883</td>\n",
              "      <td>38463.495879</td>\n",
              "    </tr>\n",
              "  </tbody>\n",
              "</table>\n",
              "</div>"
            ],
            "text/plain": [
              "  default student      balance        income\n",
              "0      No      No   729.526495  44361.625074\n",
              "1      No     Yes   817.180407  12106.134700\n",
              "2      No      No  1073.549164  31767.138947\n",
              "3      No      No   529.250605  35704.493935\n",
              "4      No      No   785.655883  38463.495879"
            ]
          },
          "metadata": {
            "tags": []
          },
          "execution_count": 2
        }
      ]
    },
    {
      "cell_type": "code",
      "metadata": {
        "id": "duWzBH9na9M9",
        "colab_type": "code",
        "colab": {}
      },
      "source": [
        "# make column for Yes defaults\n",
        "default['yes'] = (default['default'] == 'Yes').astype(int)"
      ],
      "execution_count": null,
      "outputs": []
    },
    {
      "cell_type": "code",
      "metadata": {
        "id": "6mhZcluCbCtq",
        "colab_type": "code",
        "colab": {
          "base_uri": "https://localhost:8080/",
          "height": 195
        },
        "outputId": "cb43e330-3231-4c58-923b-1dfe0b9bdddc"
      },
      "source": [
        "default.head()"
      ],
      "execution_count": null,
      "outputs": [
        {
          "output_type": "execute_result",
          "data": {
            "text/html": [
              "<div>\n",
              "<style scoped>\n",
              "    .dataframe tbody tr th:only-of-type {\n",
              "        vertical-align: middle;\n",
              "    }\n",
              "\n",
              "    .dataframe tbody tr th {\n",
              "        vertical-align: top;\n",
              "    }\n",
              "\n",
              "    .dataframe thead th {\n",
              "        text-align: right;\n",
              "    }\n",
              "</style>\n",
              "<table border=\"1\" class=\"dataframe\">\n",
              "  <thead>\n",
              "    <tr style=\"text-align: right;\">\n",
              "      <th></th>\n",
              "      <th>default</th>\n",
              "      <th>student</th>\n",
              "      <th>balance</th>\n",
              "      <th>income</th>\n",
              "      <th>yes</th>\n",
              "    </tr>\n",
              "  </thead>\n",
              "  <tbody>\n",
              "    <tr>\n",
              "      <th>0</th>\n",
              "      <td>No</td>\n",
              "      <td>No</td>\n",
              "      <td>729.526495</td>\n",
              "      <td>44361.625074</td>\n",
              "      <td>0</td>\n",
              "    </tr>\n",
              "    <tr>\n",
              "      <th>1</th>\n",
              "      <td>No</td>\n",
              "      <td>Yes</td>\n",
              "      <td>817.180407</td>\n",
              "      <td>12106.134700</td>\n",
              "      <td>0</td>\n",
              "    </tr>\n",
              "    <tr>\n",
              "      <th>2</th>\n",
              "      <td>No</td>\n",
              "      <td>No</td>\n",
              "      <td>1073.549164</td>\n",
              "      <td>31767.138947</td>\n",
              "      <td>0</td>\n",
              "    </tr>\n",
              "    <tr>\n",
              "      <th>3</th>\n",
              "      <td>No</td>\n",
              "      <td>No</td>\n",
              "      <td>529.250605</td>\n",
              "      <td>35704.493935</td>\n",
              "      <td>0</td>\n",
              "    </tr>\n",
              "    <tr>\n",
              "      <th>4</th>\n",
              "      <td>No</td>\n",
              "      <td>No</td>\n",
              "      <td>785.655883</td>\n",
              "      <td>38463.495879</td>\n",
              "      <td>0</td>\n",
              "    </tr>\n",
              "  </tbody>\n",
              "</table>\n",
              "</div>"
            ],
            "text/plain": [
              "  default student      balance        income  yes\n",
              "0      No      No   729.526495  44361.625074    0\n",
              "1      No     Yes   817.180407  12106.134700    0\n",
              "2      No      No  1073.549164  31767.138947    0\n",
              "3      No      No   529.250605  35704.493935    0\n",
              "4      No      No   785.655883  38463.495879    0"
            ]
          },
          "metadata": {
            "tags": []
          },
          "execution_count": 4
        }
      ]
    },
    {
      "cell_type": "code",
      "metadata": {
        "id": "jhf8FmSGZfpE",
        "colab_type": "code",
        "colab": {
          "base_uri": "https://localhost:8080/",
          "height": 390
        },
        "outputId": "db225d18-67ac-4caa-b592-4844abbb7917"
      },
      "source": [
        "sns.lmplot('balance', 'income', data=default.sample(1000), hue='default', fit_reg=False)\n",
        "plt.ylim([0,70000])\n",
        "plt.xlim([-100,2500])"
      ],
      "execution_count": null,
      "outputs": [
        {
          "output_type": "execute_result",
          "data": {
            "text/plain": [
              "(-100.0, 2500.0)"
            ]
          },
          "metadata": {
            "tags": []
          },
          "execution_count": 5
        },
        {
          "output_type": "display_data",
          "data": {
            "image/png": "[encoded data removed]",
            "text/plain": [
              "<Figure size 412x360 with 1 Axes>"
            ]
          },
          "metadata": {
            "tags": [],
            "needs_background": "light"
          }
        }
      ]
    },
    {
      "cell_type": "code",
      "metadata": {
        "id": "N_pNb4qyZ0iX",
        "colab_type": "code",
        "colab": {
          "base_uri": "https://localhost:8080/",
          "height": 279
        },
        "outputId": "7d7b1fd2-5ccc-419b-ccfb-5fad4bd0a836"
      },
      "source": [
        "sns.boxplot('student', 'balance', data=default, hue='default');"
      ],
      "execution_count": null,
      "outputs": [
        {
          "output_type": "display_data",
          "data": {
            "image/png": "[encoded data removed]",
            "text/plain": [
              "<Figure size 432x288 with 1 Axes>"
            ]
          },
          "metadata": {
            "tags": [],
            "needs_background": "light"
          }
        }
      ]
    },
    {
      "cell_type": "code",
      "metadata": {
        "id": "j9yFnEaxbSIh",
        "colab_type": "code",
        "colab": {
          "base_uri": "https://localhost:8080/",
          "height": 279
        },
        "outputId": "30a6c9c1-e4c2-4eac-96e3-80fd5a489f87"
      },
      "source": [
        "sns.boxplot('yes', 'balance', data=default, hue='default');"
      ],
      "execution_count": null,
      "outputs": [
        {
          "output_type": "display_data",
          "data": {
            "image/png": "[encoded data removed]",
            "text/plain": [
              "<Figure size 432x288 with 1 Axes>"
            ]
          },
          "metadata": {
            "tags": [],
            "needs_background": "light"
          }
        }
      ]
    },
    {
      "cell_type": "markdown",
      "metadata": {
        "id": "QPaPLd6sarC5",
        "colab_type": "text"
      },
      "source": [
        "## Why not linear regression \n",
        "\n",
        "Though it is always possible to use numeric values for the categories of the response, there generally is no natural way to order and separate the values in a way that makes sense. Only in a two-category problem will the ordering make sense but even then linear regression will produce probability estimates outside of [0, 1]."
      ]
    },
    {
      "cell_type": "code",
      "metadata": {
        "id": "jWox-qJOauJS",
        "colab_type": "code",
        "colab": {
          "base_uri": "https://localhost:8080/"
        },
        "outputId": "89b356d8-245d-4270-9667-31d90f64e5b5"
      },
      "source": [
        "# Looks quite a bit different than the linear regression model\n",
        "sns.lmplot('balance', 'yes', data=default, logistic=True)"
      ],
      "execution_count": null,
      "outputs": [
        {
          "output_type": "execute_result",
          "data": {
            "text/plain": [
              "<seaborn.axisgrid.FacetGrid at 0x7fc9bf921a20>"
            ]
          },
          "metadata": {
            "tags": []
          },
          "execution_count": 8
        },
        {
          "output_type": "display_data",
          "data": {
            "image/png": "[encoded data removed]",
            "text/plain": [
              "<Figure size 360x360 with 1 Axes>"
            ]
          },
          "metadata": {
            "tags": [],
            "needs_background": "light"
          }
        }
      ]
    },
    {
      "cell_type": "markdown",
      "metadata": {
        "id": "-UCDlEX4ckrl",
        "colab_type": "text"
      },
      "source": [
        "## Logistic regression \n",
        "\n",
        "Find function that always outputs number between 0 and 1. Many functions satisfy this condition. For logistic regression the ... logistic function! is used.\n",
        "\n",
        "$$y = \\frac{e^{\\beta_0 + \\beta_1X}}{1 + e^{\\beta_0 + \\beta_1X}}$$\n",
        "\n",
        "Many times you will see this as the sigmoid function in a simpler format\n",
        "\n",
        "$$y = \\frac{1}{1 + e^{-t}}$$\n",
        "\n",
        "Where $t$ is just the normal linear model $t = \\beta_0 + \\beta_1X$. Some algebra can be used to show the two equations above are equivalent.\n",
        "\n",
        "y can now be thought as the probability given some value X since it will always be between 0 and 1. Some more algebra can show that $$log{\\frac{p(X)}{1 - p(X)}} = \\beta_0 + \\beta_1X$$\n",
        "\n",
        "Where $y$ has been replaced by $p(X)$, the probability of $X$. The expression $\\frac{p(X)}{1 - p(X)}$ is known as the 'odds'. So for instance if you are gambling and think that Clinton will win the presidency 80% of the time. The odds would be .8/.2 = 4 or said \"4 to 1\". For every 4 times she wins, Trump will win once.\n",
        "\n",
        "What logistic regression is saying, that the log odds are modeled by a linear model which can be solved by linear regression. This has the literal meaning of - given a one unit increase in one of the variables (say $X_1$), a $\\beta_1$ increase will occur to the log-odds. Or equivalently, the odds will be multiplied by $e^{\\beta_1}$.\n",
        "\n",
        "In our election example, $X_1$ could be the percentage of voters under 30 and $\\beta_1$ could be .5. That would mean if $X_1$ were to increase by 1 percentage point, Clinton's log odds would increase by .5. In our example from above, Clinton's log odds would go from 4 to 4.5 and her probability of winning would go from 80% to 4.5 / 5.5 or 82%\n",
        "\n",
        "There is no straight-line relationship between the probability of being in a certain class and X in logistic regression because of the need to have probabilities between 0 and 1.\n",
        "\n",
        "## Estimating coefficients through Maximum Likelihood\n",
        "In linear regression, the model coefficients were found by minimizing the squared residuals. In logistic regression, we maximize the probabilities of all points by a method called maximum likelihood. Maximum likelihood multiplies the model probability for each observation together and chooses parameters that maximize this number. The log likelihood is actually used as numerical underflow will be a problem for must problems with a non-trivial amount of data.  \n"
      ]
    },
    {
      "cell_type": "code",
      "metadata": {
        "id": "FfdsKMUlc4un",
        "colab_type": "code",
        "colab": {
          "base_uri": "https://localhost:8080/"
        },
        "outputId": "d45476c2-54d0-457a-9896-984c46c137aa"
      },
      "source": [
        "results = smf.logit('yes ~ balance', data=default).fit()"
      ],
      "execution_count": null,
      "outputs": [
        {
          "output_type": "stream",
          "text": [
            "Optimization terminated successfully.\n",
            "         Current function value: 0.079823\n",
            "         Iterations 10\n"
          ],
          "name": "stdout"
        }
      ]
    },
    {
      "cell_type": "code",
      "metadata": {
        "id": "Jgx5pdkTciVa",
        "colab_type": "code",
        "colab": {
          "base_uri": "https://localhost:8080/"
        },
        "outputId": "f1e538f1-2c71-46a5-a41c-50fe08ec3e61"
      },
      "source": [
        "results.summary()"
      ],
      "execution_count": null,
      "outputs": [
        {
          "output_type": "execute_result",
          "data": {
            "text/html": [
              "<table class=\"simpletable\">\n",
              "<caption>Logit Regression Results</caption>\n",
              "<tr>\n",
              "  <th>Dep. Variable:</th>          <td>yes</td>       <th>  No. Observations:  </th>   <td> 10000</td>  \n",
              "</tr>\n",
              "<tr>\n",
              "  <th>Model:</th>                 <td>Logit</td>      <th>  Df Residuals:      </th>   <td>  9998</td>  \n",
              "</tr>\n",
              "<tr>\n",
              "  <th>Method:</th>                 <td>MLE</td>       <th>  Df Model:          </th>   <td>     1</td>  \n",
              "</tr>\n",
              "<tr>\n",
              "  <th>Date:</th>            <td>Wed, 23 Sep 2020</td> <th>  Pseudo R-squ.:     </th>   <td>0.4534</td>  \n",
              "</tr>\n",
              "<tr>\n",
              "  <th>Time:</th>                <td>07:35:12</td>     <th>  Log-Likelihood:    </th>  <td> -798.23</td> \n",
              "</tr>\n",
              "<tr>\n",
              "  <th>converged:</th>             <td>True</td>       <th>  LL-Null:           </th>  <td> -1460.3</td> \n",
              "</tr>\n",
              "<tr>\n",
              "  <th>Covariance Type:</th>     <td>nonrobust</td>    <th>  LLR p-value:       </th> <td>6.233e-290</td>\n",
              "</tr>\n",
              "</table>\n",
              "<table class=\"simpletable\">\n",
              "<tr>\n",
              "      <td></td>         <th>coef</th>     <th>std err</th>      <th>z</th>      <th>P>|z|</th>  <th>[0.025</th>    <th>0.975]</th>  \n",
              "</tr>\n",
              "<tr>\n",
              "  <th>Intercept</th> <td>  -10.6513</td> <td>    0.361</td> <td>  -29.491</td> <td> 0.000</td> <td>  -11.359</td> <td>   -9.943</td>\n",
              "</tr>\n",
              "<tr>\n",
              "  <th>balance</th>   <td>    0.0055</td> <td>    0.000</td> <td>   24.952</td> <td> 0.000</td> <td>    0.005</td> <td>    0.006</td>\n",
              "</tr>\n",
              "</table><br/><br/>Possibly complete quasi-separation: A fraction 0.13 of observations can be<br/>perfectly predicted. This might indicate that there is complete<br/>quasi-separation. In this case some parameters will not be identified."
            ],
            "text/plain": [
              "<class 'statsmodels.iolib.summary.Summary'>\n",
              "\"\"\"\n",
              "                           Logit Regression Results                           \n",
              "==============================================================================\n",
              "Dep. Variable:                    yes   No. Observations:                10000\n",
              "Model:                          Logit   Df Residuals:                     9998\n",
              "Method:                           MLE   Df Model:                            1\n",
              "Date:                Wed, 23 Sep 2020   Pseudo R-squ.:                  0.4534\n",
              "Time:                        07:35:12   Log-Likelihood:                -798.23\n",
              "converged:                       True   LL-Null:                       -1460.3\n",
              "Covariance Type:            nonrobust   LLR p-value:                6.233e-290\n",
              "==============================================================================\n",
              "                 coef    std err          z      P>|z|      [0.025      0.975]\n",
              "------------------------------------------------------------------------------\n",
              "Intercept    -10.6513      0.361    -29.491      0.000     -11.359      -9.943\n",
              "balance        0.0055      0.000     24.952      0.000       0.005       0.006\n",
              "==============================================================================\n",
              "\n",
              "Possibly complete quasi-separation: A fraction 0.13 of observations can be\n",
              "perfectly predicted. This might indicate that there is complete\n",
              "quasi-separation. In this case some parameters will not be identified.\n",
              "\"\"\""
            ]
          },
          "metadata": {
            "tags": []
          },
          "execution_count": 10
        }
      ]
    },
    {
      "cell_type": "markdown",
      "metadata": {
        "id": "txNp9kEpdLcX",
        "colab_type": "text"
      },
      "source": [
        "## Interpretation\n",
        "\n",
        "For every one dollar increase in balance the log odds increases by 0.00555. The log odds when there is no balance is -10.6.  \n",
        "\n",
        "## Logistic Regression with regularization\n",
        "\n",
        "The sklearn Logistic Regression _LogisticRegression()_ uses regularization by default.  See https://scikit-learn.org/stable/modules/generated/sklearn.linear_model.LogisticRegression.html\n",
        "\n",
        "The regularization strength can also be adjusted by the hyperparamtere _C_.\n",
        "\n",
        "_C_ float, default=1.0\n",
        "\n",
        "Inverse of regularization strength; must be a positive float. Like in support vector machines, smaller values specify stronger regularization.\n"
      ]
    },
    {
      "cell_type": "code",
      "metadata": {
        "id": "TiL4Eq_idr9z",
        "colab_type": "code",
        "colab": {}
      },
      "source": [
        "# this actually uses regularization by default\n",
        "lr = LogisticRegression()"
      ],
      "execution_count": null,
      "outputs": []
    },
    {
      "cell_type": "code",
      "metadata": {
        "id": "9Kr_o_k4entI",
        "colab_type": "code",
        "colab": {}
      },
      "source": [
        "X = np.column_stack((np.ones(len(default)), default['balance']))"
      ],
      "execution_count": null,
      "outputs": []
    },
    {
      "cell_type": "code",
      "metadata": {
        "id": "uEWjtl09epbw",
        "colab_type": "code",
        "colab": {
          "base_uri": "https://localhost:8080/"
        },
        "outputId": "34eb6be4-0970-453f-d3d0-4da32c1629f1"
      },
      "source": [
        "lr.fit(X, default['yes'])"
      ],
      "execution_count": null,
      "outputs": [
        {
          "output_type": "execute_result",
          "data": {
            "text/plain": [
              "LogisticRegression(C=1.0, class_weight=None, dual=False, fit_intercept=True,\n",
              "                   intercept_scaling=1, l1_ratio=None, max_iter=100,\n",
              "                   multi_class='auto', n_jobs=None, penalty='l2',\n",
              "                   random_state=None, solver='lbfgs', tol=0.0001, verbose=0,\n",
              "                   warm_start=False)"
            ]
          },
          "metadata": {
            "tags": []
          },
          "execution_count": 13
        }
      ]
    },
    {
      "cell_type": "code",
      "metadata": {
        "id": "9M3NKxPTexSV",
        "colab_type": "code",
        "colab": {
          "base_uri": "https://localhost:8080/"
        },
        "outputId": "5a0a4be1-15fd-4671-8a66-739e3881bf8b"
      },
      "source": [
        "# Model coefficients are different by B1 is very similar\n",
        "lr.coef_"
      ],
      "execution_count": null,
      "outputs": [
        {
          "output_type": "execute_result",
          "data": {
            "text/plain": [
              "array([[-5.16481986,  0.00530575]])"
            ]
          },
          "metadata": {
            "tags": []
          },
          "execution_count": 14
        }
      ]
    },
    {
      "cell_type": "code",
      "metadata": {
        "id": "PdxyyvJTe5pP",
        "colab_type": "code",
        "colab": {
          "base_uri": "https://localhost:8080/"
        },
        "outputId": "d396f905-e9c7-4712-cb99-faca4d8278d7"
      },
      "source": [
        "# predict 2000 dollar balance default\n",
        "lr.predict_proba([[1, 1000]]) # 99 percent chance no default"
      ],
      "execution_count": null,
      "outputs": [
        {
          "output_type": "execute_result",
          "data": {
            "text/plain": [
              "array([[0.99346413, 0.00653587]])"
            ]
          },
          "metadata": {
            "tags": []
          },
          "execution_count": 15
        }
      ]
    },
    {
      "cell_type": "code",
      "metadata": {
        "id": "_-83JbY-e7GD",
        "colab_type": "code",
        "colab": {
          "base_uri": "https://localhost:8080/"
        },
        "outputId": "b8bc7d82-836e-4209-e5d3-3c069cd2686c"
      },
      "source": [
        "# predict 2000 dollar balance default\n",
        "lr.predict_proba([[1, 2000]]) ## 55 percent chance default"
      ],
      "execution_count": null,
      "outputs": [
        {
          "output_type": "execute_result",
          "data": {
            "text/plain": [
              "array([[0.42999758, 0.57000242]])"
            ]
          },
          "metadata": {
            "tags": []
          },
          "execution_count": 16
        }
      ]
    },
    {
      "cell_type": "code",
      "metadata": {
        "id": "zzpZRgunfCkS",
        "colab_type": "code",
        "colab": {
          "base_uri": "https://localhost:8080/"
        },
        "outputId": "0700ab29-ca86-45a3-db8e-7bee03450e39"
      },
      "source": [
        "# predict 3000 dollar balance default\n",
        "lr.predict_proba([[1, 3000]]) ## >99 percent chance default"
      ],
      "execution_count": null,
      "outputs": [
        {
          "output_type": "execute_result",
          "data": {
            "text/plain": [
              "array([[0.00372998, 0.99627002]])"
            ]
          },
          "metadata": {
            "tags": []
          },
          "execution_count": 17
        }
      ]
    },
    {
      "cell_type": "markdown",
      "metadata": {
        "id": "N08fAO1ZfDvz",
        "colab_type": "text"
      },
      "source": [
        "##  Multiple Linear Regression\n",
        "\n",
        "Multiple predictors."
      ]
    },
    {
      "cell_type": "code",
      "metadata": {
        "id": "X6sbqyLKfKKk",
        "colab_type": "code",
        "colab": {
          "base_uri": "https://localhost:8080/"
        },
        "outputId": "b95031da-5b3e-4025-8d41-9b567e83ff15"
      },
      "source": [
        "results = smf.logit('yes ~ balance + student', data=default).fit()"
      ],
      "execution_count": null,
      "outputs": [
        {
          "output_type": "stream",
          "text": [
            "Optimization terminated successfully.\n",
            "         Current function value: 0.078584\n",
            "         Iterations 10\n"
          ],
          "name": "stdout"
        }
      ]
    },
    {
      "cell_type": "code",
      "metadata": {
        "id": "zsSsbhCQfT9g",
        "colab_type": "code",
        "colab": {
          "base_uri": "https://localhost:8080/"
        },
        "outputId": "68958ccb-c45c-4c61-9ad9-fffd35329f17"
      },
      "source": [
        "results.summary()"
      ],
      "execution_count": null,
      "outputs": [
        {
          "output_type": "execute_result",
          "data": {
            "text/html": [
              "<table class=\"simpletable\">\n",
              "<caption>Logit Regression Results</caption>\n",
              "<tr>\n",
              "  <th>Dep. Variable:</th>          <td>yes</td>       <th>  No. Observations:  </th>   <td> 10000</td>  \n",
              "</tr>\n",
              "<tr>\n",
              "  <th>Model:</th>                 <td>Logit</td>      <th>  Df Residuals:      </th>   <td>  9997</td>  \n",
              "</tr>\n",
              "<tr>\n",
              "  <th>Method:</th>                 <td>MLE</td>       <th>  Df Model:          </th>   <td>     2</td>  \n",
              "</tr>\n",
              "<tr>\n",
              "  <th>Date:</th>            <td>Wed, 23 Sep 2020</td> <th>  Pseudo R-squ.:     </th>   <td>0.4619</td>  \n",
              "</tr>\n",
              "<tr>\n",
              "  <th>Time:</th>                <td>07:35:12</td>     <th>  Log-Likelihood:    </th>  <td> -785.84</td> \n",
              "</tr>\n",
              "<tr>\n",
              "  <th>converged:</th>             <td>True</td>       <th>  LL-Null:           </th>  <td> -1460.3</td> \n",
              "</tr>\n",
              "<tr>\n",
              "  <th>Covariance Type:</th>     <td>nonrobust</td>    <th>  LLR p-value:       </th> <td>1.189e-293</td>\n",
              "</tr>\n",
              "</table>\n",
              "<table class=\"simpletable\">\n",
              "<tr>\n",
              "         <td></td>           <th>coef</th>     <th>std err</th>      <th>z</th>      <th>P>|z|</th>  <th>[0.025</th>    <th>0.975]</th>  \n",
              "</tr>\n",
              "<tr>\n",
              "  <th>Intercept</th>      <td>  -10.7495</td> <td>    0.369</td> <td>  -29.115</td> <td> 0.000</td> <td>  -11.473</td> <td>  -10.026</td>\n",
              "</tr>\n",
              "<tr>\n",
              "  <th>student[T.Yes]</th> <td>   -0.7149</td> <td>    0.148</td> <td>   -4.846</td> <td> 0.000</td> <td>   -1.004</td> <td>   -0.426</td>\n",
              "</tr>\n",
              "<tr>\n",
              "  <th>balance</th>        <td>    0.0057</td> <td>    0.000</td> <td>   24.748</td> <td> 0.000</td> <td>    0.005</td> <td>    0.006</td>\n",
              "</tr>\n",
              "</table><br/><br/>Possibly complete quasi-separation: A fraction 0.15 of observations can be<br/>perfectly predicted. This might indicate that there is complete<br/>quasi-separation. In this case some parameters will not be identified."
            ],
            "text/plain": [
              "<class 'statsmodels.iolib.summary.Summary'>\n",
              "\"\"\"\n",
              "                           Logit Regression Results                           \n",
              "==============================================================================\n",
              "Dep. Variable:                    yes   No. Observations:                10000\n",
              "Model:                          Logit   Df Residuals:                     9997\n",
              "Method:                           MLE   Df Model:                            2\n",
              "Date:                Wed, 23 Sep 2020   Pseudo R-squ.:                  0.4619\n",
              "Time:                        07:35:12   Log-Likelihood:                -785.84\n",
              "converged:                       True   LL-Null:                       -1460.3\n",
              "Covariance Type:            nonrobust   LLR p-value:                1.189e-293\n",
              "==================================================================================\n",
              "                     coef    std err          z      P>|z|      [0.025      0.975]\n",
              "----------------------------------------------------------------------------------\n",
              "Intercept        -10.7495      0.369    -29.115      0.000     -11.473     -10.026\n",
              "student[T.Yes]    -0.7149      0.148     -4.846      0.000      -1.004      -0.426\n",
              "balance            0.0057      0.000     24.748      0.000       0.005       0.006\n",
              "==================================================================================\n",
              "\n",
              "Possibly complete quasi-separation: A fraction 0.15 of observations can be\n",
              "perfectly predicted. This might indicate that there is complete\n",
              "quasi-separation. In this case some parameters will not be identified.\n",
              "\"\"\""
            ]
          },
          "metadata": {
            "tags": []
          },
          "execution_count": 19
        }
      ]
    },
    {
      "cell_type": "markdown",
      "metadata": {
        "id": "HRR2U_GgfqdC",
        "colab_type": "text"
      },
      "source": [
        "## Simpsons paradox\n",
        "\n",
        "Simpson's paradox, which goes by several names, is a phenomenon in probability and statistics, in which a trend appears in several different groups of data but disappears or reverses when these groups are combined. This result is often encountered in social-science and medical-science statistics and is particularly problematic when frequency data is unduly given causal interpretations. The paradox can be resolved when causal relations are appropriately addressed in the statistical modeling. It is also referred to as Simpson's reversal, Yule–Simpson effect, amalgamation paradox, or reversal paradox.\n",
        "\n",
        "\n",
        "![Simpson's paradox for quantitative data](https://raw.githubusercontent.com/nikbearbrown/Google_Colab/master/img/440px-Simpson's_paradox_continuous.svg.png)\n",
        "\n",
        "_Simpson's paradox for quantitative data: a positive trend appears for two separate groups, whereas a negative trend appears when the groups are combined._\n",
        "\n",
        "\n",
        "![Simpson's paradox for quantitative data](https://raw.githubusercontent.com/nikbearbrown/Google_Colab/master/img/440px-Simpsons_paradox_-_animation.gif)\n",
        "\n",
        "_An alternative visualization of Simpson's paradox on data resembling real-world variability indicates that risk of misjudgement of true relationship can indeed be hard to spot_\n"
      ]
    },
    {
      "cell_type": "code",
      "metadata": {
        "id": "wKPSNZOXhjKV",
        "colab_type": "code",
        "colab": {
          "base_uri": "https://localhost:8080/"
        },
        "outputId": "9ffc873e-6eb1-414e-b145-19ff46aafd19"
      },
      "source": [
        "results = smf.logit('yes ~ student', data=default).fit()\n",
        "results.summary()"
      ],
      "execution_count": null,
      "outputs": [
        {
          "output_type": "stream",
          "text": [
            "Optimization terminated successfully.\n",
            "         Current function value: 0.145434\n",
            "         Iterations 7\n"
          ],
          "name": "stdout"
        },
        {
          "output_type": "execute_result",
          "data": {
            "text/html": [
              "<table class=\"simpletable\">\n",
              "<caption>Logit Regression Results</caption>\n",
              "<tr>\n",
              "  <th>Dep. Variable:</th>          <td>yes</td>       <th>  No. Observations:  </th>  <td> 10000</td>  \n",
              "</tr>\n",
              "<tr>\n",
              "  <th>Model:</th>                 <td>Logit</td>      <th>  Df Residuals:      </th>  <td>  9998</td>  \n",
              "</tr>\n",
              "<tr>\n",
              "  <th>Method:</th>                 <td>MLE</td>       <th>  Df Model:          </th>  <td>     1</td>  \n",
              "</tr>\n",
              "<tr>\n",
              "  <th>Date:</th>            <td>Wed, 23 Sep 2020</td> <th>  Pseudo R-squ.:     </th> <td>0.004097</td> \n",
              "</tr>\n",
              "<tr>\n",
              "  <th>Time:</th>                <td>07:35:12</td>     <th>  Log-Likelihood:    </th> <td> -1454.3</td> \n",
              "</tr>\n",
              "<tr>\n",
              "  <th>converged:</th>             <td>True</td>       <th>  LL-Null:           </th> <td> -1460.3</td> \n",
              "</tr>\n",
              "<tr>\n",
              "  <th>Covariance Type:</th>     <td>nonrobust</td>    <th>  LLR p-value:       </th> <td>0.0005416</td>\n",
              "</tr>\n",
              "</table>\n",
              "<table class=\"simpletable\">\n",
              "<tr>\n",
              "         <td></td>           <th>coef</th>     <th>std err</th>      <th>z</th>      <th>P>|z|</th>  <th>[0.025</th>    <th>0.975]</th>  \n",
              "</tr>\n",
              "<tr>\n",
              "  <th>Intercept</th>      <td>   -3.5041</td> <td>    0.071</td> <td>  -49.554</td> <td> 0.000</td> <td>   -3.643</td> <td>   -3.366</td>\n",
              "</tr>\n",
              "<tr>\n",
              "  <th>student[T.Yes]</th> <td>    0.4049</td> <td>    0.115</td> <td>    3.520</td> <td> 0.000</td> <td>    0.179</td> <td>    0.630</td>\n",
              "</tr>\n",
              "</table>"
            ],
            "text/plain": [
              "<class 'statsmodels.iolib.summary.Summary'>\n",
              "\"\"\"\n",
              "                           Logit Regression Results                           \n",
              "==============================================================================\n",
              "Dep. Variable:                    yes   No. Observations:                10000\n",
              "Model:                          Logit   Df Residuals:                     9998\n",
              "Method:                           MLE   Df Model:                            1\n",
              "Date:                Wed, 23 Sep 2020   Pseudo R-squ.:                0.004097\n",
              "Time:                        07:35:12   Log-Likelihood:                -1454.3\n",
              "converged:                       True   LL-Null:                       -1460.3\n",
              "Covariance Type:            nonrobust   LLR p-value:                 0.0005416\n",
              "==================================================================================\n",
              "                     coef    std err          z      P>|z|      [0.025      0.975]\n",
              "----------------------------------------------------------------------------------\n",
              "Intercept         -3.5041      0.071    -49.554      0.000      -3.643      -3.366\n",
              "student[T.Yes]     0.4049      0.115      3.520      0.000       0.179       0.630\n",
              "==================================================================================\n",
              "\"\"\""
            ]
          },
          "metadata": {
            "tags": []
          },
          "execution_count": 20
        }
      ]
    },
    {
      "cell_type": "markdown",
      "metadata": {
        "id": "vqEGdjvQhzDu",
        "colab_type": "text"
      },
      "source": [
        "The first model above with both balance and student show a negative relationship between student and default - meaning that being a student decreases the likelihood of defaulting. The second model shows the opposite, that being a student increases the chance at defaulting. This can be explained by the fact that students have more debt on average but compared to those with the same amount of debt they are less likely to default.\n",
        "\n",
        "### Multiclass logistic regression   \n",
        "\n",
        "The book unfortunately does not cover logistic regression with more than 2 classes, though this is a common occurrence in many real life problems.\n",
        "\n",
        "### One vs All  \n",
        "\n",
        "A simple method when you have k classes where k > 2 is to create k-1 independent logistic regression classifiers by choosing the response variable to be binary, 1 when in the current class else 0.  \n",
        "\n",
        "## Linear Discriminant Analysis  \n",
        "\n",
        "Linear discriminant analysis (LDA), normal discriminant analysis (NDA), or discriminant function analysis is a generalization of Fisher's linear discriminant, a method used in statistics, pattern recognition, and machine learning to find a linear combination of features that characterizes or separates two or more classes of objects or events. Not to be confused with latent dirichlet allocation. Used for multiclass classificaion problems.   LDA assumes all perdictor variables come from a gaussian distribution and estimates the mean and variance for each predictor variable where the variance is the same across for each predictor variable. It also estimates a prior probability simply by using the proporiton of classes in the training set. The resulting combination may be used as a linear classifier, or, more commonly, for dimensionality reduction before later classification.\n",
        "\n",
        "LDA is closely related to analysis of variance (ANOVA) and regression analysis, which also attempt to express one dependent variable as a linear combination of other features or measurements. However, ANOVA uses categorical independent variables and a continuous dependent variable, whereas discriminant analysis has continuous independent variables and a categorical dependent variable (i.e. the class label). Logistic regression and probit regression are more similar to LDA than ANOVA is, as they also explain a categorical variable by the values of continuous independent variables.\n",
        "\n",
        "Bayes rule is used to compute a probability for each class. When there is more than one predictor, a multivariate gaussian is used. Correlations between each predictor must be estimated (the covariance matrix) as they are a parameter to the multivariate gaussian.\n",
        "\n",
        "### Stock market prediciton with LDA  \n",
        "\n",
        "In these data we will try to predict whether the market will go up or down tomorrow.  \n",
        "\n"
      ]
    },
    {
      "cell_type": "code",
      "metadata": {
        "id": "PN36JmnVjBZf",
        "colab_type": "code",
        "colab": {
          "base_uri": "https://localhost:8080/"
        },
        "outputId": "ca69fda5-175c-466c-b857-9a079440e1e9"
      },
      "source": [
        "smarket = pd.read_csv('https://raw.githubusercontent.com/nikbearbrown/Google_Colab/master/data/smarket.csv')\n",
        "smarket.head()"
      ],
      "execution_count": null,
      "outputs": [
        {
          "output_type": "execute_result",
          "data": {
            "text/html": [
              "<div>\n",
              "<style scoped>\n",
              "    .dataframe tbody tr th:only-of-type {\n",
              "        vertical-align: middle;\n",
              "    }\n",
              "\n",
              "    .dataframe tbody tr th {\n",
              "        vertical-align: top;\n",
              "    }\n",
              "\n",
              "    .dataframe thead th {\n",
              "        text-align: right;\n",
              "    }\n",
              "</style>\n",
              "<table border=\"1\" class=\"dataframe\">\n",
              "  <thead>\n",
              "    <tr style=\"text-align: right;\">\n",
              "      <th></th>\n",
              "      <th>Year</th>\n",
              "      <th>Lag1</th>\n",
              "      <th>Lag2</th>\n",
              "      <th>Lag3</th>\n",
              "      <th>Lag4</th>\n",
              "      <th>Lag5</th>\n",
              "      <th>Volume</th>\n",
              "      <th>Today</th>\n",
              "      <th>Direction</th>\n",
              "    </tr>\n",
              "  </thead>\n",
              "  <tbody>\n",
              "    <tr>\n",
              "      <th>0</th>\n",
              "      <td>2001</td>\n",
              "      <td>0.381</td>\n",
              "      <td>-0.192</td>\n",
              "      <td>-2.624</td>\n",
              "      <td>-1.055</td>\n",
              "      <td>5.010</td>\n",
              "      <td>1.1913</td>\n",
              "      <td>0.959</td>\n",
              "      <td>Up</td>\n",
              "    </tr>\n",
              "    <tr>\n",
              "      <th>1</th>\n",
              "      <td>2001</td>\n",
              "      <td>0.959</td>\n",
              "      <td>0.381</td>\n",
              "      <td>-0.192</td>\n",
              "      <td>-2.624</td>\n",
              "      <td>-1.055</td>\n",
              "      <td>1.2965</td>\n",
              "      <td>1.032</td>\n",
              "      <td>Up</td>\n",
              "    </tr>\n",
              "    <tr>\n",
              "      <th>2</th>\n",
              "      <td>2001</td>\n",
              "      <td>1.032</td>\n",
              "      <td>0.959</td>\n",
              "      <td>0.381</td>\n",
              "      <td>-0.192</td>\n",
              "      <td>-2.624</td>\n",
              "      <td>1.4112</td>\n",
              "      <td>-0.623</td>\n",
              "      <td>Down</td>\n",
              "    </tr>\n",
              "    <tr>\n",
              "      <th>3</th>\n",
              "      <td>2001</td>\n",
              "      <td>-0.623</td>\n",
              "      <td>1.032</td>\n",
              "      <td>0.959</td>\n",
              "      <td>0.381</td>\n",
              "      <td>-0.192</td>\n",
              "      <td>1.2760</td>\n",
              "      <td>0.614</td>\n",
              "      <td>Up</td>\n",
              "    </tr>\n",
              "    <tr>\n",
              "      <th>4</th>\n",
              "      <td>2001</td>\n",
              "      <td>0.614</td>\n",
              "      <td>-0.623</td>\n",
              "      <td>1.032</td>\n",
              "      <td>0.959</td>\n",
              "      <td>0.381</td>\n",
              "      <td>1.2057</td>\n",
              "      <td>0.213</td>\n",
              "      <td>Up</td>\n",
              "    </tr>\n",
              "  </tbody>\n",
              "</table>\n",
              "</div>"
            ],
            "text/plain": [
              "   Year   Lag1   Lag2   Lag3   Lag4   Lag5  Volume  Today Direction\n",
              "0  2001  0.381 -0.192 -2.624 -1.055  5.010  1.1913  0.959        Up\n",
              "1  2001  0.959  0.381 -0.192 -2.624 -1.055  1.2965  1.032        Up\n",
              "2  2001  1.032  0.959  0.381 -0.192 -2.624  1.4112 -0.623      Down\n",
              "3  2001 -0.623  1.032  0.959  0.381 -0.192  1.2760  0.614        Up\n",
              "4  2001  0.614 -0.623  1.032  0.959  0.381  1.2057  0.213        Up"
            ]
          },
          "metadata": {
            "tags": []
          },
          "execution_count": 21
        }
      ]
    },
    {
      "cell_type": "code",
      "metadata": {
        "id": "y6RrT-8Jjibb",
        "colab_type": "code",
        "colab": {
          "base_uri": "https://localhost:8080/"
        },
        "outputId": "611a35c9-b759-48b1-f6a1-fb33435ad3dc"
      },
      "source": [
        "smarket['Up'] = np.where(smarket['Direction'] == 'Up', 1, 0)\n",
        "smarket.head()"
      ],
      "execution_count": null,
      "outputs": [
        {
          "output_type": "execute_result",
          "data": {
            "text/html": [
              "<div>\n",
              "<style scoped>\n",
              "    .dataframe tbody tr th:only-of-type {\n",
              "        vertical-align: middle;\n",
              "    }\n",
              "\n",
              "    .dataframe tbody tr th {\n",
              "        vertical-align: top;\n",
              "    }\n",
              "\n",
              "    .dataframe thead th {\n",
              "        text-align: right;\n",
              "    }\n",
              "</style>\n",
              "<table border=\"1\" class=\"dataframe\">\n",
              "  <thead>\n",
              "    <tr style=\"text-align: right;\">\n",
              "      <th></th>\n",
              "      <th>Year</th>\n",
              "      <th>Lag1</th>\n",
              "      <th>Lag2</th>\n",
              "      <th>Lag3</th>\n",
              "      <th>Lag4</th>\n",
              "      <th>Lag5</th>\n",
              "      <th>Volume</th>\n",
              "      <th>Today</th>\n",
              "      <th>Direction</th>\n",
              "      <th>Up</th>\n",
              "    </tr>\n",
              "  </thead>\n",
              "  <tbody>\n",
              "    <tr>\n",
              "      <th>0</th>\n",
              "      <td>2001</td>\n",
              "      <td>0.381</td>\n",
              "      <td>-0.192</td>\n",
              "      <td>-2.624</td>\n",
              "      <td>-1.055</td>\n",
              "      <td>5.010</td>\n",
              "      <td>1.1913</td>\n",
              "      <td>0.959</td>\n",
              "      <td>Up</td>\n",
              "      <td>1</td>\n",
              "    </tr>\n",
              "    <tr>\n",
              "      <th>1</th>\n",
              "      <td>2001</td>\n",
              "      <td>0.959</td>\n",
              "      <td>0.381</td>\n",
              "      <td>-0.192</td>\n",
              "      <td>-2.624</td>\n",
              "      <td>-1.055</td>\n",
              "      <td>1.2965</td>\n",
              "      <td>1.032</td>\n",
              "      <td>Up</td>\n",
              "      <td>1</td>\n",
              "    </tr>\n",
              "    <tr>\n",
              "      <th>2</th>\n",
              "      <td>2001</td>\n",
              "      <td>1.032</td>\n",
              "      <td>0.959</td>\n",
              "      <td>0.381</td>\n",
              "      <td>-0.192</td>\n",
              "      <td>-2.624</td>\n",
              "      <td>1.4112</td>\n",
              "      <td>-0.623</td>\n",
              "      <td>Down</td>\n",
              "      <td>0</td>\n",
              "    </tr>\n",
              "    <tr>\n",
              "      <th>3</th>\n",
              "      <td>2001</td>\n",
              "      <td>-0.623</td>\n",
              "      <td>1.032</td>\n",
              "      <td>0.959</td>\n",
              "      <td>0.381</td>\n",
              "      <td>-0.192</td>\n",
              "      <td>1.2760</td>\n",
              "      <td>0.614</td>\n",
              "      <td>Up</td>\n",
              "      <td>1</td>\n",
              "    </tr>\n",
              "    <tr>\n",
              "      <th>4</th>\n",
              "      <td>2001</td>\n",
              "      <td>0.614</td>\n",
              "      <td>-0.623</td>\n",
              "      <td>1.032</td>\n",
              "      <td>0.959</td>\n",
              "      <td>0.381</td>\n",
              "      <td>1.2057</td>\n",
              "      <td>0.213</td>\n",
              "      <td>Up</td>\n",
              "      <td>1</td>\n",
              "    </tr>\n",
              "  </tbody>\n",
              "</table>\n",
              "</div>"
            ],
            "text/plain": [
              "   Year   Lag1   Lag2   Lag3   Lag4   Lag5  Volume  Today Direction  Up\n",
              "0  2001  0.381 -0.192 -2.624 -1.055  5.010  1.1913  0.959        Up   1\n",
              "1  2001  0.959  0.381 -0.192 -2.624 -1.055  1.2965  1.032        Up   1\n",
              "2  2001  1.032  0.959  0.381 -0.192 -2.624  1.4112 -0.623      Down   0\n",
              "3  2001 -0.623  1.032  0.959  0.381 -0.192  1.2760  0.614        Up   1\n",
              "4  2001  0.614 -0.623  1.032  0.959  0.381  1.2057  0.213        Up   1"
            ]
          },
          "metadata": {
            "tags": []
          },
          "execution_count": 22
        }
      ]
    },
    {
      "cell_type": "code",
      "metadata": {
        "id": "RBaoKfD9jnoh",
        "colab_type": "code",
        "colab": {
          "base_uri": "https://localhost:8080/"
        },
        "outputId": "a3b05f35-b865-47dc-bba1-d9fdddaad2bf"
      },
      "source": [
        "smarket.corr()"
      ],
      "execution_count": null,
      "outputs": [
        {
          "output_type": "execute_result",
          "data": {
            "text/html": [
              "<div>\n",
              "<style scoped>\n",
              "    .dataframe tbody tr th:only-of-type {\n",
              "        vertical-align: middle;\n",
              "    }\n",
              "\n",
              "    .dataframe tbody tr th {\n",
              "        vertical-align: top;\n",
              "    }\n",
              "\n",
              "    .dataframe thead th {\n",
              "        text-align: right;\n",
              "    }\n",
              "</style>\n",
              "<table border=\"1\" class=\"dataframe\">\n",
              "  <thead>\n",
              "    <tr style=\"text-align: right;\">\n",
              "      <th></th>\n",
              "      <th>Year</th>\n",
              "      <th>Lag1</th>\n",
              "      <th>Lag2</th>\n",
              "      <th>Lag3</th>\n",
              "      <th>Lag4</th>\n",
              "      <th>Lag5</th>\n",
              "      <th>Volume</th>\n",
              "      <th>Today</th>\n",
              "      <th>Up</th>\n",
              "    </tr>\n",
              "  </thead>\n",
              "  <tbody>\n",
              "    <tr>\n",
              "      <th>Year</th>\n",
              "      <td>1.000000</td>\n",
              "      <td>0.029700</td>\n",
              "      <td>0.030596</td>\n",
              "      <td>0.033195</td>\n",
              "      <td>0.035689</td>\n",
              "      <td>0.029788</td>\n",
              "      <td>0.539006</td>\n",
              "      <td>0.030095</td>\n",
              "      <td>0.074608</td>\n",
              "    </tr>\n",
              "    <tr>\n",
              "      <th>Lag1</th>\n",
              "      <td>0.029700</td>\n",
              "      <td>1.000000</td>\n",
              "      <td>-0.026294</td>\n",
              "      <td>-0.010803</td>\n",
              "      <td>-0.002986</td>\n",
              "      <td>-0.005675</td>\n",
              "      <td>0.040910</td>\n",
              "      <td>-0.026155</td>\n",
              "      <td>-0.039757</td>\n",
              "    </tr>\n",
              "    <tr>\n",
              "      <th>Lag2</th>\n",
              "      <td>0.030596</td>\n",
              "      <td>-0.026294</td>\n",
              "      <td>1.000000</td>\n",
              "      <td>-0.025897</td>\n",
              "      <td>-0.010854</td>\n",
              "      <td>-0.003558</td>\n",
              "      <td>-0.043383</td>\n",
              "      <td>-0.010250</td>\n",
              "      <td>-0.024081</td>\n",
              "    </tr>\n",
              "    <tr>\n",
              "      <th>Lag3</th>\n",
              "      <td>0.033195</td>\n",
              "      <td>-0.010803</td>\n",
              "      <td>-0.025897</td>\n",
              "      <td>1.000000</td>\n",
              "      <td>-0.024051</td>\n",
              "      <td>-0.018808</td>\n",
              "      <td>-0.041824</td>\n",
              "      <td>-0.002448</td>\n",
              "      <td>0.006132</td>\n",
              "    </tr>\n",
              "    <tr>\n",
              "      <th>Lag4</th>\n",
              "      <td>0.035689</td>\n",
              "      <td>-0.002986</td>\n",
              "      <td>-0.010854</td>\n",
              "      <td>-0.024051</td>\n",
              "      <td>1.000000</td>\n",
              "      <td>-0.027084</td>\n",
              "      <td>-0.048414</td>\n",
              "      <td>-0.006900</td>\n",
              "      <td>0.004215</td>\n",
              "    </tr>\n",
              "    <tr>\n",
              "      <th>Lag5</th>\n",
              "      <td>0.029788</td>\n",
              "      <td>-0.005675</td>\n",
              "      <td>-0.003558</td>\n",
              "      <td>-0.018808</td>\n",
              "      <td>-0.027084</td>\n",
              "      <td>1.000000</td>\n",
              "      <td>-0.022002</td>\n",
              "      <td>-0.034860</td>\n",
              "      <td>0.005423</td>\n",
              "    </tr>\n",
              "    <tr>\n",
              "      <th>Volume</th>\n",
              "      <td>0.539006</td>\n",
              "      <td>0.040910</td>\n",
              "      <td>-0.043383</td>\n",
              "      <td>-0.041824</td>\n",
              "      <td>-0.048414</td>\n",
              "      <td>-0.022002</td>\n",
              "      <td>1.000000</td>\n",
              "      <td>0.014592</td>\n",
              "      <td>0.022951</td>\n",
              "    </tr>\n",
              "    <tr>\n",
              "      <th>Today</th>\n",
              "      <td>0.030095</td>\n",
              "      <td>-0.026155</td>\n",
              "      <td>-0.010250</td>\n",
              "      <td>-0.002448</td>\n",
              "      <td>-0.006900</td>\n",
              "      <td>-0.034860</td>\n",
              "      <td>0.014592</td>\n",
              "      <td>1.000000</td>\n",
              "      <td>0.730563</td>\n",
              "    </tr>\n",
              "    <tr>\n",
              "      <th>Up</th>\n",
              "      <td>0.074608</td>\n",
              "      <td>-0.039757</td>\n",
              "      <td>-0.024081</td>\n",
              "      <td>0.006132</td>\n",
              "      <td>0.004215</td>\n",
              "      <td>0.005423</td>\n",
              "      <td>0.022951</td>\n",
              "      <td>0.730563</td>\n",
              "      <td>1.000000</td>\n",
              "    </tr>\n",
              "  </tbody>\n",
              "</table>\n",
              "</div>"
            ],
            "text/plain": [
              "            Year      Lag1      Lag2  ...    Volume     Today        Up\n",
              "Year    1.000000  0.029700  0.030596  ...  0.539006  0.030095  0.074608\n",
              "Lag1    0.029700  1.000000 -0.026294  ...  0.040910 -0.026155 -0.039757\n",
              "Lag2    0.030596 -0.026294  1.000000  ... -0.043383 -0.010250 -0.024081\n",
              "Lag3    0.033195 -0.010803 -0.025897  ... -0.041824 -0.002448  0.006132\n",
              "Lag4    0.035689 -0.002986 -0.010854  ... -0.048414 -0.006900  0.004215\n",
              "Lag5    0.029788 -0.005675 -0.003558  ... -0.022002 -0.034860  0.005423\n",
              "Volume  0.539006  0.040910 -0.043383  ...  1.000000  0.014592  0.022951\n",
              "Today   0.030095 -0.026155 -0.010250  ...  0.014592  1.000000  0.730563\n",
              "Up      0.074608 -0.039757 -0.024081  ...  0.022951  0.730563  1.000000\n",
              "\n",
              "[9 rows x 9 columns]"
            ]
          },
          "metadata": {
            "tags": []
          },
          "execution_count": 23
        }
      ]
    },
    {
      "cell_type": "code",
      "metadata": {
        "id": "B5ZRA8OUj7LU",
        "colab_type": "code",
        "colab": {}
      },
      "source": [
        "X = smarket[['Lag1', 'Lag2', 'Lag3', 'Lag4', 'Lag5']].values\n",
        "y = smarket['Up'].values"
      ],
      "execution_count": null,
      "outputs": []
    },
    {
      "cell_type": "code",
      "metadata": {
        "id": "Zom7ran0kAfu",
        "colab_type": "code",
        "colab": {}
      },
      "source": [
        "train_bool = smarket['Year'].values < 2005\n",
        "X_train = X[train_bool]\n",
        "X_test = X[~train_bool]\n",
        "y_train = y[train_bool]\n",
        "y_test = y[~train_bool]"
      ],
      "execution_count": null,
      "outputs": []
    },
    {
      "cell_type": "code",
      "metadata": {
        "id": "v9eKF8likDyX",
        "colab_type": "code",
        "colab": {
          "base_uri": "https://localhost:8080/"
        },
        "outputId": "289b3644-aefa-4b12-eae5-da6a404116b2"
      },
      "source": [
        "results = smf.logit('Up ~ Lag1 + Lag2 + Lag3 + Lag4 + Lag5', data=smarket).fit()\n",
        "results.summary()"
      ],
      "execution_count": null,
      "outputs": [
        {
          "output_type": "stream",
          "text": [
            "Optimization terminated successfully.\n",
            "         Current function value: 0.691327\n",
            "         Iterations 4\n"
          ],
          "name": "stdout"
        },
        {
          "output_type": "execute_result",
          "data": {
            "text/html": [
              "<table class=\"simpletable\">\n",
              "<caption>Logit Regression Results</caption>\n",
              "<tr>\n",
              "  <th>Dep. Variable:</th>          <td>Up</td>        <th>  No. Observations:  </th>  <td>  1250</td> \n",
              "</tr>\n",
              "<tr>\n",
              "  <th>Model:</th>                 <td>Logit</td>      <th>  Df Residuals:      </th>  <td>  1244</td> \n",
              "</tr>\n",
              "<tr>\n",
              "  <th>Method:</th>                 <td>MLE</td>       <th>  Df Model:          </th>  <td>     5</td> \n",
              "</tr>\n",
              "<tr>\n",
              "  <th>Date:</th>            <td>Wed, 23 Sep 2020</td> <th>  Pseudo R-squ.:     </th> <td>0.001651</td>\n",
              "</tr>\n",
              "<tr>\n",
              "  <th>Time:</th>                <td>07:35:13</td>     <th>  Log-Likelihood:    </th> <td> -864.16</td>\n",
              "</tr>\n",
              "<tr>\n",
              "  <th>converged:</th>             <td>True</td>       <th>  LL-Null:           </th> <td> -865.59</td>\n",
              "</tr>\n",
              "<tr>\n",
              "  <th>Covariance Type:</th>     <td>nonrobust</td>    <th>  LLR p-value:       </th>  <td>0.7219</td> \n",
              "</tr>\n",
              "</table>\n",
              "<table class=\"simpletable\">\n",
              "<tr>\n",
              "      <td></td>         <th>coef</th>     <th>std err</th>      <th>z</th>      <th>P>|z|</th>  <th>[0.025</th>    <th>0.975]</th>  \n",
              "</tr>\n",
              "<tr>\n",
              "  <th>Intercept</th> <td>    0.0742</td> <td>    0.057</td> <td>    1.309</td> <td> 0.191</td> <td>   -0.037</td> <td>    0.185</td>\n",
              "</tr>\n",
              "<tr>\n",
              "  <th>Lag1</th>      <td>   -0.0713</td> <td>    0.050</td> <td>   -1.424</td> <td> 0.155</td> <td>   -0.170</td> <td>    0.027</td>\n",
              "</tr>\n",
              "<tr>\n",
              "  <th>Lag2</th>      <td>   -0.0441</td> <td>    0.050</td> <td>   -0.882</td> <td> 0.378</td> <td>   -0.142</td> <td>    0.054</td>\n",
              "</tr>\n",
              "<tr>\n",
              "  <th>Lag3</th>      <td>    0.0092</td> <td>    0.050</td> <td>    0.185</td> <td> 0.853</td> <td>   -0.089</td> <td>    0.107</td>\n",
              "</tr>\n",
              "<tr>\n",
              "  <th>Lag4</th>      <td>    0.0072</td> <td>    0.050</td> <td>    0.145</td> <td> 0.885</td> <td>   -0.091</td> <td>    0.105</td>\n",
              "</tr>\n",
              "<tr>\n",
              "  <th>Lag5</th>      <td>    0.0093</td> <td>    0.049</td> <td>    0.188</td> <td> 0.851</td> <td>   -0.088</td> <td>    0.106</td>\n",
              "</tr>\n",
              "</table>"
            ],
            "text/plain": [
              "<class 'statsmodels.iolib.summary.Summary'>\n",
              "\"\"\"\n",
              "                           Logit Regression Results                           \n",
              "==============================================================================\n",
              "Dep. Variable:                     Up   No. Observations:                 1250\n",
              "Model:                          Logit   Df Residuals:                     1244\n",
              "Method:                           MLE   Df Model:                            5\n",
              "Date:                Wed, 23 Sep 2020   Pseudo R-squ.:                0.001651\n",
              "Time:                        07:35:13   Log-Likelihood:                -864.16\n",
              "converged:                       True   LL-Null:                       -865.59\n",
              "Covariance Type:            nonrobust   LLR p-value:                    0.7219\n",
              "==============================================================================\n",
              "                 coef    std err          z      P>|z|      [0.025      0.975]\n",
              "------------------------------------------------------------------------------\n",
              "Intercept      0.0742      0.057      1.309      0.191      -0.037       0.185\n",
              "Lag1          -0.0713      0.050     -1.424      0.155      -0.170       0.027\n",
              "Lag2          -0.0441      0.050     -0.882      0.378      -0.142       0.054\n",
              "Lag3           0.0092      0.050      0.185      0.853      -0.089       0.107\n",
              "Lag4           0.0072      0.050      0.145      0.885      -0.091       0.105\n",
              "Lag5           0.0093      0.049      0.188      0.851      -0.088       0.106\n",
              "==============================================================================\n",
              "\"\"\""
            ]
          },
          "metadata": {
            "tags": []
          },
          "execution_count": 26
        }
      ]
    },
    {
      "cell_type": "code",
      "metadata": {
        "id": "YxeSoSAlkoBM",
        "colab_type": "code",
        "colab": {
          "base_uri": "https://localhost:8080/"
        },
        "outputId": "5f9779d8-c1a9-40d7-8cb7-9ffbc48ff9ba"
      },
      "source": [
        "lr = LogisticRegression()\n",
        "lr.fit(X_train, y_train)"
      ],
      "execution_count": null,
      "outputs": [
        {
          "output_type": "execute_result",
          "data": {
            "text/plain": [
              "LogisticRegression(C=1.0, class_weight=None, dual=False, fit_intercept=True,\n",
              "                   intercept_scaling=1, l1_ratio=None, max_iter=100,\n",
              "                   multi_class='auto', n_jobs=None, penalty='l2',\n",
              "                   random_state=None, solver='lbfgs', tol=0.0001, verbose=0,\n",
              "                   warm_start=False)"
            ]
          },
          "metadata": {
            "tags": []
          },
          "execution_count": 27
        }
      ]
    },
    {
      "cell_type": "code",
      "metadata": {
        "id": "meG8PtPuks_B",
        "colab_type": "code",
        "colab": {
          "base_uri": "https://localhost:8080/"
        },
        "outputId": "9e82db9e-5008-4ff8-c48f-bc464452229e"
      },
      "source": [
        "# true on the left axis, predicted above\n",
        "confusion_matrix(y_test, lr.predict(X_test))"
      ],
      "execution_count": null,
      "outputs": [
        {
          "output_type": "execute_result",
          "data": {
            "text/plain": [
              "array([[ 37,  74],\n",
              "       [ 30, 111]])"
            ]
          },
          "metadata": {
            "tags": []
          },
          "execution_count": 28
        }
      ]
    },
    {
      "cell_type": "code",
      "metadata": {
        "id": "veEsf-p7kxu1",
        "colab_type": "code",
        "colab": {
          "base_uri": "https://localhost:8080/"
        },
        "outputId": "6a2a64b8-4ea5-4332-f4b9-4db915247405"
      },
      "source": [
        "147/ len(y_test)"
      ],
      "execution_count": null,
      "outputs": [
        {
          "output_type": "execute_result",
          "data": {
            "text/plain": [
              "0.5833333333333334"
            ]
          },
          "metadata": {
            "tags": []
          },
          "execution_count": 29
        }
      ]
    },
    {
      "cell_type": "markdown",
      "metadata": {
        "id": "euWqOCP4kzPP",
        "colab_type": "text"
      },
      "source": [
        "Out of the 68 predicted down, 37 actually were down days. \n",
        "\n",
        "54% accurracy  \n",
        "\n",
        "Out of the 184 predicted up, 111 actually were up. 60% accuracy.  \n",
        "\n",
        "58% total accuracy  "
      ]
    },
    {
      "cell_type": "code",
      "metadata": {
        "id": "LYFqZKQzlJFf",
        "colab_type": "code",
        "colab": {}
      },
      "source": [
        "y_pred = lr.predict(X_test)"
      ],
      "execution_count": null,
      "outputs": []
    },
    {
      "cell_type": "code",
      "metadata": {
        "id": "a56JEt2-lbCk",
        "colab_type": "code",
        "colab": {
          "base_uri": "https://localhost:8080/"
        },
        "outputId": "1847975a-fe81-461b-bf85-aaf0c8229e2a"
      },
      "source": [
        "y_pred[y_test == 1]"
      ],
      "execution_count": null,
      "outputs": [
        {
          "output_type": "execute_result",
          "data": {
            "text/plain": [
              "array([1, 1, 1, 1, 1, 1, 1, 0, 1, 1, 0, 1, 0, 1, 1, 0, 0, 1, 1, 1, 1, 0,\n",
              "       1, 1, 1, 0, 1, 1, 1, 1, 1, 1, 1, 1, 0, 0, 1, 1, 1, 1, 1, 0, 1, 1,\n",
              "       1, 1, 1, 1, 1, 0, 0, 0, 1, 1, 1, 1, 1, 1, 1, 1, 1, 1, 1, 1, 1, 1,\n",
              "       1, 1, 1, 1, 1, 0, 0, 1, 1, 1, 1, 1, 1, 1, 1, 1, 1, 1, 0, 1, 1, 1,\n",
              "       1, 1, 1, 1, 1, 1, 0, 1, 0, 1, 1, 1, 1, 1, 1, 1, 1, 1, 0, 1, 1, 0,\n",
              "       1, 1, 1, 1, 0, 1, 1, 0, 1, 1, 1, 0, 1, 1, 0, 0, 0, 0, 0, 1, 1, 0,\n",
              "       1, 1, 1, 1, 1, 1, 1, 0, 1])"
            ]
          },
          "metadata": {
            "tags": []
          },
          "execution_count": 31
        }
      ]
    },
    {
      "cell_type": "code",
      "metadata": {
        "id": "-qWNwWiRleqe",
        "colab_type": "code",
        "colab": {}
      },
      "source": [
        "lda = LinearDiscriminantAnalysis()"
      ],
      "execution_count": null,
      "outputs": []
    },
    {
      "cell_type": "code",
      "metadata": {
        "id": "0-RRzi7Plg-B",
        "colab_type": "code",
        "colab": {
          "base_uri": "https://localhost:8080/"
        },
        "outputId": "a3867d88-590f-4752-81b7-241241492c51"
      },
      "source": [
        "lda.fit(X_train, y_train)"
      ],
      "execution_count": null,
      "outputs": [
        {
          "output_type": "execute_result",
          "data": {
            "text/plain": [
              "LinearDiscriminantAnalysis(n_components=None, priors=None, shrinkage=None,\n",
              "                           solver='svd', store_covariance=False, tol=0.0001)"
            ]
          },
          "metadata": {
            "tags": []
          },
          "execution_count": 33
        }
      ]
    },
    {
      "cell_type": "code",
      "metadata": {
        "id": "rNCdSkLDll4n",
        "colab_type": "code",
        "colab": {
          "base_uri": "https://localhost:8080/"
        },
        "outputId": "9fb49882-e88f-42d4-bba8-687e48f5b948"
      },
      "source": [
        "#almost exact same as logistic regression\n",
        "confusion_matrix(y_test, lda.predict(X_test))"
      ],
      "execution_count": null,
      "outputs": [
        {
          "output_type": "execute_result",
          "data": {
            "text/plain": [
              "array([[ 37,  74],\n",
              "       [ 30, 111]])"
            ]
          },
          "metadata": {
            "tags": []
          },
          "execution_count": 34
        }
      ]
    },
    {
      "cell_type": "code",
      "metadata": {
        "id": "Nqd_KedPlpz-",
        "colab_type": "code",
        "colab": {
          "base_uri": "https://localhost:8080/"
        },
        "outputId": "ab4e3a01-c43c-45a4-8a64-db78f9534396"
      },
      "source": [
        "lda.priors_"
      ],
      "execution_count": null,
      "outputs": [
        {
          "output_type": "execute_result",
          "data": {
            "text/plain": [
              "array([0.49198397, 0.50801603])"
            ]
          },
          "metadata": {
            "tags": []
          },
          "execution_count": 35
        }
      ]
    },
    {
      "cell_type": "code",
      "metadata": {
        "id": "ivdmZlAYlu6n",
        "colab_type": "code",
        "colab": {
          "base_uri": "https://localhost:8080/"
        },
        "outputId": "b0b225b9-b949-4731-d435-4edc90af04f7"
      },
      "source": [
        "# use QDA with only 2 variables\n",
        "qda = QuadraticDiscriminantAnalysis()\n",
        "qda.fit(X_train[:,:2], y_train)"
      ],
      "execution_count": null,
      "outputs": [
        {
          "output_type": "execute_result",
          "data": {
            "text/plain": [
              "QuadraticDiscriminantAnalysis(priors=None, reg_param=0.0,\n",
              "                              store_covariance=False, tol=0.0001)"
            ]
          },
          "metadata": {
            "tags": []
          },
          "execution_count": 36
        }
      ]
    },
    {
      "cell_type": "code",
      "metadata": {
        "id": "tqpnNyF1lx-m",
        "colab_type": "code",
        "colab": {
          "base_uri": "https://localhost:8080/"
        },
        "outputId": "784fcd9c-01fc-4aca-8d5e-7d5319ef9eb8"
      },
      "source": [
        "#almost exact same as logistic regression\n",
        "confusion_matrix(y_test, qda.predict(X_test[:,:2]))"
      ],
      "execution_count": null,
      "outputs": [
        {
          "output_type": "execute_result",
          "data": {
            "text/plain": [
              "array([[ 30,  81],\n",
              "       [ 20, 121]])"
            ]
          },
          "metadata": {
            "tags": []
          },
          "execution_count": 37
        }
      ]
    },
    {
      "cell_type": "code",
      "metadata": {
        "id": "ngZeVAL_lz9w",
        "colab_type": "code",
        "colab": {}
      },
      "source": [
        "knn = KNeighborsClassifier(n_neighbors=3)"
      ],
      "execution_count": null,
      "outputs": []
    },
    {
      "cell_type": "code",
      "metadata": {
        "id": "JoxWEzFfl4la",
        "colab_type": "code",
        "colab": {
          "base_uri": "https://localhost:8080/"
        },
        "outputId": "2509f1fd-f7ed-4bf6-fa5b-f942d0b67c30"
      },
      "source": [
        "knn.fit(X_train[:,:2], y_train)"
      ],
      "execution_count": null,
      "outputs": [
        {
          "output_type": "execute_result",
          "data": {
            "text/plain": [
              "KNeighborsClassifier(algorithm='auto', leaf_size=30, metric='minkowski',\n",
              "                     metric_params=None, n_jobs=None, n_neighbors=3, p=2,\n",
              "                     weights='uniform')"
            ]
          },
          "metadata": {
            "tags": []
          },
          "execution_count": 39
        }
      ]
    },
    {
      "cell_type": "code",
      "metadata": {
        "id": "3GmJ3J0gl7Ia",
        "colab_type": "code",
        "colab": {
          "base_uri": "https://localhost:8080/"
        },
        "outputId": "67c3294d-441b-41f5-a1f3-3eb9d19f6357"
      },
      "source": [
        "confusion_matrix(y_test, knn.predict(X_test[:,:2]))"
      ],
      "execution_count": null,
      "outputs": [
        {
          "output_type": "execute_result",
          "data": {
            "text/plain": [
              "array([[48, 63],\n",
              "       [55, 86]])"
            ]
          },
          "metadata": {
            "tags": []
          },
          "execution_count": 40
        }
      ]
    },
    {
      "cell_type": "markdown",
      "metadata": {
        "id": "hF_0mTLLl_F5",
        "colab_type": "text"
      },
      "source": [
        "## Excercises\n",
        "\n",
        "Question 1\n",
        "\n",
        "Convert equation 1.1 to 1.2.  \n",
        "\n",
        "1.1\n",
        "$$p(x) = \\frac{e^{\\beta_0 + \\beta_1X}}{1 + e^{\\beta_0 + \\beta_1X}}$$\n",
        "\n",
        "1.2\n",
        "$$\\frac{p(x)}{1 - p(x)} = e^{\\beta_0 + \\beta_1X}$$\n",
        "\n",
        "Answer 1\n",
        "\n",
        "First, multiply 1.1 by negative 1 and add 1 to both sides\n",
        "$$1 - p(x) = 1 - \\frac{e^{\\beta_0 + \\beta_1X}}{1 + e^{\\beta_0 + \\beta_1X}}$$\n",
        "Simplify right hand side\n",
        "$$1 - p(x) = \\frac{1}{1 + e^{\\beta_0 + \\beta_1X}}$$\n",
        "Now just divide 1.2 by the last equation and you have the result\n",
        "\n"
      ]
    },
    {
      "cell_type": "code",
      "metadata": {
        "id": "LHMqLfPVmv6o",
        "colab_type": "code",
        "colab": {
          "base_uri": "https://localhost:8080/",
          "height": 50
        },
        "outputId": "828ad0d4-6749-414c-db4a-243d42866157"
      },
      "source": [
        "# a\n",
        "b0 = -6\n",
        "b1 = .05\n",
        "b2 = 1\n",
        "x1 = 40\n",
        "x2 = 3.5\n",
        "t = -6 + b1 * x1 + b2 * x2\n",
        "print(\"student has a {:.3f} probability of getting an A\".format(1 / (1 + np.exp(-t))))\n",
        "\n",
        "#b. solve for t = 0. Since an odds of 1 corresponds to 50/50 chance and log(1) = 0\n",
        "# 0 = -6 + b1 * x1 + b2 * x2\n",
        "hours = (6 - b2 * x2) / b1\n",
        "print(\"student needs to study {} hours to have a 50% chance at an A\".format(1 / (1 + np.exp(-t))))"
      ],
      "execution_count": null,
      "outputs": [
        {
          "output_type": "stream",
          "text": [
            "student has a 0.378 probability of getting an A\n",
            "student needs to study 0.3775406687981454 hours to have a 50% chance at an A\n"
          ],
          "name": "stdout"
        }
      ]
    },
    {
      "cell_type": "code",
      "metadata": {
        "id": "_HMOgBwlm0b6",
        "colab_type": "code",
        "colab": {
          "base_uri": "https://localhost:8080/",
          "height": 34
        },
        "outputId": "6ea839fc-819f-49be-faf6-b3b09eab1894"
      },
      "source": [
        "# double check 50%\n",
        "b0 = -6\n",
        "b1 = .05\n",
        "b2 = 1\n",
        "x1 = 50\n",
        "x2 = 3.5\n",
        "t = -6 + b1 * x1 + b2 * x2\n",
        "1 / (1 + np.exp(-t))"
      ],
      "execution_count": null,
      "outputs": [
        {
          "output_type": "execute_result",
          "data": {
            "text/plain": [
              "0.5"
            ]
          },
          "metadata": {
            "tags": []
          },
          "execution_count": 42
        }
      ]
    },
    {
      "cell_type": "code",
      "metadata": {
        "id": "EZo7siqxm_1c",
        "colab_type": "code",
        "colab": {}
      },
      "source": [
        "# 7\n",
        "prior = .8\n",
        "mu_d = 10\n",
        "mu_no_d = 0\n",
        "sigma = 6\n",
        "normal = lambda x, m, s: 1 / np.sqrt(2 * np.pi * s ** 2) * np.exp(-(x - m) ** 2 / (2 * s ** 2))"
      ],
      "execution_count": null,
      "outputs": []
    },
    {
      "cell_type": "code",
      "metadata": {
        "id": "zFMVDoD2nF08",
        "colab_type": "code",
        "colab": {
          "base_uri": "https://localhost:8080/",
          "height": 34
        },
        "outputId": "86dbe747-723a-42c1-f7f8-a325cda9e082"
      },
      "source": [
        "f_d = normal(4, 10, 6)\n",
        "f_no_d = normal(4, 0, 6)\n",
        "f_d, f_no_d"
      ],
      "execution_count": null,
      "outputs": [
        {
          "output_type": "execute_result",
          "data": {
            "text/plain": [
              "(0.0403284540865239, 0.053241334253725375)"
            ]
          },
          "metadata": {
            "tags": []
          },
          "execution_count": 44
        }
      ]
    },
    {
      "cell_type": "code",
      "metadata": {
        "id": "B-2Goeg8nIw3",
        "colab_type": "code",
        "colab": {
          "base_uri": "https://localhost:8080/",
          "height": 34
        },
        "outputId": "f7aae312-1388-4ec7-8f6b-bd11329dad56"
      },
      "source": [
        "# bayes\n",
        "prob_div = prior * f_d / (prior * f_d + (1 - prior) * f_no_d)\n",
        "print(\"Probability of dividend is {:.3f}\".format(prob_div))"
      ],
      "execution_count": null,
      "outputs": [
        {
          "output_type": "stream",
          "text": [
            "Probability of dividend is 0.752\n"
          ],
          "name": "stdout"
        }
      ]
    },
    {
      "cell_type": "code",
      "metadata": {
        "id": "aQtt6WtinNMO",
        "colab_type": "code",
        "colab": {
          "base_uri": "https://localhost:8080/",
          "height": 50
        },
        "outputId": "e625feb2-1c46-4240-8fa5-2d7095351560"
      },
      "source": [
        "# a\n",
        "# p / (1 - p) = .37\n",
        "# 1 / p - 1 = 1 / .37\n",
        "odds = .37\n",
        "one_over_p = 1 + 1 / odds\n",
        "p = 1 / one_over_p\n",
        "print(\"The probability of defaulting with odds of {} are {:.2f}\".format(odds, p))\n",
        "print(\"The odds of defaulting with probability .16 are {:.2f}\".format(.16 / .84))"
      ],
      "execution_count": null,
      "outputs": [
        {
          "output_type": "stream",
          "text": [
            "The probability of defaulting with odds of 0.37 are 0.27\n",
            "The odds of defaulting with probability .16 are 0.19\n"
          ],
          "name": "stdout"
        }
      ]
    },
    {
      "cell_type": "markdown",
      "metadata": {
        "id": "zvdbm__hy0_t",
        "colab_type": "text"
      },
      "source": [
        "# 2. The following questions should be answered using the Weekly data set. It contains 1, 089 weekly returns for 21 years, from the beginning of 1990 to the end of 2010.\n",
        "\n",
        "(a) Produce some numerical and graphical summaries of the Weekly\n",
        "data. Do there appear to be any patterns?"
      ]
    },
    {
      "cell_type": "code",
      "metadata": {
        "id": "tgqbKkENndns",
        "colab_type": "code",
        "colab": {
          "base_uri": "https://localhost:8080/",
          "height": 195
        },
        "outputId": "7dd6fc82-ed5e-4ba5-e500-223521241238"
      },
      "source": [
        "weekly = pd.read_csv(\"https://raw.githubusercontent.com/nikbearbrown/Google_Colab/master/data/weekly.csv\")\n",
        "weekly.head()"
      ],
      "execution_count": null,
      "outputs": [
        {
          "output_type": "execute_result",
          "data": {
            "text/html": [
              "<div>\n",
              "<style scoped>\n",
              "    .dataframe tbody tr th:only-of-type {\n",
              "        vertical-align: middle;\n",
              "    }\n",
              "\n",
              "    .dataframe tbody tr th {\n",
              "        vertical-align: top;\n",
              "    }\n",
              "\n",
              "    .dataframe thead th {\n",
              "        text-align: right;\n",
              "    }\n",
              "</style>\n",
              "<table border=\"1\" class=\"dataframe\">\n",
              "  <thead>\n",
              "    <tr style=\"text-align: right;\">\n",
              "      <th></th>\n",
              "      <th>Year</th>\n",
              "      <th>Lag1</th>\n",
              "      <th>Lag2</th>\n",
              "      <th>Lag3</th>\n",
              "      <th>Lag4</th>\n",
              "      <th>Lag5</th>\n",
              "      <th>Volume</th>\n",
              "      <th>Today</th>\n",
              "      <th>Direction</th>\n",
              "    </tr>\n",
              "  </thead>\n",
              "  <tbody>\n",
              "    <tr>\n",
              "      <th>0</th>\n",
              "      <td>1990</td>\n",
              "      <td>0.816</td>\n",
              "      <td>1.572</td>\n",
              "      <td>-3.936</td>\n",
              "      <td>-0.229</td>\n",
              "      <td>-3.484</td>\n",
              "      <td>0.154976</td>\n",
              "      <td>-0.270</td>\n",
              "      <td>Down</td>\n",
              "    </tr>\n",
              "    <tr>\n",
              "      <th>1</th>\n",
              "      <td>1990</td>\n",
              "      <td>-0.270</td>\n",
              "      <td>0.816</td>\n",
              "      <td>1.572</td>\n",
              "      <td>-3.936</td>\n",
              "      <td>-0.229</td>\n",
              "      <td>0.148574</td>\n",
              "      <td>-2.576</td>\n",
              "      <td>Down</td>\n",
              "    </tr>\n",
              "    <tr>\n",
              "      <th>2</th>\n",
              "      <td>1990</td>\n",
              "      <td>-2.576</td>\n",
              "      <td>-0.270</td>\n",
              "      <td>0.816</td>\n",
              "      <td>1.572</td>\n",
              "      <td>-3.936</td>\n",
              "      <td>0.159837</td>\n",
              "      <td>3.514</td>\n",
              "      <td>Up</td>\n",
              "    </tr>\n",
              "    <tr>\n",
              "      <th>3</th>\n",
              "      <td>1990</td>\n",
              "      <td>3.514</td>\n",
              "      <td>-2.576</td>\n",
              "      <td>-0.270</td>\n",
              "      <td>0.816</td>\n",
              "      <td>1.572</td>\n",
              "      <td>0.161630</td>\n",
              "      <td>0.712</td>\n",
              "      <td>Up</td>\n",
              "    </tr>\n",
              "    <tr>\n",
              "      <th>4</th>\n",
              "      <td>1990</td>\n",
              "      <td>0.712</td>\n",
              "      <td>3.514</td>\n",
              "      <td>-2.576</td>\n",
              "      <td>-0.270</td>\n",
              "      <td>0.816</td>\n",
              "      <td>0.153728</td>\n",
              "      <td>1.178</td>\n",
              "      <td>Up</td>\n",
              "    </tr>\n",
              "  </tbody>\n",
              "</table>\n",
              "</div>"
            ],
            "text/plain": [
              "   Year   Lag1   Lag2   Lag3   Lag4   Lag5    Volume  Today Direction\n",
              "0  1990  0.816  1.572 -3.936 -0.229 -3.484  0.154976 -0.270      Down\n",
              "1  1990 -0.270  0.816  1.572 -3.936 -0.229  0.148574 -2.576      Down\n",
              "2  1990 -2.576 -0.270  0.816  1.572 -3.936  0.159837  3.514        Up\n",
              "3  1990  3.514 -2.576 -0.270  0.816  1.572  0.161630  0.712        Up\n",
              "4  1990  0.712  3.514 -2.576 -0.270  0.816  0.153728  1.178        Up"
            ]
          },
          "metadata": {
            "tags": []
          },
          "execution_count": 47
        }
      ]
    },
    {
      "cell_type": "code",
      "metadata": {
        "id": "nihMRX5_njBe",
        "colab_type": "code",
        "colab": {
          "base_uri": "https://localhost:8080/",
          "height": 284
        },
        "outputId": "cde24164-4aa2-4365-b2c3-d5402d36db4b"
      },
      "source": [
        "# strongest correlations with today are lag1 and lag3\n",
        "weekly.corr()"
      ],
      "execution_count": null,
      "outputs": [
        {
          "output_type": "execute_result",
          "data": {
            "text/html": [
              "<div>\n",
              "<style scoped>\n",
              "    .dataframe tbody tr th:only-of-type {\n",
              "        vertical-align: middle;\n",
              "    }\n",
              "\n",
              "    .dataframe tbody tr th {\n",
              "        vertical-align: top;\n",
              "    }\n",
              "\n",
              "    .dataframe thead th {\n",
              "        text-align: right;\n",
              "    }\n",
              "</style>\n",
              "<table border=\"1\" class=\"dataframe\">\n",
              "  <thead>\n",
              "    <tr style=\"text-align: right;\">\n",
              "      <th></th>\n",
              "      <th>Year</th>\n",
              "      <th>Lag1</th>\n",
              "      <th>Lag2</th>\n",
              "      <th>Lag3</th>\n",
              "      <th>Lag4</th>\n",
              "      <th>Lag5</th>\n",
              "      <th>Volume</th>\n",
              "      <th>Today</th>\n",
              "    </tr>\n",
              "  </thead>\n",
              "  <tbody>\n",
              "    <tr>\n",
              "      <th>Year</th>\n",
              "      <td>1.000000</td>\n",
              "      <td>-0.032289</td>\n",
              "      <td>-0.033390</td>\n",
              "      <td>-0.030006</td>\n",
              "      <td>-0.031128</td>\n",
              "      <td>-0.030519</td>\n",
              "      <td>0.841942</td>\n",
              "      <td>-0.032460</td>\n",
              "    </tr>\n",
              "    <tr>\n",
              "      <th>Lag1</th>\n",
              "      <td>-0.032289</td>\n",
              "      <td>1.000000</td>\n",
              "      <td>-0.074853</td>\n",
              "      <td>0.058636</td>\n",
              "      <td>-0.071274</td>\n",
              "      <td>-0.008183</td>\n",
              "      <td>-0.064951</td>\n",
              "      <td>-0.075032</td>\n",
              "    </tr>\n",
              "    <tr>\n",
              "      <th>Lag2</th>\n",
              "      <td>-0.033390</td>\n",
              "      <td>-0.074853</td>\n",
              "      <td>1.000000</td>\n",
              "      <td>-0.075721</td>\n",
              "      <td>0.058382</td>\n",
              "      <td>-0.072499</td>\n",
              "      <td>-0.085513</td>\n",
              "      <td>0.059167</td>\n",
              "    </tr>\n",
              "    <tr>\n",
              "      <th>Lag3</th>\n",
              "      <td>-0.030006</td>\n",
              "      <td>0.058636</td>\n",
              "      <td>-0.075721</td>\n",
              "      <td>1.000000</td>\n",
              "      <td>-0.075396</td>\n",
              "      <td>0.060657</td>\n",
              "      <td>-0.069288</td>\n",
              "      <td>-0.071244</td>\n",
              "    </tr>\n",
              "    <tr>\n",
              "      <th>Lag4</th>\n",
              "      <td>-0.031128</td>\n",
              "      <td>-0.071274</td>\n",
              "      <td>0.058382</td>\n",
              "      <td>-0.075396</td>\n",
              "      <td>1.000000</td>\n",
              "      <td>-0.075675</td>\n",
              "      <td>-0.061075</td>\n",
              "      <td>-0.007826</td>\n",
              "    </tr>\n",
              "    <tr>\n",
              "      <th>Lag5</th>\n",
              "      <td>-0.030519</td>\n",
              "      <td>-0.008183</td>\n",
              "      <td>-0.072499</td>\n",
              "      <td>0.060657</td>\n",
              "      <td>-0.075675</td>\n",
              "      <td>1.000000</td>\n",
              "      <td>-0.058517</td>\n",
              "      <td>0.011013</td>\n",
              "    </tr>\n",
              "    <tr>\n",
              "      <th>Volume</th>\n",
              "      <td>0.841942</td>\n",
              "      <td>-0.064951</td>\n",
              "      <td>-0.085513</td>\n",
              "      <td>-0.069288</td>\n",
              "      <td>-0.061075</td>\n",
              "      <td>-0.058517</td>\n",
              "      <td>1.000000</td>\n",
              "      <td>-0.033078</td>\n",
              "    </tr>\n",
              "    <tr>\n",
              "      <th>Today</th>\n",
              "      <td>-0.032460</td>\n",
              "      <td>-0.075032</td>\n",
              "      <td>0.059167</td>\n",
              "      <td>-0.071244</td>\n",
              "      <td>-0.007826</td>\n",
              "      <td>0.011013</td>\n",
              "      <td>-0.033078</td>\n",
              "      <td>1.000000</td>\n",
              "    </tr>\n",
              "  </tbody>\n",
              "</table>\n",
              "</div>"
            ],
            "text/plain": [
              "            Year      Lag1      Lag2  ...      Lag5    Volume     Today\n",
              "Year    1.000000 -0.032289 -0.033390  ... -0.030519  0.841942 -0.032460\n",
              "Lag1   -0.032289  1.000000 -0.074853  ... -0.008183 -0.064951 -0.075032\n",
              "Lag2   -0.033390 -0.074853  1.000000  ... -0.072499 -0.085513  0.059167\n",
              "Lag3   -0.030006  0.058636 -0.075721  ...  0.060657 -0.069288 -0.071244\n",
              "Lag4   -0.031128 -0.071274  0.058382  ... -0.075675 -0.061075 -0.007826\n",
              "Lag5   -0.030519 -0.008183 -0.072499  ...  1.000000 -0.058517  0.011013\n",
              "Volume  0.841942 -0.064951 -0.085513  ... -0.058517  1.000000 -0.033078\n",
              "Today  -0.032460 -0.075032  0.059167  ...  0.011013 -0.033078  1.000000\n",
              "\n",
              "[8 rows x 8 columns]"
            ]
          },
          "metadata": {
            "tags": []
          },
          "execution_count": 48
        }
      ]
    },
    {
      "cell_type": "code",
      "metadata": {
        "id": "w7S74AjOnUw6",
        "colab_type": "code",
        "colab": {
          "base_uri": "https://localhost:8080/",
          "height": 282
        },
        "outputId": "bb8e7e11-3a98-4c69-8272-168f44041b7d"
      },
      "source": [
        "today = weekly['Today']\n",
        "today_perc = (100 + today) / 100\n",
        "today_perc.cumprod().plot()"
      ],
      "execution_count": null,
      "outputs": [
        {
          "output_type": "execute_result",
          "data": {
            "text/plain": [
              "<matplotlib.axes._subplots.AxesSubplot at 0x7fc9becee358>"
            ]
          },
          "metadata": {
            "tags": []
          },
          "execution_count": 49
        },
        {
          "output_type": "display_data",
          "data": {
            "image/png": "[encoded data removed]",
            "text/plain": [
              "<Figure size 432x288 with 1 Axes>"
            ]
          },
          "metadata": {
            "tags": [],
            "needs_background": "light"
          }
        }
      ]
    },
    {
      "cell_type": "code",
      "metadata": {
        "id": "xuF33tHbnozk",
        "colab_type": "code",
        "colab": {
          "base_uri": "https://localhost:8080/",
          "height": 282
        },
        "outputId": "bb9b462c-10b8-49e0-86b5-b152d170385f"
      },
      "source": [
        "weekly['Volume'].plot()"
      ],
      "execution_count": null,
      "outputs": [
        {
          "output_type": "execute_result",
          "data": {
            "text/plain": [
              "<matplotlib.axes._subplots.AxesSubplot at 0x7fc9bec6b160>"
            ]
          },
          "metadata": {
            "tags": []
          },
          "execution_count": 50
        },
        {
          "output_type": "display_data",
          "data": {
            "image/png": "[encoded data removed]",
            "text/plain": [
              "<Figure size 432x288 with 1 Axes>"
            ]
          },
          "metadata": {
            "tags": [],
            "needs_background": "light"
          }
        }
      ]
    },
    {
      "cell_type": "code",
      "metadata": {
        "id": "nvaWw1Yynr5w",
        "colab_type": "code",
        "colab": {
          "base_uri": "https://localhost:8080/",
          "height": 405
        },
        "outputId": "ce096821-1b4a-49ea-e8cf-961cee078587"
      },
      "source": [
        "plt.figure(figsize=(8, 6))\n",
        "sns.boxplot('Direction', 'Lag1', data=weekly)"
      ],
      "execution_count": null,
      "outputs": [
        {
          "output_type": "execute_result",
          "data": {
            "text/plain": [
              "<matplotlib.axes._subplots.AxesSubplot at 0x7fc9bec3c320>"
            ]
          },
          "metadata": {
            "tags": []
          },
          "execution_count": 51
        },
        {
          "output_type": "display_data",
          "data": {
            "image/png": "[encoded data removed]",
            "text/plain": [
              "<Figure size 576x432 with 1 Axes>"
            ]
          },
          "metadata": {
            "tags": [],
            "needs_background": "light"
          }
        }
      ]
    },
    {
      "cell_type": "code",
      "metadata": {
        "id": "slvjya1pnwYo",
        "colab_type": "code",
        "colab": {
          "base_uri": "https://localhost:8080/",
          "height": 405
        },
        "outputId": "e7a26f8f-e0f4-4998-ca40-f2474187444c"
      },
      "source": [
        "plt.figure(figsize=(8, 6))\n",
        "sns.boxplot('Direction', 'Lag3', data=weekly)"
      ],
      "execution_count": null,
      "outputs": [
        {
          "output_type": "execute_result",
          "data": {
            "text/plain": [
              "<matplotlib.axes._subplots.AxesSubplot at 0x7fc9bebb8240>"
            ]
          },
          "metadata": {
            "tags": []
          },
          "execution_count": 52
        },
        {
          "output_type": "display_data",
          "data": {
            "image/png": "[encoded data removed]",
            "text/plain": [
              "<Figure size 576x432 with 1 Axes>"
            ]
          },
          "metadata": {
            "tags": [],
            "needs_background": "light"
          }
        }
      ]
    },
    {
      "cell_type": "markdown",
      "metadata": {
        "id": "qWqTz38EzVhR",
        "colab_type": "text"
      },
      "source": [
        "(b) Perform a logistic regression with\n",
        "Direction as the response and the five lag variables plus Volume\n",
        "as predictors. Use the summary function to print the results. Do\n",
        "any of the predictors appear to be statistically significant? If so,\n",
        "which ones?"
      ]
    },
    {
      "cell_type": "code",
      "metadata": {
        "id": "hyH1vrSZn9jk",
        "colab_type": "code",
        "colab": {}
      },
      "source": [
        "weekly['Direction'] = np.where(weekly['Direction'] == 'Up', 1, 0)"
      ],
      "execution_count": null,
      "outputs": []
    },
    {
      "cell_type": "code",
      "metadata": {
        "id": "FKBvURqooBHy",
        "colab_type": "code",
        "colab": {
          "base_uri": "https://localhost:8080/",
          "height": 387
        },
        "outputId": "d78daa5c-a099-4713-a401-577142349ef9"
      },
      "source": [
        "results = smf.logit('Direction ~ Lag1 + Lag2 + Lag3 + Lag4 + Lag5 + Volume', data=weekly).fit()\n",
        "results.summary()"
      ],
      "execution_count": null,
      "outputs": [
        {
          "output_type": "stream",
          "text": [
            "Optimization terminated successfully.\n",
            "         Current function value: 0.682441\n",
            "         Iterations 4\n"
          ],
          "name": "stdout"
        },
        {
          "output_type": "execute_result",
          "data": {
            "text/html": [
              "<table class=\"simpletable\">\n",
              "<caption>Logit Regression Results</caption>\n",
              "<tr>\n",
              "  <th>Dep. Variable:</th>       <td>Direction</td>    <th>  No. Observations:  </th>  <td>  1089</td> \n",
              "</tr>\n",
              "<tr>\n",
              "  <th>Model:</th>                 <td>Logit</td>      <th>  Df Residuals:      </th>  <td>  1082</td> \n",
              "</tr>\n",
              "<tr>\n",
              "  <th>Method:</th>                 <td>MLE</td>       <th>  Df Model:          </th>  <td>     6</td> \n",
              "</tr>\n",
              "<tr>\n",
              "  <th>Date:</th>            <td>Wed, 23 Sep 2020</td> <th>  Pseudo R-squ.:     </th> <td>0.006580</td>\n",
              "</tr>\n",
              "<tr>\n",
              "  <th>Time:</th>                <td>07:35:14</td>     <th>  Log-Likelihood:    </th> <td> -743.18</td>\n",
              "</tr>\n",
              "<tr>\n",
              "  <th>converged:</th>             <td>True</td>       <th>  LL-Null:           </th> <td> -748.10</td>\n",
              "</tr>\n",
              "<tr>\n",
              "  <th>Covariance Type:</th>     <td>nonrobust</td>    <th>  LLR p-value:       </th>  <td>0.1313</td> \n",
              "</tr>\n",
              "</table>\n",
              "<table class=\"simpletable\">\n",
              "<tr>\n",
              "      <td></td>         <th>coef</th>     <th>std err</th>      <th>z</th>      <th>P>|z|</th>  <th>[0.025</th>    <th>0.975]</th>  \n",
              "</tr>\n",
              "<tr>\n",
              "  <th>Intercept</th> <td>    0.2669</td> <td>    0.086</td> <td>    3.106</td> <td> 0.002</td> <td>    0.098</td> <td>    0.435</td>\n",
              "</tr>\n",
              "<tr>\n",
              "  <th>Lag1</th>      <td>   -0.0413</td> <td>    0.026</td> <td>   -1.563</td> <td> 0.118</td> <td>   -0.093</td> <td>    0.010</td>\n",
              "</tr>\n",
              "<tr>\n",
              "  <th>Lag2</th>      <td>    0.0584</td> <td>    0.027</td> <td>    2.175</td> <td> 0.030</td> <td>    0.006</td> <td>    0.111</td>\n",
              "</tr>\n",
              "<tr>\n",
              "  <th>Lag3</th>      <td>   -0.0161</td> <td>    0.027</td> <td>   -0.602</td> <td> 0.547</td> <td>   -0.068</td> <td>    0.036</td>\n",
              "</tr>\n",
              "<tr>\n",
              "  <th>Lag4</th>      <td>   -0.0278</td> <td>    0.026</td> <td>   -1.050</td> <td> 0.294</td> <td>   -0.080</td> <td>    0.024</td>\n",
              "</tr>\n",
              "<tr>\n",
              "  <th>Lag5</th>      <td>   -0.0145</td> <td>    0.026</td> <td>   -0.549</td> <td> 0.583</td> <td>   -0.066</td> <td>    0.037</td>\n",
              "</tr>\n",
              "<tr>\n",
              "  <th>Volume</th>    <td>   -0.0227</td> <td>    0.037</td> <td>   -0.616</td> <td> 0.538</td> <td>   -0.095</td> <td>    0.050</td>\n",
              "</tr>\n",
              "</table>"
            ],
            "text/plain": [
              "<class 'statsmodels.iolib.summary.Summary'>\n",
              "\"\"\"\n",
              "                           Logit Regression Results                           \n",
              "==============================================================================\n",
              "Dep. Variable:              Direction   No. Observations:                 1089\n",
              "Model:                          Logit   Df Residuals:                     1082\n",
              "Method:                           MLE   Df Model:                            6\n",
              "Date:                Wed, 23 Sep 2020   Pseudo R-squ.:                0.006580\n",
              "Time:                        07:35:14   Log-Likelihood:                -743.18\n",
              "converged:                       True   LL-Null:                       -748.10\n",
              "Covariance Type:            nonrobust   LLR p-value:                    0.1313\n",
              "==============================================================================\n",
              "                 coef    std err          z      P>|z|      [0.025      0.975]\n",
              "------------------------------------------------------------------------------\n",
              "Intercept      0.2669      0.086      3.106      0.002       0.098       0.435\n",
              "Lag1          -0.0413      0.026     -1.563      0.118      -0.093       0.010\n",
              "Lag2           0.0584      0.027      2.175      0.030       0.006       0.111\n",
              "Lag3          -0.0161      0.027     -0.602      0.547      -0.068       0.036\n",
              "Lag4          -0.0278      0.026     -1.050      0.294      -0.080       0.024\n",
              "Lag5          -0.0145      0.026     -0.549      0.583      -0.066       0.037\n",
              "Volume        -0.0227      0.037     -0.616      0.538      -0.095       0.050\n",
              "==============================================================================\n",
              "\"\"\""
            ]
          },
          "metadata": {
            "tags": []
          },
          "execution_count": 54
        }
      ]
    },
    {
      "cell_type": "code",
      "metadata": {
        "id": "6legzJbdoJcD",
        "colab_type": "code",
        "colab": {
          "base_uri": "https://localhost:8080/",
          "height": 287
        },
        "outputId": "e8f37769-07cd-455f-a60c-f46b61d0feed"
      },
      "source": [
        "results = smf.logit('Direction ~ Lag2', data=weekly).fit()\n",
        "results.summary()"
      ],
      "execution_count": null,
      "outputs": [
        {
          "output_type": "stream",
          "text": [
            "Optimization terminated successfully.\n",
            "         Current function value: 0.684306\n",
            "         Iterations 4\n"
          ],
          "name": "stdout"
        },
        {
          "output_type": "execute_result",
          "data": {
            "text/html": [
              "<table class=\"simpletable\">\n",
              "<caption>Logit Regression Results</caption>\n",
              "<tr>\n",
              "  <th>Dep. Variable:</th>       <td>Direction</td>    <th>  No. Observations:  </th>  <td>  1089</td> \n",
              "</tr>\n",
              "<tr>\n",
              "  <th>Model:</th>                 <td>Logit</td>      <th>  Df Residuals:      </th>  <td>  1087</td> \n",
              "</tr>\n",
              "<tr>\n",
              "  <th>Method:</th>                 <td>MLE</td>       <th>  Df Model:          </th>  <td>     1</td> \n",
              "</tr>\n",
              "<tr>\n",
              "  <th>Date:</th>            <td>Wed, 23 Sep 2020</td> <th>  Pseudo R-squ.:     </th> <td>0.003866</td>\n",
              "</tr>\n",
              "<tr>\n",
              "  <th>Time:</th>                <td>07:35:14</td>     <th>  Log-Likelihood:    </th> <td> -745.21</td>\n",
              "</tr>\n",
              "<tr>\n",
              "  <th>converged:</th>             <td>True</td>       <th>  LL-Null:           </th> <td> -748.10</td>\n",
              "</tr>\n",
              "<tr>\n",
              "  <th>Covariance Type:</th>     <td>nonrobust</td>    <th>  LLR p-value:       </th>  <td>0.01617</td>\n",
              "</tr>\n",
              "</table>\n",
              "<table class=\"simpletable\">\n",
              "<tr>\n",
              "      <td></td>         <th>coef</th>     <th>std err</th>      <th>z</th>      <th>P>|z|</th>  <th>[0.025</th>    <th>0.975]</th>  \n",
              "</tr>\n",
              "<tr>\n",
              "  <th>Intercept</th> <td>    0.2147</td> <td>    0.061</td> <td>    3.507</td> <td> 0.000</td> <td>    0.095</td> <td>    0.335</td>\n",
              "</tr>\n",
              "<tr>\n",
              "  <th>Lag2</th>      <td>    0.0628</td> <td>    0.026</td> <td>    2.382</td> <td> 0.017</td> <td>    0.011</td> <td>    0.114</td>\n",
              "</tr>\n",
              "</table>"
            ],
            "text/plain": [
              "<class 'statsmodels.iolib.summary.Summary'>\n",
              "\"\"\"\n",
              "                           Logit Regression Results                           \n",
              "==============================================================================\n",
              "Dep. Variable:              Direction   No. Observations:                 1089\n",
              "Model:                          Logit   Df Residuals:                     1087\n",
              "Method:                           MLE   Df Model:                            1\n",
              "Date:                Wed, 23 Sep 2020   Pseudo R-squ.:                0.003866\n",
              "Time:                        07:35:14   Log-Likelihood:                -745.21\n",
              "converged:                       True   LL-Null:                       -748.10\n",
              "Covariance Type:            nonrobust   LLR p-value:                   0.01617\n",
              "==============================================================================\n",
              "                 coef    std err          z      P>|z|      [0.025      0.975]\n",
              "------------------------------------------------------------------------------\n",
              "Intercept      0.2147      0.061      3.507      0.000       0.095       0.335\n",
              "Lag2           0.0628      0.026      2.382      0.017       0.011       0.114\n",
              "==============================================================================\n",
              "\"\"\""
            ]
          },
          "metadata": {
            "tags": []
          },
          "execution_count": 55
        }
      ]
    },
    {
      "cell_type": "code",
      "metadata": {
        "id": "pzYfp4CjoP2w",
        "colab_type": "code",
        "colab": {}
      },
      "source": [
        "predictions = np.where(results.predict(weekly) > .5, 1, 0)"
      ],
      "execution_count": null,
      "outputs": []
    },
    {
      "cell_type": "markdown",
      "metadata": {
        "id": "3wkYdyTkz29O",
        "colab_type": "text"
      },
      "source": [
        "(c) Compute the confusion matrix and overall fraction of correct\n",
        "predictions. Explain what the confusion matrix is telling you\n",
        "about the types of mistakes made by logistic regression."
      ]
    },
    {
      "cell_type": "code",
      "metadata": {
        "id": "nzrD8Ic4uFnc",
        "colab_type": "code",
        "colab": {
          "base_uri": "https://localhost:8080/",
          "height": 50
        },
        "outputId": "1ee3eadc-8b42-4be7-c3bc-8f9b6d9c2a94"
      },
      "source": [
        "confusion_matrix(weekly['Direction'], predictions)"
      ],
      "execution_count": null,
      "outputs": [
        {
          "output_type": "execute_result",
          "data": {
            "text/plain": [
              "array([[ 33, 451],\n",
              "       [ 26, 579]])"
            ]
          },
          "metadata": {
            "tags": []
          },
          "execution_count": 57
        }
      ]
    },
    {
      "cell_type": "code",
      "metadata": {
        "id": "LQM26lspuIZS",
        "colab_type": "code",
        "colab": {
          "base_uri": "https://localhost:8080/",
          "height": 34
        },
        "outputId": "fd0e0c94-fb27-4a80-945a-00e7d441f258"
      },
      "source": [
        "451 / 1030 "
      ],
      "execution_count": null,
      "outputs": [
        {
          "output_type": "execute_result",
          "data": {
            "text/plain": [
              "0.43786407766990293"
            ]
          },
          "metadata": {
            "tags": []
          },
          "execution_count": 58
        }
      ]
    },
    {
      "cell_type": "code",
      "metadata": {
        "id": "TA-LZUZPuK12",
        "colab_type": "code",
        "colab": {
          "base_uri": "https://localhost:8080/",
          "height": 34
        },
        "outputId": "10a3a3c9-dfe4-4f48-e1a5-d09c38d83e78"
      },
      "source": [
        "weekly['Direction'].mean()"
      ],
      "execution_count": null,
      "outputs": [
        {
          "output_type": "execute_result",
          "data": {
            "text/plain": [
              "0.5555555555555556"
            ]
          },
          "metadata": {
            "tags": []
          },
          "execution_count": 59
        }
      ]
    },
    {
      "cell_type": "markdown",
      "metadata": {
        "id": "OxwTOa2j0Flo",
        "colab_type": "text"
      },
      "source": [
        "(d) Fit the logistic regression model using a training data period\n",
        "from 1990 to 2008, with Lag2 as the only predictor. Compute the\n",
        "confusion matrix and the overall fraction of correct predictions\n",
        "for the held out data (that is, the data from 2009 and 2010)."
      ]
    },
    {
      "cell_type": "code",
      "metadata": {
        "id": "DB0lgAtEuNyb",
        "colab_type": "code",
        "colab": {}
      },
      "source": [
        "year_bool = weekly['Year'] < 2009\n",
        "weekly['ones'] = 1\n",
        "X_train = weekly[year_bool][['ones', 'Lag2']].values\n",
        "X_test = weekly[~year_bool][['ones', 'Lag2']].values\n",
        "y_train = weekly[year_bool]['Direction'].values\n",
        "y_test = weekly[~year_bool]['Direction'].values"
      ],
      "execution_count": null,
      "outputs": []
    },
    {
      "cell_type": "code",
      "metadata": {
        "id": "4JE3hWm7uQpv",
        "colab_type": "code",
        "colab": {
          "base_uri": "https://localhost:8080/",
          "height": 101
        },
        "outputId": "2dfeb2b4-b947-43e0-e401-594487956149"
      },
      "source": [
        "lr =  LogisticRegression()\n",
        "lr.fit(X_train, y_train)"
      ],
      "execution_count": null,
      "outputs": [
        {
          "output_type": "execute_result",
          "data": {
            "text/plain": [
              "LogisticRegression(C=1.0, class_weight=None, dual=False, fit_intercept=True,\n",
              "                   intercept_scaling=1, l1_ratio=None, max_iter=100,\n",
              "                   multi_class='auto', n_jobs=None, penalty='l2',\n",
              "                   random_state=None, solver='lbfgs', tol=0.0001, verbose=0,\n",
              "                   warm_start=False)"
            ]
          },
          "metadata": {
            "tags": []
          },
          "execution_count": 61
        }
      ]
    },
    {
      "cell_type": "code",
      "metadata": {
        "id": "N-1HQO9vuTG5",
        "colab_type": "code",
        "colab": {
          "base_uri": "https://localhost:8080/",
          "height": 50
        },
        "outputId": "554ace1f-b5a1-43c7-f0f2-08cef1db6eee"
      },
      "source": [
        "confusion_matrix(y_test, lr.predict(X_test))"
      ],
      "execution_count": null,
      "outputs": [
        {
          "output_type": "execute_result",
          "data": {
            "text/plain": [
              "array([[ 9, 34],\n",
              "       [ 5, 56]])"
            ]
          },
          "metadata": {
            "tags": []
          },
          "execution_count": 62
        }
      ]
    },
    {
      "cell_type": "markdown",
      "metadata": {
        "id": "9DuzbLpp0UYC",
        "colab_type": "text"
      },
      "source": [
        "(e) Repeat (d) using LDA."
      ]
    },
    {
      "cell_type": "code",
      "metadata": {
        "id": "JT8BnRS-uV70",
        "colab_type": "code",
        "colab": {
          "base_uri": "https://localhost:8080/",
          "height": 50
        },
        "outputId": "5c0ce685-db3f-4595-b896-617b85d7b20e"
      },
      "source": [
        "lda = LinearDiscriminantAnalysis()\n",
        "lda.fit(X_train, y_train)\n",
        "confusion_matrix(y_test, lda.predict(X_test))"
      ],
      "execution_count": null,
      "outputs": [
        {
          "output_type": "execute_result",
          "data": {
            "text/plain": [
              "array([[ 9, 34],\n",
              "       [ 5, 56]])"
            ]
          },
          "metadata": {
            "tags": []
          },
          "execution_count": 63
        }
      ]
    },
    {
      "cell_type": "markdown",
      "metadata": {
        "id": "ITwd-5_-0X_P",
        "colab_type": "text"
      },
      "source": [
        "(f) Repeat (d) using QDA."
      ]
    },
    {
      "cell_type": "code",
      "metadata": {
        "id": "oWkCfFWwuZXY",
        "colab_type": "code",
        "colab": {
          "base_uri": "https://localhost:8080/",
          "height": 185
        },
        "outputId": "258194a4-31f6-4b99-aae2-f13db70b837f"
      },
      "source": [
        "qda = QuadraticDiscriminantAnalysis()\n",
        "qda.fit(X_train, y_train)\n",
        "confusion_matrix(y_test, qda.predict(X_test))"
      ],
      "execution_count": null,
      "outputs": [
        {
          "output_type": "stream",
          "text": [
            "/usr/local/lib/python3.6/dist-packages/sklearn/discriminant_analysis.py:691: UserWarning: Variables are collinear\n",
            "  warnings.warn(\"Variables are collinear\")\n",
            "/usr/local/lib/python3.6/dist-packages/sklearn/discriminant_analysis.py:715: RuntimeWarning: divide by zero encountered in power\n",
            "  X2 = np.dot(Xm, R * (S ** (-0.5)))\n",
            "/usr/local/lib/python3.6/dist-packages/sklearn/discriminant_analysis.py:715: RuntimeWarning: invalid value encountered in multiply\n",
            "  X2 = np.dot(Xm, R * (S ** (-0.5)))\n",
            "/usr/local/lib/python3.6/dist-packages/sklearn/discriminant_analysis.py:718: RuntimeWarning: divide by zero encountered in log\n",
            "  u = np.asarray([np.sum(np.log(s)) for s in self.scalings_])\n"
          ],
          "name": "stderr"
        },
        {
          "output_type": "execute_result",
          "data": {
            "text/plain": [
              "array([[43,  0],\n",
              "       [61,  0]])"
            ]
          },
          "metadata": {
            "tags": []
          },
          "execution_count": 64
        }
      ]
    },
    {
      "cell_type": "markdown",
      "metadata": {
        "id": "vXyWLGu00bnP",
        "colab_type": "text"
      },
      "source": [
        "(g) Repeat (d) using KNN with K = 1"
      ]
    },
    {
      "cell_type": "code",
      "metadata": {
        "id": "0-FMWh5CudXY",
        "colab_type": "code",
        "colab": {
          "base_uri": "https://localhost:8080/",
          "height": 50
        },
        "outputId": "e8b2299c-2d17-4793-a6ae-be7483009c6d"
      },
      "source": [
        "knn = KNeighborsClassifier(n_neighbors=1)\n",
        "knn.fit(X_train, y_train)\n",
        "confusion_matrix(y_test, knn.predict(X_test))"
      ],
      "execution_count": null,
      "outputs": [
        {
          "output_type": "execute_result",
          "data": {
            "text/plain": [
              "array([[21, 22],\n",
              "       [30, 31]])"
            ]
          },
          "metadata": {
            "tags": []
          },
          "execution_count": 65
        }
      ]
    },
    {
      "cell_type": "markdown",
      "metadata": {
        "id": "vz7uEgvf0rhM",
        "colab_type": "text"
      },
      "source": [
        "(h) Experiment with different combinations of predictors, including possible transformations and interactions, for each of the\n",
        "methods. Report the variables, method, and associated confusion matrix that appears to provide the best results on the held\n",
        "out data. Note that you should also experiment with values for\n",
        "K in the KNN classifier."
      ]
    },
    {
      "cell_type": "code",
      "metadata": {
        "id": "n7saWDjyugvO",
        "colab_type": "code",
        "colab": {
          "base_uri": "https://localhost:8080/",
          "height": 50
        },
        "outputId": "641dd19c-43e5-4a25-81ab-32c47f0c5998"
      },
      "source": [
        "knn = KNeighborsClassifier(n_neighbors=15)\n",
        "knn.fit(X_train, y_train)\n",
        "confusion_matrix(y_test, knn.predict(X_test))"
      ],
      "execution_count": null,
      "outputs": [
        {
          "output_type": "execute_result",
          "data": {
            "text/plain": [
              "array([[20, 23],\n",
              "       [20, 41]])"
            ]
          },
          "metadata": {
            "tags": []
          },
          "execution_count": 66
        }
      ]
    },
    {
      "cell_type": "code",
      "metadata": {
        "id": "pEXG_G_uujur",
        "colab_type": "code",
        "colab": {
          "base_uri": "https://localhost:8080/",
          "height": 287
        },
        "outputId": "49d709d8-db24-47d5-ee00-8cd6bd96f70d"
      },
      "source": [
        "results = smf.logit('Direction ~ np.power(Lag5, 2)', data=weekly).fit()\n",
        "results.summary()"
      ],
      "execution_count": null,
      "outputs": [
        {
          "output_type": "stream",
          "text": [
            "Optimization terminated successfully.\n",
            "         Current function value: 0.686956\n",
            "         Iterations 4\n"
          ],
          "name": "stdout"
        },
        {
          "output_type": "execute_result",
          "data": {
            "text/html": [
              "<table class=\"simpletable\">\n",
              "<caption>Logit Regression Results</caption>\n",
              "<tr>\n",
              "  <th>Dep. Variable:</th>       <td>Direction</td>    <th>  No. Observations:  </th>  <td>  1089</td>  \n",
              "</tr>\n",
              "<tr>\n",
              "  <th>Model:</th>                 <td>Logit</td>      <th>  Df Residuals:      </th>  <td>  1087</td>  \n",
              "</tr>\n",
              "<tr>\n",
              "  <th>Method:</th>                 <td>MLE</td>       <th>  Df Model:          </th>  <td>     1</td>  \n",
              "</tr>\n",
              "<tr>\n",
              "  <th>Date:</th>            <td>Wed, 23 Sep 2020</td> <th>  Pseudo R-squ.:     </th> <td>8.318e-06</td>\n",
              "</tr>\n",
              "<tr>\n",
              "  <th>Time:</th>                <td>07:35:15</td>     <th>  Log-Likelihood:    </th> <td> -748.09</td> \n",
              "</tr>\n",
              "<tr>\n",
              "  <th>converged:</th>             <td>True</td>       <th>  LL-Null:           </th> <td> -748.10</td> \n",
              "</tr>\n",
              "<tr>\n",
              "  <th>Covariance Type:</th>     <td>nonrobust</td>    <th>  LLR p-value:       </th>  <td>0.9112</td>  \n",
              "</tr>\n",
              "</table>\n",
              "<table class=\"simpletable\">\n",
              "<tr>\n",
              "          <td></td>             <th>coef</th>     <th>std err</th>      <th>z</th>      <th>P>|z|</th>  <th>[0.025</th>    <th>0.975]</th>  \n",
              "</tr>\n",
              "<tr>\n",
              "  <th>Intercept</th>         <td>    0.2256</td> <td>    0.065</td> <td>    3.475</td> <td> 0.001</td> <td>    0.098</td> <td>    0.353</td>\n",
              "</tr>\n",
              "<tr>\n",
              "  <th>np.power(Lag5, 2)</th> <td>   -0.0004</td> <td>    0.004</td> <td>   -0.112</td> <td> 0.911</td> <td>   -0.008</td> <td>    0.007</td>\n",
              "</tr>\n",
              "</table>"
            ],
            "text/plain": [
              "<class 'statsmodels.iolib.summary.Summary'>\n",
              "\"\"\"\n",
              "                           Logit Regression Results                           \n",
              "==============================================================================\n",
              "Dep. Variable:              Direction   No. Observations:                 1089\n",
              "Model:                          Logit   Df Residuals:                     1087\n",
              "Method:                           MLE   Df Model:                            1\n",
              "Date:                Wed, 23 Sep 2020   Pseudo R-squ.:               8.318e-06\n",
              "Time:                        07:35:15   Log-Likelihood:                -748.09\n",
              "converged:                       True   LL-Null:                       -748.10\n",
              "Covariance Type:            nonrobust   LLR p-value:                    0.9112\n",
              "=====================================================================================\n",
              "                        coef    std err          z      P>|z|      [0.025      0.975]\n",
              "-------------------------------------------------------------------------------------\n",
              "Intercept             0.2256      0.065      3.475      0.001       0.098       0.353\n",
              "np.power(Lag5, 2)    -0.0004      0.004     -0.112      0.911      -0.008       0.007\n",
              "=====================================================================================\n",
              "\"\"\""
            ]
          },
          "metadata": {
            "tags": []
          },
          "execution_count": 67
        }
      ]
    },
    {
      "cell_type": "code",
      "metadata": {
        "id": "Hq0Xa9IEum73",
        "colab_type": "code",
        "colab": {
          "base_uri": "https://localhost:8080/",
          "height": 287
        },
        "outputId": "06945cb4-4f42-47ce-bb5b-9d7a1d9b826e"
      },
      "source": [
        "results = smf.logit('Direction ~ np.power(Volume, 2)', data=weekly).fit()\n",
        "results.summary()"
      ],
      "execution_count": null,
      "outputs": [
        {
          "output_type": "stream",
          "text": [
            "Optimization terminated successfully.\n",
            "         Current function value: 0.686884\n",
            "         Iterations 4\n"
          ],
          "name": "stdout"
        },
        {
          "output_type": "execute_result",
          "data": {
            "text/html": [
              "<table class=\"simpletable\">\n",
              "<caption>Logit Regression Results</caption>\n",
              "<tr>\n",
              "  <th>Dep. Variable:</th>       <td>Direction</td>    <th>  No. Observations:  </th>  <td>  1089</td>  \n",
              "</tr>\n",
              "<tr>\n",
              "  <th>Model:</th>                 <td>Logit</td>      <th>  Df Residuals:      </th>  <td>  1087</td>  \n",
              "</tr>\n",
              "<tr>\n",
              "  <th>Method:</th>                 <td>MLE</td>       <th>  Df Model:          </th>  <td>     1</td>  \n",
              "</tr>\n",
              "<tr>\n",
              "  <th>Date:</th>            <td>Wed, 23 Sep 2020</td> <th>  Pseudo R-squ.:     </th> <td>0.0001136</td>\n",
              "</tr>\n",
              "<tr>\n",
              "  <th>Time:</th>                <td>07:35:15</td>     <th>  Log-Likelihood:    </th> <td> -748.02</td> \n",
              "</tr>\n",
              "<tr>\n",
              "  <th>converged:</th>             <td>True</td>       <th>  LL-Null:           </th> <td> -748.10</td> \n",
              "</tr>\n",
              "<tr>\n",
              "  <th>Covariance Type:</th>     <td>nonrobust</td>    <th>  LLR p-value:       </th>  <td>0.6801</td>  \n",
              "</tr>\n",
              "</table>\n",
              "<table class=\"simpletable\">\n",
              "<tr>\n",
              "           <td></td>              <th>coef</th>     <th>std err</th>      <th>z</th>      <th>P>|z|</th>  <th>[0.025</th>    <th>0.975]</th>  \n",
              "</tr>\n",
              "<tr>\n",
              "  <th>Intercept</th>           <td>    0.2359</td> <td>    0.068</td> <td>    3.448</td> <td> 0.001</td> <td>    0.102</td> <td>    0.370</td>\n",
              "</tr>\n",
              "<tr>\n",
              "  <th>np.power(Volume, 2)</th> <td>   -0.0024</td> <td>    0.006</td> <td>   -0.413</td> <td> 0.680</td> <td>   -0.014</td> <td>    0.009</td>\n",
              "</tr>\n",
              "</table>"
            ],
            "text/plain": [
              "<class 'statsmodels.iolib.summary.Summary'>\n",
              "\"\"\"\n",
              "                           Logit Regression Results                           \n",
              "==============================================================================\n",
              "Dep. Variable:              Direction   No. Observations:                 1089\n",
              "Model:                          Logit   Df Residuals:                     1087\n",
              "Method:                           MLE   Df Model:                            1\n",
              "Date:                Wed, 23 Sep 2020   Pseudo R-squ.:               0.0001136\n",
              "Time:                        07:35:15   Log-Likelihood:                -748.02\n",
              "converged:                       True   LL-Null:                       -748.10\n",
              "Covariance Type:            nonrobust   LLR p-value:                    0.6801\n",
              "=======================================================================================\n",
              "                          coef    std err          z      P>|z|      [0.025      0.975]\n",
              "---------------------------------------------------------------------------------------\n",
              "Intercept               0.2359      0.068      3.448      0.001       0.102       0.370\n",
              "np.power(Volume, 2)    -0.0024      0.006     -0.413      0.680      -0.014       0.009\n",
              "=======================================================================================\n",
              "\"\"\""
            ]
          },
          "metadata": {
            "tags": []
          },
          "execution_count": 68
        }
      ]
    },
    {
      "cell_type": "code",
      "metadata": {
        "id": "AbyUQKQSup9A",
        "colab_type": "code",
        "colab": {
          "base_uri": "https://localhost:8080/",
          "height": 327
        },
        "outputId": "40814bf6-4cb3-494a-d929-f51565d859d5"
      },
      "source": [
        "results = smf.logit('Direction ~ Volume * Lag3', data=weekly).fit()\n",
        "results.summary()"
      ],
      "execution_count": null,
      "outputs": [
        {
          "output_type": "stream",
          "text": [
            "Optimization terminated successfully.\n",
            "         Current function value: 0.686505\n",
            "         Iterations 4\n"
          ],
          "name": "stdout"
        },
        {
          "output_type": "execute_result",
          "data": {
            "text/html": [
              "<table class=\"simpletable\">\n",
              "<caption>Logit Regression Results</caption>\n",
              "<tr>\n",
              "  <th>Dep. Variable:</th>       <td>Direction</td>    <th>  No. Observations:  </th>  <td>  1089</td>  \n",
              "</tr>\n",
              "<tr>\n",
              "  <th>Model:</th>                 <td>Logit</td>      <th>  Df Residuals:      </th>  <td>  1085</td>  \n",
              "</tr>\n",
              "<tr>\n",
              "  <th>Method:</th>                 <td>MLE</td>       <th>  Df Model:          </th>  <td>     3</td>  \n",
              "</tr>\n",
              "<tr>\n",
              "  <th>Date:</th>            <td>Wed, 23 Sep 2020</td> <th>  Pseudo R-squ.:     </th> <td>0.0006650</td>\n",
              "</tr>\n",
              "<tr>\n",
              "  <th>Time:</th>                <td>07:35:15</td>     <th>  Log-Likelihood:    </th> <td> -747.60</td> \n",
              "</tr>\n",
              "<tr>\n",
              "  <th>converged:</th>             <td>True</td>       <th>  LL-Null:           </th> <td> -748.10</td> \n",
              "</tr>\n",
              "<tr>\n",
              "  <th>Covariance Type:</th>     <td>nonrobust</td>    <th>  LLR p-value:       </th>  <td>0.8025</td>  \n",
              "</tr>\n",
              "</table>\n",
              "<table class=\"simpletable\">\n",
              "<tr>\n",
              "       <td></td>          <th>coef</th>     <th>std err</th>      <th>z</th>      <th>P>|z|</th>  <th>[0.025</th>    <th>0.975]</th>  \n",
              "</tr>\n",
              "<tr>\n",
              "  <th>Intercept</th>   <td>    0.2631</td> <td>    0.084</td> <td>    3.134</td> <td> 0.002</td> <td>    0.099</td> <td>    0.428</td>\n",
              "</tr>\n",
              "<tr>\n",
              "  <th>Volume</th>      <td>   -0.0235</td> <td>    0.036</td> <td>   -0.649</td> <td> 0.516</td> <td>   -0.095</td> <td>    0.048</td>\n",
              "</tr>\n",
              "<tr>\n",
              "  <th>Lag3</th>        <td>   -0.0188</td> <td>    0.039</td> <td>   -0.482</td> <td> 0.630</td> <td>   -0.095</td> <td>    0.058</td>\n",
              "</tr>\n",
              "<tr>\n",
              "  <th>Volume:Lag3</th> <td>   -0.0007</td> <td>    0.011</td> <td>   -0.067</td> <td> 0.946</td> <td>   -0.022</td> <td>    0.020</td>\n",
              "</tr>\n",
              "</table>"
            ],
            "text/plain": [
              "<class 'statsmodels.iolib.summary.Summary'>\n",
              "\"\"\"\n",
              "                           Logit Regression Results                           \n",
              "==============================================================================\n",
              "Dep. Variable:              Direction   No. Observations:                 1089\n",
              "Model:                          Logit   Df Residuals:                     1085\n",
              "Method:                           MLE   Df Model:                            3\n",
              "Date:                Wed, 23 Sep 2020   Pseudo R-squ.:               0.0006650\n",
              "Time:                        07:35:15   Log-Likelihood:                -747.60\n",
              "converged:                       True   LL-Null:                       -748.10\n",
              "Covariance Type:            nonrobust   LLR p-value:                    0.8025\n",
              "===============================================================================\n",
              "                  coef    std err          z      P>|z|      [0.025      0.975]\n",
              "-------------------------------------------------------------------------------\n",
              "Intercept       0.2631      0.084      3.134      0.002       0.099       0.428\n",
              "Volume         -0.0235      0.036     -0.649      0.516      -0.095       0.048\n",
              "Lag3           -0.0188      0.039     -0.482      0.630      -0.095       0.058\n",
              "Volume:Lag3    -0.0007      0.011     -0.067      0.946      -0.022       0.020\n",
              "===============================================================================\n",
              "\"\"\""
            ]
          },
          "metadata": {
            "tags": []
          },
          "execution_count": 69
        }
      ]
    },
    {
      "cell_type": "markdown",
      "metadata": {
        "id": "Bdrx4VI105zj",
        "colab_type": "text"
      },
      "source": [
        "# 3. Now, lets develop a model to predict whether a given car gets high or low gas mileage based on the Auto data set."
      ]
    },
    {
      "cell_type": "code",
      "metadata": {
        "id": "ICNZetQ_utQL",
        "colab_type": "code",
        "colab": {
          "base_uri": "https://localhost:8080/",
          "height": 195
        },
        "outputId": "106f8960-aa2d-4a76-dfcf-353f349bfd33"
      },
      "source": [
        "auto = pd.read_csv('https://raw.githubusercontent.com/nikbearbrown/Google_Colab/master/data/auto.csv')\n",
        "auto.head()"
      ],
      "execution_count": null,
      "outputs": [
        {
          "output_type": "execute_result",
          "data": {
            "text/html": [
              "<div>\n",
              "<style scoped>\n",
              "    .dataframe tbody tr th:only-of-type {\n",
              "        vertical-align: middle;\n",
              "    }\n",
              "\n",
              "    .dataframe tbody tr th {\n",
              "        vertical-align: top;\n",
              "    }\n",
              "\n",
              "    .dataframe thead th {\n",
              "        text-align: right;\n",
              "    }\n",
              "</style>\n",
              "<table border=\"1\" class=\"dataframe\">\n",
              "  <thead>\n",
              "    <tr style=\"text-align: right;\">\n",
              "      <th></th>\n",
              "      <th>mpg</th>\n",
              "      <th>cylinders</th>\n",
              "      <th>displacement</th>\n",
              "      <th>horsepower</th>\n",
              "      <th>weight</th>\n",
              "      <th>acceleration</th>\n",
              "      <th>year</th>\n",
              "      <th>origin</th>\n",
              "      <th>name</th>\n",
              "    </tr>\n",
              "  </thead>\n",
              "  <tbody>\n",
              "    <tr>\n",
              "      <th>0</th>\n",
              "      <td>18.0</td>\n",
              "      <td>8</td>\n",
              "      <td>307.0</td>\n",
              "      <td>130</td>\n",
              "      <td>3504</td>\n",
              "      <td>12.0</td>\n",
              "      <td>70</td>\n",
              "      <td>1</td>\n",
              "      <td>chevrolet chevelle malibu</td>\n",
              "    </tr>\n",
              "    <tr>\n",
              "      <th>1</th>\n",
              "      <td>15.0</td>\n",
              "      <td>8</td>\n",
              "      <td>350.0</td>\n",
              "      <td>165</td>\n",
              "      <td>3693</td>\n",
              "      <td>11.5</td>\n",
              "      <td>70</td>\n",
              "      <td>1</td>\n",
              "      <td>buick skylark 320</td>\n",
              "    </tr>\n",
              "    <tr>\n",
              "      <th>2</th>\n",
              "      <td>18.0</td>\n",
              "      <td>8</td>\n",
              "      <td>318.0</td>\n",
              "      <td>150</td>\n",
              "      <td>3436</td>\n",
              "      <td>11.0</td>\n",
              "      <td>70</td>\n",
              "      <td>1</td>\n",
              "      <td>plymouth satellite</td>\n",
              "    </tr>\n",
              "    <tr>\n",
              "      <th>3</th>\n",
              "      <td>16.0</td>\n",
              "      <td>8</td>\n",
              "      <td>304.0</td>\n",
              "      <td>150</td>\n",
              "      <td>3433</td>\n",
              "      <td>12.0</td>\n",
              "      <td>70</td>\n",
              "      <td>1</td>\n",
              "      <td>amc rebel sst</td>\n",
              "    </tr>\n",
              "    <tr>\n",
              "      <th>4</th>\n",
              "      <td>17.0</td>\n",
              "      <td>8</td>\n",
              "      <td>302.0</td>\n",
              "      <td>140</td>\n",
              "      <td>3449</td>\n",
              "      <td>10.5</td>\n",
              "      <td>70</td>\n",
              "      <td>1</td>\n",
              "      <td>ford torino</td>\n",
              "    </tr>\n",
              "  </tbody>\n",
              "</table>\n",
              "</div>"
            ],
            "text/plain": [
              "    mpg  cylinders  displacement  ...  year  origin                       name\n",
              "0  18.0          8         307.0  ...    70       1  chevrolet chevelle malibu\n",
              "1  15.0          8         350.0  ...    70       1          buick skylark 320\n",
              "2  18.0          8         318.0  ...    70       1         plymouth satellite\n",
              "3  16.0          8         304.0  ...    70       1              amc rebel sst\n",
              "4  17.0          8         302.0  ...    70       1                ford torino\n",
              "\n",
              "[5 rows x 9 columns]"
            ]
          },
          "metadata": {
            "tags": []
          },
          "execution_count": 70
        }
      ]
    },
    {
      "cell_type": "markdown",
      "metadata": {
        "id": "E3Xtx7Z91JwJ",
        "colab_type": "text"
      },
      "source": [
        "(a) Create a binary variable, mpg01, that contains a 1 if mpg contains\n",
        "a value above its median, and a 0 if mpg contains a value below\n",
        "its median. You can compute the median using the median()\n",
        "function. \n",
        "\n",
        "Note - you can use the data.frame() function to create a single data set containing both mpg01 and the other Auto variables."
      ]
    },
    {
      "cell_type": "code",
      "metadata": {
        "id": "mWZy25EHu3Oi",
        "colab_type": "code",
        "colab": {
          "base_uri": "https://localhost:8080/",
          "height": 195
        },
        "outputId": "033abadb-c3a4-4f44-e8d6-a251c1019af8"
      },
      "source": [
        "auto['mpg01'] = np.where(auto['mpg'] > auto['mpg'].median(), 1, 0)\n",
        "auto.head()"
      ],
      "execution_count": null,
      "outputs": [
        {
          "output_type": "execute_result",
          "data": {
            "text/html": [
              "<div>\n",
              "<style scoped>\n",
              "    .dataframe tbody tr th:only-of-type {\n",
              "        vertical-align: middle;\n",
              "    }\n",
              "\n",
              "    .dataframe tbody tr th {\n",
              "        vertical-align: top;\n",
              "    }\n",
              "\n",
              "    .dataframe thead th {\n",
              "        text-align: right;\n",
              "    }\n",
              "</style>\n",
              "<table border=\"1\" class=\"dataframe\">\n",
              "  <thead>\n",
              "    <tr style=\"text-align: right;\">\n",
              "      <th></th>\n",
              "      <th>mpg</th>\n",
              "      <th>cylinders</th>\n",
              "      <th>displacement</th>\n",
              "      <th>horsepower</th>\n",
              "      <th>weight</th>\n",
              "      <th>acceleration</th>\n",
              "      <th>year</th>\n",
              "      <th>origin</th>\n",
              "      <th>name</th>\n",
              "      <th>mpg01</th>\n",
              "    </tr>\n",
              "  </thead>\n",
              "  <tbody>\n",
              "    <tr>\n",
              "      <th>0</th>\n",
              "      <td>18.0</td>\n",
              "      <td>8</td>\n",
              "      <td>307.0</td>\n",
              "      <td>130</td>\n",
              "      <td>3504</td>\n",
              "      <td>12.0</td>\n",
              "      <td>70</td>\n",
              "      <td>1</td>\n",
              "      <td>chevrolet chevelle malibu</td>\n",
              "      <td>0</td>\n",
              "    </tr>\n",
              "    <tr>\n",
              "      <th>1</th>\n",
              "      <td>15.0</td>\n",
              "      <td>8</td>\n",
              "      <td>350.0</td>\n",
              "      <td>165</td>\n",
              "      <td>3693</td>\n",
              "      <td>11.5</td>\n",
              "      <td>70</td>\n",
              "      <td>1</td>\n",
              "      <td>buick skylark 320</td>\n",
              "      <td>0</td>\n",
              "    </tr>\n",
              "    <tr>\n",
              "      <th>2</th>\n",
              "      <td>18.0</td>\n",
              "      <td>8</td>\n",
              "      <td>318.0</td>\n",
              "      <td>150</td>\n",
              "      <td>3436</td>\n",
              "      <td>11.0</td>\n",
              "      <td>70</td>\n",
              "      <td>1</td>\n",
              "      <td>plymouth satellite</td>\n",
              "      <td>0</td>\n",
              "    </tr>\n",
              "    <tr>\n",
              "      <th>3</th>\n",
              "      <td>16.0</td>\n",
              "      <td>8</td>\n",
              "      <td>304.0</td>\n",
              "      <td>150</td>\n",
              "      <td>3433</td>\n",
              "      <td>12.0</td>\n",
              "      <td>70</td>\n",
              "      <td>1</td>\n",
              "      <td>amc rebel sst</td>\n",
              "      <td>0</td>\n",
              "    </tr>\n",
              "    <tr>\n",
              "      <th>4</th>\n",
              "      <td>17.0</td>\n",
              "      <td>8</td>\n",
              "      <td>302.0</td>\n",
              "      <td>140</td>\n",
              "      <td>3449</td>\n",
              "      <td>10.5</td>\n",
              "      <td>70</td>\n",
              "      <td>1</td>\n",
              "      <td>ford torino</td>\n",
              "      <td>0</td>\n",
              "    </tr>\n",
              "  </tbody>\n",
              "</table>\n",
              "</div>"
            ],
            "text/plain": [
              "    mpg  cylinders  displacement  ...  origin                       name  mpg01\n",
              "0  18.0          8         307.0  ...       1  chevrolet chevelle malibu      0\n",
              "1  15.0          8         350.0  ...       1          buick skylark 320      0\n",
              "2  18.0          8         318.0  ...       1         plymouth satellite      0\n",
              "3  16.0          8         304.0  ...       1              amc rebel sst      0\n",
              "4  17.0          8         302.0  ...       1                ford torino      0\n",
              "\n",
              "[5 rows x 10 columns]"
            ]
          },
          "metadata": {
            "tags": []
          },
          "execution_count": 71
        }
      ]
    },
    {
      "cell_type": "code",
      "metadata": {
        "id": "T5xo24Rou8Tw",
        "colab_type": "code",
        "colab": {
          "base_uri": "https://localhost:8080/",
          "height": 314
        },
        "outputId": "9420c868-e4a8-4d48-cf65-c76e505d9c0b"
      },
      "source": [
        "auto.corr()"
      ],
      "execution_count": null,
      "outputs": [
        {
          "output_type": "execute_result",
          "data": {
            "text/html": [
              "<div>\n",
              "<style scoped>\n",
              "    .dataframe tbody tr th:only-of-type {\n",
              "        vertical-align: middle;\n",
              "    }\n",
              "\n",
              "    .dataframe tbody tr th {\n",
              "        vertical-align: top;\n",
              "    }\n",
              "\n",
              "    .dataframe thead th {\n",
              "        text-align: right;\n",
              "    }\n",
              "</style>\n",
              "<table border=\"1\" class=\"dataframe\">\n",
              "  <thead>\n",
              "    <tr style=\"text-align: right;\">\n",
              "      <th></th>\n",
              "      <th>mpg</th>\n",
              "      <th>cylinders</th>\n",
              "      <th>displacement</th>\n",
              "      <th>horsepower</th>\n",
              "      <th>weight</th>\n",
              "      <th>acceleration</th>\n",
              "      <th>year</th>\n",
              "      <th>origin</th>\n",
              "      <th>mpg01</th>\n",
              "    </tr>\n",
              "  </thead>\n",
              "  <tbody>\n",
              "    <tr>\n",
              "      <th>mpg</th>\n",
              "      <td>1.000000</td>\n",
              "      <td>-0.777618</td>\n",
              "      <td>-0.805127</td>\n",
              "      <td>-0.778427</td>\n",
              "      <td>-0.832244</td>\n",
              "      <td>0.423329</td>\n",
              "      <td>0.580541</td>\n",
              "      <td>0.565209</td>\n",
              "      <td>0.836939</td>\n",
              "    </tr>\n",
              "    <tr>\n",
              "      <th>cylinders</th>\n",
              "      <td>-0.777618</td>\n",
              "      <td>1.000000</td>\n",
              "      <td>0.950823</td>\n",
              "      <td>0.842983</td>\n",
              "      <td>0.897527</td>\n",
              "      <td>-0.504683</td>\n",
              "      <td>-0.345647</td>\n",
              "      <td>-0.568932</td>\n",
              "      <td>-0.759194</td>\n",
              "    </tr>\n",
              "    <tr>\n",
              "      <th>displacement</th>\n",
              "      <td>-0.805127</td>\n",
              "      <td>0.950823</td>\n",
              "      <td>1.000000</td>\n",
              "      <td>0.897257</td>\n",
              "      <td>0.932994</td>\n",
              "      <td>-0.543800</td>\n",
              "      <td>-0.369855</td>\n",
              "      <td>-0.614535</td>\n",
              "      <td>-0.753477</td>\n",
              "    </tr>\n",
              "    <tr>\n",
              "      <th>horsepower</th>\n",
              "      <td>-0.778427</td>\n",
              "      <td>0.842983</td>\n",
              "      <td>0.897257</td>\n",
              "      <td>1.000000</td>\n",
              "      <td>0.864538</td>\n",
              "      <td>-0.689196</td>\n",
              "      <td>-0.416361</td>\n",
              "      <td>-0.455171</td>\n",
              "      <td>-0.667053</td>\n",
              "    </tr>\n",
              "    <tr>\n",
              "      <th>weight</th>\n",
              "      <td>-0.832244</td>\n",
              "      <td>0.897527</td>\n",
              "      <td>0.932994</td>\n",
              "      <td>0.864538</td>\n",
              "      <td>1.000000</td>\n",
              "      <td>-0.416839</td>\n",
              "      <td>-0.309120</td>\n",
              "      <td>-0.585005</td>\n",
              "      <td>-0.757757</td>\n",
              "    </tr>\n",
              "    <tr>\n",
              "      <th>acceleration</th>\n",
              "      <td>0.423329</td>\n",
              "      <td>-0.504683</td>\n",
              "      <td>-0.543800</td>\n",
              "      <td>-0.689196</td>\n",
              "      <td>-0.416839</td>\n",
              "      <td>1.000000</td>\n",
              "      <td>0.290316</td>\n",
              "      <td>0.212746</td>\n",
              "      <td>0.346822</td>\n",
              "    </tr>\n",
              "    <tr>\n",
              "      <th>year</th>\n",
              "      <td>0.580541</td>\n",
              "      <td>-0.345647</td>\n",
              "      <td>-0.369855</td>\n",
              "      <td>-0.416361</td>\n",
              "      <td>-0.309120</td>\n",
              "      <td>0.290316</td>\n",
              "      <td>1.000000</td>\n",
              "      <td>0.181528</td>\n",
              "      <td>0.429904</td>\n",
              "    </tr>\n",
              "    <tr>\n",
              "      <th>origin</th>\n",
              "      <td>0.565209</td>\n",
              "      <td>-0.568932</td>\n",
              "      <td>-0.614535</td>\n",
              "      <td>-0.455171</td>\n",
              "      <td>-0.585005</td>\n",
              "      <td>0.212746</td>\n",
              "      <td>0.181528</td>\n",
              "      <td>1.000000</td>\n",
              "      <td>0.513698</td>\n",
              "    </tr>\n",
              "    <tr>\n",
              "      <th>mpg01</th>\n",
              "      <td>0.836939</td>\n",
              "      <td>-0.759194</td>\n",
              "      <td>-0.753477</td>\n",
              "      <td>-0.667053</td>\n",
              "      <td>-0.757757</td>\n",
              "      <td>0.346822</td>\n",
              "      <td>0.429904</td>\n",
              "      <td>0.513698</td>\n",
              "      <td>1.000000</td>\n",
              "    </tr>\n",
              "  </tbody>\n",
              "</table>\n",
              "</div>"
            ],
            "text/plain": [
              "                   mpg  cylinders  displacement  ...      year    origin     mpg01\n",
              "mpg           1.000000  -0.777618     -0.805127  ...  0.580541  0.565209  0.836939\n",
              "cylinders    -0.777618   1.000000      0.950823  ... -0.345647 -0.568932 -0.759194\n",
              "displacement -0.805127   0.950823      1.000000  ... -0.369855 -0.614535 -0.753477\n",
              "horsepower   -0.778427   0.842983      0.897257  ... -0.416361 -0.455171 -0.667053\n",
              "weight       -0.832244   0.897527      0.932994  ... -0.309120 -0.585005 -0.757757\n",
              "acceleration  0.423329  -0.504683     -0.543800  ...  0.290316  0.212746  0.346822\n",
              "year          0.580541  -0.345647     -0.369855  ...  1.000000  0.181528  0.429904\n",
              "origin        0.565209  -0.568932     -0.614535  ...  0.181528  1.000000  0.513698\n",
              "mpg01         0.836939  -0.759194     -0.753477  ...  0.429904  0.513698  1.000000\n",
              "\n",
              "[9 rows x 9 columns]"
            ]
          },
          "metadata": {
            "tags": []
          },
          "execution_count": 72
        }
      ]
    },
    {
      "cell_type": "markdown",
      "metadata": {
        "id": "tb-EoZXI11Jo",
        "colab_type": "text"
      },
      "source": [
        "(b) Which of the other features seem most likely to be useful in predicting mpg01?"
      ]
    },
    {
      "cell_type": "code",
      "metadata": {
        "id": "UKSFihXdu_W2",
        "colab_type": "code",
        "colab": {}
      },
      "source": [
        "X = auto[['cylinders', 'origin']].values\n",
        "y = auto['mpg01'].values\n",
        "X_train, X_test, y_train, y_test = train_test_split(X, y, random_state=1)"
      ],
      "execution_count": null,
      "outputs": []
    },
    {
      "cell_type": "code",
      "metadata": {
        "id": "oF-tt-PNvN0y",
        "colab_type": "code",
        "colab": {
          "base_uri": "https://localhost:8080/",
          "height": 34
        },
        "outputId": "96e9a3be-098f-45f8-cc65-c6b4757ec129"
      },
      "source": [
        "lr = LogisticRegression()\n",
        "lr.fit(X_train, y_train)\n",
        "accuracy_score(y_test, lr.predict(X_test))"
      ],
      "execution_count": null,
      "outputs": [
        {
          "output_type": "execute_result",
          "data": {
            "text/plain": [
              "0.9285714285714286"
            ]
          },
          "metadata": {
            "tags": []
          },
          "execution_count": 74
        }
      ]
    },
    {
      "cell_type": "code",
      "metadata": {
        "id": "svTO_9E8vQxm",
        "colab_type": "code",
        "colab": {}
      },
      "source": [
        "X = auto[['cylinders', 'origin', 'year', 'acceleration']].values\n",
        "y = auto['mpg01'].values\n",
        "X_train, X_test, y_train, y_test = train_test_split(X, y, random_state=1)"
      ],
      "execution_count": null,
      "outputs": []
    },
    {
      "cell_type": "code",
      "metadata": {
        "id": "ILRzZXEdvTL2",
        "colab_type": "code",
        "colab": {
          "base_uri": "https://localhost:8080/",
          "height": 34
        },
        "outputId": "80a43702-9d4d-415d-db1b-8144d1bc6134"
      },
      "source": [
        "# slightly higher with more variables\n",
        "lr = LogisticRegression()\n",
        "lr.fit(X_train, y_train)\n",
        "accuracy_score(y_test, lr.predict(X_test))"
      ],
      "execution_count": null,
      "outputs": [
        {
          "output_type": "execute_result",
          "data": {
            "text/plain": [
              "0.8979591836734694"
            ]
          },
          "metadata": {
            "tags": []
          },
          "execution_count": 76
        }
      ]
    },
    {
      "cell_type": "code",
      "metadata": {
        "id": "qBlGnWIjvWoQ",
        "colab_type": "code",
        "colab": {
          "base_uri": "https://localhost:8080/",
          "height": 34
        },
        "outputId": "ab8e741a-8c81-427e-ae34-ef8d234c16c2"
      },
      "source": [
        "lr = LogisticRegression(C=.01)\n",
        "lr.fit(X_train, y_train)\n",
        "accuracy_score(y_test, lr.predict(X_test))"
      ],
      "execution_count": null,
      "outputs": [
        {
          "output_type": "execute_result",
          "data": {
            "text/plain": [
              "0.8367346938775511"
            ]
          },
          "metadata": {
            "tags": []
          },
          "execution_count": 77
        }
      ]
    },
    {
      "cell_type": "markdown",
      "metadata": {
        "id": "gpFs4nir2Cj_",
        "colab_type": "text"
      },
      "source": [
        "(c)  Perform LDA on the training data in order to predict mpg01\n",
        "using the variables that seemed most associated with mpg01 in\n",
        "(b). What is the test accuracy of the model obtained?"
      ]
    },
    {
      "cell_type": "code",
      "metadata": {
        "id": "FBRuag57vZx8",
        "colab_type": "code",
        "colab": {
          "base_uri": "https://localhost:8080/",
          "height": 34
        },
        "outputId": "135bd7f8-e1a2-4952-f751-573a6669e4fc"
      },
      "source": [
        "X = auto[auto.columns[1:-1].difference(['name'])].values\n",
        "y = auto['mpg01'].values\n",
        "X_train, X_test, y_train, y_test = train_test_split(X, y, random_state=1)\n",
        "\n",
        "lda = LinearDiscriminantAnalysis()\n",
        "lda.fit(X_train, y_train)\n",
        "accuracy_score(y_test, lda.predict(X_test))"
      ],
      "execution_count": null,
      "outputs": [
        {
          "output_type": "execute_result",
          "data": {
            "text/plain": [
              "0.9489795918367347"
            ]
          },
          "metadata": {
            "tags": []
          },
          "execution_count": 78
        }
      ]
    },
    {
      "cell_type": "markdown",
      "metadata": {
        "id": "0nHTHVar2gcy",
        "colab_type": "text"
      },
      "source": [
        "(d) Perform QDA on the training data in order to predict mpg01\n",
        "using the variables that seemed most associated with mpg01 in\n",
        "(b). What is the test accuracy of the model obtained?"
      ]
    },
    {
      "cell_type": "code",
      "metadata": {
        "id": "ZbpAlrjovciM",
        "colab_type": "code",
        "colab": {
          "base_uri": "https://localhost:8080/",
          "height": 34
        },
        "outputId": "aed9902b-ecd2-4f17-e129-35be08460a66"
      },
      "source": [
        "X = auto[auto.columns[1:-1].difference(['name'])].values\n",
        "y = auto['mpg01'].values\n",
        "X_train, X_test, y_train, y_test = train_test_split(X, y, random_state=1)\n",
        "\n",
        "qda = QuadraticDiscriminantAnalysis()\n",
        "qda.fit(X_train, y_train)\n",
        "accuracy_score(y_test, qda.predict(X_test))"
      ],
      "execution_count": null,
      "outputs": [
        {
          "output_type": "execute_result",
          "data": {
            "text/plain": [
              "0.9489795918367347"
            ]
          },
          "metadata": {
            "tags": []
          },
          "execution_count": 79
        }
      ]
    },
    {
      "cell_type": "markdown",
      "metadata": {
        "id": "ekCDpJ9r2sBw",
        "colab_type": "text"
      },
      "source": [
        "(e) Perform KNN on the training data, with several values of K, in\n",
        "order to predict mpg01. Use only the variables that seemed most\n",
        "associated with mpg01 in (b). What test accuracies do you obtain?\n",
        "Which value of K seems to perform the best on this data set?"
      ]
    },
    {
      "cell_type": "code",
      "metadata": {
        "id": "L6ZgS_vdvfG6",
        "colab_type": "code",
        "colab": {}
      },
      "source": [
        "X = auto[auto.columns[1:-1].difference(['name'])].values\n",
        "y = auto['mpg01'].values\n",
        "X_train, X_test, y_train, y_test = train_test_split(X, y, random_state=1)"
      ],
      "execution_count": null,
      "outputs": []
    },
    {
      "cell_type": "code",
      "metadata": {
        "id": "ZdEBHkwJvic-",
        "colab_type": "code",
        "colab": {
          "base_uri": "https://localhost:8080/",
          "height": 857
        },
        "outputId": "670a902b-5348-4b00-b019-c4c60326468c"
      },
      "source": [
        "for k in range(1, 51):\n",
        "    knn = KNeighborsClassifier(n_neighbors=k)\n",
        "    knn.fit(X_train, y_train)\n",
        "    accuracy = accuracy_score(y_test, knn.predict(X_test))\n",
        "    print('With K={} accuracy is {:.3f}'.format(k, accuracy))"
      ],
      "execution_count": null,
      "outputs": [
        {
          "output_type": "stream",
          "text": [
            "With K=1 accuracy is 0.878\n",
            "With K=2 accuracy is 0.888\n",
            "With K=3 accuracy is 0.898\n",
            "With K=4 accuracy is 0.898\n",
            "With K=5 accuracy is 0.867\n",
            "With K=6 accuracy is 0.898\n",
            "With K=7 accuracy is 0.888\n",
            "With K=8 accuracy is 0.908\n",
            "With K=9 accuracy is 0.908\n",
            "With K=10 accuracy is 0.898\n",
            "With K=11 accuracy is 0.908\n",
            "With K=12 accuracy is 0.908\n",
            "With K=13 accuracy is 0.908\n",
            "With K=14 accuracy is 0.908\n",
            "With K=15 accuracy is 0.898\n",
            "With K=16 accuracy is 0.898\n",
            "With K=17 accuracy is 0.888\n",
            "With K=18 accuracy is 0.918\n",
            "With K=19 accuracy is 0.918\n",
            "With K=20 accuracy is 0.918\n",
            "With K=21 accuracy is 0.908\n",
            "With K=22 accuracy is 0.908\n",
            "With K=23 accuracy is 0.908\n",
            "With K=24 accuracy is 0.918\n",
            "With K=25 accuracy is 0.908\n",
            "With K=26 accuracy is 0.918\n",
            "With K=27 accuracy is 0.918\n",
            "With K=28 accuracy is 0.918\n",
            "With K=29 accuracy is 0.918\n",
            "With K=30 accuracy is 0.918\n",
            "With K=31 accuracy is 0.918\n",
            "With K=32 accuracy is 0.918\n",
            "With K=33 accuracy is 0.908\n",
            "With K=34 accuracy is 0.908\n",
            "With K=35 accuracy is 0.898\n",
            "With K=36 accuracy is 0.908\n",
            "With K=37 accuracy is 0.898\n",
            "With K=38 accuracy is 0.898\n",
            "With K=39 accuracy is 0.898\n",
            "With K=40 accuracy is 0.898\n",
            "With K=41 accuracy is 0.898\n",
            "With K=42 accuracy is 0.898\n",
            "With K=43 accuracy is 0.898\n",
            "With K=44 accuracy is 0.908\n",
            "With K=45 accuracy is 0.898\n",
            "With K=46 accuracy is 0.908\n",
            "With K=47 accuracy is 0.898\n",
            "With K=48 accuracy is 0.898\n",
            "With K=49 accuracy is 0.898\n",
            "With K=50 accuracy is 0.898\n"
          ],
          "name": "stdout"
        }
      ]
    },
    {
      "cell_type": "markdown",
      "metadata": {
        "id": "Fh2-qKbj3d7m",
        "colab_type": "text"
      },
      "source": [
        "# 4. Write a function, power(x,a), allows you to pass any two numbers, x and a, and prints out the value of x^a."
      ]
    },
    {
      "cell_type": "code",
      "metadata": {
        "id": "wVFrYeWNvnBu",
        "colab_type": "code",
        "colab": {}
      },
      "source": [
        "power = lambda x, a: x ** a"
      ],
      "execution_count": null,
      "outputs": []
    },
    {
      "cell_type": "code",
      "metadata": {
        "id": "Xacm44IbvpaJ",
        "colab_type": "code",
        "colab": {
          "base_uri": "https://localhost:8080/",
          "height": 34
        },
        "outputId": "a63ee253-e07c-4240-ef09-38b9aa6a000b"
      },
      "source": [
        "power(3, 8)"
      ],
      "execution_count": null,
      "outputs": [
        {
          "output_type": "execute_result",
          "data": {
            "text/plain": [
              "6561"
            ]
          },
          "metadata": {
            "tags": []
          },
          "execution_count": 83
        }
      ]
    },
    {
      "cell_type": "markdown",
      "metadata": {
        "id": "EBFM8CbB4PTn",
        "colab_type": "text"
      },
      "source": [
        "# 5. Create a function, PlotPower(), that allows you to create a plot of x against x^a for a fixed a and for a range of values of x."
      ]
    },
    {
      "cell_type": "code",
      "metadata": {
        "id": "1PK5Xfa3vsGp",
        "colab_type": "code",
        "colab": {
          "base_uri": "https://localhost:8080/",
          "height": 282
        },
        "outputId": "99cf2354-180d-4b38-d793-2a5226558a86"
      },
      "source": [
        "n = 100\n",
        "plt.plot(range(n), [power(x, 2) for x in range(n)])"
      ],
      "execution_count": null,
      "outputs": [
        {
          "output_type": "execute_result",
          "data": {
            "text/plain": [
              "[<matplotlib.lines.Line2D at 0x7fc9beae0588>]"
            ]
          },
          "metadata": {
            "tags": []
          },
          "execution_count": 84
        },
        {
          "output_type": "display_data",
          "data": {
            "image/png": "[encoded data removed]",
            "text/plain": [
              "<Figure size 432x288 with 1 Axes>"
            ]
          },
          "metadata": {
            "tags": [],
            "needs_background": "light"
          }
        }
      ]
    },
    {
      "cell_type": "code",
      "metadata": {
        "id": "bHJGTpvPvum3",
        "colab_type": "code",
        "colab": {}
      },
      "source": [
        "def plot_power(rng, p):\n",
        "    plt.plot(rng, [power(x, p) for x in rng])"
      ],
      "execution_count": null,
      "outputs": []
    },
    {
      "cell_type": "code",
      "metadata": {
        "id": "183LwzqMvxT3",
        "colab_type": "code",
        "colab": {
          "base_uri": "https://localhost:8080/",
          "height": 265
        },
        "outputId": "f2c1442d-d801-4227-8802-2842c6e26846"
      },
      "source": [
        "plot_power(range(3,14), 3)"
      ],
      "execution_count": null,
      "outputs": [
        {
          "output_type": "display_data",
          "data": {
            "image/png": "[encoded data removed]",
            "text/plain": [
              "<Figure size 432x288 with 1 Axes>"
            ]
          },
          "metadata": {
            "tags": [],
            "needs_background": "light"
          }
        }
      ]
    },
    {
      "cell_type": "markdown",
      "metadata": {
        "id": "3p22Fkh-4dto",
        "colab_type": "text"
      },
      "source": [
        "# 6. Using the Boston data set, fit classification models in order to predict whether a given suburb has a crime rate above or below the median. Explore logistic regression, LDA, and KNN models using various subsets of the predictors. Describe your findings."
      ]
    },
    {
      "cell_type": "code",
      "metadata": {
        "id": "JgEV_dTpv1n3",
        "colab_type": "code",
        "colab": {
          "base_uri": "https://localhost:8080/",
          "height": 195
        },
        "outputId": "e6fa9b49-a76a-4284-a14e-981b60ae2dad"
      },
      "source": [
        "boston = pd.read_csv('https://raw.githubusercontent.com/nikbearbrown/Google_Colab/master/data/boston.csv')\n",
        "boston['crim01'] = np.where(boston['crim'] > boston['crim'].median(), 1, 0)\n",
        "boston.head()"
      ],
      "execution_count": null,
      "outputs": [
        {
          "output_type": "execute_result",
          "data": {
            "text/html": [
              "<div>\n",
              "<style scoped>\n",
              "    .dataframe tbody tr th:only-of-type {\n",
              "        vertical-align: middle;\n",
              "    }\n",
              "\n",
              "    .dataframe tbody tr th {\n",
              "        vertical-align: top;\n",
              "    }\n",
              "\n",
              "    .dataframe thead th {\n",
              "        text-align: right;\n",
              "    }\n",
              "</style>\n",
              "<table border=\"1\" class=\"dataframe\">\n",
              "  <thead>\n",
              "    <tr style=\"text-align: right;\">\n",
              "      <th></th>\n",
              "      <th>crim</th>\n",
              "      <th>zn</th>\n",
              "      <th>indus</th>\n",
              "      <th>chas</th>\n",
              "      <th>nox</th>\n",
              "      <th>rm</th>\n",
              "      <th>age</th>\n",
              "      <th>dis</th>\n",
              "      <th>rad</th>\n",
              "      <th>tax</th>\n",
              "      <th>ptratio</th>\n",
              "      <th>black</th>\n",
              "      <th>lstat</th>\n",
              "      <th>medv</th>\n",
              "      <th>crim01</th>\n",
              "    </tr>\n",
              "  </thead>\n",
              "  <tbody>\n",
              "    <tr>\n",
              "      <th>0</th>\n",
              "      <td>0.00632</td>\n",
              "      <td>18.0</td>\n",
              "      <td>2.31</td>\n",
              "      <td>0</td>\n",
              "      <td>0.538</td>\n",
              "      <td>6.575</td>\n",
              "      <td>65.2</td>\n",
              "      <td>4.0900</td>\n",
              "      <td>1</td>\n",
              "      <td>296</td>\n",
              "      <td>15.3</td>\n",
              "      <td>396.90</td>\n",
              "      <td>4.98</td>\n",
              "      <td>24.0</td>\n",
              "      <td>0</td>\n",
              "    </tr>\n",
              "    <tr>\n",
              "      <th>1</th>\n",
              "      <td>0.02731</td>\n",
              "      <td>0.0</td>\n",
              "      <td>7.07</td>\n",
              "      <td>0</td>\n",
              "      <td>0.469</td>\n",
              "      <td>6.421</td>\n",
              "      <td>78.9</td>\n",
              "      <td>4.9671</td>\n",
              "      <td>2</td>\n",
              "      <td>242</td>\n",
              "      <td>17.8</td>\n",
              "      <td>396.90</td>\n",
              "      <td>9.14</td>\n",
              "      <td>21.6</td>\n",
              "      <td>0</td>\n",
              "    </tr>\n",
              "    <tr>\n",
              "      <th>2</th>\n",
              "      <td>0.02729</td>\n",
              "      <td>0.0</td>\n",
              "      <td>7.07</td>\n",
              "      <td>0</td>\n",
              "      <td>0.469</td>\n",
              "      <td>7.185</td>\n",
              "      <td>61.1</td>\n",
              "      <td>4.9671</td>\n",
              "      <td>2</td>\n",
              "      <td>242</td>\n",
              "      <td>17.8</td>\n",
              "      <td>392.83</td>\n",
              "      <td>4.03</td>\n",
              "      <td>34.7</td>\n",
              "      <td>0</td>\n",
              "    </tr>\n",
              "    <tr>\n",
              "      <th>3</th>\n",
              "      <td>0.03237</td>\n",
              "      <td>0.0</td>\n",
              "      <td>2.18</td>\n",
              "      <td>0</td>\n",
              "      <td>0.458</td>\n",
              "      <td>6.998</td>\n",
              "      <td>45.8</td>\n",
              "      <td>6.0622</td>\n",
              "      <td>3</td>\n",
              "      <td>222</td>\n",
              "      <td>18.7</td>\n",
              "      <td>394.63</td>\n",
              "      <td>2.94</td>\n",
              "      <td>33.4</td>\n",
              "      <td>0</td>\n",
              "    </tr>\n",
              "    <tr>\n",
              "      <th>4</th>\n",
              "      <td>0.06905</td>\n",
              "      <td>0.0</td>\n",
              "      <td>2.18</td>\n",
              "      <td>0</td>\n",
              "      <td>0.458</td>\n",
              "      <td>7.147</td>\n",
              "      <td>54.2</td>\n",
              "      <td>6.0622</td>\n",
              "      <td>3</td>\n",
              "      <td>222</td>\n",
              "      <td>18.7</td>\n",
              "      <td>396.90</td>\n",
              "      <td>5.33</td>\n",
              "      <td>36.2</td>\n",
              "      <td>0</td>\n",
              "    </tr>\n",
              "  </tbody>\n",
              "</table>\n",
              "</div>"
            ],
            "text/plain": [
              "      crim    zn  indus  chas    nox  ...  ptratio   black  lstat  medv  crim01\n",
              "0  0.00632  18.0   2.31     0  0.538  ...     15.3  396.90   4.98  24.0       0\n",
              "1  0.02731   0.0   7.07     0  0.469  ...     17.8  396.90   9.14  21.6       0\n",
              "2  0.02729   0.0   7.07     0  0.469  ...     17.8  392.83   4.03  34.7       0\n",
              "3  0.03237   0.0   2.18     0  0.458  ...     18.7  394.63   2.94  33.4       0\n",
              "4  0.06905   0.0   2.18     0  0.458  ...     18.7  396.90   5.33  36.2       0\n",
              "\n",
              "[5 rows x 15 columns]"
            ]
          },
          "metadata": {
            "tags": []
          },
          "execution_count": 87
        }
      ]
    },
    {
      "cell_type": "code",
      "metadata": {
        "id": "Z_wwvRbYv8hg",
        "colab_type": "code",
        "colab": {
          "base_uri": "https://localhost:8080/",
          "height": 34
        },
        "outputId": "73c50d48-9c15-4995-8967-2fd08da8538d"
      },
      "source": [
        "X = boston.iloc[:,1:-1].values\n",
        "y = boston['crim01'].values\n",
        "X_train, X_test, y_train, y_test = train_test_split(X, y, random_state=1)\n",
        "\n",
        "qda = QuadraticDiscriminantAnalysis()\n",
        "qda.fit(X_train, y_train)\n",
        "accuracy_score(y_test, qda.predict(X_test))"
      ],
      "execution_count": null,
      "outputs": [
        {
          "output_type": "execute_result",
          "data": {
            "text/plain": [
              "0.905511811023622"
            ]
          },
          "metadata": {
            "tags": []
          },
          "execution_count": 88
        }
      ]
    },
    {
      "cell_type": "code",
      "metadata": {
        "id": "iXdMljSav_Dw",
        "colab_type": "code",
        "colab": {
          "base_uri": "https://localhost:8080/",
          "height": 34
        },
        "outputId": "1541ab67-d166-4df5-f868-52fc6259c94d"
      },
      "source": [
        "X = boston.iloc[:,1:-1].values\n",
        "y = boston['crim01'].values\n",
        "X_train, X_test, y_train, y_test = train_test_split(X, y, random_state=1)\n",
        "\n",
        "knn = KNeighborsClassifier(n_neighbors=10)\n",
        "knn.fit(X_train, y_train)\n",
        "accuracy_score(y_test, knn.predict(X_test))"
      ],
      "execution_count": null,
      "outputs": [
        {
          "output_type": "execute_result",
          "data": {
            "text/plain": [
              "0.8740157480314961"
            ]
          },
          "metadata": {
            "tags": []
          },
          "execution_count": 89
        }
      ]
    },
    {
      "cell_type": "code",
      "metadata": {
        "id": "Hc098J9-wCPA",
        "colab_type": "code",
        "colab": {
          "base_uri": "https://localhost:8080/",
          "height": 168
        },
        "outputId": "0e130dd1-97b9-4e55-a6b3-34eaea3a61f9"
      },
      "source": [
        "X = boston.iloc[:,1:-1].values\n",
        "y = boston['crim01'].values\n",
        "X_train, X_test, y_train, y_test = train_test_split(X, y, random_state=1)\n",
        "\n",
        "lr = LogisticRegression(C=1)\n",
        "lr.fit(X_train, y_train)\n",
        "accuracy_score(y_test, lr.predict(X_test))"
      ],
      "execution_count": null,
      "outputs": [
        {
          "output_type": "stream",
          "text": [
            "/usr/local/lib/python3.6/dist-packages/sklearn/linear_model/_logistic.py:940: ConvergenceWarning: lbfgs failed to converge (status=1):\n",
            "STOP: TOTAL NO. of ITERATIONS REACHED LIMIT.\n",
            "\n",
            "Increase the number of iterations (max_iter) or scale the data as shown in:\n",
            "    https://scikit-learn.org/stable/modules/preprocessing.html\n",
            "Please also refer to the documentation for alternative solver options:\n",
            "    https://scikit-learn.org/stable/modules/linear_model.html#logistic-regression\n",
            "  extra_warning_msg=_LOGISTIC_SOLVER_CONVERGENCE_MSG)\n"
          ],
          "name": "stderr"
        },
        {
          "output_type": "execute_result",
          "data": {
            "text/plain": [
              "0.8503937007874016"
            ]
          },
          "metadata": {
            "tags": []
          },
          "execution_count": 90
        }
      ]
    }
  ]
}