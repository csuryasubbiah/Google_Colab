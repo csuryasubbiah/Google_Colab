{
  "nbformat": 4,
  "nbformat_minor": 0,
  "metadata": {
    "colab": {
      "name": "I2SL_Logistic_Regression.ipynb",
      "provenance": [],
      "collapsed_sections": [],
      "include_colab_link": true
    },
    "kernelspec": {
      "name": "python3",
      "display_name": "Python 3"
    }
  },
  "cells": [
    {
      "cell_type": "markdown",
      "metadata": {
        "id": "view-in-github",
        "colab_type": "text"
      },
      "source": [
        "<a href=\"https://colab.research.google.com/github/nikbearbrown/Google_Colab/blob/master/I2SL_Logistic_Regression.ipynb\" target=\"_parent\"><img src=\"https://colab.research.google.com/assets/colab-badge.svg\" alt=\"Open In Colab\"/></a>"
      ]
    },
    {
      "cell_type": "markdown",
      "metadata": {
        "id": "hVHcCzJr5al_",
        "colab_type": "text"
      },
      "source": [
        "## Logistic Regression\n",
        "\n",
        "[Logistic regression](https://en.wikipedia.org/wiki/Logistic_regression), or logit regression, or is a regression model where the outcome variable is categorical. Often this is used when the variable is binary (e.g. yes/no, survived/dead, pass/fail, etc.)\n",
        "\n",
        "Logistic regression measures the relationship between the categorical response variable and one or more predictor variables by estimating probabilities. "
      ]
    },
    {
      "cell_type": "code",
      "metadata": {
        "id": "xL53uJ7s5hQJ",
        "colab_type": "code",
        "colab": {
          "base_uri": "https://localhost:8080/",
          "height": 71
        },
        "outputId": "dbfea8d7-3588-46ec-c4fb-e521db4c4799"
      },
      "source": [
        "%matplotlib inline \n",
        "import matplotlib.pyplot as plt\n",
        "import numpy as np\n",
        "import pandas as pd\n",
        "import pandas.util.testing as tm\n",
        "from scipy import stats\n",
        "import seaborn as sns\n",
        "import warnings\n",
        "import random\n",
        "from sklearn.model_selection import KFold, cross_val_score, train_test_split\n",
        "from sklearn import metrics\n",
        "import statsmodels.api as sm\n",
        "import scipy.stats as stats \n",
        "from sklearn.linear_model import LogisticRegression\n",
        "\n",
        "from datetime import datetime\n",
        "random.seed(datetime.now())\n",
        "warnings.filterwarnings('ignore')\n",
        "\n",
        "# Make plots larger\n",
        "plt.rcParams['figure.figsize'] = (10, 6)"
      ],
      "execution_count": null,
      "outputs": [
        {
          "output_type": "stream",
          "text": [
            "/usr/local/lib/python3.6/dist-packages/ipykernel_launcher.py:5: FutureWarning: pandas.util.testing is deprecated. Use the functions in the public API at pandas.testing instead.\n",
            "  \"\"\"\n"
          ],
          "name": "stderr"
        }
      ]
    },
    {
      "cell_type": "code",
      "metadata": {
        "id": "NpVScadv9NYo",
        "colab_type": "code",
        "colab": {
          "base_uri": "https://localhost:8080/",
          "height": 206
        },
        "outputId": "33837033-98d0-41e7-9b8b-626ac7137b22"
      },
      "source": [
        "#  the number of hours each student spent studying, and whether they passed (1) or failed (0).\n",
        "url = 'https://raw.githubusercontent.com/nikbearbrown/Google_Colab/master/data/passing_an_exam_versus_hours_of_study.csv'\n",
        "hours_pass = pd.read_csv(url)\n",
        "hours_pass.head()"
      ],
      "execution_count": null,
      "outputs": [
        {
          "output_type": "execute_result",
          "data": {
            "text/html": [
              "<div>\n",
              "<style scoped>\n",
              "    .dataframe tbody tr th:only-of-type {\n",
              "        vertical-align: middle;\n",
              "    }\n",
              "\n",
              "    .dataframe tbody tr th {\n",
              "        vertical-align: top;\n",
              "    }\n",
              "\n",
              "    .dataframe thead th {\n",
              "        text-align: right;\n",
              "    }\n",
              "</style>\n",
              "<table border=\"1\" class=\"dataframe\">\n",
              "  <thead>\n",
              "    <tr style=\"text-align: right;\">\n",
              "      <th></th>\n",
              "      <th>Hours</th>\n",
              "      <th>Pass</th>\n",
              "    </tr>\n",
              "  </thead>\n",
              "  <tbody>\n",
              "    <tr>\n",
              "      <th>0</th>\n",
              "      <td>0.50</td>\n",
              "      <td>0</td>\n",
              "    </tr>\n",
              "    <tr>\n",
              "      <th>1</th>\n",
              "      <td>0.75</td>\n",
              "      <td>0</td>\n",
              "    </tr>\n",
              "    <tr>\n",
              "      <th>2</th>\n",
              "      <td>1.00</td>\n",
              "      <td>0</td>\n",
              "    </tr>\n",
              "    <tr>\n",
              "      <th>3</th>\n",
              "      <td>1.25</td>\n",
              "      <td>0</td>\n",
              "    </tr>\n",
              "    <tr>\n",
              "      <th>4</th>\n",
              "      <td>1.50</td>\n",
              "      <td>0</td>\n",
              "    </tr>\n",
              "  </tbody>\n",
              "</table>\n",
              "</div>"
            ],
            "text/plain": [
              "   Hours  Pass\n",
              "0   0.50     0\n",
              "1   0.75     0\n",
              "2   1.00     0\n",
              "3   1.25     0\n",
              "4   1.50     0"
            ]
          },
          "metadata": {
            "tags": []
          },
          "execution_count": 73
        }
      ]
    },
    {
      "cell_type": "markdown",
      "metadata": {
        "id": "ePCKgNff_Gy9",
        "colab_type": "text"
      },
      "source": [
        "## Can we fit a line to this data?\n",
        "\n",
        "Can we fit a line to this data rather than a logistic function?"
      ]
    },
    {
      "cell_type": "code",
      "metadata": {
        "id": "OO5K5lUv-_1B",
        "colab_type": "code",
        "colab": {
          "base_uri": "https://localhost:8080/",
          "height": 386
        },
        "outputId": "00d9a857-6d00-470f-848d-b48515f98ac9"
      },
      "source": [
        "sns.lmplot(x='Hours', y='Pass', data=hours_pass, ci=None)"
      ],
      "execution_count": null,
      "outputs": [
        {
          "output_type": "execute_result",
          "data": {
            "text/plain": [
              "<seaborn.axisgrid.FacetGrid at 0x7f1e0f87f3c8>"
            ]
          },
          "metadata": {
            "tags": []
          },
          "execution_count": 74
        },
        {
          "output_type": "display_data",
          "data": {
            "image/png": "[encoded data removed]",
            "text/plain": [
              "<Figure size 360x360 with 1 Axes>"
            ]
          },
          "metadata": {
            "tags": [],
            "needs_background": "light"
          }
        }
      ]
    },
    {
      "cell_type": "markdown",
      "metadata": {
        "id": "ojhlUGXf_hn0",
        "colab_type": "text"
      },
      "source": [
        "The reason for using logistic regression for this problem is that the\n",
        "dependent variable pass/fail represented by “1” and “0” are not\n",
        "cardinal numbers. If the problem was changed so that pass/fail was\n",
        "replaced with the grade 0–100 (cardinal numbers), then simple\n",
        "regression analysis could be used.\n",
        "\n",
        "The table shows the number of hours each student spent studying, and\n",
        "whether they passed (1) or failed (0).\n",
        "\n",
        "| Hours |0.50|0.75|1.00|1.25|1.50|1.75|2.00|2.25|2.50|2.75|3.00|3.25|3.50|4.00|4.25|4.50|4.75|5.00|5.50|\n",
        "|---|---|---|---|---|---|---|---|---|---|---|---|---|---|---|---|---|---|---|---|\n",
        "| Pass | 0  |  0 |  0 |  0 | 0  |  1 |  0 |  1 |  0 |  1 | 0  | 1  | 0  | 1  | 1  |   1|  1 |  1 |  1 |\n",
        "\n",
        "\n",
        "The graph shows the probability of passing the exam versus the number of\n",
        "hours studying, with the logistic regression curve fitted to the data.\n",
        "\n",
        "![Graph of a logistic regression curve showing probability of passing an\n",
        "exam versus hours studying](http://nikbearbrown.com/YouTube/MachineLearning/IMG/Exam_pass_logistic_curve.jpg)\n",
        "\n",
        "\n",
        "The logistic regression analysis gives the following output.\n",
        "\n",
        "\n",
        "|   | Coefficient  | Std.Error  | z-value  | P-value (Wald)  |\n",
        "|-----------|-----------|-----------|-----------|-----------|\n",
        "|Intercept   | −4.0777  | 1.7610  | −2.316  | 0.0206  |\n",
        "| Hours   | 1.5046   | 0.6287  | 2.393   | 0.0167  |\n",
        "\n",
        "\n",
        "\n",
        "The output indicates that hours studying is significantly associated\n",
        "with the probability of passing the exam ($p = 0.0167$, [Wald test](https://en.wikipedia.org/wiki/Wald_test)).\n",
        "The output also provides the coefficients for\n",
        "$\\text{Intercept} = - 4.0777$ and $\\text{Hours} = 1.5046$. These\n",
        "coefficients are entered in the logistic regression equation to estimate\n",
        "the probability of passing the exam:\n",
        "\n",
        "$\\text{Probability of passing exam} = \\frac{1}{1 + \\text{exp} \\left( - \\left( 1.5046 \\cdot \\text{Hours} - 4.0777 \\right) \\right) }$\n",
        "\n",
        "For example, for a student who studies 2 hours, entering the value\n",
        "$\\text{Hours} = 2$ in the equation gives the estimated probability of\n",
        "passing the exam of 0.26:\n",
        "\n",
        "$\\text{Probability of passing exam} = \\frac{1}{1 + \\text{exp}\\left( - \\left( 1.5046 \\cdot 2 - 4.0777 \\right) \\right) } = 0.26$\n",
        "\n",
        "Similarly, for a student who studies 4 hours, the estimated probability\n",
        "of passing the exam is 0.87:\n",
        "\n",
        "$\\text{Probability of passing exam} = \\frac{1}{1 + \\text{exp}\\left( - \\left( 1.5046 \\cdot 4 -  4.0777 \\right) \\right) } = 0.87$\n",
        "\n",
        "This table shows the probability of passing the exam for several values\n",
        "of hours studying.\n",
        "\n",
        "| Hours of study  | Probability of passing exam  |\n",
        "|----------------|-----------------------------|\n",
        "| 1  | 0.07  |\n",
        "| 2  | 0.26  |\n",
        "| 3  | 0.61  |\n",
        "| 4  | 0.87  |\n",
        "| 5  | 0.97  |\n",
        "\n",
        "\n",
        "The **Wald test** is a parametric statistical test named after the\n",
        "Hungarian statistician Abraham Wald. Whenever a relationship within\n",
        "or between data items can be expressed as a statistical model with\n",
        "parameters to be estimated from a sample, the Wald test can be used to\n",
        "test the true value of the parameter based on the sample estimate.\n",
        "\n",
        "Suppose an economist, who has data on social class and shoe size,\n",
        "wonders whether social class is associated with shoe size. Say $\\theta$\n",
        "is the average increase in shoe size for upper-class people compared to\n",
        "middle-class people: then the Wald test can be used to test whether\n",
        "$\\theta$ is 0 (in which case social class has no association with shoe\n",
        "size) or non-zero (shoe size varies between social classes). Here,\n",
        "$\\theta$, the hypothetical difference in shoe sizes between upper and\n",
        "middle-class people in the whole population, is a parameter. An estimate\n",
        "of $\\theta$ might be the difference in shoe size between upper and\n",
        "middle-class people in the sample. In the Wald test, the economist uses\n",
        "the estimate and an estimate of variability (see below) to draw\n",
        "conclusions about the unobserved true $\\theta$. Or, for a medical\n",
        "example, suppose smoking multiplies the risk of lung cancer by some\n",
        "number *R*: then the Wald test can be used to test whether *R* = 1 (i.e.\n",
        "there is no effect of smoking) or is greater (or less) than 1 (i.e.\n",
        "smoking alters risk).\n",
        "\n",
        "A Wald test can be used in a great variety of different models including\n",
        "models for [dichotomous] variables and models for [continuous\n",
        "variables].\n",
        "\n",
        "Mathematical details\n",
        "--------------------\n",
        "\n",
        "Under the Wald statistical test, the [maximum likelihood](https://en.wikipedia.org/wiki/Maximum_likelihood_estimation) estimate\n",
        "$\\hat\\theta$ of the parameter(s) of interest $\\theta$ is compared with\n",
        "the proposed value $\\theta_0$, with the assumption that the difference\n",
        "between the two will be approximately normally distributed. Typically\n",
        "the square of the difference is compared to a [chi-squared\n",
        "distribution](https://en.wikipedia.org/wiki/Chi-squared_distribution).\n",
        "\n",
        "### Test on a single parameter\n",
        "\n",
        "In the univariate case, the Wald statistic is\n",
        "\n",
        "$$\\frac{ ( \\widehat{ \\theta}-\\theta_0 )^2 }{\\operatorname{var}(\\hat \\theta )}$$\n",
        "\n",
        "which is compared against a [chi-squared distribution](https://en.wikipedia.org/wiki/Chi-squared_distribution).\n",
        "\n",
        "Alternatively, the difference can be compared to a normal\n",
        "distribution. In this case the test statistic is\n",
        "\n",
        "$$\\frac{\\widehat{\\theta}-\\theta_0}{\\operatorname{se}(\\hat\\theta)}$$\n",
        "\n",
        "where $\\operatorname{se}(\\widehat\\theta)$ is the [standard error](https://en.wikipedia.org/wiki/Standard_error) of the\n",
        "maximum likelihood estimate (MLE). A reasonable estimate of the standard\n",
        "error for the MLE can be given by <math> \\\\frac"
      ]
    },
    {
      "cell_type": "markdown",
      "metadata": {
        "id": "yVZKh2gJ_pZ7",
        "colab_type": "text"
      },
      "source": [
        "## Logistic model \n",
        "\n",
        "Let us try to understand logistic regression by considering a logistic\n",
        "model with given parameters, then seeing how the coefficients can be\n",
        "estimated from data. Consider a model with two predictors, $x_1$ and\n",
        "$x_2$, and one binary (Bernoulli) response variable $Y$, which we denote\n",
        "$p=P(Y=1)$. We assume a [linear relationship] between the predictor\n",
        "variables and the [log-odds] of the event that $Y=1$. This linear\n",
        "relationship can be written in the following mathematical form (where\n",
        "*ℓ* is the log-odds, $b$ is the base of the logarithm, and $\\beta_i$ are\n",
        "parameters of the model):\n",
        "\n",
        "$$\\ell = \\log_b \\frac{p}{1-p} = \\beta_0 + \\beta_1 x_1 + \\beta_2 x_2$$\n",
        "\n",
        "We can recover the [odds] by exponentiating the log-odds:\n",
        "\n",
        "$$\\frac{p}{1-p} = b^{\\beta_0 + \\beta_1 x_1 + \\beta_2 x_2}$$.\n",
        "\n",
        "By simple algebraic manipulation, the probability that $Y=1$ is\n",
        "\n",
        "$$p = \\frac{b^{\\beta_0 + \\beta_1 x_1 + \\beta_2 x_2}}{b^{\\beta_0 + \\beta_1 x_1 + \\beta_2 x_2} + 1} = \\frac{1}{1 + b^{-(\\beta_0 + \\beta_1 x_1 + \\beta_2 x_2)}}$$.\n",
        "\n",
        "The above formula shows that once $\\beta_i$ are fixed, we can easily\n",
        "compute either the log-odds that $Y=1$ for a given observation, or the\n",
        "probability that $Y=1$ for a given observation. The main use-case of a\n",
        "logistic model is to be given an observation $(x_1,x_2)$, and estimate\n",
        "the probability $p$ that $Y=1$. In most applications, the base $b$ of\n",
        "the logarithm is usually taken to be *[e]*. However in some cases it can\n",
        "be easier to communicate results by working in base 2, or base 10."
      ]
    },
    {
      "cell_type": "code",
      "metadata": {
        "id": "g7sFYCq8_t_a",
        "colab_type": "code",
        "colab": {
          "base_uri": "https://localhost:8080/",
          "height": 390
        },
        "outputId": "3ded81ca-ee20-4f06-eed3-6869e6c8cdee"
      },
      "source": [
        "p = np.linspace(0,1, num=100)\n",
        "l = lambda p: np.log(p/(1-p))\n",
        "ax=plt.gca()\n",
        "ax.plot(p, l(p))\n",
        "ax.axvline(0.5, color='purple', alpha=0.5, ls=':')\n",
        "ax.grid(True)\n",
        "ax.set_xlabel('$P$')\n",
        "ax.set_ylabel('$L$')\n",
        "ax.text(0.1, 3, \"$\\\\log \\\\frac {P(x)} {1-P(x)}$\");"
      ],
      "execution_count": null,
      "outputs": [
        {
          "output_type": "display_data",
          "data": {
            "image/png": "[encoded data removed]",
            "text/plain": [
              "<Figure size 720x432 with 1 Axes>"
            ]
          },
          "metadata": {
            "tags": [],
            "needs_background": "light"
          }
        }
      ]
    },
    {
      "cell_type": "markdown",
      "metadata": {
        "id": "JKKugKX7_82t",
        "colab_type": "text"
      },
      "source": [
        "## Logistic function (S-curve)\n",
        "\n",
        "A *[logistic function](https://en.wikipedia.org/wiki/Logistic_function)* or *logistic curve* is a common \"S\" shape curve, with equation:\n",
        "\n",
        "$$f(x) = \\frac{1}{1 + \\mathrm e^{-x}} $$ \n",
        "\n",
        "$$f(x) = \\frac{L}{1 + \\mathrm e^{-k(x-x_0)}} $$\n",
        "\n",
        "where  \n",
        "\n",
        "* $e$ = the natural logarithm base $e$ (also known as $e$ or Euler's number),   \n",
        "* $x_0$ = the $x$-value of the sigmoid's midpoint,    \n",
        "* $L$ = the curve's maximum value, and     \n",
        "* $k$ = the steepness of the curve.    \n",
        "\n",
        "For values of $x$ in the range of real number's from $-\\infty$ to $\\infty$, the S-curve shown on the right is obtained (with the graph of $f$ approaching $L$ as $x$ approaches $\\infty$ and approaching zero as $x$ approaches $-\\infty$)."
      ]
    },
    {
      "cell_type": "code",
      "metadata": {
        "id": "nGhmJ38Y_-Bf",
        "colab_type": "code",
        "colab": {
          "base_uri": "https://localhost:8080/",
          "height": 497
        },
        "outputId": "13b0bc4c-fad1-4424-a76c-4fbd97e84865"
      },
      "source": [
        "fig = plt.figure(figsize=(12,8))\n",
        "ax = fig.add_subplot(111)\n",
        "support = np.linspace(-6, 6, 1000)\n",
        "ax.plot(support, stats.logistic.cdf(support), 'r-', label='Logistic')\n",
        "ax.plot(support, stats.norm.cdf(support), label='Probit')\n",
        "ax.set_xlabel('$x$')\n",
        "ax.set_ylabel('$P(x)$')\n",
        "ax.legend();"
      ],
      "execution_count": null,
      "outputs": [
        {
          "output_type": "display_data",
          "data": {
            "image/png": "[encoded data removed]",
            "text/plain": [
              "<Figure size 864x576 with 1 Axes>"
            ]
          },
          "metadata": {
            "tags": [],
            "needs_background": "light"
          }
        }
      ]
    },
    {
      "cell_type": "markdown",
      "metadata": {
        "id": "lmIQvNiGAgOM",
        "colab_type": "text"
      },
      "source": [
        "## Logistic Regression\n",
        "\n",
        "**Linear regression:** continuous response is modeled as a linear combination of the features:\n",
        "\n",
        "$$y = \\beta_0 + \\beta_1x + \\varepsilon_i$$\n",
        "\n",
        "**Logistic regression:** log-odds of a categorical response being \"true\" (1) is modeled as a linear combination of the features:\n",
        "\n",
        "$$\\ln \\left({p\\over 1-p}\\right) = \\beta_0 + \\beta_1x + \\varepsilon_i$$\n",
        "\n",
        "This is called the **logit function**.\n",
        "\n",
        "Probability is sometimes written as $\\pi$:\n",
        "\n",
        "$$\\ln \\left({\\pi\\over 1-\\pi}\\right) = \\beta_0 + \\beta_1x + \\varepsilon_i$$\n",
        "\n",
        "The equation can be rearranged into the **logistic function**:\n",
        "\n",
        "$$\\pi = \\frac{e^{\\beta_0 + \\beta_1x}} {1 + e^{\\beta_0 + \\beta_1x}}$$\n",
        "\n",
        "In other words:\n",
        "\n",
        "- Logistic regression outputs the **probabilities of a specific class**\n",
        "- Those probabilities can be converted into **class predictions**\n",
        "\n",
        "The **logistic function** has some nice properties:\n",
        "\n",
        "- Takes on an \"s\" shape\n",
        "- Output is bounded by 0 and 1"
      ]
    },
    {
      "cell_type": "code",
      "metadata": {
        "id": "70_Mih1vAq8k",
        "colab_type": "code",
        "colab": {
          "base_uri": "https://localhost:8080/",
          "height": 206
        },
        "outputId": "93799f47-4724-46d5-bfbc-ca71b6eaf686"
      },
      "source": [
        "# Adding intercept manually\n",
        "hours_pass['intercept'] = 1.0\n",
        "hours_pass.head()"
      ],
      "execution_count": null,
      "outputs": [
        {
          "output_type": "execute_result",
          "data": {
            "text/html": [
              "<div>\n",
              "<style scoped>\n",
              "    .dataframe tbody tr th:only-of-type {\n",
              "        vertical-align: middle;\n",
              "    }\n",
              "\n",
              "    .dataframe tbody tr th {\n",
              "        vertical-align: top;\n",
              "    }\n",
              "\n",
              "    .dataframe thead th {\n",
              "        text-align: right;\n",
              "    }\n",
              "</style>\n",
              "<table border=\"1\" class=\"dataframe\">\n",
              "  <thead>\n",
              "    <tr style=\"text-align: right;\">\n",
              "      <th></th>\n",
              "      <th>Hours</th>\n",
              "      <th>Pass</th>\n",
              "      <th>intercept</th>\n",
              "    </tr>\n",
              "  </thead>\n",
              "  <tbody>\n",
              "    <tr>\n",
              "      <th>0</th>\n",
              "      <td>0.50</td>\n",
              "      <td>0</td>\n",
              "      <td>1.0</td>\n",
              "    </tr>\n",
              "    <tr>\n",
              "      <th>1</th>\n",
              "      <td>0.75</td>\n",
              "      <td>0</td>\n",
              "      <td>1.0</td>\n",
              "    </tr>\n",
              "    <tr>\n",
              "      <th>2</th>\n",
              "      <td>1.00</td>\n",
              "      <td>0</td>\n",
              "      <td>1.0</td>\n",
              "    </tr>\n",
              "    <tr>\n",
              "      <th>3</th>\n",
              "      <td>1.25</td>\n",
              "      <td>0</td>\n",
              "      <td>1.0</td>\n",
              "    </tr>\n",
              "    <tr>\n",
              "      <th>4</th>\n",
              "      <td>1.50</td>\n",
              "      <td>0</td>\n",
              "      <td>1.0</td>\n",
              "    </tr>\n",
              "  </tbody>\n",
              "</table>\n",
              "</div>"
            ],
            "text/plain": [
              "   Hours  Pass  intercept\n",
              "0   0.50     0        1.0\n",
              "1   0.75     0        1.0\n",
              "2   1.00     0        1.0\n",
              "3   1.25     0        1.0\n",
              "4   1.50     0        1.0"
            ]
          },
          "metadata": {
            "tags": []
          },
          "execution_count": 77
        }
      ]
    },
    {
      "cell_type": "code",
      "metadata": {
        "id": "gH4Q9Fb-A4lu",
        "colab_type": "code",
        "colab": {
          "base_uri": "https://localhost:8080/",
          "height": 34
        },
        "outputId": "316c311b-3906-4407-f63c-dd0e2f601176"
      },
      "source": [
        "pred=['Hours','intercept']\n",
        "pred"
      ],
      "execution_count": null,
      "outputs": [
        {
          "output_type": "execute_result",
          "data": {
            "text/plain": [
              "['Hours', 'intercept']"
            ]
          },
          "metadata": {
            "tags": []
          },
          "execution_count": 78
        }
      ]
    },
    {
      "cell_type": "code",
      "metadata": {
        "id": "EkUQUvZyA8R7",
        "colab_type": "code",
        "colab": {
          "base_uri": "https://localhost:8080/",
          "height": 303
        },
        "outputId": "226a0237-1039-48d4-d38f-913af31817d7"
      },
      "source": [
        "hours_pass_model = sm.Logit(hours_pass['Pass'], hours_pass[pred]).fit()\n",
        "hours_pass_model.summary()"
      ],
      "execution_count": null,
      "outputs": [
        {
          "output_type": "stream",
          "text": [
            "Optimization terminated successfully.\n",
            "         Current function value: 0.539410\n",
            "         Iterations 6\n"
          ],
          "name": "stdout"
        },
        {
          "output_type": "execute_result",
          "data": {
            "text/html": [
              "<table class=\"simpletable\">\n",
              "<caption>Logit Regression Results</caption>\n",
              "<tr>\n",
              "  <th>Dep. Variable:</th>         <td>Pass</td>       <th>  No. Observations:  </th>  <td>    23</td> \n",
              "</tr>\n",
              "<tr>\n",
              "  <th>Model:</th>                 <td>Logit</td>      <th>  Df Residuals:      </th>  <td>    21</td> \n",
              "</tr>\n",
              "<tr>\n",
              "  <th>Method:</th>                 <td>MLE</td>       <th>  Df Model:          </th>  <td>     1</td> \n",
              "</tr>\n",
              "<tr>\n",
              "  <th>Date:</th>            <td>Wed, 16 Sep 2020</td> <th>  Pseudo R-squ.:     </th>  <td>0.2207</td> \n",
              "</tr>\n",
              "<tr>\n",
              "  <th>Time:</th>                <td>18:05:42</td>     <th>  Log-Likelihood:    </th> <td> -12.406</td>\n",
              "</tr>\n",
              "<tr>\n",
              "  <th>converged:</th>             <td>True</td>       <th>  LL-Null:           </th> <td> -15.921</td>\n",
              "</tr>\n",
              "<tr>\n",
              "  <th>Covariance Type:</th>     <td>nonrobust</td>    <th>  LLR p-value:       </th> <td>0.008023</td>\n",
              "</tr>\n",
              "</table>\n",
              "<table class=\"simpletable\">\n",
              "<tr>\n",
              "      <td></td>         <th>coef</th>     <th>std err</th>      <th>z</th>      <th>P>|z|</th>  <th>[0.025</th>    <th>0.975]</th>  \n",
              "</tr>\n",
              "<tr>\n",
              "  <th>Hours</th>     <td>    0.7632</td> <td>    0.334</td> <td>    2.288</td> <td> 0.022</td> <td>    0.109</td> <td>    1.417</td>\n",
              "</tr>\n",
              "<tr>\n",
              "  <th>intercept</th> <td>   -2.5161</td> <td>    1.169</td> <td>   -2.152</td> <td> 0.031</td> <td>   -4.808</td> <td>   -0.225</td>\n",
              "</tr>\n",
              "</table>"
            ],
            "text/plain": [
              "<class 'statsmodels.iolib.summary.Summary'>\n",
              "\"\"\"\n",
              "                           Logit Regression Results                           \n",
              "==============================================================================\n",
              "Dep. Variable:                   Pass   No. Observations:                   23\n",
              "Model:                          Logit   Df Residuals:                       21\n",
              "Method:                           MLE   Df Model:                            1\n",
              "Date:                Wed, 16 Sep 2020   Pseudo R-squ.:                  0.2207\n",
              "Time:                        18:05:42   Log-Likelihood:                -12.406\n",
              "converged:                       True   LL-Null:                       -15.921\n",
              "Covariance Type:            nonrobust   LLR p-value:                  0.008023\n",
              "==============================================================================\n",
              "                 coef    std err          z      P>|z|      [0.025      0.975]\n",
              "------------------------------------------------------------------------------\n",
              "Hours          0.7632      0.334      2.288      0.022       0.109       1.417\n",
              "intercept     -2.5161      1.169     -2.152      0.031      -4.808      -0.225\n",
              "==============================================================================\n",
              "\"\"\""
            ]
          },
          "metadata": {
            "tags": []
          },
          "execution_count": 79
        }
      ]
    },
    {
      "cell_type": "markdown",
      "metadata": {
        "id": "e3oAVC7TCFXn",
        "colab_type": "text"
      },
      "source": [
        "## Discusion  \n",
        "\n",
        " A. Write an equation that describes the model.  \n",
        "\n",
        "\n",
        " $$\\ln \\left({p\\over 1-p}\\right) = \\beta_0 + \\beta_1*Hours + \\varepsilon_i$$\n",
        "\n",
        " or alternatively \n",
        "\n",
        " $$logit \\left({p}\\right) = \\beta_0 + \\beta_1*Hours + \\varepsilon_i$$\n",
        "\n",
        "  or alternatively \n",
        "\n",
        " $$logit \\left({p}\\right) = -2.5161 + 0.7632*Hours + \\varepsilon_i$$\n",
        "\n",
        " B. Is the coefficient _Hours_ significant? How does one interpret the meaning of its value?\n",
        "\n",
        "The coefficient _Hours_ is significant as the z-score is 2.3 SD above the mean. The p-value is 0.022 which is significant at a 0.05 level but not at a 0.01 level.  \n",
        "\n",
        "The coefficient for _Hours_  is the difference in the log odds.  In other words, for a one hour increase in studying, the expected change in log odds is 0.7632.  \n",
        ".\n",
        "\n",
        " C. Is the coefficient _intercept_ significant? How does one interpret the meaning of its value?\n",
        "\n",
        "The coefficient _intercept is significant as the z-score is 2.1 SD below the mean. The p-value is 0.031 which is significant at a 0.05 level but not at a 0.01 level.  \n",
        "\n",
        "In this case, the estimated coefficient for the intercept is the log odds (\t-2.5161) of a student passing who has spent zero hours studying.   \n",
        "\n",
        "D. Calculate the increase in odds of passing by studying four hours rather than three.  \n",
        "\n",
        "The coefficient for math is the difference in the log odds.  In other words, for a one-unit increase in the math score, the expected change in log odds is 0.7632\n",
        "\n",
        "Going from three to four hours of studying is just a one-unit increase in in the log odds (i.e. 0.7632).\n",
        "\n",
        "To go from log odds to odds just exponentiate it.  exp(0.7632)\n",
        "\n"
      ]
    },
    {
      "cell_type": "code",
      "metadata": {
        "id": "LQBLet1pHGt2",
        "colab_type": "code",
        "colab": {
          "base_uri": "https://localhost:8080/",
          "height": 34
        },
        "outputId": "8bc36f1c-d237-45ac-b0ec-16fa6fd51183"
      },
      "source": [
        "np.exp(0.7632)"
      ],
      "execution_count": null,
      "outputs": [
        {
          "output_type": "execute_result",
          "data": {
            "text/plain": [
              "2.1451296640638446"
            ]
          },
          "metadata": {
            "tags": []
          },
          "execution_count": 80
        }
      ]
    },
    {
      "cell_type": "code",
      "metadata": {
        "id": "XksTwzkUUIB1",
        "colab_type": "code",
        "colab": {
          "base_uri": "https://localhost:8080/",
          "height": 119
        },
        "outputId": "9ea327bb-5377-4bfe-8f63-13abb0a236d9"
      },
      "source": [
        "b0=-2.5161\n",
        "b1=0.7632\n",
        "x=4\n",
        "p4=np.exp(b0+b1*x)/(1+np.exp(b0+b1*x))\n",
        "print(p4)\n",
        "x=5\n",
        "p5=np.exp(b0+b1*x)/(1+np.exp(b0+b1*x))\n",
        "print(p5)\n",
        "print(p5-p4)\n",
        "x=6\n",
        "p6=np.exp(b0+b1*x)/(1+np.exp(b0+b1*x))\n",
        "print(p6)\n",
        "print(p6-p5)\n",
        "x=0\n",
        "p0=np.exp(b0+b1*x)/(1+np.exp(b0+b1*x))\n",
        "print(p0)"
      ],
      "execution_count": null,
      "outputs": [
        {
          "output_type": "stream",
          "text": [
            "0.6310444202632162\n",
            "0.7858181527252565\n",
            "0.1547737324620403\n",
            "0.8872646233306233\n",
            "0.10144647060536682\n",
            "0.0747371892897859\n"
          ],
          "name": "stdout"
        }
      ]
    },
    {
      "cell_type": "code",
      "metadata": {
        "id": "lZD9TXYqXeCz",
        "colab_type": "code",
        "colab": {
          "base_uri": "https://localhost:8080/",
          "height": 34
        },
        "outputId": "a4bcb90e-56da-453d-8d1a-07c4b250e95d"
      },
      "source": [
        "0.7632/0.334"
      ],
      "execution_count": null,
      "outputs": [
        {
          "output_type": "execute_result",
          "data": {
            "text/plain": [
              "2.2850299401197605"
            ]
          },
          "metadata": {
            "tags": []
          },
          "execution_count": 8
        }
      ]
    },
    {
      "cell_type": "markdown",
      "metadata": {
        "id": "qFbl5pLjJIxc",
        "colab_type": "text"
      },
      "source": [
        "### coefficients of the model\n",
        "\n",
        "Overview of the coefficients of the model, how well those coefficients fit, the overall fit quality, and several other statistical measures.\n",
        "\n",
        "### confidence interval\n",
        "\n",
        "LogitResults.conf_int(alpha=0.05, cols=None, method='default')\n",
        "_Returns the confidence interval of the fitted parameters._\n",
        "\n",
        "Parameters:\t\n",
        "alpha : float, optional\n",
        "_The significance level for the confidence interval. ie., The default alpha = .05 returns a 95% confidence interval._\n"
      ]
    },
    {
      "cell_type": "code",
      "metadata": {
        "id": "O4k4kx1rJRy9",
        "colab_type": "code",
        "colab": {
          "base_uri": "https://localhost:8080/",
          "height": 112
        },
        "outputId": "e4528d3b-4618-473a-d417-1f94e078b238"
      },
      "source": [
        "hours_pass_model.conf_int()"
      ],
      "execution_count": null,
      "outputs": [
        {
          "output_type": "execute_result",
          "data": {
            "text/html": [
              "<div>\n",
              "<style scoped>\n",
              "    .dataframe tbody tr th:only-of-type {\n",
              "        vertical-align: middle;\n",
              "    }\n",
              "\n",
              "    .dataframe tbody tr th {\n",
              "        vertical-align: top;\n",
              "    }\n",
              "\n",
              "    .dataframe thead th {\n",
              "        text-align: right;\n",
              "    }\n",
              "</style>\n",
              "<table border=\"1\" class=\"dataframe\">\n",
              "  <thead>\n",
              "    <tr style=\"text-align: right;\">\n",
              "      <th></th>\n",
              "      <th>0</th>\n",
              "      <th>1</th>\n",
              "    </tr>\n",
              "  </thead>\n",
              "  <tbody>\n",
              "    <tr>\n",
              "      <th>Hours</th>\n",
              "      <td>0.109432</td>\n",
              "      <td>1.416992</td>\n",
              "    </tr>\n",
              "    <tr>\n",
              "      <th>intercept</th>\n",
              "      <td>-4.807533</td>\n",
              "      <td>-0.224608</td>\n",
              "    </tr>\n",
              "  </tbody>\n",
              "</table>\n",
              "</div>"
            ],
            "text/plain": [
              "                  0         1\n",
              "Hours      0.109432  1.416992\n",
              "intercept -4.807533 -0.224608"
            ]
          },
          "metadata": {
            "tags": []
          },
          "execution_count": 81
        }
      ]
    },
    {
      "cell_type": "code",
      "metadata": {
        "id": "yYY67sCdJTHK",
        "colab_type": "code",
        "colab": {
          "base_uri": "https://localhost:8080/",
          "height": 112
        },
        "outputId": "48431bef-bc57-417a-ed4b-e365ad33ebb8"
      },
      "source": [
        "hours_pass_model.conf_int(alpha=0.01)"
      ],
      "execution_count": null,
      "outputs": [
        {
          "output_type": "execute_result",
          "data": {
            "text/html": [
              "<div>\n",
              "<style scoped>\n",
              "    .dataframe tbody tr th:only-of-type {\n",
              "        vertical-align: middle;\n",
              "    }\n",
              "\n",
              "    .dataframe tbody tr th {\n",
              "        vertical-align: top;\n",
              "    }\n",
              "\n",
              "    .dataframe thead th {\n",
              "        text-align: right;\n",
              "    }\n",
              "</style>\n",
              "<table border=\"1\" class=\"dataframe\">\n",
              "  <thead>\n",
              "    <tr style=\"text-align: right;\">\n",
              "      <th></th>\n",
              "      <th>0</th>\n",
              "      <th>1</th>\n",
              "    </tr>\n",
              "  </thead>\n",
              "  <tbody>\n",
              "    <tr>\n",
              "      <th>Hours</th>\n",
              "      <td>-0.096000</td>\n",
              "      <td>1.622424</td>\n",
              "    </tr>\n",
              "    <tr>\n",
              "      <th>intercept</th>\n",
              "      <td>-5.527563</td>\n",
              "      <td>0.495422</td>\n",
              "    </tr>\n",
              "  </tbody>\n",
              "</table>\n",
              "</div>"
            ],
            "text/plain": [
              "                  0         1\n",
              "Hours     -0.096000  1.622424\n",
              "intercept -5.527563  0.495422"
            ]
          },
          "metadata": {
            "tags": []
          },
          "execution_count": 82
        }
      ]
    },
    {
      "cell_type": "markdown",
      "metadata": {
        "id": "vh89K8CTJgGJ",
        "colab_type": "text"
      },
      "source": [
        "### odds ratio\n",
        "\n",
        "Take the exponential of each of the coefficients to generate the odds ratios. This tells you how a 1 unit increase or decrease in a variable affects the odds of being admitted."
      ]
    },
    {
      "cell_type": "code",
      "metadata": {
        "id": "b9MuAfKhJiFI",
        "colab_type": "code",
        "colab": {
          "base_uri": "https://localhost:8080/",
          "height": 69
        },
        "outputId": "153fb667-374d-41cf-8913-485215c4418e"
      },
      "source": [
        "np.exp(hours_pass_model.params)"
      ],
      "execution_count": null,
      "outputs": [
        {
          "output_type": "execute_result",
          "data": {
            "text/plain": [
              "Hours        2.145156\n",
              "intercept    0.080776\n",
              "dtype: float64"
            ]
          },
          "metadata": {
            "tags": []
          },
          "execution_count": 83
        }
      ]
    },
    {
      "cell_type": "code",
      "metadata": {
        "id": "Q4NzmsEmJxjP",
        "colab_type": "code",
        "colab": {
          "base_uri": "https://localhost:8080/",
          "height": 112
        },
        "outputId": "08be97c3-914a-45f3-c6c1-30cf40d368c6"
      },
      "source": [
        "# odds ratios and 95% CI\n",
        "params = hours_pass_model.params\n",
        "conf = hours_pass_model.conf_int()\n",
        "conf['OR'] = params\n",
        "conf.columns = ['2.5%', '97.5%', 'OddsRatio']\n",
        "np.exp(conf)"
      ],
      "execution_count": null,
      "outputs": [
        {
          "output_type": "execute_result",
          "data": {
            "text/html": [
              "<div>\n",
              "<style scoped>\n",
              "    .dataframe tbody tr th:only-of-type {\n",
              "        vertical-align: middle;\n",
              "    }\n",
              "\n",
              "    .dataframe tbody tr th {\n",
              "        vertical-align: top;\n",
              "    }\n",
              "\n",
              "    .dataframe thead th {\n",
              "        text-align: right;\n",
              "    }\n",
              "</style>\n",
              "<table border=\"1\" class=\"dataframe\">\n",
              "  <thead>\n",
              "    <tr style=\"text-align: right;\">\n",
              "      <th></th>\n",
              "      <th>2.5%</th>\n",
              "      <th>97.5%</th>\n",
              "      <th>OddsRatio</th>\n",
              "    </tr>\n",
              "  </thead>\n",
              "  <tbody>\n",
              "    <tr>\n",
              "      <th>Hours</th>\n",
              "      <td>1.115644</td>\n",
              "      <td>4.124694</td>\n",
              "      <td>2.145156</td>\n",
              "    </tr>\n",
              "    <tr>\n",
              "      <th>intercept</th>\n",
              "      <td>0.008168</td>\n",
              "      <td>0.798829</td>\n",
              "      <td>0.080776</td>\n",
              "    </tr>\n",
              "  </tbody>\n",
              "</table>\n",
              "</div>"
            ],
            "text/plain": [
              "               2.5%     97.5%  OddsRatio\n",
              "Hours      1.115644  4.124694   2.145156\n",
              "intercept  0.008168  0.798829   0.080776"
            ]
          },
          "metadata": {
            "tags": []
          },
          "execution_count": 84
        }
      ]
    },
    {
      "cell_type": "markdown",
      "metadata": {
        "id": "DYR4VZeGJ78v",
        "colab_type": "text"
      },
      "source": [
        "## UCLA Admissions Data   \n",
        "\n",
        "Variable | Description | Type of Variable\n",
        "---| ---| ---\n",
        "Admit| 0 = not admitted 1 = admitted | categorical\n",
        "GRE | GRE score 200-800 | continuous \n",
        "GPA | GPA 0-4.0 | continuous\n",
        "Prestige | 1= not prestigious 2 = low prestige 3= good prestige 4= high prestige | categorical\n",
        "\n",
        "\n",
        "## Admission into grad school?\n",
        "\n",
        "Determine if there is an association between graduate school admission and the prestige of a student's undergraduate school using data from the UCLA admissions data set.\n",
        "\n",
        "Outcome: admission into grad school.    \n",
        "\n",
        "Predictors/covariates: Prestige, GRE, GPA  "
      ]
    },
    {
      "cell_type": "code",
      "metadata": {
        "id": "ZcbtRHbEJ7QK",
        "colab_type": "code",
        "colab": {
          "base_uri": "https://localhost:8080/",
          "height": 206
        },
        "outputId": "cf8233a4-63d8-41d8-e31b-cdd6170a994b"
      },
      "source": [
        "ucla = pd.read_csv(\"https://stats.idre.ucla.edu/stat/data/binary.csv\")\n",
        "ucla.head()"
      ],
      "execution_count": null,
      "outputs": [
        {
          "output_type": "execute_result",
          "data": {
            "text/html": [
              "<div>\n",
              "<style scoped>\n",
              "    .dataframe tbody tr th:only-of-type {\n",
              "        vertical-align: middle;\n",
              "    }\n",
              "\n",
              "    .dataframe tbody tr th {\n",
              "        vertical-align: top;\n",
              "    }\n",
              "\n",
              "    .dataframe thead th {\n",
              "        text-align: right;\n",
              "    }\n",
              "</style>\n",
              "<table border=\"1\" class=\"dataframe\">\n",
              "  <thead>\n",
              "    <tr style=\"text-align: right;\">\n",
              "      <th></th>\n",
              "      <th>admit</th>\n",
              "      <th>gre</th>\n",
              "      <th>gpa</th>\n",
              "      <th>rank</th>\n",
              "    </tr>\n",
              "  </thead>\n",
              "  <tbody>\n",
              "    <tr>\n",
              "      <th>0</th>\n",
              "      <td>0</td>\n",
              "      <td>380</td>\n",
              "      <td>3.61</td>\n",
              "      <td>3</td>\n",
              "    </tr>\n",
              "    <tr>\n",
              "      <th>1</th>\n",
              "      <td>1</td>\n",
              "      <td>660</td>\n",
              "      <td>3.67</td>\n",
              "      <td>3</td>\n",
              "    </tr>\n",
              "    <tr>\n",
              "      <th>2</th>\n",
              "      <td>1</td>\n",
              "      <td>800</td>\n",
              "      <td>4.00</td>\n",
              "      <td>1</td>\n",
              "    </tr>\n",
              "    <tr>\n",
              "      <th>3</th>\n",
              "      <td>1</td>\n",
              "      <td>640</td>\n",
              "      <td>3.19</td>\n",
              "      <td>4</td>\n",
              "    </tr>\n",
              "    <tr>\n",
              "      <th>4</th>\n",
              "      <td>0</td>\n",
              "      <td>520</td>\n",
              "      <td>2.93</td>\n",
              "      <td>4</td>\n",
              "    </tr>\n",
              "  </tbody>\n",
              "</table>\n",
              "</div>"
            ],
            "text/plain": [
              "   admit  gre   gpa  rank\n",
              "0      0  380  3.61     3\n",
              "1      1  660  3.67     3\n",
              "2      1  800  4.00     1\n",
              "3      1  640  3.19     4\n",
              "4      0  520  2.93     4"
            ]
          },
          "metadata": {
            "tags": []
          },
          "execution_count": 85
        }
      ]
    },
    {
      "cell_type": "code",
      "metadata": {
        "id": "Wm8HD2oTKK3C",
        "colab_type": "code",
        "colab": {
          "base_uri": "https://localhost:8080/",
          "height": 300
        },
        "outputId": "ee6d7aa9-c655-4b25-e73b-47d63b5e418a"
      },
      "source": [
        "ucla.describe()"
      ],
      "execution_count": null,
      "outputs": [
        {
          "output_type": "execute_result",
          "data": {
            "text/html": [
              "<div>\n",
              "<style scoped>\n",
              "    .dataframe tbody tr th:only-of-type {\n",
              "        vertical-align: middle;\n",
              "    }\n",
              "\n",
              "    .dataframe tbody tr th {\n",
              "        vertical-align: top;\n",
              "    }\n",
              "\n",
              "    .dataframe thead th {\n",
              "        text-align: right;\n",
              "    }\n",
              "</style>\n",
              "<table border=\"1\" class=\"dataframe\">\n",
              "  <thead>\n",
              "    <tr style=\"text-align: right;\">\n",
              "      <th></th>\n",
              "      <th>admit</th>\n",
              "      <th>gre</th>\n",
              "      <th>gpa</th>\n",
              "      <th>rank</th>\n",
              "    </tr>\n",
              "  </thead>\n",
              "  <tbody>\n",
              "    <tr>\n",
              "      <th>count</th>\n",
              "      <td>400.000000</td>\n",
              "      <td>400.000000</td>\n",
              "      <td>400.000000</td>\n",
              "      <td>400.00000</td>\n",
              "    </tr>\n",
              "    <tr>\n",
              "      <th>mean</th>\n",
              "      <td>0.317500</td>\n",
              "      <td>587.700000</td>\n",
              "      <td>3.389900</td>\n",
              "      <td>2.48500</td>\n",
              "    </tr>\n",
              "    <tr>\n",
              "      <th>std</th>\n",
              "      <td>0.466087</td>\n",
              "      <td>115.516536</td>\n",
              "      <td>0.380567</td>\n",
              "      <td>0.94446</td>\n",
              "    </tr>\n",
              "    <tr>\n",
              "      <th>min</th>\n",
              "      <td>0.000000</td>\n",
              "      <td>220.000000</td>\n",
              "      <td>2.260000</td>\n",
              "      <td>1.00000</td>\n",
              "    </tr>\n",
              "    <tr>\n",
              "      <th>25%</th>\n",
              "      <td>0.000000</td>\n",
              "      <td>520.000000</td>\n",
              "      <td>3.130000</td>\n",
              "      <td>2.00000</td>\n",
              "    </tr>\n",
              "    <tr>\n",
              "      <th>50%</th>\n",
              "      <td>0.000000</td>\n",
              "      <td>580.000000</td>\n",
              "      <td>3.395000</td>\n",
              "      <td>2.00000</td>\n",
              "    </tr>\n",
              "    <tr>\n",
              "      <th>75%</th>\n",
              "      <td>1.000000</td>\n",
              "      <td>660.000000</td>\n",
              "      <td>3.670000</td>\n",
              "      <td>3.00000</td>\n",
              "    </tr>\n",
              "    <tr>\n",
              "      <th>max</th>\n",
              "      <td>1.000000</td>\n",
              "      <td>800.000000</td>\n",
              "      <td>4.000000</td>\n",
              "      <td>4.00000</td>\n",
              "    </tr>\n",
              "  </tbody>\n",
              "</table>\n",
              "</div>"
            ],
            "text/plain": [
              "            admit         gre         gpa       rank\n",
              "count  400.000000  400.000000  400.000000  400.00000\n",
              "mean     0.317500  587.700000    3.389900    2.48500\n",
              "std      0.466087  115.516536    0.380567    0.94446\n",
              "min      0.000000  220.000000    2.260000    1.00000\n",
              "25%      0.000000  520.000000    3.130000    2.00000\n",
              "50%      0.000000  580.000000    3.395000    2.00000\n",
              "75%      1.000000  660.000000    3.670000    3.00000\n",
              "max      1.000000  800.000000    4.000000    4.00000"
            ]
          },
          "metadata": {
            "tags": []
          },
          "execution_count": 86
        }
      ]
    },
    {
      "cell_type": "code",
      "metadata": {
        "id": "i1d_9YmQKRGg",
        "colab_type": "code",
        "colab": {
          "base_uri": "https://localhost:8080/",
          "height": 103
        },
        "outputId": "059ab673-6774-4a20-de82-4fcd9665056d"
      },
      "source": [
        "ucla.std()"
      ],
      "execution_count": null,
      "outputs": [
        {
          "output_type": "execute_result",
          "data": {
            "text/plain": [
              "admit      0.466087\n",
              "gre      115.516536\n",
              "gpa        0.380567\n",
              "rank       0.944460\n",
              "dtype: float64"
            ]
          },
          "metadata": {
            "tags": []
          },
          "execution_count": 87
        }
      ]
    },
    {
      "cell_type": "code",
      "metadata": {
        "id": "G02oux0dKUKr",
        "colab_type": "code",
        "colab": {
          "base_uri": "https://localhost:8080/",
          "height": 476
        },
        "outputId": "f483eefd-db60-4ce9-9ccd-905357535b47"
      },
      "source": [
        "ucla.hist()"
      ],
      "execution_count": null,
      "outputs": [
        {
          "output_type": "execute_result",
          "data": {
            "text/plain": [
              "array([[<matplotlib.axes._subplots.AxesSubplot object at 0x7f1e10665a20>,\n",
              "        <matplotlib.axes._subplots.AxesSubplot object at 0x7f1e106ef470>],\n",
              "       [<matplotlib.axes._subplots.AxesSubplot object at 0x7f1e10071a20>,\n",
              "        <matplotlib.axes._subplots.AxesSubplot object at 0x7f1e0f98d128>]],\n",
              "      dtype=object)"
            ]
          },
          "metadata": {
            "tags": []
          },
          "execution_count": 88
        },
        {
          "output_type": "display_data",
          "data": {
            "image/png": "[encoded data removed]",
            "text/plain": [
              "<Figure size 720x432 with 4 Axes>"
            ]
          },
          "metadata": {
            "tags": [],
            "needs_background": "light"
          }
        }
      ]
    },
    {
      "cell_type": "code",
      "metadata": {
        "id": "m1CeN241Khcr",
        "colab_type": "code",
        "colab": {
          "base_uri": "https://localhost:8080/",
          "height": 143
        },
        "outputId": "cc1e3465-cd08-4001-90a4-0114ccfc3847"
      },
      "source": [
        "#  Tabulating whether or not someone was admitted by rank\n",
        "pd.crosstab(ucla['admit'], ucla['rank'], rownames=['admit'])"
      ],
      "execution_count": null,
      "outputs": [
        {
          "output_type": "execute_result",
          "data": {
            "text/html": [
              "<div>\n",
              "<style scoped>\n",
              "    .dataframe tbody tr th:only-of-type {\n",
              "        vertical-align: middle;\n",
              "    }\n",
              "\n",
              "    .dataframe tbody tr th {\n",
              "        vertical-align: top;\n",
              "    }\n",
              "\n",
              "    .dataframe thead th {\n",
              "        text-align: right;\n",
              "    }\n",
              "</style>\n",
              "<table border=\"1\" class=\"dataframe\">\n",
              "  <thead>\n",
              "    <tr style=\"text-align: right;\">\n",
              "      <th>rank</th>\n",
              "      <th>1</th>\n",
              "      <th>2</th>\n",
              "      <th>3</th>\n",
              "      <th>4</th>\n",
              "    </tr>\n",
              "    <tr>\n",
              "      <th>admit</th>\n",
              "      <th></th>\n",
              "      <th></th>\n",
              "      <th></th>\n",
              "      <th></th>\n",
              "    </tr>\n",
              "  </thead>\n",
              "  <tbody>\n",
              "    <tr>\n",
              "      <th>0</th>\n",
              "      <td>28</td>\n",
              "      <td>97</td>\n",
              "      <td>93</td>\n",
              "      <td>55</td>\n",
              "    </tr>\n",
              "    <tr>\n",
              "      <th>1</th>\n",
              "      <td>33</td>\n",
              "      <td>54</td>\n",
              "      <td>28</td>\n",
              "      <td>12</td>\n",
              "    </tr>\n",
              "  </tbody>\n",
              "</table>\n",
              "</div>"
            ],
            "text/plain": [
              "rank    1   2   3   4\n",
              "admit                \n",
              "0      28  97  93  55\n",
              "1      33  54  28  12"
            ]
          },
          "metadata": {
            "tags": []
          },
          "execution_count": 89
        }
      ]
    },
    {
      "cell_type": "markdown",
      "metadata": {
        "id": "ZPrxPwhLKqHN",
        "colab_type": "text"
      },
      "source": [
        "## Dummy variables\n",
        "\n",
        "In statistics and econometrics, particularly in regression analysis, a [dummy variable](https://en.wikipedia.org/wiki/Dummy_variable_(statistics)) (also known as an indicator variable, design variable, Boolean indicator, categorical variable, binary variable, or qualitative variable) is one that takes the value 0 or 1 to indicate the absence or presence of some categorical effect that may be expected to shift the outcome. Dummy variables are used as devices to sort data into mutually exclusive categories (such as smoker/non-smoker, etc.). For example, in econometric time series analysis, dummy variables may be used to indicate the occurrence of wars or major strikes. A dummy variable can thus be thought of as a truth value represented as a numerical value 0 or 1 (as is sometimes done in computer programming).\n",
        "\n",
        "---------------------------------\n",
        "\n",
        "![Graph showing wage = α~0~ + δ~0~female + α~1~education +\n",
        "*U*, δ~0~ &lt; 0.](https://raw.githubusercontent.com/nikbearbrown/Google_Colab/master/img/Graph_showing_Wage_female_education.jpg)\n",
        "\n",
        "Dummy variables are incorporated in the same way as quantitative\n",
        "variables are included (as explanatory variables) in regression models.\n",
        "For example, if we consider a [Mincer-type] regression model of wage\n",
        "determination, wherein wages are dependent on gender (qualitative) and\n",
        "years of education (quantitative):\n",
        "\n",
        "$$\\ln \\text{wage} = \\alpha_{0} + \\delta_{0} \\text{female} + \\alpha_{1} \\text{education} + u$$\n",
        "\n",
        "where $u \\sim N(0, \\sigma^{2})$ is the [error term]. In the model,\n",
        "*female* = 1 when the person is a female and *female* = 0 when the\n",
        "person is male. $\\delta_{0}$ can be interpreted as: the difference in\n",
        "wages between females and males, holding education constant. Thus, δ~0~\n",
        "helps to determine whether there is a discrimination in wages between\n",
        "males and females. For example, if δ~0~&gt;0 (positive coefficient),\n",
        "then women earn a higher wage than men (keeping other factors constant).\n",
        "Note that the coefficients attached to the dummy variables are called\n",
        "**differential intercept coefficients**. The model can be depicted\n",
        "graphically as an intercept shift between females and males. In the\n",
        "figure, the case δ~0~&lt;0 is shown (wherein, men earn a higher wage\n",
        "than women).[^1]\n",
        "\n",
        "Dummy variables may be extended to more complex cases. For example,\n",
        "seasonal effects may be captured by creating dummy variables for each of\n",
        "the seasons: $D_{1} = 1$ if the observation is for summer, and equals\n",
        "zero otherwise; $D_{2}=1$ if and only if autumn, otherwise equals zero;\n",
        "$D_{3}=1$ if and only if winter, otherwise equals zero; and $D_{4}=1$ if\n",
        "and only if spring, otherwise equals zero. In the [panel data], [fixed\n",
        "effects estimator] dummies are created for each of the units in\n",
        "[cross-sectional data] (e.g. firms or countries) or periods in a [pooled\n",
        "time-series]. However in such regressions either the [constant term] has\n",
        "to be removed or one of the dummies has to be removed, with its\n",
        "associated category becoming the base category against which the others\n",
        "are assessed in order to avoid the **dummy variable trap**:\n",
        "\n",
        "The constant term in all regression equations is a coefficient\n",
        "multiplied by a regressor equal to one. When the regression is expressed\n",
        "as a matrix equation, the matrix of regressors then consists of a column\n",
        "of ones (the constant term), vectors of zeros and ones"
      ]
    },
    {
      "cell_type": "code",
      "metadata": {
        "id": "AYHBGA37LXnJ",
        "colab_type": "code",
        "colab": {
          "base_uri": "https://localhost:8080/",
          "height": 206
        },
        "outputId": "7bbc2615-9227-48af-f0dd-9df13f3a0a7f"
      },
      "source": [
        "dummy_ranks = pd.get_dummies(ucla['rank'], prefix='rank')\n",
        "dummy_ranks.head()"
      ],
      "execution_count": null,
      "outputs": [
        {
          "output_type": "execute_result",
          "data": {
            "text/html": [
              "<div>\n",
              "<style scoped>\n",
              "    .dataframe tbody tr th:only-of-type {\n",
              "        vertical-align: middle;\n",
              "    }\n",
              "\n",
              "    .dataframe tbody tr th {\n",
              "        vertical-align: top;\n",
              "    }\n",
              "\n",
              "    .dataframe thead th {\n",
              "        text-align: right;\n",
              "    }\n",
              "</style>\n",
              "<table border=\"1\" class=\"dataframe\">\n",
              "  <thead>\n",
              "    <tr style=\"text-align: right;\">\n",
              "      <th></th>\n",
              "      <th>rank_1</th>\n",
              "      <th>rank_2</th>\n",
              "      <th>rank_3</th>\n",
              "      <th>rank_4</th>\n",
              "    </tr>\n",
              "  </thead>\n",
              "  <tbody>\n",
              "    <tr>\n",
              "      <th>0</th>\n",
              "      <td>0</td>\n",
              "      <td>0</td>\n",
              "      <td>1</td>\n",
              "      <td>0</td>\n",
              "    </tr>\n",
              "    <tr>\n",
              "      <th>1</th>\n",
              "      <td>0</td>\n",
              "      <td>0</td>\n",
              "      <td>1</td>\n",
              "      <td>0</td>\n",
              "    </tr>\n",
              "    <tr>\n",
              "      <th>2</th>\n",
              "      <td>1</td>\n",
              "      <td>0</td>\n",
              "      <td>0</td>\n",
              "      <td>0</td>\n",
              "    </tr>\n",
              "    <tr>\n",
              "      <th>3</th>\n",
              "      <td>0</td>\n",
              "      <td>0</td>\n",
              "      <td>0</td>\n",
              "      <td>1</td>\n",
              "    </tr>\n",
              "    <tr>\n",
              "      <th>4</th>\n",
              "      <td>0</td>\n",
              "      <td>0</td>\n",
              "      <td>0</td>\n",
              "      <td>1</td>\n",
              "    </tr>\n",
              "  </tbody>\n",
              "</table>\n",
              "</div>"
            ],
            "text/plain": [
              "   rank_1  rank_2  rank_3  rank_4\n",
              "0       0       0       1       0\n",
              "1       0       0       1       0\n",
              "2       1       0       0       0\n",
              "3       0       0       0       1\n",
              "4       0       0       0       1"
            ]
          },
          "metadata": {
            "tags": []
          },
          "execution_count": 90
        }
      ]
    },
    {
      "cell_type": "code",
      "metadata": {
        "id": "YKxBCxvFLm9x",
        "colab_type": "code",
        "colab": {
          "base_uri": "https://localhost:8080/",
          "height": 206
        },
        "outputId": "c5464661-dfce-4f97-d32a-d5ac5e1f27a3"
      },
      "source": [
        "keep = ['admit', 'gre', 'gpa']\n",
        "ucla_dummy = ucla[keep].join(dummy_ranks.loc[:, 'rank_2':])\n",
        "ucla_dummy.head()"
      ],
      "execution_count": null,
      "outputs": [
        {
          "output_type": "execute_result",
          "data": {
            "text/html": [
              "<div>\n",
              "<style scoped>\n",
              "    .dataframe tbody tr th:only-of-type {\n",
              "        vertical-align: middle;\n",
              "    }\n",
              "\n",
              "    .dataframe tbody tr th {\n",
              "        vertical-align: top;\n",
              "    }\n",
              "\n",
              "    .dataframe thead th {\n",
              "        text-align: right;\n",
              "    }\n",
              "</style>\n",
              "<table border=\"1\" class=\"dataframe\">\n",
              "  <thead>\n",
              "    <tr style=\"text-align: right;\">\n",
              "      <th></th>\n",
              "      <th>admit</th>\n",
              "      <th>gre</th>\n",
              "      <th>gpa</th>\n",
              "      <th>rank_2</th>\n",
              "      <th>rank_3</th>\n",
              "      <th>rank_4</th>\n",
              "    </tr>\n",
              "  </thead>\n",
              "  <tbody>\n",
              "    <tr>\n",
              "      <th>0</th>\n",
              "      <td>0</td>\n",
              "      <td>380</td>\n",
              "      <td>3.61</td>\n",
              "      <td>0</td>\n",
              "      <td>1</td>\n",
              "      <td>0</td>\n",
              "    </tr>\n",
              "    <tr>\n",
              "      <th>1</th>\n",
              "      <td>1</td>\n",
              "      <td>660</td>\n",
              "      <td>3.67</td>\n",
              "      <td>0</td>\n",
              "      <td>1</td>\n",
              "      <td>0</td>\n",
              "    </tr>\n",
              "    <tr>\n",
              "      <th>2</th>\n",
              "      <td>1</td>\n",
              "      <td>800</td>\n",
              "      <td>4.00</td>\n",
              "      <td>0</td>\n",
              "      <td>0</td>\n",
              "      <td>0</td>\n",
              "    </tr>\n",
              "    <tr>\n",
              "      <th>3</th>\n",
              "      <td>1</td>\n",
              "      <td>640</td>\n",
              "      <td>3.19</td>\n",
              "      <td>0</td>\n",
              "      <td>0</td>\n",
              "      <td>1</td>\n",
              "    </tr>\n",
              "    <tr>\n",
              "      <th>4</th>\n",
              "      <td>0</td>\n",
              "      <td>520</td>\n",
              "      <td>2.93</td>\n",
              "      <td>0</td>\n",
              "      <td>0</td>\n",
              "      <td>1</td>\n",
              "    </tr>\n",
              "  </tbody>\n",
              "</table>\n",
              "</div>"
            ],
            "text/plain": [
              "   admit  gre   gpa  rank_2  rank_3  rank_4\n",
              "0      0  380  3.61       0       1       0\n",
              "1      1  660  3.67       0       1       0\n",
              "2      1  800  4.00       0       0       0\n",
              "3      1  640  3.19       0       0       1\n",
              "4      0  520  2.93       0       0       1"
            ]
          },
          "metadata": {
            "tags": []
          },
          "execution_count": 91
        }
      ]
    },
    {
      "cell_type": "markdown",
      "metadata": {
        "id": "upcKo-xyM6Ra",
        "colab_type": "text"
      },
      "source": [
        "### Interpreting the Intercept in a Regression Model\n",
        "\n",
        "$$\\ln \\left({p\\over 1-p}\\right) = \\beta_0 + \\beta_1x + \\beta_2x + \\beta_3x + \\beta_4x .... + \\varepsilon_i$$\n",
        "\n",
        "\n",
        "The intercept $\\beta_0$ is the expected mean value when all $\\beta_ix = 0$."
      ]
    },
    {
      "cell_type": "code",
      "metadata": {
        "id": "xbRgQWpSM5ii",
        "colab_type": "code",
        "colab": {
          "base_uri": "https://localhost:8080/",
          "height": 206
        },
        "outputId": "99d88162-9477-4052-d02b-4f9a079a9dcb"
      },
      "source": [
        "# Adding intercept manually\n",
        "ucla_dummy['intercept'] = 1.0\n",
        "ucla_dummy.head()"
      ],
      "execution_count": null,
      "outputs": [
        {
          "output_type": "execute_result",
          "data": {
            "text/html": [
              "<div>\n",
              "<style scoped>\n",
              "    .dataframe tbody tr th:only-of-type {\n",
              "        vertical-align: middle;\n",
              "    }\n",
              "\n",
              "    .dataframe tbody tr th {\n",
              "        vertical-align: top;\n",
              "    }\n",
              "\n",
              "    .dataframe thead th {\n",
              "        text-align: right;\n",
              "    }\n",
              "</style>\n",
              "<table border=\"1\" class=\"dataframe\">\n",
              "  <thead>\n",
              "    <tr style=\"text-align: right;\">\n",
              "      <th></th>\n",
              "      <th>admit</th>\n",
              "      <th>gre</th>\n",
              "      <th>gpa</th>\n",
              "      <th>rank_2</th>\n",
              "      <th>rank_3</th>\n",
              "      <th>rank_4</th>\n",
              "      <th>intercept</th>\n",
              "    </tr>\n",
              "  </thead>\n",
              "  <tbody>\n",
              "    <tr>\n",
              "      <th>0</th>\n",
              "      <td>0</td>\n",
              "      <td>380</td>\n",
              "      <td>3.61</td>\n",
              "      <td>0</td>\n",
              "      <td>1</td>\n",
              "      <td>0</td>\n",
              "      <td>1.0</td>\n",
              "    </tr>\n",
              "    <tr>\n",
              "      <th>1</th>\n",
              "      <td>1</td>\n",
              "      <td>660</td>\n",
              "      <td>3.67</td>\n",
              "      <td>0</td>\n",
              "      <td>1</td>\n",
              "      <td>0</td>\n",
              "      <td>1.0</td>\n",
              "    </tr>\n",
              "    <tr>\n",
              "      <th>2</th>\n",
              "      <td>1</td>\n",
              "      <td>800</td>\n",
              "      <td>4.00</td>\n",
              "      <td>0</td>\n",
              "      <td>0</td>\n",
              "      <td>0</td>\n",
              "      <td>1.0</td>\n",
              "    </tr>\n",
              "    <tr>\n",
              "      <th>3</th>\n",
              "      <td>1</td>\n",
              "      <td>640</td>\n",
              "      <td>3.19</td>\n",
              "      <td>0</td>\n",
              "      <td>0</td>\n",
              "      <td>1</td>\n",
              "      <td>1.0</td>\n",
              "    </tr>\n",
              "    <tr>\n",
              "      <th>4</th>\n",
              "      <td>0</td>\n",
              "      <td>520</td>\n",
              "      <td>2.93</td>\n",
              "      <td>0</td>\n",
              "      <td>0</td>\n",
              "      <td>1</td>\n",
              "      <td>1.0</td>\n",
              "    </tr>\n",
              "  </tbody>\n",
              "</table>\n",
              "</div>"
            ],
            "text/plain": [
              "   admit  gre   gpa  rank_2  rank_3  rank_4  intercept\n",
              "0      0  380  3.61       0       1       0        1.0\n",
              "1      1  660  3.67       0       1       0        1.0\n",
              "2      1  800  4.00       0       0       0        1.0\n",
              "3      1  640  3.19       0       0       1        1.0\n",
              "4      0  520  2.93       0       0       1        1.0"
            ]
          },
          "metadata": {
            "tags": []
          },
          "execution_count": 92
        }
      ]
    },
    {
      "cell_type": "code",
      "metadata": {
        "id": "wHJTbVQpNFI0",
        "colab_type": "code",
        "colab": {
          "base_uri": "https://localhost:8080/",
          "height": 34
        },
        "outputId": "968d1388-3dac-4d64-ef33-12af57efdac8"
      },
      "source": [
        "pred = ucla_dummy.columns[1:]\n",
        "pred"
      ],
      "execution_count": null,
      "outputs": [
        {
          "output_type": "execute_result",
          "data": {
            "text/plain": [
              "Index(['gre', 'gpa', 'rank_2', 'rank_3', 'rank_4', 'intercept'], dtype='object')"
            ]
          },
          "metadata": {
            "tags": []
          },
          "execution_count": 93
        }
      ]
    },
    {
      "cell_type": "code",
      "metadata": {
        "id": "keRk6ZUHNeLA",
        "colab_type": "code",
        "colab": {
          "base_uri": "https://localhost:8080/",
          "height": 389
        },
        "outputId": "81b44743-4a02-48bf-9994-205ec938f2cd"
      },
      "source": [
        "ucla_model = sm.Logit(ucla_dummy['admit'], ucla_dummy[pred]).fit()\n",
        "ucla_model.summary()"
      ],
      "execution_count": null,
      "outputs": [
        {
          "output_type": "stream",
          "text": [
            "Optimization terminated successfully.\n",
            "         Current function value: 0.573147\n",
            "         Iterations 6\n"
          ],
          "name": "stdout"
        },
        {
          "output_type": "execute_result",
          "data": {
            "text/html": [
              "<table class=\"simpletable\">\n",
              "<caption>Logit Regression Results</caption>\n",
              "<tr>\n",
              "  <th>Dep. Variable:</th>         <td>admit</td>      <th>  No. Observations:  </th>  <td>   400</td>  \n",
              "</tr>\n",
              "<tr>\n",
              "  <th>Model:</th>                 <td>Logit</td>      <th>  Df Residuals:      </th>  <td>   394</td>  \n",
              "</tr>\n",
              "<tr>\n",
              "  <th>Method:</th>                 <td>MLE</td>       <th>  Df Model:          </th>  <td>     5</td>  \n",
              "</tr>\n",
              "<tr>\n",
              "  <th>Date:</th>            <td>Wed, 16 Sep 2020</td> <th>  Pseudo R-squ.:     </th>  <td>0.08292</td> \n",
              "</tr>\n",
              "<tr>\n",
              "  <th>Time:</th>                <td>18:05:43</td>     <th>  Log-Likelihood:    </th> <td> -229.26</td> \n",
              "</tr>\n",
              "<tr>\n",
              "  <th>converged:</th>             <td>True</td>       <th>  LL-Null:           </th> <td> -249.99</td> \n",
              "</tr>\n",
              "<tr>\n",
              "  <th>Covariance Type:</th>     <td>nonrobust</td>    <th>  LLR p-value:       </th> <td>7.578e-08</td>\n",
              "</tr>\n",
              "</table>\n",
              "<table class=\"simpletable\">\n",
              "<tr>\n",
              "      <td></td>         <th>coef</th>     <th>std err</th>      <th>z</th>      <th>P>|z|</th>  <th>[0.025</th>    <th>0.975]</th>  \n",
              "</tr>\n",
              "<tr>\n",
              "  <th>gre</th>       <td>    0.0023</td> <td>    0.001</td> <td>    2.070</td> <td> 0.038</td> <td>    0.000</td> <td>    0.004</td>\n",
              "</tr>\n",
              "<tr>\n",
              "  <th>gpa</th>       <td>    0.8040</td> <td>    0.332</td> <td>    2.423</td> <td> 0.015</td> <td>    0.154</td> <td>    1.454</td>\n",
              "</tr>\n",
              "<tr>\n",
              "  <th>rank_2</th>    <td>   -0.6754</td> <td>    0.316</td> <td>   -2.134</td> <td> 0.033</td> <td>   -1.296</td> <td>   -0.055</td>\n",
              "</tr>\n",
              "<tr>\n",
              "  <th>rank_3</th>    <td>   -1.3402</td> <td>    0.345</td> <td>   -3.881</td> <td> 0.000</td> <td>   -2.017</td> <td>   -0.663</td>\n",
              "</tr>\n",
              "<tr>\n",
              "  <th>rank_4</th>    <td>   -1.5515</td> <td>    0.418</td> <td>   -3.713</td> <td> 0.000</td> <td>   -2.370</td> <td>   -0.733</td>\n",
              "</tr>\n",
              "<tr>\n",
              "  <th>intercept</th> <td>   -3.9900</td> <td>    1.140</td> <td>   -3.500</td> <td> 0.000</td> <td>   -6.224</td> <td>   -1.756</td>\n",
              "</tr>\n",
              "</table>"
            ],
            "text/plain": [
              "<class 'statsmodels.iolib.summary.Summary'>\n",
              "\"\"\"\n",
              "                           Logit Regression Results                           \n",
              "==============================================================================\n",
              "Dep. Variable:                  admit   No. Observations:                  400\n",
              "Model:                          Logit   Df Residuals:                      394\n",
              "Method:                           MLE   Df Model:                            5\n",
              "Date:                Wed, 16 Sep 2020   Pseudo R-squ.:                 0.08292\n",
              "Time:                        18:05:43   Log-Likelihood:                -229.26\n",
              "converged:                       True   LL-Null:                       -249.99\n",
              "Covariance Type:            nonrobust   LLR p-value:                 7.578e-08\n",
              "==============================================================================\n",
              "                 coef    std err          z      P>|z|      [0.025      0.975]\n",
              "------------------------------------------------------------------------------\n",
              "gre            0.0023      0.001      2.070      0.038       0.000       0.004\n",
              "gpa            0.8040      0.332      2.423      0.015       0.154       1.454\n",
              "rank_2        -0.6754      0.316     -2.134      0.033      -1.296      -0.055\n",
              "rank_3        -1.3402      0.345     -3.881      0.000      -2.017      -0.663\n",
              "rank_4        -1.5515      0.418     -3.713      0.000      -2.370      -0.733\n",
              "intercept     -3.9900      1.140     -3.500      0.000      -6.224      -1.756\n",
              "==============================================================================\n",
              "\"\"\""
            ]
          },
          "metadata": {
            "tags": []
          },
          "execution_count": 94
        }
      ]
    },
    {
      "cell_type": "markdown",
      "metadata": {
        "id": "tcjX3SDXNqOv",
        "colab_type": "text"
      },
      "source": [
        "\n",
        "## Interpretation UCLA Admissions Data  \n",
        "\n",
        "The output shows the coefficients, their standard errors, the z-statistic (i.e. Wald z-statistic), and the associated p-values. Both gre and gpa are statistically significant, as are the three terms for rank. The logistic regression coefficients give the change in the log odds of the outcome for a one unit increase in the predictor variable.\n",
        "\n",
        "\n",
        "_gre is statistically significant_ (At .05 significance level, P>|z| < .05)\n",
        "\n",
        "For every one unit change in gre, the log odds of admission (versus non-admission) increases by 0.0023.  Notice that the log odds increase is very small as this version of the gre goes up to 800 points. Therefore the difference between 733 and 734 gre scores is not much.  \n",
        "\n",
        "_gpa is statistically significant_ At .05 significance level, P>|z| < .05)\n",
        "\n",
        "For a one unit increase in gpa, the log odds of being admitted to graduate school increases by 0.8040.\n",
        "\n",
        "The indicator variables for rank have a slightly different interpretation. The three terms for rank are statistically significant at .05 significance level, P>|z| < .05.\n",
        "\n",
        "1= not prestigious 2 = low prestige 3= good prestige 4= high prestige\n",
        "\n",
        "The indicator variables for rank have a slightly different interpretation. \n",
        "\n",
        "For example, attending an undergraduate institution with rank of 2, versus an institution with a rank of 1, changes the log odds of admission by -0.6754. Attending an undergraduate institution with rank of 4, versus an institution with a rank of 1, changes the log odds of admission by -1.5515."
      ]
    },
    {
      "cell_type": "code",
      "metadata": {
        "id": "80yC7kgiOVa9",
        "colab_type": "code",
        "colab": {
          "base_uri": "https://localhost:8080/",
          "height": 237
        },
        "outputId": "13f19054-8e7d-41f8-8548-7727643948c7"
      },
      "source": [
        "ucla_model.conf_int()"
      ],
      "execution_count": null,
      "outputs": [
        {
          "output_type": "execute_result",
          "data": {
            "text/html": [
              "<div>\n",
              "<style scoped>\n",
              "    .dataframe tbody tr th:only-of-type {\n",
              "        vertical-align: middle;\n",
              "    }\n",
              "\n",
              "    .dataframe tbody tr th {\n",
              "        vertical-align: top;\n",
              "    }\n",
              "\n",
              "    .dataframe thead th {\n",
              "        text-align: right;\n",
              "    }\n",
              "</style>\n",
              "<table border=\"1\" class=\"dataframe\">\n",
              "  <thead>\n",
              "    <tr style=\"text-align: right;\">\n",
              "      <th></th>\n",
              "      <th>0</th>\n",
              "      <th>1</th>\n",
              "    </tr>\n",
              "  </thead>\n",
              "  <tbody>\n",
              "    <tr>\n",
              "      <th>gre</th>\n",
              "      <td>0.000120</td>\n",
              "      <td>0.004409</td>\n",
              "    </tr>\n",
              "    <tr>\n",
              "      <th>gpa</th>\n",
              "      <td>0.153684</td>\n",
              "      <td>1.454391</td>\n",
              "    </tr>\n",
              "    <tr>\n",
              "      <th>rank_2</th>\n",
              "      <td>-1.295751</td>\n",
              "      <td>-0.055135</td>\n",
              "    </tr>\n",
              "    <tr>\n",
              "      <th>rank_3</th>\n",
              "      <td>-2.016992</td>\n",
              "      <td>-0.663416</td>\n",
              "    </tr>\n",
              "    <tr>\n",
              "      <th>rank_4</th>\n",
              "      <td>-2.370399</td>\n",
              "      <td>-0.732529</td>\n",
              "    </tr>\n",
              "    <tr>\n",
              "      <th>intercept</th>\n",
              "      <td>-6.224242</td>\n",
              "      <td>-1.755716</td>\n",
              "    </tr>\n",
              "  </tbody>\n",
              "</table>\n",
              "</div>"
            ],
            "text/plain": [
              "                  0         1\n",
              "gre        0.000120  0.004409\n",
              "gpa        0.153684  1.454391\n",
              "rank_2    -1.295751 -0.055135\n",
              "rank_3    -2.016992 -0.663416\n",
              "rank_4    -2.370399 -0.732529\n",
              "intercept -6.224242 -1.755716"
            ]
          },
          "metadata": {
            "tags": []
          },
          "execution_count": 95
        }
      ]
    },
    {
      "cell_type": "code",
      "metadata": {
        "id": "zngNooanOXEB",
        "colab_type": "code",
        "colab": {
          "base_uri": "https://localhost:8080/",
          "height": 138
        },
        "outputId": "e45512e6-a0d9-4d2e-d9d9-dc4a51afc453"
      },
      "source": [
        "np.exp(ucla_model.params)"
      ],
      "execution_count": null,
      "outputs": [
        {
          "output_type": "execute_result",
          "data": {
            "text/plain": [
              "gre          1.002267\n",
              "gpa          2.234545\n",
              "rank_2       0.508931\n",
              "rank_3       0.261792\n",
              "rank_4       0.211938\n",
              "intercept    0.018500\n",
              "dtype: float64"
            ]
          },
          "metadata": {
            "tags": []
          },
          "execution_count": 96
        }
      ]
    },
    {
      "cell_type": "code",
      "metadata": {
        "id": "kdHKFpMpOp1S",
        "colab_type": "code",
        "colab": {
          "base_uri": "https://localhost:8080/",
          "height": 237
        },
        "outputId": "648f0b03-ef7d-46cf-b1d6-3c551bac504b"
      },
      "source": [
        "params = ucla_model.params\n",
        "conf = ucla_model.conf_int()\n",
        "conf['OR'] = params\n",
        "conf.columns = ['2.5%', '97.5%', 'OddRatio']\n",
        "np.exp(conf)"
      ],
      "execution_count": null,
      "outputs": [
        {
          "output_type": "execute_result",
          "data": {
            "text/html": [
              "<div>\n",
              "<style scoped>\n",
              "    .dataframe tbody tr th:only-of-type {\n",
              "        vertical-align: middle;\n",
              "    }\n",
              "\n",
              "    .dataframe tbody tr th {\n",
              "        vertical-align: top;\n",
              "    }\n",
              "\n",
              "    .dataframe thead th {\n",
              "        text-align: right;\n",
              "    }\n",
              "</style>\n",
              "<table border=\"1\" class=\"dataframe\">\n",
              "  <thead>\n",
              "    <tr style=\"text-align: right;\">\n",
              "      <th></th>\n",
              "      <th>2.5%</th>\n",
              "      <th>97.5%</th>\n",
              "      <th>OddRatio</th>\n",
              "    </tr>\n",
              "  </thead>\n",
              "  <tbody>\n",
              "    <tr>\n",
              "      <th>gre</th>\n",
              "      <td>1.000120</td>\n",
              "      <td>1.004418</td>\n",
              "      <td>1.002267</td>\n",
              "    </tr>\n",
              "    <tr>\n",
              "      <th>gpa</th>\n",
              "      <td>1.166122</td>\n",
              "      <td>4.281877</td>\n",
              "      <td>2.234545</td>\n",
              "    </tr>\n",
              "    <tr>\n",
              "      <th>rank_2</th>\n",
              "      <td>0.273692</td>\n",
              "      <td>0.946358</td>\n",
              "      <td>0.508931</td>\n",
              "    </tr>\n",
              "    <tr>\n",
              "      <th>rank_3</th>\n",
              "      <td>0.133055</td>\n",
              "      <td>0.515089</td>\n",
              "      <td>0.261792</td>\n",
              "    </tr>\n",
              "    <tr>\n",
              "      <th>rank_4</th>\n",
              "      <td>0.093443</td>\n",
              "      <td>0.480692</td>\n",
              "      <td>0.211938</td>\n",
              "    </tr>\n",
              "    <tr>\n",
              "      <th>intercept</th>\n",
              "      <td>0.001981</td>\n",
              "      <td>0.172783</td>\n",
              "      <td>0.018500</td>\n",
              "    </tr>\n",
              "  </tbody>\n",
              "</table>\n",
              "</div>"
            ],
            "text/plain": [
              "               2.5%     97.5%  OddRatio\n",
              "gre        1.000120  1.004418  1.002267\n",
              "gpa        1.166122  4.281877  2.234545\n",
              "rank_2     0.273692  0.946358  0.508931\n",
              "rank_3     0.133055  0.515089  0.261792\n",
              "rank_4     0.093443  0.480692  0.211938\n",
              "intercept  0.001981  0.172783  0.018500"
            ]
          },
          "metadata": {
            "tags": []
          },
          "execution_count": 97
        }
      ]
    },
    {
      "cell_type": "markdown",
      "metadata": {
        "id": "1MjOCkEQOrT9",
        "colab_type": "text"
      },
      "source": [
        "## Breast Cancer Wisconsin (Diagnostic) Data Set\n",
        "\n",
        "In the project we'll be using the _Breast Cancer Wisconsin (Diagnostic) Data Set_ to predict whether the cancer is benign or malignant. \n",
        "\n",
        "Features are computed from a digitized image of a fine needle aspirate (FNA) of a breast mass. They describe characteristics of the cell nuclei present in the image. n the 3-dimensional space is that described in: [K. P. Bennett and O. L. Mangasarian: \"Robust Linear Programming Discrimination of Two Linearly Inseparable Sets\", Optimization Methods and Software 1, 1992, 23-34].\n",
        "\n",
        "This data set is from the UCI Machine Learning Repository: https://archive.ics.uci.edu/ml/datasets/Breast+Cancer+Wisconsin+%28Diagnostic%29\n",
        "\n",
        "This data set is also available through the UW CS ftp server: ftp ftp.cs.wisc.edu cd math-prog/cpo-dataset/machine-learn/WDBC/\n",
        "\n",
        "Also can be found on UCI Machine Learning Repository: https://archive.ics.uci.edu/ml/datasets/Breast+Cancer+Wisconsin+%28Diagnostic%29\n",
        "\n",
        "Attribute Information:\n",
        "\n",
        "1) ID number 2) Diagnosis (M = malignant, B = benign) 3-32)\n",
        "\n",
        "Ten real-valued features are computed for each cell nucleus:\n",
        "\n",
        "a) radius (mean of distances from center to points on the perimeter) b) texture (standard deviation of gray-scale values) c) perimeter d) area e) smoothness (local variation in radius lengths) f) compactness (perimeter^2 / area - 1.0) g) concavity (severity of concave portions of the contour) h) concave points (number of concave portions of the contour) i) symmetry j) fractal dimension (\"coastline approximation\" - 1)\n",
        "\n",
        "The mean, standard error and \"worst\" or largest (mean of the three largest values) of these features were computed for each image, resulting in 30 features. For instance, field 3 is Mean Radius, field 13 is Radius SE, field 23 is Worst Radius.\n",
        "\n",
        "All feature values are recoded with four significant digits."
      ]
    },
    {
      "cell_type": "code",
      "metadata": {
        "id": "kPZWOumFOvcu",
        "colab_type": "code",
        "colab": {
          "base_uri": "https://localhost:8080/",
          "height": 537
        },
        "outputId": "db6b5b1b-2e05-4899-d8ec-959b32639f46"
      },
      "source": [
        "X=['radius_mean','radius_sd_error','radius_worst','texture_mean','texture_sd_error','texture_worst','perimeter_mean','perimeter_sd_error','perimeter_worst','area_mean','area_sd_error','area_worst','smoothness_mean','smoothness_sd_error','smoothness_worst','compactness_mean','compactness_sd_error','compactness_worst','concavity_mean','concavity_sd_error','concavity_worst','concave_points_mean','concave_points_sd_error','concave_points_worst','symmetry_mean','symmetry_sd_error','symmetry_worst','fractal_dimension_mean','fractal_dimension_sd_error','fractal_dimension_worst']\n",
        "X"
      ],
      "execution_count": null,
      "outputs": [
        {
          "output_type": "execute_result",
          "data": {
            "text/plain": [
              "['radius_mean',\n",
              " 'radius_sd_error',\n",
              " 'radius_worst',\n",
              " 'texture_mean',\n",
              " 'texture_sd_error',\n",
              " 'texture_worst',\n",
              " 'perimeter_mean',\n",
              " 'perimeter_sd_error',\n",
              " 'perimeter_worst',\n",
              " 'area_mean',\n",
              " 'area_sd_error',\n",
              " 'area_worst',\n",
              " 'smoothness_mean',\n",
              " 'smoothness_sd_error',\n",
              " 'smoothness_worst',\n",
              " 'compactness_mean',\n",
              " 'compactness_sd_error',\n",
              " 'compactness_worst',\n",
              " 'concavity_mean',\n",
              " 'concavity_sd_error',\n",
              " 'concavity_worst',\n",
              " 'concave_points_mean',\n",
              " 'concave_points_sd_error',\n",
              " 'concave_points_worst',\n",
              " 'symmetry_mean',\n",
              " 'symmetry_sd_error',\n",
              " 'symmetry_worst',\n",
              " 'fractal_dimension_mean',\n",
              " 'fractal_dimension_sd_error',\n",
              " 'fractal_dimension_worst']"
            ]
          },
          "metadata": {
            "tags": []
          },
          "execution_count": 98
        }
      ]
    },
    {
      "cell_type": "code",
      "metadata": {
        "id": "l5X5dSsS7PcF",
        "colab_type": "code",
        "colab": {}
      },
      "source": [
        "field_names = ['ID','diagnosis','radius_mean','radius_sd_error','radius_worst','texture_mean','texture_sd_error','texture_worst','perimeter_mean','perimeter_sd_error','perimeter_worst','area_mean','area_sd_error','area_worst','smoothness_mean','smoothness_sd_error','smoothness_worst','compactness_mean','compactness_sd_error','compactness_worst','concavity_mean','concavity_sd_error','concavity_worst','concave_points_mean','concave_points_sd_error','concave_points_worst','symmetry_mean','symmetry_sd_error','symmetry_worst','fractal_dimension_mean','fractal_dimension_sd_error','fractal_dimension_worst']"
      ],
      "execution_count": null,
      "outputs": []
    },
    {
      "cell_type": "code",
      "metadata": {
        "id": "NQkOarHuQJFb",
        "colab_type": "code",
        "colab": {
          "base_uri": "https://localhost:8080/",
          "height": 226
        },
        "outputId": "74b48e12-b2ab-46e4-8012-43e80349d804"
      },
      "source": [
        "breast_cancer = pd.read_csv('https://archive.ics.uci.edu/ml/machine-learning-databases/breast-cancer-wisconsin/wdbc.data',header=None,names = field_names)\n",
        "breast_cancer.head()"
      ],
      "execution_count": null,
      "outputs": [
        {
          "output_type": "execute_result",
          "data": {
            "text/html": [
              "<div>\n",
              "<style scoped>\n",
              "    .dataframe tbody tr th:only-of-type {\n",
              "        vertical-align: middle;\n",
              "    }\n",
              "\n",
              "    .dataframe tbody tr th {\n",
              "        vertical-align: top;\n",
              "    }\n",
              "\n",
              "    .dataframe thead th {\n",
              "        text-align: right;\n",
              "    }\n",
              "</style>\n",
              "<table border=\"1\" class=\"dataframe\">\n",
              "  <thead>\n",
              "    <tr style=\"text-align: right;\">\n",
              "      <th></th>\n",
              "      <th>ID</th>\n",
              "      <th>diagnosis</th>\n",
              "      <th>radius_mean</th>\n",
              "      <th>radius_sd_error</th>\n",
              "      <th>radius_worst</th>\n",
              "      <th>texture_mean</th>\n",
              "      <th>texture_sd_error</th>\n",
              "      <th>texture_worst</th>\n",
              "      <th>perimeter_mean</th>\n",
              "      <th>perimeter_sd_error</th>\n",
              "      <th>perimeter_worst</th>\n",
              "      <th>area_mean</th>\n",
              "      <th>area_sd_error</th>\n",
              "      <th>area_worst</th>\n",
              "      <th>smoothness_mean</th>\n",
              "      <th>smoothness_sd_error</th>\n",
              "      <th>smoothness_worst</th>\n",
              "      <th>compactness_mean</th>\n",
              "      <th>compactness_sd_error</th>\n",
              "      <th>compactness_worst</th>\n",
              "      <th>concavity_mean</th>\n",
              "      <th>concavity_sd_error</th>\n",
              "      <th>concavity_worst</th>\n",
              "      <th>concave_points_mean</th>\n",
              "      <th>concave_points_sd_error</th>\n",
              "      <th>concave_points_worst</th>\n",
              "      <th>symmetry_mean</th>\n",
              "      <th>symmetry_sd_error</th>\n",
              "      <th>symmetry_worst</th>\n",
              "      <th>fractal_dimension_mean</th>\n",
              "      <th>fractal_dimension_sd_error</th>\n",
              "      <th>fractal_dimension_worst</th>\n",
              "    </tr>\n",
              "  </thead>\n",
              "  <tbody>\n",
              "    <tr>\n",
              "      <th>0</th>\n",
              "      <td>842302</td>\n",
              "      <td>M</td>\n",
              "      <td>17.99</td>\n",
              "      <td>10.38</td>\n",
              "      <td>122.80</td>\n",
              "      <td>1001.0</td>\n",
              "      <td>0.11840</td>\n",
              "      <td>0.27760</td>\n",
              "      <td>0.3001</td>\n",
              "      <td>0.14710</td>\n",
              "      <td>0.2419</td>\n",
              "      <td>0.07871</td>\n",
              "      <td>1.0950</td>\n",
              "      <td>0.9053</td>\n",
              "      <td>8.589</td>\n",
              "      <td>153.40</td>\n",
              "      <td>0.006399</td>\n",
              "      <td>0.04904</td>\n",
              "      <td>0.05373</td>\n",
              "      <td>0.01587</td>\n",
              "      <td>0.03003</td>\n",
              "      <td>0.006193</td>\n",
              "      <td>25.38</td>\n",
              "      <td>17.33</td>\n",
              "      <td>184.60</td>\n",
              "      <td>2019.0</td>\n",
              "      <td>0.1622</td>\n",
              "      <td>0.6656</td>\n",
              "      <td>0.7119</td>\n",
              "      <td>0.2654</td>\n",
              "      <td>0.4601</td>\n",
              "      <td>0.11890</td>\n",
              "    </tr>\n",
              "    <tr>\n",
              "      <th>1</th>\n",
              "      <td>842517</td>\n",
              "      <td>M</td>\n",
              "      <td>20.57</td>\n",
              "      <td>17.77</td>\n",
              "      <td>132.90</td>\n",
              "      <td>1326.0</td>\n",
              "      <td>0.08474</td>\n",
              "      <td>0.07864</td>\n",
              "      <td>0.0869</td>\n",
              "      <td>0.07017</td>\n",
              "      <td>0.1812</td>\n",
              "      <td>0.05667</td>\n",
              "      <td>0.5435</td>\n",
              "      <td>0.7339</td>\n",
              "      <td>3.398</td>\n",
              "      <td>74.08</td>\n",
              "      <td>0.005225</td>\n",
              "      <td>0.01308</td>\n",
              "      <td>0.01860</td>\n",
              "      <td>0.01340</td>\n",
              "      <td>0.01389</td>\n",
              "      <td>0.003532</td>\n",
              "      <td>24.99</td>\n",
              "      <td>23.41</td>\n",
              "      <td>158.80</td>\n",
              "      <td>1956.0</td>\n",
              "      <td>0.1238</td>\n",
              "      <td>0.1866</td>\n",
              "      <td>0.2416</td>\n",
              "      <td>0.1860</td>\n",
              "      <td>0.2750</td>\n",
              "      <td>0.08902</td>\n",
              "    </tr>\n",
              "    <tr>\n",
              "      <th>2</th>\n",
              "      <td>84300903</td>\n",
              "      <td>M</td>\n",
              "      <td>19.69</td>\n",
              "      <td>21.25</td>\n",
              "      <td>130.00</td>\n",
              "      <td>1203.0</td>\n",
              "      <td>0.10960</td>\n",
              "      <td>0.15990</td>\n",
              "      <td>0.1974</td>\n",
              "      <td>0.12790</td>\n",
              "      <td>0.2069</td>\n",
              "      <td>0.05999</td>\n",
              "      <td>0.7456</td>\n",
              "      <td>0.7869</td>\n",
              "      <td>4.585</td>\n",
              "      <td>94.03</td>\n",
              "      <td>0.006150</td>\n",
              "      <td>0.04006</td>\n",
              "      <td>0.03832</td>\n",
              "      <td>0.02058</td>\n",
              "      <td>0.02250</td>\n",
              "      <td>0.004571</td>\n",
              "      <td>23.57</td>\n",
              "      <td>25.53</td>\n",
              "      <td>152.50</td>\n",
              "      <td>1709.0</td>\n",
              "      <td>0.1444</td>\n",
              "      <td>0.4245</td>\n",
              "      <td>0.4504</td>\n",
              "      <td>0.2430</td>\n",
              "      <td>0.3613</td>\n",
              "      <td>0.08758</td>\n",
              "    </tr>\n",
              "    <tr>\n",
              "      <th>3</th>\n",
              "      <td>84348301</td>\n",
              "      <td>M</td>\n",
              "      <td>11.42</td>\n",
              "      <td>20.38</td>\n",
              "      <td>77.58</td>\n",
              "      <td>386.1</td>\n",
              "      <td>0.14250</td>\n",
              "      <td>0.28390</td>\n",
              "      <td>0.2414</td>\n",
              "      <td>0.10520</td>\n",
              "      <td>0.2597</td>\n",
              "      <td>0.09744</td>\n",
              "      <td>0.4956</td>\n",
              "      <td>1.1560</td>\n",
              "      <td>3.445</td>\n",
              "      <td>27.23</td>\n",
              "      <td>0.009110</td>\n",
              "      <td>0.07458</td>\n",
              "      <td>0.05661</td>\n",
              "      <td>0.01867</td>\n",
              "      <td>0.05963</td>\n",
              "      <td>0.009208</td>\n",
              "      <td>14.91</td>\n",
              "      <td>26.50</td>\n",
              "      <td>98.87</td>\n",
              "      <td>567.7</td>\n",
              "      <td>0.2098</td>\n",
              "      <td>0.8663</td>\n",
              "      <td>0.6869</td>\n",
              "      <td>0.2575</td>\n",
              "      <td>0.6638</td>\n",
              "      <td>0.17300</td>\n",
              "    </tr>\n",
              "    <tr>\n",
              "      <th>4</th>\n",
              "      <td>84358402</td>\n",
              "      <td>M</td>\n",
              "      <td>20.29</td>\n",
              "      <td>14.34</td>\n",
              "      <td>135.10</td>\n",
              "      <td>1297.0</td>\n",
              "      <td>0.10030</td>\n",
              "      <td>0.13280</td>\n",
              "      <td>0.1980</td>\n",
              "      <td>0.10430</td>\n",
              "      <td>0.1809</td>\n",
              "      <td>0.05883</td>\n",
              "      <td>0.7572</td>\n",
              "      <td>0.7813</td>\n",
              "      <td>5.438</td>\n",
              "      <td>94.44</td>\n",
              "      <td>0.011490</td>\n",
              "      <td>0.02461</td>\n",
              "      <td>0.05688</td>\n",
              "      <td>0.01885</td>\n",
              "      <td>0.01756</td>\n",
              "      <td>0.005115</td>\n",
              "      <td>22.54</td>\n",
              "      <td>16.67</td>\n",
              "      <td>152.20</td>\n",
              "      <td>1575.0</td>\n",
              "      <td>0.1374</td>\n",
              "      <td>0.2050</td>\n",
              "      <td>0.4000</td>\n",
              "      <td>0.1625</td>\n",
              "      <td>0.2364</td>\n",
              "      <td>0.07678</td>\n",
              "    </tr>\n",
              "  </tbody>\n",
              "</table>\n",
              "</div>"
            ],
            "text/plain": [
              "         ID diagnosis  ...  fractal_dimension_sd_error  fractal_dimension_worst\n",
              "0    842302         M  ...                      0.4601                  0.11890\n",
              "1    842517         M  ...                      0.2750                  0.08902\n",
              "2  84300903         M  ...                      0.3613                  0.08758\n",
              "3  84348301         M  ...                      0.6638                  0.17300\n",
              "4  84358402         M  ...                      0.2364                  0.07678\n",
              "\n",
              "[5 rows x 32 columns]"
            ]
          },
          "metadata": {
            "tags": []
          },
          "execution_count": 100
        }
      ]
    },
    {
      "cell_type": "code",
      "metadata": {
        "id": "akS3Sp9KQT1j",
        "colab_type": "code",
        "colab": {
          "base_uri": "https://localhost:8080/",
          "height": 226
        },
        "outputId": "8f30863a-6fcf-4b19-c2a1-623eebad6911"
      },
      "source": [
        "#data formating ID is a non-informative column\n",
        "breast_cancer = breast_cancer.drop(\"ID\", 1)\n",
        "breast_cancer.head()"
      ],
      "execution_count": null,
      "outputs": [
        {
          "output_type": "execute_result",
          "data": {
            "text/html": [
              "<div>\n",
              "<style scoped>\n",
              "    .dataframe tbody tr th:only-of-type {\n",
              "        vertical-align: middle;\n",
              "    }\n",
              "\n",
              "    .dataframe tbody tr th {\n",
              "        vertical-align: top;\n",
              "    }\n",
              "\n",
              "    .dataframe thead th {\n",
              "        text-align: right;\n",
              "    }\n",
              "</style>\n",
              "<table border=\"1\" class=\"dataframe\">\n",
              "  <thead>\n",
              "    <tr style=\"text-align: right;\">\n",
              "      <th></th>\n",
              "      <th>diagnosis</th>\n",
              "      <th>radius_mean</th>\n",
              "      <th>radius_sd_error</th>\n",
              "      <th>radius_worst</th>\n",
              "      <th>texture_mean</th>\n",
              "      <th>texture_sd_error</th>\n",
              "      <th>texture_worst</th>\n",
              "      <th>perimeter_mean</th>\n",
              "      <th>perimeter_sd_error</th>\n",
              "      <th>perimeter_worst</th>\n",
              "      <th>area_mean</th>\n",
              "      <th>area_sd_error</th>\n",
              "      <th>area_worst</th>\n",
              "      <th>smoothness_mean</th>\n",
              "      <th>smoothness_sd_error</th>\n",
              "      <th>smoothness_worst</th>\n",
              "      <th>compactness_mean</th>\n",
              "      <th>compactness_sd_error</th>\n",
              "      <th>compactness_worst</th>\n",
              "      <th>concavity_mean</th>\n",
              "      <th>concavity_sd_error</th>\n",
              "      <th>concavity_worst</th>\n",
              "      <th>concave_points_mean</th>\n",
              "      <th>concave_points_sd_error</th>\n",
              "      <th>concave_points_worst</th>\n",
              "      <th>symmetry_mean</th>\n",
              "      <th>symmetry_sd_error</th>\n",
              "      <th>symmetry_worst</th>\n",
              "      <th>fractal_dimension_mean</th>\n",
              "      <th>fractal_dimension_sd_error</th>\n",
              "      <th>fractal_dimension_worst</th>\n",
              "    </tr>\n",
              "  </thead>\n",
              "  <tbody>\n",
              "    <tr>\n",
              "      <th>0</th>\n",
              "      <td>M</td>\n",
              "      <td>17.99</td>\n",
              "      <td>10.38</td>\n",
              "      <td>122.80</td>\n",
              "      <td>1001.0</td>\n",
              "      <td>0.11840</td>\n",
              "      <td>0.27760</td>\n",
              "      <td>0.3001</td>\n",
              "      <td>0.14710</td>\n",
              "      <td>0.2419</td>\n",
              "      <td>0.07871</td>\n",
              "      <td>1.0950</td>\n",
              "      <td>0.9053</td>\n",
              "      <td>8.589</td>\n",
              "      <td>153.40</td>\n",
              "      <td>0.006399</td>\n",
              "      <td>0.04904</td>\n",
              "      <td>0.05373</td>\n",
              "      <td>0.01587</td>\n",
              "      <td>0.03003</td>\n",
              "      <td>0.006193</td>\n",
              "      <td>25.38</td>\n",
              "      <td>17.33</td>\n",
              "      <td>184.60</td>\n",
              "      <td>2019.0</td>\n",
              "      <td>0.1622</td>\n",
              "      <td>0.6656</td>\n",
              "      <td>0.7119</td>\n",
              "      <td>0.2654</td>\n",
              "      <td>0.4601</td>\n",
              "      <td>0.11890</td>\n",
              "    </tr>\n",
              "    <tr>\n",
              "      <th>1</th>\n",
              "      <td>M</td>\n",
              "      <td>20.57</td>\n",
              "      <td>17.77</td>\n",
              "      <td>132.90</td>\n",
              "      <td>1326.0</td>\n",
              "      <td>0.08474</td>\n",
              "      <td>0.07864</td>\n",
              "      <td>0.0869</td>\n",
              "      <td>0.07017</td>\n",
              "      <td>0.1812</td>\n",
              "      <td>0.05667</td>\n",
              "      <td>0.5435</td>\n",
              "      <td>0.7339</td>\n",
              "      <td>3.398</td>\n",
              "      <td>74.08</td>\n",
              "      <td>0.005225</td>\n",
              "      <td>0.01308</td>\n",
              "      <td>0.01860</td>\n",
              "      <td>0.01340</td>\n",
              "      <td>0.01389</td>\n",
              "      <td>0.003532</td>\n",
              "      <td>24.99</td>\n",
              "      <td>23.41</td>\n",
              "      <td>158.80</td>\n",
              "      <td>1956.0</td>\n",
              "      <td>0.1238</td>\n",
              "      <td>0.1866</td>\n",
              "      <td>0.2416</td>\n",
              "      <td>0.1860</td>\n",
              "      <td>0.2750</td>\n",
              "      <td>0.08902</td>\n",
              "    </tr>\n",
              "    <tr>\n",
              "      <th>2</th>\n",
              "      <td>M</td>\n",
              "      <td>19.69</td>\n",
              "      <td>21.25</td>\n",
              "      <td>130.00</td>\n",
              "      <td>1203.0</td>\n",
              "      <td>0.10960</td>\n",
              "      <td>0.15990</td>\n",
              "      <td>0.1974</td>\n",
              "      <td>0.12790</td>\n",
              "      <td>0.2069</td>\n",
              "      <td>0.05999</td>\n",
              "      <td>0.7456</td>\n",
              "      <td>0.7869</td>\n",
              "      <td>4.585</td>\n",
              "      <td>94.03</td>\n",
              "      <td>0.006150</td>\n",
              "      <td>0.04006</td>\n",
              "      <td>0.03832</td>\n",
              "      <td>0.02058</td>\n",
              "      <td>0.02250</td>\n",
              "      <td>0.004571</td>\n",
              "      <td>23.57</td>\n",
              "      <td>25.53</td>\n",
              "      <td>152.50</td>\n",
              "      <td>1709.0</td>\n",
              "      <td>0.1444</td>\n",
              "      <td>0.4245</td>\n",
              "      <td>0.4504</td>\n",
              "      <td>0.2430</td>\n",
              "      <td>0.3613</td>\n",
              "      <td>0.08758</td>\n",
              "    </tr>\n",
              "    <tr>\n",
              "      <th>3</th>\n",
              "      <td>M</td>\n",
              "      <td>11.42</td>\n",
              "      <td>20.38</td>\n",
              "      <td>77.58</td>\n",
              "      <td>386.1</td>\n",
              "      <td>0.14250</td>\n",
              "      <td>0.28390</td>\n",
              "      <td>0.2414</td>\n",
              "      <td>0.10520</td>\n",
              "      <td>0.2597</td>\n",
              "      <td>0.09744</td>\n",
              "      <td>0.4956</td>\n",
              "      <td>1.1560</td>\n",
              "      <td>3.445</td>\n",
              "      <td>27.23</td>\n",
              "      <td>0.009110</td>\n",
              "      <td>0.07458</td>\n",
              "      <td>0.05661</td>\n",
              "      <td>0.01867</td>\n",
              "      <td>0.05963</td>\n",
              "      <td>0.009208</td>\n",
              "      <td>14.91</td>\n",
              "      <td>26.50</td>\n",
              "      <td>98.87</td>\n",
              "      <td>567.7</td>\n",
              "      <td>0.2098</td>\n",
              "      <td>0.8663</td>\n",
              "      <td>0.6869</td>\n",
              "      <td>0.2575</td>\n",
              "      <td>0.6638</td>\n",
              "      <td>0.17300</td>\n",
              "    </tr>\n",
              "    <tr>\n",
              "      <th>4</th>\n",
              "      <td>M</td>\n",
              "      <td>20.29</td>\n",
              "      <td>14.34</td>\n",
              "      <td>135.10</td>\n",
              "      <td>1297.0</td>\n",
              "      <td>0.10030</td>\n",
              "      <td>0.13280</td>\n",
              "      <td>0.1980</td>\n",
              "      <td>0.10430</td>\n",
              "      <td>0.1809</td>\n",
              "      <td>0.05883</td>\n",
              "      <td>0.7572</td>\n",
              "      <td>0.7813</td>\n",
              "      <td>5.438</td>\n",
              "      <td>94.44</td>\n",
              "      <td>0.011490</td>\n",
              "      <td>0.02461</td>\n",
              "      <td>0.05688</td>\n",
              "      <td>0.01885</td>\n",
              "      <td>0.01756</td>\n",
              "      <td>0.005115</td>\n",
              "      <td>22.54</td>\n",
              "      <td>16.67</td>\n",
              "      <td>152.20</td>\n",
              "      <td>1575.0</td>\n",
              "      <td>0.1374</td>\n",
              "      <td>0.2050</td>\n",
              "      <td>0.4000</td>\n",
              "      <td>0.1625</td>\n",
              "      <td>0.2364</td>\n",
              "      <td>0.07678</td>\n",
              "    </tr>\n",
              "  </tbody>\n",
              "</table>\n",
              "</div>"
            ],
            "text/plain": [
              "  diagnosis  radius_mean  ...  fractal_dimension_sd_error  fractal_dimension_worst\n",
              "0         M        17.99  ...                      0.4601                  0.11890\n",
              "1         M        20.57  ...                      0.2750                  0.08902\n",
              "2         M        19.69  ...                      0.3613                  0.08758\n",
              "3         M        11.42  ...                      0.6638                  0.17300\n",
              "4         M        20.29  ...                      0.2364                  0.07678\n",
              "\n",
              "[5 rows x 31 columns]"
            ]
          },
          "metadata": {
            "tags": []
          },
          "execution_count": 101
        }
      ]
    },
    {
      "cell_type": "code",
      "metadata": {
        "id": "QFsn-o7dQbSX",
        "colab_type": "code",
        "colab": {
          "base_uri": "https://localhost:8080/",
          "height": 163
        },
        "outputId": "06200b76-6514-4c88-d37f-05f977fb87b7"
      },
      "source": [
        "breast_cancer.groupby('diagnosis').count()"
      ],
      "execution_count": null,
      "outputs": [
        {
          "output_type": "execute_result",
          "data": {
            "text/html": [
              "<div>\n",
              "<style scoped>\n",
              "    .dataframe tbody tr th:only-of-type {\n",
              "        vertical-align: middle;\n",
              "    }\n",
              "\n",
              "    .dataframe tbody tr th {\n",
              "        vertical-align: top;\n",
              "    }\n",
              "\n",
              "    .dataframe thead th {\n",
              "        text-align: right;\n",
              "    }\n",
              "</style>\n",
              "<table border=\"1\" class=\"dataframe\">\n",
              "  <thead>\n",
              "    <tr style=\"text-align: right;\">\n",
              "      <th></th>\n",
              "      <th>radius_mean</th>\n",
              "      <th>radius_sd_error</th>\n",
              "      <th>radius_worst</th>\n",
              "      <th>texture_mean</th>\n",
              "      <th>texture_sd_error</th>\n",
              "      <th>texture_worst</th>\n",
              "      <th>perimeter_mean</th>\n",
              "      <th>perimeter_sd_error</th>\n",
              "      <th>perimeter_worst</th>\n",
              "      <th>area_mean</th>\n",
              "      <th>area_sd_error</th>\n",
              "      <th>area_worst</th>\n",
              "      <th>smoothness_mean</th>\n",
              "      <th>smoothness_sd_error</th>\n",
              "      <th>smoothness_worst</th>\n",
              "      <th>compactness_mean</th>\n",
              "      <th>compactness_sd_error</th>\n",
              "      <th>compactness_worst</th>\n",
              "      <th>concavity_mean</th>\n",
              "      <th>concavity_sd_error</th>\n",
              "      <th>concavity_worst</th>\n",
              "      <th>concave_points_mean</th>\n",
              "      <th>concave_points_sd_error</th>\n",
              "      <th>concave_points_worst</th>\n",
              "      <th>symmetry_mean</th>\n",
              "      <th>symmetry_sd_error</th>\n",
              "      <th>symmetry_worst</th>\n",
              "      <th>fractal_dimension_mean</th>\n",
              "      <th>fractal_dimension_sd_error</th>\n",
              "      <th>fractal_dimension_worst</th>\n",
              "    </tr>\n",
              "    <tr>\n",
              "      <th>diagnosis</th>\n",
              "      <th></th>\n",
              "      <th></th>\n",
              "      <th></th>\n",
              "      <th></th>\n",
              "      <th></th>\n",
              "      <th></th>\n",
              "      <th></th>\n",
              "      <th></th>\n",
              "      <th></th>\n",
              "      <th></th>\n",
              "      <th></th>\n",
              "      <th></th>\n",
              "      <th></th>\n",
              "      <th></th>\n",
              "      <th></th>\n",
              "      <th></th>\n",
              "      <th></th>\n",
              "      <th></th>\n",
              "      <th></th>\n",
              "      <th></th>\n",
              "      <th></th>\n",
              "      <th></th>\n",
              "      <th></th>\n",
              "      <th></th>\n",
              "      <th></th>\n",
              "      <th></th>\n",
              "      <th></th>\n",
              "      <th></th>\n",
              "      <th></th>\n",
              "      <th></th>\n",
              "    </tr>\n",
              "  </thead>\n",
              "  <tbody>\n",
              "    <tr>\n",
              "      <th>B</th>\n",
              "      <td>357</td>\n",
              "      <td>357</td>\n",
              "      <td>357</td>\n",
              "      <td>357</td>\n",
              "      <td>357</td>\n",
              "      <td>357</td>\n",
              "      <td>357</td>\n",
              "      <td>357</td>\n",
              "      <td>357</td>\n",
              "      <td>357</td>\n",
              "      <td>357</td>\n",
              "      <td>357</td>\n",
              "      <td>357</td>\n",
              "      <td>357</td>\n",
              "      <td>357</td>\n",
              "      <td>357</td>\n",
              "      <td>357</td>\n",
              "      <td>357</td>\n",
              "      <td>357</td>\n",
              "      <td>357</td>\n",
              "      <td>357</td>\n",
              "      <td>357</td>\n",
              "      <td>357</td>\n",
              "      <td>357</td>\n",
              "      <td>357</td>\n",
              "      <td>357</td>\n",
              "      <td>357</td>\n",
              "      <td>357</td>\n",
              "      <td>357</td>\n",
              "      <td>357</td>\n",
              "    </tr>\n",
              "    <tr>\n",
              "      <th>M</th>\n",
              "      <td>212</td>\n",
              "      <td>212</td>\n",
              "      <td>212</td>\n",
              "      <td>212</td>\n",
              "      <td>212</td>\n",
              "      <td>212</td>\n",
              "      <td>212</td>\n",
              "      <td>212</td>\n",
              "      <td>212</td>\n",
              "      <td>212</td>\n",
              "      <td>212</td>\n",
              "      <td>212</td>\n",
              "      <td>212</td>\n",
              "      <td>212</td>\n",
              "      <td>212</td>\n",
              "      <td>212</td>\n",
              "      <td>212</td>\n",
              "      <td>212</td>\n",
              "      <td>212</td>\n",
              "      <td>212</td>\n",
              "      <td>212</td>\n",
              "      <td>212</td>\n",
              "      <td>212</td>\n",
              "      <td>212</td>\n",
              "      <td>212</td>\n",
              "      <td>212</td>\n",
              "      <td>212</td>\n",
              "      <td>212</td>\n",
              "      <td>212</td>\n",
              "      <td>212</td>\n",
              "    </tr>\n",
              "  </tbody>\n",
              "</table>\n",
              "</div>"
            ],
            "text/plain": [
              "           radius_mean  ...  fractal_dimension_worst\n",
              "diagnosis               ...                         \n",
              "B                  357  ...                      357\n",
              "M                  212  ...                      212\n",
              "\n",
              "[2 rows x 30 columns]"
            ]
          },
          "metadata": {
            "tags": []
          },
          "execution_count": 102
        }
      ]
    },
    {
      "cell_type": "code",
      "metadata": {
        "id": "XrgceTG4QfWV",
        "colab_type": "code",
        "colab": {
          "base_uri": "https://localhost:8080/",
          "height": 320
        },
        "outputId": "ad75dc63-d6cb-4aea-9ff9-70184a36c682"
      },
      "source": [
        "breast_cancer.describe()"
      ],
      "execution_count": null,
      "outputs": [
        {
          "output_type": "execute_result",
          "data": {
            "text/html": [
              "<div>\n",
              "<style scoped>\n",
              "    .dataframe tbody tr th:only-of-type {\n",
              "        vertical-align: middle;\n",
              "    }\n",
              "\n",
              "    .dataframe tbody tr th {\n",
              "        vertical-align: top;\n",
              "    }\n",
              "\n",
              "    .dataframe thead th {\n",
              "        text-align: right;\n",
              "    }\n",
              "</style>\n",
              "<table border=\"1\" class=\"dataframe\">\n",
              "  <thead>\n",
              "    <tr style=\"text-align: right;\">\n",
              "      <th></th>\n",
              "      <th>radius_mean</th>\n",
              "      <th>radius_sd_error</th>\n",
              "      <th>radius_worst</th>\n",
              "      <th>texture_mean</th>\n",
              "      <th>texture_sd_error</th>\n",
              "      <th>texture_worst</th>\n",
              "      <th>perimeter_mean</th>\n",
              "      <th>perimeter_sd_error</th>\n",
              "      <th>perimeter_worst</th>\n",
              "      <th>area_mean</th>\n",
              "      <th>area_sd_error</th>\n",
              "      <th>area_worst</th>\n",
              "      <th>smoothness_mean</th>\n",
              "      <th>smoothness_sd_error</th>\n",
              "      <th>smoothness_worst</th>\n",
              "      <th>compactness_mean</th>\n",
              "      <th>compactness_sd_error</th>\n",
              "      <th>compactness_worst</th>\n",
              "      <th>concavity_mean</th>\n",
              "      <th>concavity_sd_error</th>\n",
              "      <th>concavity_worst</th>\n",
              "      <th>concave_points_mean</th>\n",
              "      <th>concave_points_sd_error</th>\n",
              "      <th>concave_points_worst</th>\n",
              "      <th>symmetry_mean</th>\n",
              "      <th>symmetry_sd_error</th>\n",
              "      <th>symmetry_worst</th>\n",
              "      <th>fractal_dimension_mean</th>\n",
              "      <th>fractal_dimension_sd_error</th>\n",
              "      <th>fractal_dimension_worst</th>\n",
              "    </tr>\n",
              "  </thead>\n",
              "  <tbody>\n",
              "    <tr>\n",
              "      <th>count</th>\n",
              "      <td>569.000000</td>\n",
              "      <td>569.000000</td>\n",
              "      <td>569.000000</td>\n",
              "      <td>569.000000</td>\n",
              "      <td>569.000000</td>\n",
              "      <td>569.000000</td>\n",
              "      <td>569.000000</td>\n",
              "      <td>569.000000</td>\n",
              "      <td>569.000000</td>\n",
              "      <td>569.000000</td>\n",
              "      <td>569.000000</td>\n",
              "      <td>569.000000</td>\n",
              "      <td>569.000000</td>\n",
              "      <td>569.000000</td>\n",
              "      <td>569.000000</td>\n",
              "      <td>569.000000</td>\n",
              "      <td>569.000000</td>\n",
              "      <td>569.000000</td>\n",
              "      <td>569.000000</td>\n",
              "      <td>569.000000</td>\n",
              "      <td>569.000000</td>\n",
              "      <td>569.000000</td>\n",
              "      <td>569.000000</td>\n",
              "      <td>569.000000</td>\n",
              "      <td>569.000000</td>\n",
              "      <td>569.000000</td>\n",
              "      <td>569.000000</td>\n",
              "      <td>569.000000</td>\n",
              "      <td>569.000000</td>\n",
              "      <td>569.000000</td>\n",
              "    </tr>\n",
              "    <tr>\n",
              "      <th>mean</th>\n",
              "      <td>14.127292</td>\n",
              "      <td>19.289649</td>\n",
              "      <td>91.969033</td>\n",
              "      <td>654.889104</td>\n",
              "      <td>0.096360</td>\n",
              "      <td>0.104341</td>\n",
              "      <td>0.088799</td>\n",
              "      <td>0.048919</td>\n",
              "      <td>0.181162</td>\n",
              "      <td>0.062798</td>\n",
              "      <td>0.405172</td>\n",
              "      <td>1.216853</td>\n",
              "      <td>2.866059</td>\n",
              "      <td>40.337079</td>\n",
              "      <td>0.007041</td>\n",
              "      <td>0.025478</td>\n",
              "      <td>0.031894</td>\n",
              "      <td>0.011796</td>\n",
              "      <td>0.020542</td>\n",
              "      <td>0.003795</td>\n",
              "      <td>16.269190</td>\n",
              "      <td>25.677223</td>\n",
              "      <td>107.261213</td>\n",
              "      <td>880.583128</td>\n",
              "      <td>0.132369</td>\n",
              "      <td>0.254265</td>\n",
              "      <td>0.272188</td>\n",
              "      <td>0.114606</td>\n",
              "      <td>0.290076</td>\n",
              "      <td>0.083946</td>\n",
              "    </tr>\n",
              "    <tr>\n",
              "      <th>std</th>\n",
              "      <td>3.524049</td>\n",
              "      <td>4.301036</td>\n",
              "      <td>24.298981</td>\n",
              "      <td>351.914129</td>\n",
              "      <td>0.014064</td>\n",
              "      <td>0.052813</td>\n",
              "      <td>0.079720</td>\n",
              "      <td>0.038803</td>\n",
              "      <td>0.027414</td>\n",
              "      <td>0.007060</td>\n",
              "      <td>0.277313</td>\n",
              "      <td>0.551648</td>\n",
              "      <td>2.021855</td>\n",
              "      <td>45.491006</td>\n",
              "      <td>0.003003</td>\n",
              "      <td>0.017908</td>\n",
              "      <td>0.030186</td>\n",
              "      <td>0.006170</td>\n",
              "      <td>0.008266</td>\n",
              "      <td>0.002646</td>\n",
              "      <td>4.833242</td>\n",
              "      <td>6.146258</td>\n",
              "      <td>33.602542</td>\n",
              "      <td>569.356993</td>\n",
              "      <td>0.022832</td>\n",
              "      <td>0.157336</td>\n",
              "      <td>0.208624</td>\n",
              "      <td>0.065732</td>\n",
              "      <td>0.061867</td>\n",
              "      <td>0.018061</td>\n",
              "    </tr>\n",
              "    <tr>\n",
              "      <th>min</th>\n",
              "      <td>6.981000</td>\n",
              "      <td>9.710000</td>\n",
              "      <td>43.790000</td>\n",
              "      <td>143.500000</td>\n",
              "      <td>0.052630</td>\n",
              "      <td>0.019380</td>\n",
              "      <td>0.000000</td>\n",
              "      <td>0.000000</td>\n",
              "      <td>0.106000</td>\n",
              "      <td>0.049960</td>\n",
              "      <td>0.111500</td>\n",
              "      <td>0.360200</td>\n",
              "      <td>0.757000</td>\n",
              "      <td>6.802000</td>\n",
              "      <td>0.001713</td>\n",
              "      <td>0.002252</td>\n",
              "      <td>0.000000</td>\n",
              "      <td>0.000000</td>\n",
              "      <td>0.007882</td>\n",
              "      <td>0.000895</td>\n",
              "      <td>7.930000</td>\n",
              "      <td>12.020000</td>\n",
              "      <td>50.410000</td>\n",
              "      <td>185.200000</td>\n",
              "      <td>0.071170</td>\n",
              "      <td>0.027290</td>\n",
              "      <td>0.000000</td>\n",
              "      <td>0.000000</td>\n",
              "      <td>0.156500</td>\n",
              "      <td>0.055040</td>\n",
              "    </tr>\n",
              "    <tr>\n",
              "      <th>25%</th>\n",
              "      <td>11.700000</td>\n",
              "      <td>16.170000</td>\n",
              "      <td>75.170000</td>\n",
              "      <td>420.300000</td>\n",
              "      <td>0.086370</td>\n",
              "      <td>0.064920</td>\n",
              "      <td>0.029560</td>\n",
              "      <td>0.020310</td>\n",
              "      <td>0.161900</td>\n",
              "      <td>0.057700</td>\n",
              "      <td>0.232400</td>\n",
              "      <td>0.833900</td>\n",
              "      <td>1.606000</td>\n",
              "      <td>17.850000</td>\n",
              "      <td>0.005169</td>\n",
              "      <td>0.013080</td>\n",
              "      <td>0.015090</td>\n",
              "      <td>0.007638</td>\n",
              "      <td>0.015160</td>\n",
              "      <td>0.002248</td>\n",
              "      <td>13.010000</td>\n",
              "      <td>21.080000</td>\n",
              "      <td>84.110000</td>\n",
              "      <td>515.300000</td>\n",
              "      <td>0.116600</td>\n",
              "      <td>0.147200</td>\n",
              "      <td>0.114500</td>\n",
              "      <td>0.064930</td>\n",
              "      <td>0.250400</td>\n",
              "      <td>0.071460</td>\n",
              "    </tr>\n",
              "    <tr>\n",
              "      <th>50%</th>\n",
              "      <td>13.370000</td>\n",
              "      <td>18.840000</td>\n",
              "      <td>86.240000</td>\n",
              "      <td>551.100000</td>\n",
              "      <td>0.095870</td>\n",
              "      <td>0.092630</td>\n",
              "      <td>0.061540</td>\n",
              "      <td>0.033500</td>\n",
              "      <td>0.179200</td>\n",
              "      <td>0.061540</td>\n",
              "      <td>0.324200</td>\n",
              "      <td>1.108000</td>\n",
              "      <td>2.287000</td>\n",
              "      <td>24.530000</td>\n",
              "      <td>0.006380</td>\n",
              "      <td>0.020450</td>\n",
              "      <td>0.025890</td>\n",
              "      <td>0.010930</td>\n",
              "      <td>0.018730</td>\n",
              "      <td>0.003187</td>\n",
              "      <td>14.970000</td>\n",
              "      <td>25.410000</td>\n",
              "      <td>97.660000</td>\n",
              "      <td>686.500000</td>\n",
              "      <td>0.131300</td>\n",
              "      <td>0.211900</td>\n",
              "      <td>0.226700</td>\n",
              "      <td>0.099930</td>\n",
              "      <td>0.282200</td>\n",
              "      <td>0.080040</td>\n",
              "    </tr>\n",
              "    <tr>\n",
              "      <th>75%</th>\n",
              "      <td>15.780000</td>\n",
              "      <td>21.800000</td>\n",
              "      <td>104.100000</td>\n",
              "      <td>782.700000</td>\n",
              "      <td>0.105300</td>\n",
              "      <td>0.130400</td>\n",
              "      <td>0.130700</td>\n",
              "      <td>0.074000</td>\n",
              "      <td>0.195700</td>\n",
              "      <td>0.066120</td>\n",
              "      <td>0.478900</td>\n",
              "      <td>1.474000</td>\n",
              "      <td>3.357000</td>\n",
              "      <td>45.190000</td>\n",
              "      <td>0.008146</td>\n",
              "      <td>0.032450</td>\n",
              "      <td>0.042050</td>\n",
              "      <td>0.014710</td>\n",
              "      <td>0.023480</td>\n",
              "      <td>0.004558</td>\n",
              "      <td>18.790000</td>\n",
              "      <td>29.720000</td>\n",
              "      <td>125.400000</td>\n",
              "      <td>1084.000000</td>\n",
              "      <td>0.146000</td>\n",
              "      <td>0.339100</td>\n",
              "      <td>0.382900</td>\n",
              "      <td>0.161400</td>\n",
              "      <td>0.317900</td>\n",
              "      <td>0.092080</td>\n",
              "    </tr>\n",
              "    <tr>\n",
              "      <th>max</th>\n",
              "      <td>28.110000</td>\n",
              "      <td>39.280000</td>\n",
              "      <td>188.500000</td>\n",
              "      <td>2501.000000</td>\n",
              "      <td>0.163400</td>\n",
              "      <td>0.345400</td>\n",
              "      <td>0.426800</td>\n",
              "      <td>0.201200</td>\n",
              "      <td>0.304000</td>\n",
              "      <td>0.097440</td>\n",
              "      <td>2.873000</td>\n",
              "      <td>4.885000</td>\n",
              "      <td>21.980000</td>\n",
              "      <td>542.200000</td>\n",
              "      <td>0.031130</td>\n",
              "      <td>0.135400</td>\n",
              "      <td>0.396000</td>\n",
              "      <td>0.052790</td>\n",
              "      <td>0.078950</td>\n",
              "      <td>0.029840</td>\n",
              "      <td>36.040000</td>\n",
              "      <td>49.540000</td>\n",
              "      <td>251.200000</td>\n",
              "      <td>4254.000000</td>\n",
              "      <td>0.222600</td>\n",
              "      <td>1.058000</td>\n",
              "      <td>1.252000</td>\n",
              "      <td>0.291000</td>\n",
              "      <td>0.663800</td>\n",
              "      <td>0.207500</td>\n",
              "    </tr>\n",
              "  </tbody>\n",
              "</table>\n",
              "</div>"
            ],
            "text/plain": [
              "       radius_mean  ...  fractal_dimension_worst\n",
              "count   569.000000  ...               569.000000\n",
              "mean     14.127292  ...                 0.083946\n",
              "std       3.524049  ...                 0.018061\n",
              "min       6.981000  ...                 0.055040\n",
              "25%      11.700000  ...                 0.071460\n",
              "50%      13.370000  ...                 0.080040\n",
              "75%      15.780000  ...                 0.092080\n",
              "max      28.110000  ...                 0.207500\n",
              "\n",
              "[8 rows x 30 columns]"
            ]
          },
          "metadata": {
            "tags": []
          },
          "execution_count": 103
        }
      ]
    },
    {
      "cell_type": "code",
      "metadata": {
        "id": "Gdg40ccDQkeD",
        "colab_type": "code",
        "colab": {
          "base_uri": "https://localhost:8080/",
          "height": 163
        },
        "outputId": "1c14c14f-bbe8-4a5e-c767-cd366683cfea"
      },
      "source": [
        "breast_cancer.groupby('diagnosis').median()"
      ],
      "execution_count": null,
      "outputs": [
        {
          "output_type": "execute_result",
          "data": {
            "text/html": [
              "<div>\n",
              "<style scoped>\n",
              "    .dataframe tbody tr th:only-of-type {\n",
              "        vertical-align: middle;\n",
              "    }\n",
              "\n",
              "    .dataframe tbody tr th {\n",
              "        vertical-align: top;\n",
              "    }\n",
              "\n",
              "    .dataframe thead th {\n",
              "        text-align: right;\n",
              "    }\n",
              "</style>\n",
              "<table border=\"1\" class=\"dataframe\">\n",
              "  <thead>\n",
              "    <tr style=\"text-align: right;\">\n",
              "      <th></th>\n",
              "      <th>radius_mean</th>\n",
              "      <th>radius_sd_error</th>\n",
              "      <th>radius_worst</th>\n",
              "      <th>texture_mean</th>\n",
              "      <th>texture_sd_error</th>\n",
              "      <th>texture_worst</th>\n",
              "      <th>perimeter_mean</th>\n",
              "      <th>perimeter_sd_error</th>\n",
              "      <th>perimeter_worst</th>\n",
              "      <th>area_mean</th>\n",
              "      <th>area_sd_error</th>\n",
              "      <th>area_worst</th>\n",
              "      <th>smoothness_mean</th>\n",
              "      <th>smoothness_sd_error</th>\n",
              "      <th>smoothness_worst</th>\n",
              "      <th>compactness_mean</th>\n",
              "      <th>compactness_sd_error</th>\n",
              "      <th>compactness_worst</th>\n",
              "      <th>concavity_mean</th>\n",
              "      <th>concavity_sd_error</th>\n",
              "      <th>concavity_worst</th>\n",
              "      <th>concave_points_mean</th>\n",
              "      <th>concave_points_sd_error</th>\n",
              "      <th>concave_points_worst</th>\n",
              "      <th>symmetry_mean</th>\n",
              "      <th>symmetry_sd_error</th>\n",
              "      <th>symmetry_worst</th>\n",
              "      <th>fractal_dimension_mean</th>\n",
              "      <th>fractal_dimension_sd_error</th>\n",
              "      <th>fractal_dimension_worst</th>\n",
              "    </tr>\n",
              "    <tr>\n",
              "      <th>diagnosis</th>\n",
              "      <th></th>\n",
              "      <th></th>\n",
              "      <th></th>\n",
              "      <th></th>\n",
              "      <th></th>\n",
              "      <th></th>\n",
              "      <th></th>\n",
              "      <th></th>\n",
              "      <th></th>\n",
              "      <th></th>\n",
              "      <th></th>\n",
              "      <th></th>\n",
              "      <th></th>\n",
              "      <th></th>\n",
              "      <th></th>\n",
              "      <th></th>\n",
              "      <th></th>\n",
              "      <th></th>\n",
              "      <th></th>\n",
              "      <th></th>\n",
              "      <th></th>\n",
              "      <th></th>\n",
              "      <th></th>\n",
              "      <th></th>\n",
              "      <th></th>\n",
              "      <th></th>\n",
              "      <th></th>\n",
              "      <th></th>\n",
              "      <th></th>\n",
              "      <th></th>\n",
              "    </tr>\n",
              "  </thead>\n",
              "  <tbody>\n",
              "    <tr>\n",
              "      <th>B</th>\n",
              "      <td>12.200</td>\n",
              "      <td>17.39</td>\n",
              "      <td>78.18</td>\n",
              "      <td>458.4</td>\n",
              "      <td>0.09076</td>\n",
              "      <td>0.07529</td>\n",
              "      <td>0.03709</td>\n",
              "      <td>0.02344</td>\n",
              "      <td>0.1714</td>\n",
              "      <td>0.061540</td>\n",
              "      <td>0.2575</td>\n",
              "      <td>1.1080</td>\n",
              "      <td>1.8510</td>\n",
              "      <td>19.630</td>\n",
              "      <td>0.006530</td>\n",
              "      <td>0.01631</td>\n",
              "      <td>0.018400</td>\n",
              "      <td>0.009061</td>\n",
              "      <td>0.01909</td>\n",
              "      <td>0.002808</td>\n",
              "      <td>13.35</td>\n",
              "      <td>22.820</td>\n",
              "      <td>86.92</td>\n",
              "      <td>547.4</td>\n",
              "      <td>0.12540</td>\n",
              "      <td>0.16980</td>\n",
              "      <td>0.1412</td>\n",
              "      <td>0.07431</td>\n",
              "      <td>0.2687</td>\n",
              "      <td>0.07712</td>\n",
              "    </tr>\n",
              "    <tr>\n",
              "      <th>M</th>\n",
              "      <td>17.325</td>\n",
              "      <td>21.46</td>\n",
              "      <td>114.20</td>\n",
              "      <td>932.0</td>\n",
              "      <td>0.10220</td>\n",
              "      <td>0.13235</td>\n",
              "      <td>0.15135</td>\n",
              "      <td>0.08628</td>\n",
              "      <td>0.1899</td>\n",
              "      <td>0.061575</td>\n",
              "      <td>0.5472</td>\n",
              "      <td>1.1025</td>\n",
              "      <td>3.6795</td>\n",
              "      <td>58.455</td>\n",
              "      <td>0.006209</td>\n",
              "      <td>0.02859</td>\n",
              "      <td>0.037125</td>\n",
              "      <td>0.014205</td>\n",
              "      <td>0.01770</td>\n",
              "      <td>0.003739</td>\n",
              "      <td>20.59</td>\n",
              "      <td>28.945</td>\n",
              "      <td>138.00</td>\n",
              "      <td>1303.0</td>\n",
              "      <td>0.14345</td>\n",
              "      <td>0.35635</td>\n",
              "      <td>0.4049</td>\n",
              "      <td>0.18200</td>\n",
              "      <td>0.3103</td>\n",
              "      <td>0.08760</td>\n",
              "    </tr>\n",
              "  </tbody>\n",
              "</table>\n",
              "</div>"
            ],
            "text/plain": [
              "           radius_mean  ...  fractal_dimension_worst\n",
              "diagnosis               ...                         \n",
              "B               12.200  ...                  0.07712\n",
              "M               17.325  ...                  0.08760\n",
              "\n",
              "[2 rows x 30 columns]"
            ]
          },
          "metadata": {
            "tags": []
          },
          "execution_count": 104
        }
      ]
    },
    {
      "cell_type": "code",
      "metadata": {
        "id": "KyIaiYeoQorx",
        "colab_type": "code",
        "colab": {}
      },
      "source": [
        "def scaled_df(df):\n",
        "    scaled = pd.DataFrame()\n",
        "    for item in df:\n",
        "        if item in df.select_dtypes(include=[np.float]):\n",
        "            scaled[item] = ((df[item] - df[item].min()) / \n",
        "            (df[item].max() - df[item].min()))\n",
        "        else: \n",
        "            scaled[item] = df[item]\n",
        "    return scaled\n",
        "breast_cancer_scaled = scaled_df(breast_cancer)"
      ],
      "execution_count": null,
      "outputs": []
    },
    {
      "cell_type": "code",
      "metadata": {
        "id": "i_ulC1AeQsSD",
        "colab_type": "code",
        "colab": {
          "base_uri": "https://localhost:8080/",
          "height": 879
        },
        "outputId": "c9679153-7476-4b87-9ff1-73de831751bd"
      },
      "source": [
        "f, ax = plt.subplots(figsize=(11, 15))\n",
        "plt.title(\"Box Plot Breast Cancer Data Unscaled\")\n",
        "ax.set(xlim=(-.05, 5.0))\n",
        "ax = sns.boxplot(data = breast_cancer[1:29], \n",
        "  orient = 'h', \n",
        "  palette = 'Set3')"
      ],
      "execution_count": null,
      "outputs": [
        {
          "output_type": "display_data",
          "data": {
            "image/png": "[encoded data removed]",
            "text/plain": [
              "<Figure size 792x1080 with 1 Axes>"
            ]
          },
          "metadata": {
            "tags": [],
            "needs_background": "light"
          }
        }
      ]
    },
    {
      "cell_type": "code",
      "metadata": {
        "id": "W6HXW3rMTnuo",
        "colab_type": "code",
        "colab": {
          "base_uri": "https://localhost:8080/",
          "height": 879
        },
        "outputId": "fb06329b-2cd0-4924-9b0e-cb7d1bcafab3"
      },
      "source": [
        "f, ax = plt.subplots(figsize=(11, 15))\n",
        "plt.title(\"Box Plot Breast Cancer Data Scaled\")\n",
        "ax.set(xlim=(-.05, 1.05))\n",
        "ax = sns.boxplot(data = breast_cancer_scaled[1:29], \n",
        "  orient = 'h', \n",
        "  palette = 'Set3')"
      ],
      "execution_count": null,
      "outputs": [
        {
          "output_type": "display_data",
          "data": {
            "image/png": "[encoded data removed]",
            "text/plain": [
              "<Figure size 792x1080 with 1 Axes>"
            ]
          },
          "metadata": {
            "tags": [],
            "needs_background": "light"
          }
        }
      ]
    },
    {
      "cell_type": "code",
      "metadata": {
        "id": "uEIRvowBT0Ep",
        "colab_type": "code",
        "colab": {
          "base_uri": "https://localhost:8080/",
          "height": 537
        },
        "outputId": "58c9b090-352c-42d1-f7fe-f520a64924af"
      },
      "source": [
        "def rank_predictors(dat,l,f='diagnosis'):\n",
        "    rank={}\n",
        "    max_vals=dat.max()\n",
        "    median_vals=dat.groupby(f).median()  # We are using the median as the mean is sensitive to outliers\n",
        "    for p in l:\n",
        "        score=np.abs((median_vals[p]['B']-median_vals[p]['M'])/max_vals[p])\n",
        "        rank[p]=score\n",
        "    return rank\n",
        "cat_rank=rank_predictors(breast_cancer,X) \n",
        "cat_rank"
      ],
      "execution_count": null,
      "outputs": [
        {
          "output_type": "execute_result",
          "data": {
            "text/plain": [
              "{'area_mean': 0.00035919540229885377,\n",
              " 'area_sd_error': 0.10083536373129133,\n",
              " 'area_worst': 0.0011258955987717171,\n",
              " 'compactness_mean': 0.09069423929098969,\n",
              " 'compactness_sd_error': 0.04728535353535355,\n",
              " 'compactness_worst': 0.09744269748058344,\n",
              " 'concave_points_mean': 0.12363746467501009,\n",
              " 'concave_points_sd_error': 0.203343949044586,\n",
              " 'concave_points_worst': 0.17762106252938412,\n",
              " 'concavity_mean': 0.017606079797340073,\n",
              " 'concavity_sd_error': 0.031216487935656838,\n",
              " 'concavity_worst': 0.20088790233074363,\n",
              " 'fractal_dimension_mean': 0.3700687285223367,\n",
              " 'fractal_dimension_sd_error': 0.06266947875866229,\n",
              " 'fractal_dimension_worst': 0.05050602409638549,\n",
              " 'perimeter_mean': 0.2677132146204311,\n",
              " 'perimeter_sd_error': 0.31232604373757455,\n",
              " 'perimeter_worst': 0.060855263157894794,\n",
              " 'radius_mean': 0.18231945926716484,\n",
              " 'radius_sd_error': 0.10361507128309573,\n",
              " 'radius_worst': 0.19108753315649865,\n",
              " 'smoothness_mean': 0.08318926296633303,\n",
              " 'smoothness_sd_error': 0.0716064182958318,\n",
              " 'smoothness_worst': 0.010295534853838727,\n",
              " 'symmetry_mean': 0.08108715184186875,\n",
              " 'symmetry_sd_error': 0.17632325141776936,\n",
              " 'symmetry_worst': 0.21062300319488816,\n",
              " 'texture_mean': 0.1893642542982807,\n",
              " 'texture_sd_error': 0.07001223990208073,\n",
              " 'texture_worst': 0.16519976838448178}"
            ]
          },
          "metadata": {
            "tags": []
          },
          "execution_count": 108
        }
      ]
    },
    {
      "cell_type": "code",
      "metadata": {
        "id": "S48HymOFUV5r",
        "colab_type": "code",
        "colab": {
          "base_uri": "https://localhost:8080/",
          "height": 537
        },
        "outputId": "e6a50d33-3a2e-4d0b-dc8e-9737eaddc520"
      },
      "source": [
        "cat_rank=sorted(cat_rank.items(), key=lambda x: x[1])\n",
        "cat_rank"
      ],
      "execution_count": null,
      "outputs": [
        {
          "output_type": "execute_result",
          "data": {
            "text/plain": [
              "[('area_mean', 0.00035919540229885377),\n",
              " ('area_worst', 0.0011258955987717171),\n",
              " ('smoothness_worst', 0.010295534853838727),\n",
              " ('concavity_mean', 0.017606079797340073),\n",
              " ('concavity_sd_error', 0.031216487935656838),\n",
              " ('compactness_sd_error', 0.04728535353535355),\n",
              " ('fractal_dimension_worst', 0.05050602409638549),\n",
              " ('perimeter_worst', 0.060855263157894794),\n",
              " ('fractal_dimension_sd_error', 0.06266947875866229),\n",
              " ('texture_sd_error', 0.07001223990208073),\n",
              " ('smoothness_sd_error', 0.0716064182958318),\n",
              " ('symmetry_mean', 0.08108715184186875),\n",
              " ('smoothness_mean', 0.08318926296633303),\n",
              " ('compactness_mean', 0.09069423929098969),\n",
              " ('compactness_worst', 0.09744269748058344),\n",
              " ('area_sd_error', 0.10083536373129133),\n",
              " ('radius_sd_error', 0.10361507128309573),\n",
              " ('concave_points_mean', 0.12363746467501009),\n",
              " ('texture_worst', 0.16519976838448178),\n",
              " ('symmetry_sd_error', 0.17632325141776936),\n",
              " ('concave_points_worst', 0.17762106252938412),\n",
              " ('radius_mean', 0.18231945926716484),\n",
              " ('texture_mean', 0.1893642542982807),\n",
              " ('radius_worst', 0.19108753315649865),\n",
              " ('concavity_worst', 0.20088790233074363),\n",
              " ('concave_points_sd_error', 0.203343949044586),\n",
              " ('symmetry_worst', 0.21062300319488816),\n",
              " ('perimeter_mean', 0.2677132146204311),\n",
              " ('perimeter_sd_error', 0.31232604373757455),\n",
              " ('fractal_dimension_mean', 0.3700687285223367)]"
            ]
          },
          "metadata": {
            "tags": []
          },
          "execution_count": 109
        }
      ]
    },
    {
      "cell_type": "code",
      "metadata": {
        "id": "dhyj7jlEUgCV",
        "colab_type": "code",
        "colab": {
          "base_uri": "https://localhost:8080/",
          "height": 225
        },
        "outputId": "b9b92fa2-55c7-483b-f36d-885724fe470e"
      },
      "source": [
        "# Take the top predictors based on median difference\n",
        "ranked_predictors=[]\n",
        "for f in cat_rank[18:]:\n",
        "    ranked_predictors.append(f[0])\n",
        "ranked_predictors"
      ],
      "execution_count": null,
      "outputs": [
        {
          "output_type": "execute_result",
          "data": {
            "text/plain": [
              "['texture_worst',\n",
              " 'symmetry_sd_error',\n",
              " 'concave_points_worst',\n",
              " 'radius_mean',\n",
              " 'texture_mean',\n",
              " 'radius_worst',\n",
              " 'concavity_worst',\n",
              " 'concave_points_sd_error',\n",
              " 'symmetry_worst',\n",
              " 'perimeter_mean',\n",
              " 'perimeter_sd_error',\n",
              " 'fractal_dimension_mean']"
            ]
          },
          "metadata": {
            "tags": []
          },
          "execution_count": 110
        }
      ]
    },
    {
      "cell_type": "code",
      "metadata": {
        "id": "SXyhvMkkUtDU",
        "colab_type": "code",
        "colab": {
          "base_uri": "https://localhost:8080/",
          "height": 226
        },
        "outputId": "c4543da7-ed69-4089-c89e-1ee0a049f050"
      },
      "source": [
        "Xdf = breast_cancer_scaled[X]\n",
        "#setting target\n",
        "y = breast_cancer_scaled[\"diagnosis\"]\n",
        "Xdf.head()"
      ],
      "execution_count": null,
      "outputs": [
        {
          "output_type": "execute_result",
          "data": {
            "text/html": [
              "<div>\n",
              "<style scoped>\n",
              "    .dataframe tbody tr th:only-of-type {\n",
              "        vertical-align: middle;\n",
              "    }\n",
              "\n",
              "    .dataframe tbody tr th {\n",
              "        vertical-align: top;\n",
              "    }\n",
              "\n",
              "    .dataframe thead th {\n",
              "        text-align: right;\n",
              "    }\n",
              "</style>\n",
              "<table border=\"1\" class=\"dataframe\">\n",
              "  <thead>\n",
              "    <tr style=\"text-align: right;\">\n",
              "      <th></th>\n",
              "      <th>radius_mean</th>\n",
              "      <th>radius_sd_error</th>\n",
              "      <th>radius_worst</th>\n",
              "      <th>texture_mean</th>\n",
              "      <th>texture_sd_error</th>\n",
              "      <th>texture_worst</th>\n",
              "      <th>perimeter_mean</th>\n",
              "      <th>perimeter_sd_error</th>\n",
              "      <th>perimeter_worst</th>\n",
              "      <th>area_mean</th>\n",
              "      <th>area_sd_error</th>\n",
              "      <th>area_worst</th>\n",
              "      <th>smoothness_mean</th>\n",
              "      <th>smoothness_sd_error</th>\n",
              "      <th>smoothness_worst</th>\n",
              "      <th>compactness_mean</th>\n",
              "      <th>compactness_sd_error</th>\n",
              "      <th>compactness_worst</th>\n",
              "      <th>concavity_mean</th>\n",
              "      <th>concavity_sd_error</th>\n",
              "      <th>concavity_worst</th>\n",
              "      <th>concave_points_mean</th>\n",
              "      <th>concave_points_sd_error</th>\n",
              "      <th>concave_points_worst</th>\n",
              "      <th>symmetry_mean</th>\n",
              "      <th>symmetry_sd_error</th>\n",
              "      <th>symmetry_worst</th>\n",
              "      <th>fractal_dimension_mean</th>\n",
              "      <th>fractal_dimension_sd_error</th>\n",
              "      <th>fractal_dimension_worst</th>\n",
              "    </tr>\n",
              "  </thead>\n",
              "  <tbody>\n",
              "    <tr>\n",
              "      <th>0</th>\n",
              "      <td>0.521037</td>\n",
              "      <td>0.022658</td>\n",
              "      <td>0.545989</td>\n",
              "      <td>0.363733</td>\n",
              "      <td>0.593753</td>\n",
              "      <td>0.792037</td>\n",
              "      <td>0.703140</td>\n",
              "      <td>0.731113</td>\n",
              "      <td>0.686364</td>\n",
              "      <td>0.605518</td>\n",
              "      <td>0.356147</td>\n",
              "      <td>0.120469</td>\n",
              "      <td>0.369034</td>\n",
              "      <td>0.273811</td>\n",
              "      <td>0.159296</td>\n",
              "      <td>0.351398</td>\n",
              "      <td>0.135682</td>\n",
              "      <td>0.300625</td>\n",
              "      <td>0.311645</td>\n",
              "      <td>0.183042</td>\n",
              "      <td>0.620776</td>\n",
              "      <td>0.141525</td>\n",
              "      <td>0.668310</td>\n",
              "      <td>0.450698</td>\n",
              "      <td>0.601136</td>\n",
              "      <td>0.619292</td>\n",
              "      <td>0.568610</td>\n",
              "      <td>0.912027</td>\n",
              "      <td>0.598462</td>\n",
              "      <td>0.418864</td>\n",
              "    </tr>\n",
              "    <tr>\n",
              "      <th>1</th>\n",
              "      <td>0.643144</td>\n",
              "      <td>0.272574</td>\n",
              "      <td>0.615783</td>\n",
              "      <td>0.501591</td>\n",
              "      <td>0.289880</td>\n",
              "      <td>0.181768</td>\n",
              "      <td>0.203608</td>\n",
              "      <td>0.348757</td>\n",
              "      <td>0.379798</td>\n",
              "      <td>0.141323</td>\n",
              "      <td>0.156437</td>\n",
              "      <td>0.082589</td>\n",
              "      <td>0.124440</td>\n",
              "      <td>0.125660</td>\n",
              "      <td>0.119387</td>\n",
              "      <td>0.081323</td>\n",
              "      <td>0.046970</td>\n",
              "      <td>0.253836</td>\n",
              "      <td>0.084539</td>\n",
              "      <td>0.091110</td>\n",
              "      <td>0.606901</td>\n",
              "      <td>0.303571</td>\n",
              "      <td>0.539818</td>\n",
              "      <td>0.435214</td>\n",
              "      <td>0.347553</td>\n",
              "      <td>0.154563</td>\n",
              "      <td>0.192971</td>\n",
              "      <td>0.639175</td>\n",
              "      <td>0.233590</td>\n",
              "      <td>0.222878</td>\n",
              "    </tr>\n",
              "    <tr>\n",
              "      <th>2</th>\n",
              "      <td>0.601496</td>\n",
              "      <td>0.390260</td>\n",
              "      <td>0.595743</td>\n",
              "      <td>0.449417</td>\n",
              "      <td>0.514309</td>\n",
              "      <td>0.431017</td>\n",
              "      <td>0.462512</td>\n",
              "      <td>0.635686</td>\n",
              "      <td>0.509596</td>\n",
              "      <td>0.211247</td>\n",
              "      <td>0.229622</td>\n",
              "      <td>0.094303</td>\n",
              "      <td>0.180370</td>\n",
              "      <td>0.162922</td>\n",
              "      <td>0.150831</td>\n",
              "      <td>0.283955</td>\n",
              "      <td>0.096768</td>\n",
              "      <td>0.389847</td>\n",
              "      <td>0.205690</td>\n",
              "      <td>0.127006</td>\n",
              "      <td>0.556386</td>\n",
              "      <td>0.360075</td>\n",
              "      <td>0.508442</td>\n",
              "      <td>0.374508</td>\n",
              "      <td>0.483590</td>\n",
              "      <td>0.385375</td>\n",
              "      <td>0.359744</td>\n",
              "      <td>0.835052</td>\n",
              "      <td>0.403706</td>\n",
              "      <td>0.213433</td>\n",
              "    </tr>\n",
              "    <tr>\n",
              "      <th>3</th>\n",
              "      <td>0.210090</td>\n",
              "      <td>0.360839</td>\n",
              "      <td>0.233501</td>\n",
              "      <td>0.102906</td>\n",
              "      <td>0.811321</td>\n",
              "      <td>0.811361</td>\n",
              "      <td>0.565604</td>\n",
              "      <td>0.522863</td>\n",
              "      <td>0.776263</td>\n",
              "      <td>1.000000</td>\n",
              "      <td>0.139091</td>\n",
              "      <td>0.175875</td>\n",
              "      <td>0.126655</td>\n",
              "      <td>0.038155</td>\n",
              "      <td>0.251453</td>\n",
              "      <td>0.543215</td>\n",
              "      <td>0.142955</td>\n",
              "      <td>0.353665</td>\n",
              "      <td>0.728148</td>\n",
              "      <td>0.287205</td>\n",
              "      <td>0.248310</td>\n",
              "      <td>0.385928</td>\n",
              "      <td>0.241347</td>\n",
              "      <td>0.094008</td>\n",
              "      <td>0.915472</td>\n",
              "      <td>0.814012</td>\n",
              "      <td>0.548642</td>\n",
              "      <td>0.884880</td>\n",
              "      <td>1.000000</td>\n",
              "      <td>0.773711</td>\n",
              "    </tr>\n",
              "    <tr>\n",
              "      <th>4</th>\n",
              "      <td>0.629893</td>\n",
              "      <td>0.156578</td>\n",
              "      <td>0.630986</td>\n",
              "      <td>0.489290</td>\n",
              "      <td>0.430351</td>\n",
              "      <td>0.347893</td>\n",
              "      <td>0.463918</td>\n",
              "      <td>0.518390</td>\n",
              "      <td>0.378283</td>\n",
              "      <td>0.186816</td>\n",
              "      <td>0.233822</td>\n",
              "      <td>0.093065</td>\n",
              "      <td>0.220563</td>\n",
              "      <td>0.163688</td>\n",
              "      <td>0.332359</td>\n",
              "      <td>0.167918</td>\n",
              "      <td>0.143636</td>\n",
              "      <td>0.357075</td>\n",
              "      <td>0.136179</td>\n",
              "      <td>0.145800</td>\n",
              "      <td>0.519744</td>\n",
              "      <td>0.123934</td>\n",
              "      <td>0.506948</td>\n",
              "      <td>0.341575</td>\n",
              "      <td>0.437364</td>\n",
              "      <td>0.172415</td>\n",
              "      <td>0.319489</td>\n",
              "      <td>0.558419</td>\n",
              "      <td>0.157500</td>\n",
              "      <td>0.142595</td>\n",
              "    </tr>\n",
              "  </tbody>\n",
              "</table>\n",
              "</div>"
            ],
            "text/plain": [
              "   radius_mean  ...  fractal_dimension_worst\n",
              "0     0.521037  ...                 0.418864\n",
              "1     0.643144  ...                 0.222878\n",
              "2     0.601496  ...                 0.213433\n",
              "3     0.210090  ...                 0.773711\n",
              "4     0.629893  ...                 0.142595\n",
              "\n",
              "[5 rows x 30 columns]"
            ]
          },
          "metadata": {
            "tags": []
          },
          "execution_count": 111
        }
      ]
    },
    {
      "cell_type": "code",
      "metadata": {
        "id": "MCuLIcu8U6S0",
        "colab_type": "code",
        "colab": {}
      },
      "source": [
        "#dividing data to have a training and a testing set\n",
        "X_train, X_test, y_train, y_test = train_test_split(Xdf, y, test_size= .4, random_state=0)"
      ],
      "execution_count": null,
      "outputs": []
    },
    {
      "cell_type": "code",
      "metadata": {
        "id": "vor1qkKyVJyW",
        "colab_type": "code",
        "colab": {
          "base_uri": "https://localhost:8080/",
          "height": 1000
        },
        "outputId": "97198ab0-1e40-4cde-d530-859531c161c2"
      },
      "source": [
        "# setting Logistic regression classifier\n",
        "# scikit-learn includes the intercept.\n",
        "\n",
        "lr = LogisticRegression(C=1e9)\n",
        "\n",
        "#dividing data to have a training and a testing set\n",
        "X_train, X_test, y_train, y_test = train_test_split(Xdf, y, test_size= .4, random_state=0)\n",
        "\n",
        "# Logistic regression cross validation\n",
        "Kfold = KFold(len(ranked_predictors), shuffle=False)\n",
        "print(\"KfoldCrossVal mean score using Logistic regression is %s\" %cross_val_score(lr,Xdf,y,cv=10).mean())\n",
        "\n",
        "# Logistic regression metrics\n",
        "LRm = lr.fit(X_train, y_train)\n",
        "\n",
        "LRm.predict_proba(X_test)  # The returned estimates for all classes are ordered by the label of classes.\n"
      ],
      "execution_count": null,
      "outputs": [
        {
          "output_type": "stream",
          "text": [
            "KfoldCrossVal mean score using Logistic regression is 0.9508458646616542\n"
          ],
          "name": "stdout"
        },
        {
          "output_type": "execute_result",
          "data": {
            "text/plain": [
              "array([[0.00000000e+000, 1.00000000e+000],\n",
              "       [1.00000000e+000, 9.44613526e-162],\n",
              "       [1.00000000e+000, 1.48397981e-277],\n",
              "       [1.00000000e+000, 4.45065541e-181],\n",
              "       [1.00000000e+000, 0.00000000e+000],\n",
              "       [1.00000000e+000, 6.22216697e-232],\n",
              "       [1.00000000e+000, 0.00000000e+000],\n",
              "       [1.00000000e+000, 0.00000000e+000],\n",
              "       [1.00000000e+000, 0.00000000e+000],\n",
              "       [1.00000000e+000, 0.00000000e+000],\n",
              "       [1.00000000e+000, 6.08211414e-172],\n",
              "       [1.00000000e+000, 2.29149077e-158],\n",
              "       [1.00000000e+000, 0.00000000e+000],\n",
              "       [1.00000000e+000, 3.06885187e-100],\n",
              "       [1.00000000e+000, 3.90861983e-044],\n",
              "       [0.00000000e+000, 1.00000000e+000],\n",
              "       [1.00000000e+000, 2.84276261e-260],\n",
              "       [0.00000000e+000, 1.00000000e+000],\n",
              "       [0.00000000e+000, 1.00000000e+000],\n",
              "       [0.00000000e+000, 1.00000000e+000],\n",
              "       [0.00000000e+000, 1.00000000e+000],\n",
              "       [0.00000000e+000, 1.00000000e+000],\n",
              "       [1.00000000e+000, 1.01942789e-158],\n",
              "       [1.00000000e+000, 8.63001772e-288],\n",
              "       [0.00000000e+000, 1.00000000e+000],\n",
              "       [1.00000000e+000, 0.00000000e+000],\n",
              "       [1.00000000e+000, 0.00000000e+000],\n",
              "       [0.00000000e+000, 1.00000000e+000],\n",
              "       [1.00000000e+000, 1.54275638e-304],\n",
              "       [0.00000000e+000, 1.00000000e+000],\n",
              "       [1.00000000e+000, 0.00000000e+000],\n",
              "       [0.00000000e+000, 1.00000000e+000],\n",
              "       [1.00000000e+000, 2.05159668e-026],\n",
              "       [0.00000000e+000, 1.00000000e+000],\n",
              "       [1.00000000e+000, 0.00000000e+000],\n",
              "       [0.00000000e+000, 1.00000000e+000],\n",
              "       [1.00000000e+000, 5.23373576e-036],\n",
              "       [0.00000000e+000, 1.00000000e+000],\n",
              "       [1.00000000e+000, 8.19445570e-233],\n",
              "       [0.00000000e+000, 1.00000000e+000],\n",
              "       [0.00000000e+000, 1.00000000e+000],\n",
              "       [1.00000000e+000, 3.83837796e-298],\n",
              "       [0.00000000e+000, 1.00000000e+000],\n",
              "       [1.00000000e+000, 0.00000000e+000],\n",
              "       [1.00000000e+000, 4.74342961e-093],\n",
              "       [0.00000000e+000, 1.00000000e+000],\n",
              "       [1.00000000e+000, 0.00000000e+000],\n",
              "       [1.00000000e+000, 5.17720057e-237],\n",
              "       [1.00000000e+000, 0.00000000e+000],\n",
              "       [0.00000000e+000, 1.00000000e+000],\n",
              "       [0.00000000e+000, 1.00000000e+000],\n",
              "       [3.55271368e-015, 1.00000000e+000],\n",
              "       [0.00000000e+000, 1.00000000e+000],\n",
              "       [1.00000000e+000, 2.40200568e-221],\n",
              "       [1.00000000e+000, 6.76865471e-294],\n",
              "       [1.00000000e+000, 3.14532978e-260],\n",
              "       [1.00000000e+000, 0.00000000e+000],\n",
              "       [1.00000000e+000, 1.76634298e-296],\n",
              "       [1.00000000e+000, 2.08807151e-183],\n",
              "       [0.00000000e+000, 1.00000000e+000],\n",
              "       [0.00000000e+000, 1.00000000e+000],\n",
              "       [0.00000000e+000, 1.00000000e+000],\n",
              "       [1.00000000e+000, 0.00000000e+000],\n",
              "       [1.00000000e+000, 0.00000000e+000],\n",
              "       [0.00000000e+000, 1.00000000e+000],\n",
              "       [1.00000000e+000, 3.70456312e-067],\n",
              "       [0.00000000e+000, 1.00000000e+000],\n",
              "       [0.00000000e+000, 1.00000000e+000],\n",
              "       [0.00000000e+000, 1.00000000e+000],\n",
              "       [1.00000000e+000, 0.00000000e+000],\n",
              "       [0.00000000e+000, 1.00000000e+000],\n",
              "       [0.00000000e+000, 1.00000000e+000],\n",
              "       [1.00000000e+000, 3.66547221e-223],\n",
              "       [0.00000000e+000, 1.00000000e+000],\n",
              "       [0.00000000e+000, 1.00000000e+000],\n",
              "       [1.00000000e+000, 1.09442458e-213],\n",
              "       [1.00000000e+000, 0.00000000e+000],\n",
              "       [1.00000000e+000, 6.21883634e-222],\n",
              "       [1.00000000e+000, 2.12515256e-241],\n",
              "       [1.00000000e+000, 0.00000000e+000],\n",
              "       [0.00000000e+000, 1.00000000e+000],\n",
              "       [0.00000000e+000, 1.00000000e+000],\n",
              "       [0.00000000e+000, 1.00000000e+000],\n",
              "       [1.00000000e+000, 0.00000000e+000],\n",
              "       [0.00000000e+000, 1.00000000e+000],\n",
              "       [1.00000000e+000, 1.91651717e-259],\n",
              "       [1.00000000e+000, 0.00000000e+000],\n",
              "       [1.00000000e+000, 0.00000000e+000],\n",
              "       [0.00000000e+000, 1.00000000e+000],\n",
              "       [0.00000000e+000, 1.00000000e+000],\n",
              "       [1.00000000e+000, 0.00000000e+000],\n",
              "       [0.00000000e+000, 1.00000000e+000],\n",
              "       [5.65419120e-005, 9.99943458e-001],\n",
              "       [0.00000000e+000, 1.00000000e+000],\n",
              "       [1.00000000e+000, 4.90345333e-303],\n",
              "       [1.00000000e+000, 2.03846246e-273],\n",
              "       [0.00000000e+000, 1.00000000e+000],\n",
              "       [1.00000000e+000, 8.99360068e-153],\n",
              "       [1.00000000e+000, 3.24894474e-219],\n",
              "       [1.00000000e+000, 0.00000000e+000],\n",
              "       [1.00000000e+000, 0.00000000e+000],\n",
              "       [1.00000000e+000, 4.07737870e-261],\n",
              "       [1.00000000e+000, 3.63056502e-293],\n",
              "       [1.00000000e+000, 2.62692618e-104],\n",
              "       [0.00000000e+000, 1.00000000e+000],\n",
              "       [1.00000000e+000, 0.00000000e+000],\n",
              "       [0.00000000e+000, 1.00000000e+000],\n",
              "       [1.00000000e+000, 7.34871035e-131],\n",
              "       [1.00000000e+000, 1.42893536e-020],\n",
              "       [1.00000000e+000, 0.00000000e+000],\n",
              "       [1.00000000e+000, 1.25042036e-204],\n",
              "       [0.00000000e+000, 1.00000000e+000],\n",
              "       [0.00000000e+000, 1.00000000e+000],\n",
              "       [1.00000000e+000, 4.92444347e-111],\n",
              "       [1.00000000e+000, 0.00000000e+000],\n",
              "       [1.00000000e+000, 2.50372633e-139],\n",
              "       [1.00000000e+000, 1.84093675e-072],\n",
              "       [1.00000000e+000, 2.14998070e-276],\n",
              "       [1.00000000e+000, 1.53087980e-134],\n",
              "       [1.00000000e+000, 0.00000000e+000],\n",
              "       [3.04307202e-001, 6.95692798e-001],\n",
              "       [1.00000000e+000, 0.00000000e+000],\n",
              "       [1.00000000e+000, 0.00000000e+000],\n",
              "       [1.00000000e+000, 8.25351280e-103],\n",
              "       [0.00000000e+000, 1.00000000e+000],\n",
              "       [1.00000000e+000, 1.03600959e-053],\n",
              "       [0.00000000e+000, 1.00000000e+000],\n",
              "       [1.00000000e+000, 0.00000000e+000],\n",
              "       [1.00000000e+000, 0.00000000e+000],\n",
              "       [1.00000000e+000, 0.00000000e+000],\n",
              "       [0.00000000e+000, 1.00000000e+000],\n",
              "       [1.00000000e+000, 0.00000000e+000],\n",
              "       [1.00000000e+000, 0.00000000e+000],\n",
              "       [1.00000000e+000, 8.17742570e-119],\n",
              "       [1.00000000e+000, 2.16519374e-151],\n",
              "       [1.00000000e+000, 0.00000000e+000],\n",
              "       [0.00000000e+000, 1.00000000e+000],\n",
              "       [0.00000000e+000, 1.00000000e+000],\n",
              "       [0.00000000e+000, 1.00000000e+000],\n",
              "       [1.00000000e+000, 0.00000000e+000],\n",
              "       [1.00000000e+000, 1.13630060e-256],\n",
              "       [1.00000000e+000, 0.00000000e+000],\n",
              "       [0.00000000e+000, 1.00000000e+000],\n",
              "       [1.00000000e+000, 1.04304737e-250],\n",
              "       [1.00000000e+000, 0.00000000e+000],\n",
              "       [0.00000000e+000, 1.00000000e+000],\n",
              "       [1.00000000e+000, 4.31926783e-202],\n",
              "       [1.28592479e-003, 9.98714075e-001],\n",
              "       [1.00000000e+000, 5.36702792e-284],\n",
              "       [1.00000000e+000, 2.64697067e-281],\n",
              "       [1.00000000e+000, 1.46164822e-261],\n",
              "       [1.00000000e+000, 2.67157156e-229],\n",
              "       [0.00000000e+000, 1.00000000e+000],\n",
              "       [1.00000000e+000, 6.24029766e-019],\n",
              "       [1.00000000e+000, 0.00000000e+000],\n",
              "       [0.00000000e+000, 1.00000000e+000],\n",
              "       [1.00000000e+000, 2.01978424e-114],\n",
              "       [0.00000000e+000, 1.00000000e+000],\n",
              "       [1.00000000e+000, 0.00000000e+000],\n",
              "       [0.00000000e+000, 1.00000000e+000],\n",
              "       [0.00000000e+000, 1.00000000e+000],\n",
              "       [1.00000000e+000, 0.00000000e+000],\n",
              "       [1.00000000e+000, 3.36718226e-091],\n",
              "       [0.00000000e+000, 1.00000000e+000],\n",
              "       [1.00000000e+000, 0.00000000e+000],\n",
              "       [0.00000000e+000, 1.00000000e+000],\n",
              "       [0.00000000e+000, 1.00000000e+000],\n",
              "       [0.00000000e+000, 1.00000000e+000],\n",
              "       [1.00000000e+000, 3.08731311e-048],\n",
              "       [1.00000000e+000, 0.00000000e+000],\n",
              "       [1.00000000e+000, 0.00000000e+000],\n",
              "       [1.00000000e+000, 3.67520404e-308],\n",
              "       [1.00000000e+000, 0.00000000e+000],\n",
              "       [1.00000000e+000, 1.08087654e-193],\n",
              "       [0.00000000e+000, 1.00000000e+000],\n",
              "       [1.00000000e+000, 0.00000000e+000],\n",
              "       [1.00000000e+000, 0.00000000e+000],\n",
              "       [1.00000000e+000, 0.00000000e+000],\n",
              "       [1.00000000e+000, 0.00000000e+000],\n",
              "       [0.00000000e+000, 1.00000000e+000],\n",
              "       [0.00000000e+000, 1.00000000e+000],\n",
              "       [1.00000000e+000, 4.88593509e-182],\n",
              "       [4.60170355e-003, 9.95398296e-001],\n",
              "       [0.00000000e+000, 1.00000000e+000],\n",
              "       [1.00000000e+000, 0.00000000e+000],\n",
              "       [1.00000000e+000, 0.00000000e+000],\n",
              "       [0.00000000e+000, 1.00000000e+000],\n",
              "       [1.00000000e+000, 3.16406816e-251],\n",
              "       [0.00000000e+000, 1.00000000e+000],\n",
              "       [1.00000000e+000, 0.00000000e+000],\n",
              "       [1.00000000e+000, 0.00000000e+000],\n",
              "       [0.00000000e+000, 1.00000000e+000],\n",
              "       [0.00000000e+000, 1.00000000e+000],\n",
              "       [1.00000000e+000, 0.00000000e+000],\n",
              "       [1.00000000e+000, 0.00000000e+000],\n",
              "       [0.00000000e+000, 1.00000000e+000],\n",
              "       [0.00000000e+000, 1.00000000e+000],\n",
              "       [1.00000000e+000, 0.00000000e+000],\n",
              "       [1.00000000e+000, 6.79392857e-135],\n",
              "       [0.00000000e+000, 1.00000000e+000],\n",
              "       [1.00000000e+000, 3.18772632e-155],\n",
              "       [1.00000000e+000, 0.00000000e+000],\n",
              "       [0.00000000e+000, 1.00000000e+000],\n",
              "       [0.00000000e+000, 1.00000000e+000],\n",
              "       [0.00000000e+000, 1.00000000e+000],\n",
              "       [1.00000000e+000, 0.00000000e+000],\n",
              "       [1.00000000e+000, 1.10195214e-103],\n",
              "       [1.00000000e+000, 0.00000000e+000],\n",
              "       [0.00000000e+000, 1.00000000e+000],\n",
              "       [1.00000000e+000, 0.00000000e+000],\n",
              "       [1.00000000e+000, 9.19748572e-056],\n",
              "       [1.00000000e+000, 0.00000000e+000],\n",
              "       [1.00000000e+000, 0.00000000e+000],\n",
              "       [1.00000000e+000, 0.00000000e+000],\n",
              "       [0.00000000e+000, 1.00000000e+000],\n",
              "       [1.00000000e+000, 0.00000000e+000],\n",
              "       [0.00000000e+000, 1.00000000e+000],\n",
              "       [1.00000000e+000, 1.48909835e-100],\n",
              "       [0.00000000e+000, 1.00000000e+000],\n",
              "       [1.00000000e+000, 0.00000000e+000],\n",
              "       [0.00000000e+000, 1.00000000e+000],\n",
              "       [1.00000000e+000, 5.15441267e-153],\n",
              "       [0.00000000e+000, 1.00000000e+000],\n",
              "       [1.00000000e+000, 3.33226303e-128],\n",
              "       [1.00000000e+000, 3.64558102e-179],\n",
              "       [1.00000000e+000, 0.00000000e+000],\n",
              "       [1.00000000e+000, 0.00000000e+000],\n",
              "       [0.00000000e+000, 1.00000000e+000]])"
            ]
          },
          "metadata": {
            "tags": []
          },
          "execution_count": 113
        }
      ]
    },
    {
      "cell_type": "code",
      "metadata": {
        "id": "0amjECwDWDVh",
        "colab_type": "code",
        "colab": {
          "base_uri": "https://localhost:8080/",
          "height": 1000
        },
        "outputId": "d21acf81-a287-4268-d28c-6feb1ec2f7bf"
      },
      "source": [
        "LRm.decision_function(X_test) # Predict confidence scores for samples."
      ],
      "execution_count": null,
      "outputs": [
        {
          "output_type": "execute_result",
          "data": {
            "text/plain": [
              "array([ 1.24377648e+03, -3.70773179e+02, -6.37421343e+02, -4.15274850e+02,\n",
              "       -8.47699440e+02, -5.32371623e+02, -8.96976468e+02, -7.27643334e+02,\n",
              "       -7.20512826e+02, -1.61335324e+03, -3.94239284e+02, -3.62979242e+02,\n",
              "       -1.09768464e+03, -2.29137206e+02, -9.99505598e+01,  1.03605287e+03,\n",
              "       -5.97627348e+02,  1.69058320e+03,  1.01798928e+03,  2.72683759e+03,\n",
              "        1.21572615e+03,  3.67091196e+02, -3.63789203e+02, -6.60989260e+02,\n",
              "        6.41846245e+02, -7.11411528e+02, -8.01476173e+02,  1.32895829e+02,\n",
              "       -6.99552298e+02,  1.66781996e+03, -9.16253747e+02,  1.57008134e+03,\n",
              "       -5.91485941e+01,  4.79097415e+02, -1.29580931e+03,  1.05215916e+03,\n",
              "       -8.12379380e+01,  9.62953962e+02, -5.34398869e+02,  1.47126013e+03,\n",
              "        4.26989650e+02, -6.84825308e+02,  5.06188397e+02, -1.05266275e+03,\n",
              "       -2.12583653e+02,  3.04304850e+03, -1.33459717e+03, -5.44068403e+02,\n",
              "       -9.26562917e+02,  1.05877306e+03,  9.51589038e+02,  3.32958747e+01,\n",
              "        1.44925322e+03, -5.07995001e+02, -6.75047715e+02, -5.97526205e+02,\n",
              "       -8.84910327e+02, -6.80996276e+02, -4.20636831e+02,  2.64841261e+03,\n",
              "        1.05639903e+03,  1.30923069e+03, -9.11230197e+02, -7.81295409e+02,\n",
              "        1.28034748e+03, -1.52963636e+02,  3.50590574e+03,  1.82842530e+03,\n",
              "        1.84542071e+03, -7.15721742e+02,  7.74403731e+01,  1.60022966e+03,\n",
              "       -5.12177519e+02,  4.33715503e+02,  1.80305181e+03, -4.90360396e+02,\n",
              "       -7.69122253e+02, -5.09346308e+02, -5.54169164e+02, -1.34013562e+03,\n",
              "        5.40225412e+02,  2.32019092e+03,  1.66605126e+03, -9.23771648e+02,\n",
              "        5.21246949e+02, -5.95719030e+02, -1.01111465e+03, -1.20961334e+03,\n",
              "        1.46811162e+03,  2.41187259e+03, -8.38162112e+02,  2.50299037e+02,\n",
              "        9.78047185e+00,  1.58961987e+03, -6.96093343e+02, -6.27893535e+02,\n",
              "        3.17553243e+03, -3.50099006e+02, -5.03087805e+02, -8.61779745e+02,\n",
              "       -2.49752664e+03, -5.99569255e+02, -6.73368044e+02, -2.38503035e+02,\n",
              "        1.73392325e+03, -1.08276006e+03,  1.24729435e+03, -2.99644122e+02,\n",
              "       -4.56947722e+01, -7.60708963e+02, -4.69503879e+02,  1.39717135e+03,\n",
              "        1.20844799e+03, -2.53992734e+02, -8.10874350e+02, -3.19141548e+02,\n",
              "       -1.65175852e+02, -6.34748027e+02, -3.08120560e+02, -7.58675109e+02,\n",
              "        8.26870457e-01, -7.66649616e+02, -1.06751925e+03, -2.35055626e+02,\n",
              "        2.15878686e+03, -1.22001634e+02,  1.87775979e+02, -7.40521138e+02,\n",
              "       -1.05288331e+03, -1.06187933e+03,  1.22092746e+03, -8.77173708e+02,\n",
              "       -1.00941346e+03, -2.71906249e+02, -3.46917839e+02, -1.19108750e+03,\n",
              "        8.68726473e+01,  2.44211331e+02,  3.85607200e+03, -1.22728896e+03,\n",
              "       -5.89334006e+02, -1.09614495e+03,  2.73141083e+03, -5.75604127e+02,\n",
              "       -1.02746853e+03,  1.82238040e+03, -4.63659103e+02,  6.65499039e+00,\n",
              "       -6.52253892e+02, -6.46052995e+02, -6.00595145e+02, -5.26309319e+02,\n",
              "        4.97455993e+02, -4.19180889e+01, -9.92117511e+02,  6.17526128e+02,\n",
              "       -2.61791710e+02,  5.99142106e+02, -7.88145368e+02,  1.92546911e+03,\n",
              "        1.81243272e+03, -8.18939211e+02, -2.08321167e+02,  8.64636991e+02,\n",
              "       -8.15506289e+02,  1.25897984e+03,  5.87401500e+02,  9.11634421e+02,\n",
              "       -1.09396783e+02, -7.20035794e+02, -9.27377888e+02, -7.07894600e+02,\n",
              "       -8.94335420e+02, -4.44321151e+02,  7.23759977e+02, -1.41917762e+03,\n",
              "       -9.90389759e+02, -9.02180906e+02, -8.42240591e+02,  6.89380597e+02,\n",
              "        2.13442721e+03, -4.17484126e+02,  5.37671638e+00,  7.22275899e+02,\n",
              "       -1.13482120e+03, -7.43186155e+02,  1.90309498e+02, -5.76797000e+02,\n",
              "        2.28126629e+03, -1.08785213e+03, -8.99524884e+02,  1.52147687e+03,\n",
              "        6.91628909e+02, -9.98827395e+02, -9.31098236e+02,  2.26539191e+03,\n",
              "        2.23336151e+03, -7.97846024e+02, -3.08932958e+02,  6.93915365e+02,\n",
              "       -3.55741382e+02, -9.61055291e+02,  1.76406388e+02,  3.55263248e+03,\n",
              "        1.46908926e+03, -1.24176496e+03, -2.37069181e+02, -1.19246723e+03,\n",
              "        1.70521388e+03, -8.65272016e+02, -1.26725835e+02, -1.05038922e+03,\n",
              "       -8.33637070e+02, -1.02102856e+03,  3.62463044e+03, -1.01760070e+03,\n",
              "        2.94862504e+03, -2.29860338e+02,  6.73298813e+02, -7.36873338e+02,\n",
              "        6.44124352e+02, -3.50655666e+02,  8.34159982e+02, -2.93527240e+02,\n",
              "       -4.10869216e+02, -8.00602681e+02, -7.13076920e+02,  9.12947535e+02])"
            ]
          },
          "metadata": {
            "tags": []
          },
          "execution_count": 114
        }
      ]
    },
    {
      "cell_type": "code",
      "metadata": {
        "id": "RWbFlqdvWIQH",
        "colab_type": "code",
        "colab": {
          "base_uri": "https://localhost:8080/",
          "height": 329
        },
        "outputId": "8f97afa2-f28c-4b5e-8865-50bbf72e1f15"
      },
      "source": [
        "LRm.predict(X_test)"
      ],
      "execution_count": null,
      "outputs": [
        {
          "output_type": "execute_result",
          "data": {
            "text/plain": [
              "array(['M', 'B', 'B', 'B', 'B', 'B', 'B', 'B', 'B', 'B', 'B', 'B', 'B',\n",
              "       'B', 'B', 'M', 'B', 'M', 'M', 'M', 'M', 'M', 'B', 'B', 'M', 'B',\n",
              "       'B', 'M', 'B', 'M', 'B', 'M', 'B', 'M', 'B', 'M', 'B', 'M', 'B',\n",
              "       'M', 'M', 'B', 'M', 'B', 'B', 'M', 'B', 'B', 'B', 'M', 'M', 'M',\n",
              "       'M', 'B', 'B', 'B', 'B', 'B', 'B', 'M', 'M', 'M', 'B', 'B', 'M',\n",
              "       'B', 'M', 'M', 'M', 'B', 'M', 'M', 'B', 'M', 'M', 'B', 'B', 'B',\n",
              "       'B', 'B', 'M', 'M', 'M', 'B', 'M', 'B', 'B', 'B', 'M', 'M', 'B',\n",
              "       'M', 'M', 'M', 'B', 'B', 'M', 'B', 'B', 'B', 'B', 'B', 'B', 'B',\n",
              "       'M', 'B', 'M', 'B', 'B', 'B', 'B', 'M', 'M', 'B', 'B', 'B', 'B',\n",
              "       'B', 'B', 'B', 'M', 'B', 'B', 'B', 'M', 'B', 'M', 'B', 'B', 'B',\n",
              "       'M', 'B', 'B', 'B', 'B', 'B', 'M', 'M', 'M', 'B', 'B', 'B', 'M',\n",
              "       'B', 'B', 'M', 'B', 'M', 'B', 'B', 'B', 'B', 'M', 'B', 'B', 'M',\n",
              "       'B', 'M', 'B', 'M', 'M', 'B', 'B', 'M', 'B', 'M', 'M', 'M', 'B',\n",
              "       'B', 'B', 'B', 'B', 'B', 'M', 'B', 'B', 'B', 'B', 'M', 'M', 'B',\n",
              "       'M', 'M', 'B', 'B', 'M', 'B', 'M', 'B', 'B', 'M', 'M', 'B', 'B',\n",
              "       'M', 'M', 'B', 'B', 'M', 'B', 'B', 'M', 'M', 'M', 'B', 'B', 'B',\n",
              "       'M', 'B', 'B', 'B', 'B', 'B', 'M', 'B', 'M', 'B', 'M', 'B', 'M',\n",
              "       'B', 'M', 'B', 'B', 'B', 'B', 'M'], dtype=object)"
            ]
          },
          "metadata": {
            "tags": []
          },
          "execution_count": 115
        }
      ]
    },
    {
      "cell_type": "code",
      "metadata": {
        "id": "62k3a2mmWM49",
        "colab_type": "code",
        "colab": {
          "base_uri": "https://localhost:8080/",
          "height": 34
        },
        "outputId": "259dfcbb-95cd-4b84-b822-e6af45548d41"
      },
      "source": [
        "y_pred = LRm.predict(X_test)\n",
        "print(\"Accuracy score using Logistic regression is %s\" %metrics.accuracy_score(y_test, y_pred))"
      ],
      "execution_count": null,
      "outputs": [
        {
          "output_type": "stream",
          "text": [
            "Accuracy score using Logistic regression is 0.9517543859649122\n"
          ],
          "name": "stdout"
        }
      ]
    },
    {
      "cell_type": "markdown",
      "metadata": {
        "id": "-jAw2YKcaMS4",
        "colab_type": "text"
      },
      "source": [
        "## Useful Links\n",
        "\n",
        "ROC Curves and Area Under the Curve (AUC) Explained https://youtu.be/OAl6eAyP-yo\n",
        "\n",
        "This video clearly explains how to decide a classification threshold.\n",
        "\n"
      ]
    }
  ]
}